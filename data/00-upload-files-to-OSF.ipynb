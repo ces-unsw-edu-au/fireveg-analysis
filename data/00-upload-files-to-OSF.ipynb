{
 "cells": [
  {
   "cell_type": "markdown",
   "id": "3697197d-cfbc-47d3-a21b-9f9b349a71a6",
   "metadata": {},
   "source": [
    "# Data upload and download from OSF"
   ]
  },
  {
   "cell_type": "code",
   "execution_count": 8,
   "id": "b49490be-8c30-47f6-b904-d41952fed802",
   "metadata": {
    "tags": []
   },
   "outputs": [],
   "source": [
    "library(dplyr)\n",
    "library(osfr)\n",
    "library(stringr)"
   ]
  },
  {
   "cell_type": "code",
   "execution_count": 9,
   "id": "6798d3e6-a87f-48f8-9c23-8bfcde894d2c",
   "metadata": {
    "tags": []
   },
   "outputs": [
    {
     "name": "stderr",
     "output_type": "stream",
     "text": [
      "here() starts at /Users/z3529065/proyectos/fireveg/fireveg-analysis\n",
      "\n"
     ]
    }
   ],
   "source": [
    "here::i_am(\"data/00-upload-files-to-OSF.ipynb\")"
   ]
  },
  {
   "cell_type": "code",
   "execution_count": 10,
   "id": "bca4c6ff-0c2d-4529-9fda-7f5ead4f57a9",
   "metadata": {},
   "outputs": [],
   "source": [
    "#conflict_answer <- \"skip\"\n",
    "conflict_answer <- \"overwrite\""
   ]
  },
  {
   "cell_type": "code",
   "execution_count": 11,
   "id": "4e5021be-e6cb-40bb-bd76-7408877916a1",
   "metadata": {
    "tags": []
   },
   "outputs": [],
   "source": [
    "osfcode <- readLines(here::here(\"secrets\",\"osf-project-id.txt\"))\n",
    "osf_project <- osf_retrieve_node(sprintf(\"https://osf.io/%s\", osfcode))\n"
   ]
  },
  {
   "cell_type": "code",
   "execution_count": 12,
   "id": "6db826c9-eead-44c2-a7f7-47fa621b76bf",
   "metadata": {
    "tags": []
   },
   "outputs": [
    {
     "data": {
      "text/html": [
       "'Data coverage of Fire Ecology Traits for Plants database'"
      ],
      "text/latex": [
       "'Data coverage of Fire Ecology Traits for Plants database'"
      ],
      "text/markdown": [
       "'Data coverage of Fire Ecology Traits for Plants database'"
      ],
      "text/plain": [
       "[1] \"Data coverage of Fire Ecology Traits for Plants database\""
      ]
     },
     "metadata": {},
     "output_type": "display_data"
    }
   ],
   "source": [
    "osf_project$name"
   ]
  },
  {
   "cell_type": "code",
   "execution_count": 13,
   "id": "776495b2-7344-40de-9792-5518434e2e4b",
   "metadata": {
    "tags": []
   },
   "outputs": [
    {
     "data": {
      "text/html": [
       "<style>\n",
       ".list-inline {list-style: none; margin:0; padding: 0}\n",
       ".list-inline>li {display: inline-block}\n",
       ".list-inline>li:not(:last-child)::after {content: \"\\00b7\"; padding: 0 .5ex}\n",
       "</style>\n",
       "<ol class=list-inline><li>'NSW-plants-according-to-ALA.rds'</li><li>'Summary-traits-species.rds'</li></ol>\n"
      ],
      "text/latex": [
       "\\begin{enumerate*}\n",
       "\\item 'NSW-plants-according-to-ALA.rds'\n",
       "\\item 'Summary-traits-species.rds'\n",
       "\\end{enumerate*}\n"
      ],
      "text/markdown": [
       "1. 'NSW-plants-according-to-ALA.rds'\n",
       "2. 'Summary-traits-species.rds'\n",
       "\n",
       "\n"
      ],
      "text/plain": [
       "[1] \"NSW-plants-according-to-ALA.rds\" \"Summary-traits-species.rds\"     "
      ]
     },
     "metadata": {},
     "output_type": "display_data"
    }
   ],
   "source": [
    "file_to_upload <- dir(here::here(\"data\"),pattern=\"rds\")\n",
    "file_to_upload"
   ]
  },
  {
   "cell_type": "code",
   "execution_count": 14,
   "id": "7ea98c8d-2848-44a6-b677-7e44d210c273",
   "metadata": {
    "tags": []
   },
   "outputs": [],
   "source": [
    "data_file  <- osf_upload(osf_project, \n",
    "                         path = file_to_upload,\n",
    "                         conflicts = conflict_answer)"
   ]
  },
  {
   "cell_type": "code",
   "execution_count": null,
   "id": "28d95f47-6d59-4211-af1a-16962055aa74",
   "metadata": {},
   "outputs": [],
   "source": []
  }
 ],
 "metadata": {
  "kernelspec": {
   "display_name": "R",
   "language": "R",
   "name": "ir"
  },
  "language_info": {
   "codemirror_mode": "r",
   "file_extension": ".r",
   "mimetype": "text/x-r-source",
   "name": "R",
   "pygments_lexer": "r",
   "version": "4.3.0"
  }
 },
 "nbformat": 4,
 "nbformat_minor": 5
}
