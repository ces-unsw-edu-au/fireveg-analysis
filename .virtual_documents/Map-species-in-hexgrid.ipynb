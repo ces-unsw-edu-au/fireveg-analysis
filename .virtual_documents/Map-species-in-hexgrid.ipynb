








library(ggplot2)
library(tidyr)
library(dplyr)
library(ozmaps)
library(sf)
library(purrr)
library(galah)


here::i_am("R/Map-species-in-hexgrid.ipynb")





galah_config(email = readLines("../secrets/galah-email.txt"))





nsw <- st_transform(ozmaps::ozmap_states, 4326) %>% filter(NAME == "New South Wales")





grid_all <- st_make_grid(nsw, 
                         cellsize = 0.5, 
                         what = "polygons", 
                         square = FALSE,
                         flat_topped = TRUE)

keep_hexes <- st_intersects(grid_all, nsw) %>%
  as.data.frame(.) %>%
  pull(row.id)

oz_grid <- grid_all[keep_hexes]





litrev_species <- readRDS(here::here("data","Summary-traits-species.rds"))


glimpse(litrev_species)





(qry_spp <- litrev_species %>% slice(2) %>% pull(species))


target_occ <- galah_call() %>%
    galah_identify(qry_spp) %>%
    galah_apply_profile(ALA) %>%
    galah_geolocate(nsw, type = "bbox") %>%
    atlas_occurrences()


target_occ %>% slice_head()


target_points_sf <- target_occ %>% 
  st_as_sf(coords = c("decimalLongitude", "decimalLatitude"), 
  crs = st_crs(4326))


intersect <- st_intersects(target_points_sf, oz_grid)
counts <- as_tibble(table(unlist(intersect)), 
          .name_repair = "unique") %>%
  rename("hex_id" = 1,
         "count" = 2) %>%
  mutate(hex_id = as.integer(hex_id)) %>%
  replace_na(list(count = 0))


oz_grid <- oz_grid %>%
  as_tibble() %>%
  mutate(id = row_number()) %>%
  full_join(counts,
            by = join_by(id == hex_id)) %>%
  st_as_sf()

oz_grid |> head()


ggplot() +
  geom_sf(data = oz_grid, aes(fill = count), size = .01) +
  scale_fill_gradientn(colours = c("#EEECEA", "#E06E53"), 
                       na.value = "white", 
                       trans = "log10",
                       labels = scales::comma_format(),
                       n.breaks = 6,
                       guide = guide_colourbar(title = "Observations")) +
  theme_void()


oz_grid[1:10,]


target_occ <- galah_call() %>%
    galah_identify("Brunoniella pumilio") %>%
    galah_apply_profile(ALA) %>%
    galah_geolocate(st_geometry(oz_grid)[1]) %>%
    atlas_occurrences()








get_counts <- function(hexagon,spplist="plantae"){

    wkt_string <- st_geometry(oz_grid %>% slice(hexagon))
    # get counts
    result <- galah_call() |>
      galah_geolocate(wkt_string) |>
      galah_identify(spplist) |>
      galah_filter(decimalLongitude > 110,
                   year >= 2019) |>
      galah_apply_profile(ALA) |>
      atlas_counts(type = "species", # get species counts
                   limit = NULL)
    
    # light formatting to catch errors
    if(is.null(result)){
      tibble(count = NA, id = hexagon)
    }else{
      result$id <- hexagon
      result
    }
  }


head(qry_spps <- litrev_species %>% slice(1:200) %>% pull(species))


get_counts(1, spplist=qry_spps)



# download number of species for each polygon
counts_list <- map(seq(1,10), get_counts, spplist=qry_spps)




# bind lists to data frame
counts_df <- map_dfr(counts_list, rbind)



oz_grid %>% inner_join(counts_df,by="id")


counts_list <- map(seq_along(oz_grid$id), get_counts)
counts_df <- map_dfr(counts_list, rbind)
oz_df <- oz_grid %>% inner_join(counts_df,by="id")


hex_map <- ggplot() +
  geom_sf(
    data = oz_df,
    mapping = aes(fill = log10(1+count.y)), # log10 + 1 transformed
    alpha = 1,
    color = NA) +
  scale_fill_distiller(name = "Number of species \n(since 1 Jan, 2019)",
                       type = "seq",
                       direction = 1,
                       limits = c(0,4),
                       labels = c("10", "100", "1,000"),
                       palette = "Greens",
                       # edit legend to be horizontal-bottom
                       guide = guide_colorsteps(direction = "horizontal",
                                                label.position = "top",
                                                title.position = "bottom",
                                                title.hjust = 0.5)
                       ) +
  # add map
  geom_sf(data = nsw,
          color = "black",
          fill = NA)+
  # Adjust text and make aesthetic more minimal
  theme(title = element_text(face = "bold"),
        legend.title = element_text(size = 19),
        legend.position = "bottom",
        legend.key.width = unit(28, 'mm'),
        legend.text = element_text(size = 16),
        plot.background = element_rect(fill = 'white', colour = 'white'),
        panel.background = element_rect(fill = 'white', colour = 'white'),
        axis.title = element_blank()
        )




hex_map


max(log10(1+oz_df$count.y))



