


library(RPostgreSQL)
library(ggplot2)
##library(forcats)
library(dplyr)
#library(data.table)
require(tidyr)
library(sf)


here::i_am("read-from-database/Read-and-reformat-fire-history.ipynb")








if (file.exists(here::here("secrets","database.ini"))) {
  tmp <- readLines(here::here("secrets","database.ini"))[-1]
  tmp <- strsplit(tmp,'=',fixed=2)
  dbinfo <- unlist(lapply(tmp,function(x) x[2]))
  names(dbinfo) <- unlist(lapply(tmp,function(x) x[1]))
  dbinfo <- data.frame(t(dbinfo),stringsAsFactors=F)
   rm(tmp)
} else {
  cat("No database information found")
}





drv <- dbDriver("PostgreSQL") ## 
con <- dbConnect(drv, dbname = dbinfo$database,
                 host = dbinfo$host, port = dbinfo$port,
                 user = dbinfo$user)


qry <- 
'SELECT DISTINCT site_label, location_description, elevation, 
    ST_Transform(geom,4326) as geom, 
    survey_name
FROM form.field_visit 
LEFT JOIN form.field_site 
    ON visit_id=site_label'
site_locs <- read_sf(con, query=qry)


site_locs %>% st_drop_geometry





ggplot(site_locs) + 
    geom_sf(aes(colour=survey_name)) 





write_sf(site_locs, dsn=here::here('data','field-sites.gpkg'))


dbDisconnect(con)



