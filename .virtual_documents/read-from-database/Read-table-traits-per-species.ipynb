


library(RPostgreSQL)
library(ggplot2)
library(dplyr)
require(tidyr)
library(galah)
library(ozmaps)
library(sf)
library(data.tree)


here::i_am("read-from-database/Read-table-traits-per-species.ipynb")


galah_config(email = readLines(here::here("secrets","galah-email.txt")))





nsw <- st_transform(ozmaps::ozmap_states, 4326) %>% filter(NAME == "New South Wales")


plant_families <- galah_call() |>
  galah_identify("plantae") |>
galah_geolocate(nsw, type = "bbox")|>
  galah_down_to(family) |>
  atlas_taxonomy()


print(plant_families, pruneMethod = "dist", limit = 10)


df_rank <- ToDataFrameTypeCol(plant_families, type = "rank")
df_rank[10:20,] |> tibble::as_tibble() |> print(max_footer_lines = 2)








if (file.exists("../secrets/database.ini")) {
  tmp <- readLines("../secrets/database.ini")[-1]
  tmp <- strsplit(tmp,'=',fixed=2)
  dbinfo <- unlist(lapply(tmp,function(x) x[2]))
  names(dbinfo) <- unlist(lapply(tmp,function(x) x[1]))
  dbinfo <- data.frame(t(dbinfo),stringsAsFactors=F)
   rm(tmp)
} else {
  cat("No database information found")
}





drv <- dbDriver("PostgreSQL") ## 
con <- dbConnect(drv, dbname = dbinfo$database,
                 host = dbinfo$host, port = dbinfo$port,
                 user = dbinfo$user) # this works better in combination with a .pgpass file





qry <- 
'SELECT family, genus, "speciesID" as spp, 
"scientificName" as species,
count(distinct q.record_id) as nquadrat, 
count(distinct g8.record_id) as germ8, 
count(distinct r2.record_id) as rect2,
count(distinct g1.record_id) as germ1, 
count(distinct gw1.record_id) as grow1, 
count(distinct r4.record_id) as repr4, 
count(distinct s5.record_id) as surv5, 
count(distinct s6.record_id) as surv6, 
count(distinct s7.record_id) as surv7, 
count(distinct d1.record_id) as disp1, 
count(distinct r3a.record_id) as repr3a, 
count(distinct r3.record_id) as repr3, 
count(distinct s4.record_id) as surv4, 
count(distinct s1.record_id) as surv1
FROM species.caps  
LEFT JOIN form.quadrat_samples q  
 ON "speciesCode_Synonym"=q.species_code::text   
LEFT JOIN litrev.germ8 g8  ON "speciesCode_Synonym"=g8.species_code::text   
LEFT JOIN litrev.rect2 r2  ON "speciesCode_Synonym"=r2.species_code::text   
LEFT JOIN litrev.germ1 g1  ON "speciesCode_Synonym"=g1.species_code::text   
LEFT JOIN litrev.grow1 gw1  ON "speciesCode_Synonym"=gw1.species_code::text   
LEFT JOIN litrev.repr4 r4  ON "speciesCode_Synonym"=r4.species_code::text   
LEFT JOIN litrev.surv5 s5  ON "speciesCode_Synonym"=s5.species_code::text   
LEFT JOIN litrev.surv6 s6  ON "speciesCode_Synonym"=s6.species_code::text   
LEFT JOIN litrev.surv7 s7  ON "speciesCode_Synonym"=s7.species_code::text   
LEFT JOIN litrev.disp1 d1  ON "speciesCode_Synonym"=d1.species_code::text   
LEFT JOIN litrev.repr3a r3a  ON "speciesCode_Synonym"=r3a.species_code::text   
LEFT JOIN litrev.repr3 r3  ON "speciesCode_Synonym"=r3.species_code::text   
LEFT JOIN litrev.surv4 s4  ON "speciesCode_Synonym"=s4.species_code::text   
LEFT JOIN litrev.surv1 s1  ON "speciesCode_Synonym"=s1.species_code::text   

GROUP BY spp'


spp.table<- dbGetQuery(con, qry)
str(spp.table)





spp.table$rank_order <- df_rank$rank_order[match(spp.table$family,df_rank$rank_family)]


spp.table %>% slice(1:5)


fabales <- c("Fabaceae (Faboideae)", "Fabaceae (Mimosoideae)", "Fabaceae (Caesalpinioideae)" )
unplaced <- c("Dilleniaceae", "Flacourtiaceae")
single_family <- c("Boraginaceae")
rosales <- c("Malaceae")
lamiales <- c("Myoporaceae", "Buddlejaceae")
polypodiales <- c("Pteridaceae")
asparagales <- c("Anthericaceae","Phormiaceae","Lomandraceae", "Agavaceae", "Hyacinthaceae")
ranunculales <- c("Fumariaceae")
malvales <- c("Tiliaceae")



spp.table <- spp.table %>% mutate(
    rank_order = case_when(
            family %in% fabales ~ "Fabales",
            family %in% unplaced ~ "unplaced",
            family %in% rosales ~ "Rosales",
            family %in% lamiales ~ "Lamiales",
            family %in% polypodiales ~ "Polypodiales",
            family %in% asparagales ~ "Asparagales",
            family %in% ranunculales ~ "Ranunculales",
            family %in% malvales ~ "Malvales",
            family %in% single_family ~ sprintf("fam. %s",family),
            is.na(rank_order) ~ "unknown",
            TRUE ~ rank_order
        ))


spp.table %>% 
    filter(rank_order %in% c(NA,"unknown")) %>% 
    group_by(family) %>% 
    summarise(nspp=n()) %>% 
    arrange(desc(nspp))





saveRDS(file=here::here('data','Summary-traits-species.rds'),spp.table)


saveRDS(file=here::here('data','NSW-plants-according-to-ALA.rds'),plant_families)


dbDisconnect(con)



