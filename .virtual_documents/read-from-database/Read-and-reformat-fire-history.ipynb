


library(RPostgreSQL)
library(ggplot2)
##library(forcats)
library(dplyr)
#library(data.table)
require(tidyr)








if (file.exists("../secrets/database.ini")) {
  tmp <- readLines("../secrets/database.ini")[-1]
  tmp <- strsplit(tmp,'=',fixed=2)
  dbinfo <- unlist(lapply(tmp,function(x) x[2]))
  names(dbinfo) <- unlist(lapply(tmp,function(x) x[1]))
  dbinfo <- data.frame(t(dbinfo),stringsAsFactors=F)
   rm(tmp)
} else {
  cat("No database information found")
}





drv <- dbDriver("PostgreSQL") ## 
con <- dbConnect(drv, dbname = dbinfo$database,
                 host = dbinfo$host, port = dbinfo$port,
                 user = dbinfo$user)


qry <- 
'SELECT visit_id as site_label, visit_date
FROM form.field_visit'
site.visits <- dbGetQuery(con, qry)


qry <- 
'SELECT site_label, earliest_date,latest_date, how_inferred, cause_of_ignition
FROM form.fire_history'
fire.history <- dbGetQuery(con, qry)



dts <- fire.history %>% transmute(site_label,date=earliest_date,event='fire') %>% 
bind_rows(site.visits %>% transmute(site_label,date=visit_date,event='visit'))



as.Date(c('2000-01-01','2021-01-01'))


ggplot(dts) + 
    geom_point(aes(x=date,y=site_label,colour=event)) +
    coord_cartesian(xlim=as.Date(c('2000-01-01','2021-01-01')))


saveRDS(file='../data/fire-history.rds',fire.history)
saveRDS(file='../data/site-visits.rds',site.visits)


dbDisconnect(con)



