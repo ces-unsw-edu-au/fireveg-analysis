


library(dplyr)
library(osfr)
library(stringr)


here::i_am("data/00-upload-files-to-OSF.ipynb")


#conflict_answer <- "skip"
conflict_answer <- "overwrite"


osfcode <- readLines(here::here("secrets","osf-project-id.txt"))
osf_project <- osf_retrieve_node(sprintf("https://osf.io/%s", osfcode))



osf_project$name


file_to_upload <- dir(here::here("data"),pattern="rds|gpkg")
file_to_upload


data_file  <- osf_upload(osf_project, 
                         path = file_to_upload,
                         conflicts = conflict_answer)



