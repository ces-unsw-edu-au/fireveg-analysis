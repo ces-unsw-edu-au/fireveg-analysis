


library(ggplot2)
library(treemapify)
library(dplyr)
library(rWCVP)
library(galah)


galah_config(email = readLines(here::here("secrets","galah-email.txt")))





here::i_am("figures-from-tables/fire-history-figure.ipynb")


st_table <- readRDS(here::here("data","Summary-traits-species.rds"))


str(st_table)


fams <- unique(st_table$family)
length(fams)


st_table %>% slice(1:5)


oos <- table(st_table$rank_order)



gt_table <- st_table %>% 
    slice_sample(n=5000) %>%
    mutate(
        rank_order = case_when(
            rank_order %in% names(oos)[oos<10] ~ "small orders",
            is.na(rank_order) ~ "unknown",
            TRUE ~ rank_order
        ),
        fielddata=nquadrat>0,
          litdata=germ8+rect2+grow1>0,
          kldg=case_when(
              fielddata & litdata ~ "both",
              fielddata ~ "fieldata",
              litdata ~ "litdata",
              TRUE ~ "none"
          )
          )
clrs <- c(none="aliceblue", fieldata="yellow", litdata="orange", both="maroon")


ggplot(gt_table, aes(area=1, fill = kldg, label = genus,
                subgroup = rank_order)) +
  geom_treemap() +
  geom_treemap_subgroup_border() +
  scale_fill_manual(values=clrs)


 st_table %>% 
    filter(is.na(rank_order)) %>% 
    group_by(family) %>%
summarise(n=n_distinct(genus))


Check taxonomy with MCVP


matched_table <- wcvp_match_names(head(st_table), name_col="species")


str(matched_table)
