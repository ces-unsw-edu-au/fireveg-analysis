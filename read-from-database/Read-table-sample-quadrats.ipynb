{
 "cells": [
  {
   "cell_type": "markdown",
   "id": "ebcf7b28-b2b2-4fff-89b9-692f55207cee",
   "metadata": {},
   "source": [
    "# Fire response traits in plants from field samples\n",
    "\n",
    "This script contains  R code to query tables in the database and download detailed plant species records for each quadrat.\n",
    "\n",
    "## Load libraries"
   ]
  },
  {
   "cell_type": "code",
   "execution_count": 1,
   "id": "f24bd72f-1086-4c75-a7b8-395ac8eb79ce",
   "metadata": {
    "collapsed": true,
    "jupyter": {
     "outputs_hidden": true
    }
   },
   "outputs": [
    {
     "name": "stderr",
     "output_type": "stream",
     "text": [
      "Loading required package: DBI\n",
      "\n",
      "\n",
      "Attaching package: ‘dplyr’\n",
      "\n",
      "\n",
      "The following objects are masked from ‘package:stats’:\n",
      "\n",
      "    filter, lag\n",
      "\n",
      "\n",
      "The following objects are masked from ‘package:base’:\n",
      "\n",
      "    intersect, setdiff, setequal, union\n",
      "\n",
      "\n",
      "Loading required package: tidyr\n",
      "\n",
      "\n",
      "Attaching package: ‘lubridate’\n",
      "\n",
      "\n",
      "The following objects are masked from ‘package:base’:\n",
      "\n",
      "    date, intersect, setdiff, union\n",
      "\n",
      "\n"
     ]
    }
   ],
   "source": [
    "library(RPostgreSQL)\n",
    "library(ggplot2)\n",
    "##library(forcats)\n",
    "library(dplyr)\n",
    "#library(data.table)\n",
    "require(tidyr)\n",
    "library(lubridate)"
   ]
  },
  {
   "cell_type": "markdown",
   "id": "108e8a20-008a-45c8-8941-80f815b790f1",
   "metadata": {},
   "source": [
    "## Connect to the database"
   ]
  },
  {
   "cell_type": "markdown",
   "id": "9cf99ffd-c436-4c2f-b575-71f6e5b25db2",
   "metadata": {},
   "source": [
    "Read database credentials"
   ]
  },
  {
   "cell_type": "code",
   "execution_count": 2,
   "id": "5759a6bf-b2c5-42e2-80a0-3cf57cdc897f",
   "metadata": {},
   "outputs": [],
   "source": [
    "if (file.exists(\"../secrets/database.ini\")) {\n",
    "  tmp <- readLines(\"../secrets/database.ini\")[-1]\n",
    "  tmp <- strsplit(tmp,'=',fixed=2)\n",
    "  dbinfo <- unlist(lapply(tmp,function(x) x[2]))\n",
    "  names(dbinfo) <- unlist(lapply(tmp,function(x) x[1]))\n",
    "  dbinfo <- data.frame(t(dbinfo),stringsAsFactors=F)\n",
    "   rm(tmp)\n",
    "} else {\n",
    "  cat(\"No database information found\")\n",
    "}"
   ]
  },
  {
   "cell_type": "markdown",
   "id": "8ade77df-7be2-493f-bb25-6e9e0b6fa6cb",
   "metadata": {},
   "source": [
    "Connection to the postgresql server (remember to update .pgpass file)"
   ]
  },
  {
   "cell_type": "code",
   "execution_count": 3,
   "id": "f50fdfe2-2932-46fe-a483-f2bc29714bc6",
   "metadata": {},
   "outputs": [],
   "source": [
    "drv <- dbDriver(\"PostgreSQL\") ## \n",
    "con <- dbConnect(drv, dbname = dbinfo$database,\n",
    "                 host = dbinfo$host, port = dbinfo$port,\n",
    "                 user = dbinfo$user)"
   ]
  },
  {
   "cell_type": "code",
   "execution_count": 4,
   "id": "e7a36330-4a00-4a82-8566-71fa84b48ef9",
   "metadata": {},
   "outputs": [],
   "source": [
    "qry <- \n",
    "'WITH FH AS (SELECT visit_id, visit_date, MAX(earliest_date) as min_fire_date, MAX(latest_date) as max_fire_date\n",
    "FROM form.field_visit\n",
    "LEFT JOIN form.fire_history\n",
    "ON visit_id=site_label\n",
    "GROUP BY visit_id, visit_date)\n",
    "SELECT visit_id, visit_date, sample_nr,\n",
    "sample_method, quadrat_area,\n",
    "min_fire_date, max_fire_date,\n",
    "species, species_code,\n",
    "resprout_organ, seedbank,\n",
    "adults_unburnt,\n",
    "resprouts_live, resprouts_died, resprouts_kill, resprouts_reproductive,\n",
    "recruits_live, recruits_died, recruits_reproductive,\n",
    "scorch, life_stage\n",
    "FROM form.quadrat_samples\n",
    "LEFT JOIN form.field_samples \n",
    " USING (visit_id,visit_date,sample_nr)\n",
    "LEFT JOIN FH\n",
    " USING (visit_id,visit_date)\n",
    "'"
   ]
  },
  {
   "cell_type": "code",
   "execution_count": 5,
   "id": "906884e5-92c3-46c6-aba7-c5a7d6fada17",
   "metadata": {},
   "outputs": [],
   "source": [
    "quadrat.samples <- dbGetQuery(con, qry)\n"
   ]
  },
  {
   "cell_type": "code",
   "execution_count": 6,
   "id": "e6361ff8-8eb9-4f45-ac51-3982a578a06f",
   "metadata": {
    "tags": []
   },
   "outputs": [
    {
     "data": {
      "text/html": [
       "<table class=\"dataframe\">\n",
       "<caption>A data.frame: 6 × 21</caption>\n",
       "<thead>\n",
       "\t<tr><th></th><th scope=col>visit_id</th><th scope=col>visit_date</th><th scope=col>sample_nr</th><th scope=col>sample_method</th><th scope=col>quadrat_area</th><th scope=col>min_fire_date</th><th scope=col>max_fire_date</th><th scope=col>species</th><th scope=col>species_code</th><th scope=col>resprout_organ</th><th scope=col>⋯</th><th scope=col>adults_unburnt</th><th scope=col>resprouts_live</th><th scope=col>resprouts_died</th><th scope=col>resprouts_kill</th><th scope=col>resprouts_reproductive</th><th scope=col>recruits_live</th><th scope=col>recruits_died</th><th scope=col>recruits_reproductive</th><th scope=col>scorch</th><th scope=col>life_stage</th></tr>\n",
       "\t<tr><th></th><th scope=col>&lt;chr&gt;</th><th scope=col>&lt;date&gt;</th><th scope=col>&lt;int&gt;</th><th scope=col>&lt;chr&gt;</th><th scope=col>&lt;dbl&gt;</th><th scope=col>&lt;date&gt;</th><th scope=col>&lt;date&gt;</th><th scope=col>&lt;chr&gt;</th><th scope=col>&lt;int&gt;</th><th scope=col>&lt;chr&gt;</th><th scope=col>⋯</th><th scope=col>&lt;dbl&gt;</th><th scope=col>&lt;dbl&gt;</th><th scope=col>&lt;dbl&gt;</th><th scope=col>&lt;dbl&gt;</th><th scope=col>&lt;dbl&gt;</th><th scope=col>&lt;dbl&gt;</th><th scope=col>&lt;dbl&gt;</th><th scope=col>&lt;dbl&gt;</th><th scope=col>&lt;chr&gt;</th><th scope=col>&lt;chr&gt;</th></tr>\n",
       "</thead>\n",
       "<tbody>\n",
       "\t<tr><th scope=row>1</th><td>CRC09B7UVH</td><td>2021-02-03</td><td>1</td><td>NA</td><td>NA</td><td>2020-02-10</td><td>2020-02-10</td><td>Goodenia ovata       </td><td>3192</td><td>NA  </td><td>⋯</td><td>0</td><td>  0</td><td>NA</td><td>NA</td><td>0</td><td>100</td><td>NA</td><td>0</td><td>NA</td><td>NA</td></tr>\n",
       "\t<tr><th scope=row>2</th><td>CRC09B7UVH</td><td>2021-02-03</td><td>1</td><td>NA</td><td>NA</td><td>2020-02-10</td><td>2020-02-10</td><td>Gonocarpus tetragynus</td><td>3247</td><td>NA  </td><td>⋯</td><td>0</td><td>100</td><td>NA</td><td>NA</td><td>0</td><td>  0</td><td>NA</td><td>0</td><td>NA</td><td>NA</td></tr>\n",
       "\t<tr><th scope=row>3</th><td>CRC09B7UVH</td><td>2021-02-03</td><td>1</td><td>NA</td><td>NA</td><td>2020-02-10</td><td>2020-02-10</td><td>Eucalyptus blaxlandii</td><td>4058</td><td>NA  </td><td>⋯</td><td>0</td><td>  0</td><td>NA</td><td>NA</td><td>0</td><td> 16</td><td>NA</td><td>0</td><td>NA</td><td>NA</td></tr>\n",
       "\t<tr><th scope=row>4</th><td>CRC09B7UVH</td><td>2021-02-03</td><td>1</td><td>NA</td><td>NA</td><td>2020-02-10</td><td>2020-02-10</td><td>Eucalyptus viminalis </td><td>4197</td><td>NA  </td><td>⋯</td><td>0</td><td>  0</td><td>NA</td><td>NA</td><td>0</td><td>  1</td><td>NA</td><td>0</td><td>NA</td><td>NA</td></tr>\n",
       "\t<tr><th scope=row>5</th><td>CRC09B7UVH</td><td>2021-02-03</td><td>1</td><td>NA</td><td>NA</td><td>2020-02-10</td><td>2020-02-10</td><td>Pteridium esculentum </td><td>6403</td><td>NA  </td><td>⋯</td><td>0</td><td> 32</td><td>NA</td><td>NA</td><td>0</td><td>  0</td><td>NA</td><td>0</td><td>NA</td><td>NA</td></tr>\n",
       "\t<tr><th scope=row>6</th><td>CRC09B7UVH</td><td>2021-02-03</td><td>1</td><td>NA</td><td>NA</td><td>2020-02-10</td><td>2020-02-10</td><td>Opercularia aspera   </td><td>5697</td><td>None</td><td>⋯</td><td>0</td><td>  0</td><td>NA</td><td>NA</td><td>0</td><td>  4</td><td>NA</td><td>0</td><td>NA</td><td>NA</td></tr>\n",
       "</tbody>\n",
       "</table>\n"
      ],
      "text/latex": [
       "A data.frame: 6 × 21\n",
       "\\begin{tabular}{r|lllllllllllllllllllll}\n",
       "  & visit\\_id & visit\\_date & sample\\_nr & sample\\_method & quadrat\\_area & min\\_fire\\_date & max\\_fire\\_date & species & species\\_code & resprout\\_organ & ⋯ & adults\\_unburnt & resprouts\\_live & resprouts\\_died & resprouts\\_kill & resprouts\\_reproductive & recruits\\_live & recruits\\_died & recruits\\_reproductive & scorch & life\\_stage\\\\\n",
       "  & <chr> & <date> & <int> & <chr> & <dbl> & <date> & <date> & <chr> & <int> & <chr> & ⋯ & <dbl> & <dbl> & <dbl> & <dbl> & <dbl> & <dbl> & <dbl> & <dbl> & <chr> & <chr>\\\\\n",
       "\\hline\n",
       "\t1 & CRC09B7UVH & 2021-02-03 & 1 & NA & NA & 2020-02-10 & 2020-02-10 & Goodenia ovata        & 3192 & NA   & ⋯ & 0 &   0 & NA & NA & 0 & 100 & NA & 0 & NA & NA\\\\\n",
       "\t2 & CRC09B7UVH & 2021-02-03 & 1 & NA & NA & 2020-02-10 & 2020-02-10 & Gonocarpus tetragynus & 3247 & NA   & ⋯ & 0 & 100 & NA & NA & 0 &   0 & NA & 0 & NA & NA\\\\\n",
       "\t3 & CRC09B7UVH & 2021-02-03 & 1 & NA & NA & 2020-02-10 & 2020-02-10 & Eucalyptus blaxlandii & 4058 & NA   & ⋯ & 0 &   0 & NA & NA & 0 &  16 & NA & 0 & NA & NA\\\\\n",
       "\t4 & CRC09B7UVH & 2021-02-03 & 1 & NA & NA & 2020-02-10 & 2020-02-10 & Eucalyptus viminalis  & 4197 & NA   & ⋯ & 0 &   0 & NA & NA & 0 &   1 & NA & 0 & NA & NA\\\\\n",
       "\t5 & CRC09B7UVH & 2021-02-03 & 1 & NA & NA & 2020-02-10 & 2020-02-10 & Pteridium esculentum  & 6403 & NA   & ⋯ & 0 &  32 & NA & NA & 0 &   0 & NA & 0 & NA & NA\\\\\n",
       "\t6 & CRC09B7UVH & 2021-02-03 & 1 & NA & NA & 2020-02-10 & 2020-02-10 & Opercularia aspera    & 5697 & None & ⋯ & 0 &   0 & NA & NA & 0 &   4 & NA & 0 & NA & NA\\\\\n",
       "\\end{tabular}\n"
      ],
      "text/markdown": [
       "\n",
       "A data.frame: 6 × 21\n",
       "\n",
       "| <!--/--> | visit_id &lt;chr&gt; | visit_date &lt;date&gt; | sample_nr &lt;int&gt; | sample_method &lt;chr&gt; | quadrat_area &lt;dbl&gt; | min_fire_date &lt;date&gt; | max_fire_date &lt;date&gt; | species &lt;chr&gt; | species_code &lt;int&gt; | resprout_organ &lt;chr&gt; | ⋯ ⋯ | adults_unburnt &lt;dbl&gt; | resprouts_live &lt;dbl&gt; | resprouts_died &lt;dbl&gt; | resprouts_kill &lt;dbl&gt; | resprouts_reproductive &lt;dbl&gt; | recruits_live &lt;dbl&gt; | recruits_died &lt;dbl&gt; | recruits_reproductive &lt;dbl&gt; | scorch &lt;chr&gt; | life_stage &lt;chr&gt; |\n",
       "|---|---|---|---|---|---|---|---|---|---|---|---|---|---|---|---|---|---|---|---|---|---|\n",
       "| 1 | CRC09B7UVH | 2021-02-03 | 1 | NA | NA | 2020-02-10 | 2020-02-10 | Goodenia ovata        | 3192 | NA   | ⋯ | 0 |   0 | NA | NA | 0 | 100 | NA | 0 | NA | NA |\n",
       "| 2 | CRC09B7UVH | 2021-02-03 | 1 | NA | NA | 2020-02-10 | 2020-02-10 | Gonocarpus tetragynus | 3247 | NA   | ⋯ | 0 | 100 | NA | NA | 0 |   0 | NA | 0 | NA | NA |\n",
       "| 3 | CRC09B7UVH | 2021-02-03 | 1 | NA | NA | 2020-02-10 | 2020-02-10 | Eucalyptus blaxlandii | 4058 | NA   | ⋯ | 0 |   0 | NA | NA | 0 |  16 | NA | 0 | NA | NA |\n",
       "| 4 | CRC09B7UVH | 2021-02-03 | 1 | NA | NA | 2020-02-10 | 2020-02-10 | Eucalyptus viminalis  | 4197 | NA   | ⋯ | 0 |   0 | NA | NA | 0 |   1 | NA | 0 | NA | NA |\n",
       "| 5 | CRC09B7UVH | 2021-02-03 | 1 | NA | NA | 2020-02-10 | 2020-02-10 | Pteridium esculentum  | 6403 | NA   | ⋯ | 0 |  32 | NA | NA | 0 |   0 | NA | 0 | NA | NA |\n",
       "| 6 | CRC09B7UVH | 2021-02-03 | 1 | NA | NA | 2020-02-10 | 2020-02-10 | Opercularia aspera    | 5697 | None | ⋯ | 0 |   0 | NA | NA | 0 |   4 | NA | 0 | NA | NA |\n",
       "\n"
      ],
      "text/plain": [
       "  visit_id   visit_date sample_nr sample_method quadrat_area min_fire_date\n",
       "1 CRC09B7UVH 2021-02-03 1         NA            NA           2020-02-10   \n",
       "2 CRC09B7UVH 2021-02-03 1         NA            NA           2020-02-10   \n",
       "3 CRC09B7UVH 2021-02-03 1         NA            NA           2020-02-10   \n",
       "4 CRC09B7UVH 2021-02-03 1         NA            NA           2020-02-10   \n",
       "5 CRC09B7UVH 2021-02-03 1         NA            NA           2020-02-10   \n",
       "6 CRC09B7UVH 2021-02-03 1         NA            NA           2020-02-10   \n",
       "  max_fire_date species               species_code resprout_organ ⋯\n",
       "1 2020-02-10    Goodenia ovata        3192         NA             ⋯\n",
       "2 2020-02-10    Gonocarpus tetragynus 3247         NA             ⋯\n",
       "3 2020-02-10    Eucalyptus blaxlandii 4058         NA             ⋯\n",
       "4 2020-02-10    Eucalyptus viminalis  4197         NA             ⋯\n",
       "5 2020-02-10    Pteridium esculentum  6403         NA             ⋯\n",
       "6 2020-02-10    Opercularia aspera    5697         None           ⋯\n",
       "  adults_unburnt resprouts_live resprouts_died resprouts_kill\n",
       "1 0                0            NA             NA            \n",
       "2 0              100            NA             NA            \n",
       "3 0                0            NA             NA            \n",
       "4 0                0            NA             NA            \n",
       "5 0               32            NA             NA            \n",
       "6 0                0            NA             NA            \n",
       "  resprouts_reproductive recruits_live recruits_died recruits_reproductive\n",
       "1 0                      100           NA            0                    \n",
       "2 0                        0           NA            0                    \n",
       "3 0                       16           NA            0                    \n",
       "4 0                        1           NA            0                    \n",
       "5 0                        0           NA            0                    \n",
       "6 0                        4           NA            0                    \n",
       "  scorch life_stage\n",
       "1 NA     NA        \n",
       "2 NA     NA        \n",
       "3 NA     NA        \n",
       "4 NA     NA        \n",
       "5 NA     NA        \n",
       "6 NA     NA        "
      ]
     },
     "metadata": {},
     "output_type": "display_data"
    }
   ],
   "source": [
    "head(quadrat.samples)"
   ]
  },
  {
   "cell_type": "code",
   "execution_count": 8,
   "id": "676ed477-4702-472f-a50c-2125ddd665d4",
   "metadata": {},
   "outputs": [
    {
     "data": {
      "text/html": [
       "<table class=\"dataframe\">\n",
       "<caption>A tibble: 2 × 7</caption>\n",
       "<thead>\n",
       "\t<tr><th scope=col>sample_year</th><th scope=col>locations</th><th scope=col>visits</th><th scope=col>samples</th><th scope=col>records</th><th scope=col>species</th><th scope=col>codes</th></tr>\n",
       "\t<tr><th scope=col>&lt;lgl&gt;</th><th scope=col>&lt;int&gt;</th><th scope=col>&lt;int&gt;</th><th scope=col>&lt;int&gt;</th><th scope=col>&lt;int&gt;</th><th scope=col>&lt;int&gt;</th><th scope=col>&lt;int&gt;</th></tr>\n",
       "</thead>\n",
       "<tbody>\n",
       "\t<tr><td>FALSE</td><td>61</td><td>85</td><td>510</td><td> 8588</td><td>181</td><td>149</td></tr>\n",
       "\t<tr><td> TRUE</td><td>92</td><td>93</td><td>760</td><td>10654</td><td>933</td><td>906</td></tr>\n",
       "</tbody>\n",
       "</table>\n"
      ],
      "text/latex": [
       "A tibble: 2 × 7\n",
       "\\begin{tabular}{lllllll}\n",
       " sample\\_year & locations & visits & samples & records & species & codes\\\\\n",
       " <lgl> & <int> & <int> & <int> & <int> & <int> & <int>\\\\\n",
       "\\hline\n",
       "\t FALSE & 61 & 85 & 510 &  8588 & 181 & 149\\\\\n",
       "\t  TRUE & 92 & 93 & 760 & 10654 & 933 & 906\\\\\n",
       "\\end{tabular}\n"
      ],
      "text/markdown": [
       "\n",
       "A tibble: 2 × 7\n",
       "\n",
       "| sample_year &lt;lgl&gt; | locations &lt;int&gt; | visits &lt;int&gt; | samples &lt;int&gt; | records &lt;int&gt; | species &lt;int&gt; | codes &lt;int&gt; |\n",
       "|---|---|---|---|---|---|---|\n",
       "| FALSE | 61 | 85 | 510 |  8588 | 181 | 149 |\n",
       "|  TRUE | 92 | 93 | 760 | 10654 | 933 | 906 |\n",
       "\n"
      ],
      "text/plain": [
       "  sample_year locations visits samples records species codes\n",
       "1 FALSE       61        85     510      8588   181     149  \n",
       "2  TRUE       92        93     760     10654   933     906  "
      ]
     },
     "metadata": {},
     "output_type": "display_data"
    }
   ],
   "source": [
    "quadrat.samples %>% \n",
    "    group_by(sample_year=year(visit_date) >2018) %>%\n",
    "    summarise(\n",
    "        locations = n_distinct(visit_id),\n",
    "        visits  = n_distinct(visit_id, visit_date),\n",
    "              samples  = n_distinct(visit_id, visit_date, sample_nr),\n",
    "              records = n(), \n",
    "              species = n_distinct(species), \n",
    "              codes = n_distinct(species_code)) %>% \n",
    "    arrange(sample_year)"
   ]
  },
  {
   "cell_type": "markdown",
   "id": "eec5bcf9-065a-4275-81fa-1a646aece0b8",
   "metadata": {},
   "source": [
    "We save the downloaded data to a RDS file. This will be uploaded to OSF cloud storage, this file will not be tracked by git."
   ]
  },
  {
   "cell_type": "code",
   "execution_count": 8,
   "id": "5b64901b-b582-402f-9ba9-c01ba064f135",
   "metadata": {},
   "outputs": [],
   "source": [
    "saveRDS(file='../data/Quadrat-sample-data.rds',quadrat.samples)"
   ]
  },
  {
   "cell_type": "code",
   "execution_count": 9,
   "id": "f6c75c45-cf6c-4711-ba3e-1edede998c92",
   "metadata": {},
   "outputs": [
    {
     "data": {
      "text/html": [
       "TRUE"
      ],
      "text/latex": [
       "TRUE"
      ],
      "text/markdown": [
       "TRUE"
      ],
      "text/plain": [
       "[1] TRUE"
      ]
     },
     "metadata": {},
     "output_type": "display_data"
    }
   ],
   "source": [
    "dbDisconnect(con)"
   ]
  },
  {
   "cell_type": "code",
   "execution_count": null,
   "id": "913933a6-a64c-4a30-9756-f2539840d9a9",
   "metadata": {},
   "outputs": [],
   "source": []
  }
 ],
 "metadata": {
  "kernelspec": {
   "display_name": "R",
   "language": "R",
   "name": "ir"
  },
  "language_info": {
   "codemirror_mode": "r",
   "file_extension": ".r",
   "mimetype": "text/x-r-source",
   "name": "R",
   "pygments_lexer": "r",
   "version": "4.3.0"
  }
 },
 "nbformat": 4,
 "nbformat_minor": 5
}
