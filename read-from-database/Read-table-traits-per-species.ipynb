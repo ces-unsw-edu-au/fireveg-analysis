{
 "cells": [
  {
   "cell_type": "markdown",
   "id": "ebcf7b28-b2b2-4fff-89b9-692f55207cee",
   "metadata": {},
   "source": [
    "# Fire response traits in plants from field samples\n",
    "\n",
    "This script contains examples of R code to query tables in the database\n",
    "\n",
    "## Load libraries"
   ]
  },
  {
   "cell_type": "code",
   "execution_count": 1,
   "id": "f24bd72f-1086-4c75-a7b8-395ac8eb79ce",
   "metadata": {},
   "outputs": [
    {
     "name": "stderr",
     "output_type": "stream",
     "text": [
      "Loading required package: DBI\n",
      "\n",
      "\n",
      "Attaching package: ‘dplyr’\n",
      "\n",
      "\n",
      "The following objects are masked from ‘package:stats’:\n",
      "\n",
      "    filter, lag\n",
      "\n",
      "\n",
      "The following objects are masked from ‘package:base’:\n",
      "\n",
      "    intersect, setdiff, setequal, union\n",
      "\n",
      "\n",
      "Loading required package: tidyr\n",
      "\n",
      "\n",
      "Attaching package: ‘galah’\n",
      "\n",
      "\n",
      "The following object is masked from ‘package:stats’:\n",
      "\n",
      "    filter\n",
      "\n",
      "\n",
      "Linking to GEOS 3.11.0, GDAL 3.5.3, PROJ 9.1.0; sf_use_s2() is TRUE\n",
      "\n"
     ]
    }
   ],
   "source": [
    "library(RPostgreSQL)\n",
    "library(ggplot2)\n",
    "library(dplyr)\n",
    "require(tidyr)\n",
    "library(galah)\n",
    "library(ozmaps)\n",
    "library(sf)\n",
    "library(data.tree)"
   ]
  },
  {
   "cell_type": "code",
   "execution_count": 2,
   "id": "8b9e8208-4da1-42da-b270-52603552e29c",
   "metadata": {},
   "outputs": [
    {
     "name": "stderr",
     "output_type": "stream",
     "text": [
      "here() starts at /Users/z3529065/proyectos/fireveg/fireveg-analysis\n",
      "\n"
     ]
    }
   ],
   "source": [
    "here::i_am(\"read-from-database/Read-table-traits-per-species.ipynb\")"
   ]
  },
  {
   "cell_type": "code",
   "execution_count": 3,
   "id": "6bb7d0ec-cd62-48c6-a34a-36f92f6fc33e",
   "metadata": {},
   "outputs": [],
   "source": [
    "galah_config(email = readLines(here::here(\"secrets\",\"galah-email.txt\")))"
   ]
  },
  {
   "cell_type": "markdown",
   "id": "01ddf2d4-b927-4aa4-a3a5-477702c9ef23",
   "metadata": {},
   "source": [
    "## Query taxonomy from Atlas of Living Australia"
   ]
  },
  {
   "cell_type": "code",
   "execution_count": 4,
   "id": "87309388-a012-42ea-bf30-e93ccd7ea46b",
   "metadata": {},
   "outputs": [],
   "source": [
    "nsw <- st_transform(ozmaps::ozmap_states, 4326) %>% filter(NAME == \"New South Wales\")"
   ]
  },
  {
   "cell_type": "code",
   "execution_count": 5,
   "id": "73835b96-ca83-46ed-9800-2d486c0dc6f3",
   "metadata": {},
   "outputs": [
    {
     "name": "stderr",
     "output_type": "stream",
     "text": [
      "Data returned for bounding box:\n",
      "xmin = 140.99927 xmax = 153.62986 ymin = -37.50503 ymax = -28.15703\n"
     ]
    }
   ],
   "source": [
    "plant_families <- galah_call() |>\n",
    "  galah_identify(\"plantae\") |>\n",
    "galah_geolocate(nsw, type = \"bbox\")|>\n",
    "  galah_down_to(family) |>\n",
    "  atlas_taxonomy()"
   ]
  },
  {
   "cell_type": "code",
   "execution_count": 6,
   "id": "02baa569-365a-4a1e-ac59-4542c5f0a2bf",
   "metadata": {},
   "outputs": [
    {
     "name": "stdout",
     "output_type": "stream",
     "text": [
      "                           levelName\n",
      "1  Plantae                          \n",
      "2   ¦--Rhodoplantae                 \n",
      "3   ¦   °--Glaucophyta              \n",
      "4   ¦       °--... 1 nodes w/ 2 sub \n",
      "5   ¦--Anthocerotophyta             \n",
      "6   ¦   °--Anthocerotopsida         \n",
      "7   ¦       °--... 3 nodes w/ 6 sub \n",
      "8   ¦--Bryophyta                    \n",
      "9   ¦   °--... 4 nodes w/ 128 sub   \n",
      "10  ¦--Charophyta                   \n",
      "11  ¦   °--... 2 nodes w/ 459 sub   \n",
      "12  ¦--Marchantiophyta              \n",
      "13  ¦   ¦--Jungermanniopsida        \n",
      "14  ¦   ¦   °--... 3 nodes w/ 76 sub\n",
      "15  ¦   °--... 2 nodes w/ 104 sub   \n",
      "16  °--Tracheophyta                 \n",
      "17      °--... 1 nodes w/ 26 sub    \n"
     ]
    }
   ],
   "source": [
    "print(plant_families, pruneMethod = \"dist\", limit = 10)"
   ]
  },
  {
   "cell_type": "code",
   "execution_count": 7,
   "id": "bfd15585-5287-48c3-b9e3-33901a6be81e",
   "metadata": {},
   "outputs": [
    {
     "name": "stdout",
     "output_type": "stream",
     "text": [
      "\u001b[90m# A tibble: 11 × 10\u001b[39m\n",
      "   rank_kingdom rank_subkingdom rank_phylum rank_class rank_order  rank_subclass\n",
      "   \u001b[3m\u001b[90m<chr>\u001b[39m\u001b[23m        \u001b[3m\u001b[90m<chr>\u001b[39m\u001b[23m           \u001b[3m\u001b[90m<chr>\u001b[39m\u001b[23m       \u001b[3m\u001b[90m<chr>\u001b[39m\u001b[23m      \u001b[3m\u001b[90m<chr>\u001b[39m\u001b[23m       \u001b[3m\u001b[90m<chr>\u001b[39m\u001b[23m        \n",
      "\u001b[90m 1\u001b[39m Plantae      \u001b[31mNA\u001b[39m              Bryophyta   Bryopsida  Bryales     Bryidae      \n",
      "\u001b[90m 2\u001b[39m Plantae      \u001b[31mNA\u001b[39m              Bryophyta   Bryopsida  Hedwigiales Bryidae      \n",
      "\u001b[90m 3\u001b[39m Plantae      \u001b[31mNA\u001b[39m              Bryophyta   Bryopsida  Hedwigiales Bryidae      \n",
      "\u001b[90m 4\u001b[39m Plantae      \u001b[31mNA\u001b[39m              Bryophyta   Bryopsida  Hookeriales Bryidae      \n",
      "\u001b[90m 5\u001b[39m Plantae      \u001b[31mNA\u001b[39m              Bryophyta   Bryopsida  Hookeriales Bryidae      \n",
      "\u001b[90m 6\u001b[39m Plantae      \u001b[31mNA\u001b[39m              Bryophyta   Bryopsida  Hookeriales Bryidae      \n",
      "\u001b[90m 7\u001b[39m Plantae      \u001b[31mNA\u001b[39m              Bryophyta   Bryopsida  Hookeriales Bryidae      \n",
      "\u001b[90m 8\u001b[39m Plantae      \u001b[31mNA\u001b[39m              Bryophyta   Bryopsida  Hookeriales Bryidae      \n",
      "\u001b[90m 9\u001b[39m Plantae      \u001b[31mNA\u001b[39m              Bryophyta   Bryopsida  Hypnales    Bryidae      \n",
      "\u001b[90m10\u001b[39m Plantae      \u001b[31mNA\u001b[39m              Bryophyta   Bryopsida  Hypnales    Bryidae      \n",
      "\u001b[90m11\u001b[39m Plantae      \u001b[31mNA\u001b[39m              Bryophyta   Bryopsida  Hypnales    Bryidae      \n",
      "\u001b[90m# ℹ 4 more variables: rank_superorder <chr>, rank_suborder <chr>,\u001b[39m\n",
      "\u001b[90m#   rank_subphylum <chr>, rank_family <chr>\u001b[39m\n"
     ]
    }
   ],
   "source": [
    "df_rank <- ToDataFrameTypeCol(plant_families, type = \"rank\")\n",
    "df_rank[10:20,] |> tibble::as_tibble() |> print(max_footer_lines = 2)"
   ]
  },
  {
   "cell_type": "markdown",
   "id": "108e8a20-008a-45c8-8941-80f815b790f1",
   "metadata": {},
   "source": [
    "## Connect to the database"
   ]
  },
  {
   "cell_type": "markdown",
   "id": "9cf99ffd-c436-4c2f-b575-71f6e5b25db2",
   "metadata": {},
   "source": [
    "Read database credentials"
   ]
  },
  {
   "cell_type": "code",
   "execution_count": 8,
   "id": "5759a6bf-b2c5-42e2-80a0-3cf57cdc897f",
   "metadata": {},
   "outputs": [],
   "source": [
    "if (file.exists(\"../secrets/database.ini\")) {\n",
    "  tmp <- readLines(\"../secrets/database.ini\")[-1]\n",
    "  tmp <- strsplit(tmp,'=',fixed=2)\n",
    "  dbinfo <- unlist(lapply(tmp,function(x) x[2]))\n",
    "  names(dbinfo) <- unlist(lapply(tmp,function(x) x[1]))\n",
    "  dbinfo <- data.frame(t(dbinfo),stringsAsFactors=F)\n",
    "   rm(tmp)\n",
    "} else {\n",
    "  cat(\"No database information found\")\n",
    "}"
   ]
  },
  {
   "cell_type": "markdown",
   "id": "8ade77df-7be2-493f-bb25-6e9e0b6fa6cb",
   "metadata": {},
   "source": [
    "Connection to the postgresql server (remember to update .pgpass file)"
   ]
  },
  {
   "cell_type": "code",
   "execution_count": 9,
   "id": "5506f7a0-fd5f-40c5-aeaf-eba65ab7b7cc",
   "metadata": {},
   "outputs": [],
   "source": [
    "drv <- dbDriver(\"PostgreSQL\") ## \n",
    "con <- dbConnect(drv, dbname = dbinfo$database,\n",
    "                 host = dbinfo$host, port = dbinfo$port,\n",
    "                 user = dbinfo$user) # this works better in combination with a .pgpass file"
   ]
  },
  {
   "cell_type": "markdown",
   "id": "677659ae-2a3e-499e-8bb6-2606793b1d6c",
   "metadata": {},
   "source": [
    "## Query database"
   ]
  },
  {
   "cell_type": "code",
   "execution_count": 10,
   "id": "e7a36330-4a00-4a82-8566-71fa84b48ef9",
   "metadata": {},
   "outputs": [],
   "source": [
    "qry <- \n",
    "'SELECT family, genus, \"speciesID\" as spp, \n",
    "\"scientificName\" as species,\n",
    "\"taxonRank\" as taxonrank,\n",
    "\"establishmentMeans\" as establishment,\n",
    "count(distinct q.record_id) as nquadrat, \n",
    "count(distinct g8.record_id) as germ8, \n",
    "count(distinct r2.record_id) as rect2,\n",
    "count(distinct g1.record_id) as germ1, \n",
    "count(distinct gw1.record_id) as grow1, \n",
    "count(distinct r4.record_id) as repr4, \n",
    "count(distinct s5.record_id) as surv5, \n",
    "count(distinct s6.record_id) as surv6, \n",
    "count(distinct s7.record_id) as surv7, \n",
    "count(distinct d1.record_id) as disp1, \n",
    "count(distinct r3a.record_id) as repr3a, \n",
    "count(distinct r3.record_id) as repr3, \n",
    "count(distinct s4.record_id) as surv4, \n",
    "count(distinct s1.record_id) as surv1\n",
    "FROM species.caps  \n",
    "LEFT JOIN form.quadrat_samples q  \n",
    " ON \"speciesCode_Synonym\"=q.species_code::text   \n",
    "LEFT JOIN litrev.germ8 g8  ON \"speciesCode_Synonym\"=g8.species_code::text   \n",
    "LEFT JOIN litrev.rect2 r2  ON \"speciesCode_Synonym\"=r2.species_code::text   \n",
    "LEFT JOIN litrev.germ1 g1  ON \"speciesCode_Synonym\"=g1.species_code::text   \n",
    "LEFT JOIN litrev.grow1 gw1  ON \"speciesCode_Synonym\"=gw1.species_code::text   \n",
    "LEFT JOIN litrev.repr4 r4  ON \"speciesCode_Synonym\"=r4.species_code::text   \n",
    "LEFT JOIN litrev.surv5 s5  ON \"speciesCode_Synonym\"=s5.species_code::text   \n",
    "LEFT JOIN litrev.surv6 s6  ON \"speciesCode_Synonym\"=s6.species_code::text   \n",
    "LEFT JOIN litrev.surv7 s7  ON \"speciesCode_Synonym\"=s7.species_code::text   \n",
    "LEFT JOIN litrev.disp1 d1  ON \"speciesCode_Synonym\"=d1.species_code::text   \n",
    "LEFT JOIN litrev.repr3a r3a  ON \"speciesCode_Synonym\"=r3a.species_code::text   \n",
    "LEFT JOIN litrev.repr3 r3  ON \"speciesCode_Synonym\"=r3.species_code::text   \n",
    "LEFT JOIN litrev.surv4 s4  ON \"speciesCode_Synonym\"=s4.species_code::text   \n",
    "LEFT JOIN litrev.surv1 s1  ON \"speciesCode_Synonym\"=s1.species_code::text   \n",
    "\n",
    "GROUP BY spp'"
   ]
  },
  {
   "cell_type": "code",
   "execution_count": 11,
   "id": "906884e5-92c3-46c6-aba7-c5a7d6fada17",
   "metadata": {},
   "outputs": [
    {
     "name": "stdout",
     "output_type": "stream",
     "text": [
      "'data.frame':\t15732 obs. of  20 variables:\n",
      " $ family       : chr  \"Brassicaceae\" \"Myrtaceae\" \"Myrtaceae\" \"Apiaceae\" ...\n",
      " $ genus        : chr  \"Lepidium\" \"Eucalyptus\" \"Melaleuca\" \"Actinotus\" ...\n",
      " $ spp          : num  2358 2359 2360 2361 2362 ...\n",
      " $ species      : chr  \"Lepidium oxytrichum\" \"Eucalyptus williamsiana\" \"Melaleuca glomerata\" \"Actinotus helianthi\" ...\n",
      " $ taxonrank    : chr  \"Species\" \"Species\" \"Species\" \"Species\" ...\n",
      " $ establishment: chr  \"Alive in NSW, Native\" \"Alive in NSW, Native\" \"Alive in NSW, Native\" \"Alive in NSW, Native\" ...\n",
      " $ nquadrat     : num  0 0 0 0 0 2 1 0 0 0 ...\n",
      " $ germ8        : num  0 0 0 0 0 0 0 0 0 0 ...\n",
      " $ rect2        : num  0 1 0 2 0 0 0 0 0 0 ...\n",
      " $ germ1        : num  0 1 0 1 0 0 0 0 0 1 ...\n",
      " $ grow1        : num  0 0 0 0 0 0 0 0 0 0 ...\n",
      " $ repr4        : num  0 0 0 1 0 0 0 0 0 0 ...\n",
      " $ surv5        : num  0 0 0 2 0 0 0 0 0 0 ...\n",
      " $ surv6        : num  0 0 0 0 0 0 0 0 0 0 ...\n",
      " $ surv7        : num  0 0 0 1 0 0 0 0 0 0 ...\n",
      " $ disp1        : num  3 0 0 3 1 1 0 1 0 1 ...\n",
      " $ repr3a       : num  0 0 0 0 0 0 1 0 0 0 ...\n",
      " $ repr3        : num  0 0 0 3 0 0 0 0 0 0 ...\n",
      " $ surv4        : num  0 0 0 0 0 0 1 0 0 0 ...\n",
      " $ surv1        : num  1 6 3 14 1 1 3 1 0 7 ...\n"
     ]
    }
   ],
   "source": [
    "spp.table<- dbGetQuery(con, qry)\n",
    "str(spp.table)"
   ]
  },
  {
   "cell_type": "code",
   "execution_count": 14,
   "id": "92311507-927a-44ba-8259-bceec0ad5d74",
   "metadata": {},
   "outputs": [
    {
     "data": {
      "text/plain": [
       "                   establishment\n",
       "taxonrank           Alive in NSW, Native Extinct in NSW, Native Hybrid\n",
       "  Cultivar                             3                      0      0\n",
       "  Forma                               60                      0      0\n",
       "  Hybrid                               1                      0      0\n",
       "  Nothomorph                           0                      0      0\n",
       "  Species                          10231                     38      0\n",
       "  Species Hybrid                       9                      0      1\n",
       "  Subspecies                        1115                      8      0\n",
       "  Subspecies Hybrid                    8                      0      0\n",
       "  Variant                              6                      0      0\n",
       "  Variety                            578                      1      0\n",
       "                   establishment\n",
       "taxonrank           Introduced Not Known from NSW\n",
       "  Cultivar                  12                  0\n",
       "  Forma                     11                  0\n",
       "  Hybrid                     0                  0\n",
       "  Nothomorph                 2                  0\n",
       "  Species                 3255                 23\n",
       "  Species Hybrid             1                  0\n",
       "  Subspecies               211                  3\n",
       "  Subspecies Hybrid          0                  0\n",
       "  Variant                    0                  0\n",
       "  Variety                  153                  2"
      ]
     },
     "metadata": {},
     "output_type": "display_data"
    }
   ],
   "source": [
    "with(spp.table, table(taxonrank,establishment))"
   ]
  },
  {
   "cell_type": "markdown",
   "id": "86d38f27-d2b8-4b18-b250-9d31337071f6",
   "metadata": {},
   "source": [
    "Add column with the plant order from the taxonomy:"
   ]
  },
  {
   "cell_type": "code",
   "execution_count": 15,
   "id": "106c9bc8-651a-49db-b5ef-1d26725b64a0",
   "metadata": {},
   "outputs": [],
   "source": [
    "spp.table$rank_order <- df_rank$rank_order[match(spp.table$family,df_rank$rank_family)]"
   ]
  },
  {
   "cell_type": "code",
   "execution_count": 16,
   "id": "e327b083-8e9d-4c08-97a2-f15898e50741",
   "metadata": {},
   "outputs": [
    {
     "data": {
      "text/html": [
       "<table class=\"dataframe\">\n",
       "<caption>A data.frame: 5 × 21</caption>\n",
       "<thead>\n",
       "\t<tr><th scope=col>family</th><th scope=col>genus</th><th scope=col>spp</th><th scope=col>species</th><th scope=col>taxonrank</th><th scope=col>establishment</th><th scope=col>nquadrat</th><th scope=col>germ8</th><th scope=col>rect2</th><th scope=col>germ1</th><th scope=col>⋯</th><th scope=col>repr4</th><th scope=col>surv5</th><th scope=col>surv6</th><th scope=col>surv7</th><th scope=col>disp1</th><th scope=col>repr3a</th><th scope=col>repr3</th><th scope=col>surv4</th><th scope=col>surv1</th><th scope=col>rank_order</th></tr>\n",
       "\t<tr><th scope=col>&lt;chr&gt;</th><th scope=col>&lt;chr&gt;</th><th scope=col>&lt;dbl&gt;</th><th scope=col>&lt;chr&gt;</th><th scope=col>&lt;chr&gt;</th><th scope=col>&lt;chr&gt;</th><th scope=col>&lt;dbl&gt;</th><th scope=col>&lt;dbl&gt;</th><th scope=col>&lt;dbl&gt;</th><th scope=col>&lt;dbl&gt;</th><th scope=col>⋯</th><th scope=col>&lt;dbl&gt;</th><th scope=col>&lt;dbl&gt;</th><th scope=col>&lt;dbl&gt;</th><th scope=col>&lt;dbl&gt;</th><th scope=col>&lt;dbl&gt;</th><th scope=col>&lt;dbl&gt;</th><th scope=col>&lt;dbl&gt;</th><th scope=col>&lt;dbl&gt;</th><th scope=col>&lt;dbl&gt;</th><th scope=col>&lt;chr&gt;</th></tr>\n",
       "</thead>\n",
       "<tbody>\n",
       "\t<tr><td>Brassicaceae</td><td>Lepidium  </td><td>2358</td><td>Lepidium oxytrichum    </td><td>Species</td><td>Alive in NSW, Native</td><td>0</td><td>0</td><td>0</td><td>0</td><td>⋯</td><td>0</td><td>0</td><td>0</td><td>0</td><td>3</td><td>0</td><td>0</td><td>0</td><td> 1</td><td>Brassicales</td></tr>\n",
       "\t<tr><td>Myrtaceae   </td><td>Eucalyptus</td><td>2359</td><td>Eucalyptus williamsiana</td><td>Species</td><td>Alive in NSW, Native</td><td>0</td><td>0</td><td>1</td><td>1</td><td>⋯</td><td>0</td><td>0</td><td>0</td><td>0</td><td>0</td><td>0</td><td>0</td><td>0</td><td> 6</td><td>Myrtales   </td></tr>\n",
       "\t<tr><td>Myrtaceae   </td><td>Melaleuca </td><td>2360</td><td>Melaleuca glomerata    </td><td>Species</td><td>Alive in NSW, Native</td><td>0</td><td>0</td><td>0</td><td>0</td><td>⋯</td><td>0</td><td>0</td><td>0</td><td>0</td><td>0</td><td>0</td><td>0</td><td>0</td><td> 3</td><td>Myrtales   </td></tr>\n",
       "\t<tr><td>Apiaceae    </td><td>Actinotus </td><td>2361</td><td>Actinotus helianthi    </td><td>Species</td><td>Alive in NSW, Native</td><td>0</td><td>0</td><td>2</td><td>1</td><td>⋯</td><td>1</td><td>2</td><td>0</td><td>1</td><td>3</td><td>0</td><td>3</td><td>0</td><td>14</td><td>Apiales    </td></tr>\n",
       "\t<tr><td>Apiaceae    </td><td>Apium     </td><td>2362</td><td>Apium prostratum       </td><td>Species</td><td>Alive in NSW, Native</td><td>0</td><td>0</td><td>0</td><td>0</td><td>⋯</td><td>0</td><td>0</td><td>0</td><td>0</td><td>1</td><td>0</td><td>0</td><td>0</td><td> 1</td><td>Apiales    </td></tr>\n",
       "</tbody>\n",
       "</table>\n"
      ],
      "text/latex": [
       "A data.frame: 5 × 21\n",
       "\\begin{tabular}{lllllllllllllllllllll}\n",
       " family & genus & spp & species & taxonrank & establishment & nquadrat & germ8 & rect2 & germ1 & ⋯ & repr4 & surv5 & surv6 & surv7 & disp1 & repr3a & repr3 & surv4 & surv1 & rank\\_order\\\\\n",
       " <chr> & <chr> & <dbl> & <chr> & <chr> & <chr> & <dbl> & <dbl> & <dbl> & <dbl> & ⋯ & <dbl> & <dbl> & <dbl> & <dbl> & <dbl> & <dbl> & <dbl> & <dbl> & <dbl> & <chr>\\\\\n",
       "\\hline\n",
       "\t Brassicaceae & Lepidium   & 2358 & Lepidium oxytrichum     & Species & Alive in NSW, Native & 0 & 0 & 0 & 0 & ⋯ & 0 & 0 & 0 & 0 & 3 & 0 & 0 & 0 &  1 & Brassicales\\\\\n",
       "\t Myrtaceae    & Eucalyptus & 2359 & Eucalyptus williamsiana & Species & Alive in NSW, Native & 0 & 0 & 1 & 1 & ⋯ & 0 & 0 & 0 & 0 & 0 & 0 & 0 & 0 &  6 & Myrtales   \\\\\n",
       "\t Myrtaceae    & Melaleuca  & 2360 & Melaleuca glomerata     & Species & Alive in NSW, Native & 0 & 0 & 0 & 0 & ⋯ & 0 & 0 & 0 & 0 & 0 & 0 & 0 & 0 &  3 & Myrtales   \\\\\n",
       "\t Apiaceae     & Actinotus  & 2361 & Actinotus helianthi     & Species & Alive in NSW, Native & 0 & 0 & 2 & 1 & ⋯ & 1 & 2 & 0 & 1 & 3 & 0 & 3 & 0 & 14 & Apiales    \\\\\n",
       "\t Apiaceae     & Apium      & 2362 & Apium prostratum        & Species & Alive in NSW, Native & 0 & 0 & 0 & 0 & ⋯ & 0 & 0 & 0 & 0 & 1 & 0 & 0 & 0 &  1 & Apiales    \\\\\n",
       "\\end{tabular}\n"
      ],
      "text/markdown": [
       "\n",
       "A data.frame: 5 × 21\n",
       "\n",
       "| family &lt;chr&gt; | genus &lt;chr&gt; | spp &lt;dbl&gt; | species &lt;chr&gt; | taxonrank &lt;chr&gt; | establishment &lt;chr&gt; | nquadrat &lt;dbl&gt; | germ8 &lt;dbl&gt; | rect2 &lt;dbl&gt; | germ1 &lt;dbl&gt; | ⋯ ⋯ | repr4 &lt;dbl&gt; | surv5 &lt;dbl&gt; | surv6 &lt;dbl&gt; | surv7 &lt;dbl&gt; | disp1 &lt;dbl&gt; | repr3a &lt;dbl&gt; | repr3 &lt;dbl&gt; | surv4 &lt;dbl&gt; | surv1 &lt;dbl&gt; | rank_order &lt;chr&gt; |\n",
       "|---|---|---|---|---|---|---|---|---|---|---|---|---|---|---|---|---|---|---|---|---|\n",
       "| Brassicaceae | Lepidium   | 2358 | Lepidium oxytrichum     | Species | Alive in NSW, Native | 0 | 0 | 0 | 0 | ⋯ | 0 | 0 | 0 | 0 | 3 | 0 | 0 | 0 |  1 | Brassicales |\n",
       "| Myrtaceae    | Eucalyptus | 2359 | Eucalyptus williamsiana | Species | Alive in NSW, Native | 0 | 0 | 1 | 1 | ⋯ | 0 | 0 | 0 | 0 | 0 | 0 | 0 | 0 |  6 | Myrtales    |\n",
       "| Myrtaceae    | Melaleuca  | 2360 | Melaleuca glomerata     | Species | Alive in NSW, Native | 0 | 0 | 0 | 0 | ⋯ | 0 | 0 | 0 | 0 | 0 | 0 | 0 | 0 |  3 | Myrtales    |\n",
       "| Apiaceae     | Actinotus  | 2361 | Actinotus helianthi     | Species | Alive in NSW, Native | 0 | 0 | 2 | 1 | ⋯ | 1 | 2 | 0 | 1 | 3 | 0 | 3 | 0 | 14 | Apiales     |\n",
       "| Apiaceae     | Apium      | 2362 | Apium prostratum        | Species | Alive in NSW, Native | 0 | 0 | 0 | 0 | ⋯ | 0 | 0 | 0 | 0 | 1 | 0 | 0 | 0 |  1 | Apiales     |\n",
       "\n"
      ],
      "text/plain": [
       "  family       genus      spp  species                 taxonrank\n",
       "1 Brassicaceae Lepidium   2358 Lepidium oxytrichum     Species  \n",
       "2 Myrtaceae    Eucalyptus 2359 Eucalyptus williamsiana Species  \n",
       "3 Myrtaceae    Melaleuca  2360 Melaleuca glomerata     Species  \n",
       "4 Apiaceae     Actinotus  2361 Actinotus helianthi     Species  \n",
       "5 Apiaceae     Apium      2362 Apium prostratum        Species  \n",
       "  establishment        nquadrat germ8 rect2 germ1 ⋯ repr4 surv5 surv6 surv7\n",
       "1 Alive in NSW, Native 0        0     0     0     ⋯ 0     0     0     0    \n",
       "2 Alive in NSW, Native 0        0     1     1     ⋯ 0     0     0     0    \n",
       "3 Alive in NSW, Native 0        0     0     0     ⋯ 0     0     0     0    \n",
       "4 Alive in NSW, Native 0        0     2     1     ⋯ 1     2     0     1    \n",
       "5 Alive in NSW, Native 0        0     0     0     ⋯ 0     0     0     0    \n",
       "  disp1 repr3a repr3 surv4 surv1 rank_order \n",
       "1 3     0      0     0      1    Brassicales\n",
       "2 0     0      0     0      6    Myrtales   \n",
       "3 0     0      0     0      3    Myrtales   \n",
       "4 3     0      3     0     14    Apiales    \n",
       "5 1     0      0     0      1    Apiales    "
      ]
     },
     "metadata": {},
     "output_type": "display_data"
    }
   ],
   "source": [
    "spp.table %>% slice(1:5)"
   ]
  },
  {
   "cell_type": "code",
   "execution_count": 17,
   "id": "35e20c91-39e0-4a8c-80e9-c7adeba2ec48",
   "metadata": {},
   "outputs": [],
   "source": [
    "fabales <- c(\"Fabaceae (Faboideae)\", \"Fabaceae (Mimosoideae)\", \"Fabaceae (Caesalpinioideae)\" )\n",
    "unplaced <- c(\"Dilleniaceae\", \"Flacourtiaceae\")\n",
    "single_family <- c(\"Boraginaceae\")\n",
    "rosales <- c(\"Malaceae\")\n",
    "lamiales <- c(\"Myoporaceae\", \"Buddlejaceae\")\n",
    "polypodiales <- c(\"Pteridaceae\")\n",
    "asparagales <- c(\"Anthericaceae\",\"Phormiaceae\",\"Lomandraceae\", \"Agavaceae\", \"Hyacinthaceae\")\n",
    "ranunculales <- c(\"Fumariaceae\")\n",
    "malvales <- c(\"Tiliaceae\")\n"
   ]
  },
  {
   "cell_type": "code",
   "execution_count": 18,
   "id": "5092c2b4-a89f-4db0-9089-6897f7857ec7",
   "metadata": {},
   "outputs": [],
   "source": [
    "spp.table <- spp.table %>% mutate(\n",
    "    rank_order = case_when(\n",
    "            family %in% fabales ~ \"Fabales\",\n",
    "            family %in% unplaced ~ \"unplaced\",\n",
    "            family %in% rosales ~ \"Rosales\",\n",
    "            family %in% lamiales ~ \"Lamiales\",\n",
    "            family %in% polypodiales ~ \"Polypodiales\",\n",
    "            family %in% asparagales ~ \"Asparagales\",\n",
    "            family %in% ranunculales ~ \"Ranunculales\",\n",
    "            family %in% malvales ~ \"Malvales\",\n",
    "            family %in% single_family ~ sprintf(\"fam. %s\",family),\n",
    "            is.na(rank_order) ~ \"unknown\",\n",
    "            TRUE ~ rank_order\n",
    "        ))"
   ]
  },
  {
   "cell_type": "code",
   "execution_count": 19,
   "id": "160375bb-4204-4934-90b0-ba7f62ef6b82",
   "metadata": {},
   "outputs": [
    {
     "data": {
      "text/html": [
       "<table class=\"dataframe\">\n",
       "<caption>A tibble: 47 × 2</caption>\n",
       "<thead>\n",
       "\t<tr><th scope=col>family</th><th scope=col>nspp</th></tr>\n",
       "\t<tr><th scope=col>&lt;chr&gt;</th><th scope=col>&lt;int&gt;</th></tr>\n",
       "</thead>\n",
       "<tbody>\n",
       "\t<tr><td>Unknown Flora     </td><td>32</td></tr>\n",
       "\t<tr><td>Athyriaceae       </td><td>15</td></tr>\n",
       "\t<tr><td>Lemnaceae         </td><td>13</td></tr>\n",
       "\t<tr><td>Viscaceae         </td><td>13</td></tr>\n",
       "\t<tr><td>Stackhousiaceae   </td><td>12</td></tr>\n",
       "\t<tr><td>Characeae         </td><td> 9</td></tr>\n",
       "\t<tr><td>Callitrichaceae   </td><td> 8</td></tr>\n",
       "\t<tr><td>Dipsacaceae       </td><td> 6</td></tr>\n",
       "\t<tr><td>Najadaceae        </td><td> 6</td></tr>\n",
       "\t<tr><td>Peperomiaceae     </td><td> 6</td></tr>\n",
       "\t<tr><td>Selaginaceae      </td><td> 5</td></tr>\n",
       "\t<tr><td>Uvulariaceae      </td><td> 5</td></tr>\n",
       "\t<tr><td>Zannichelliaceae  </td><td> 5</td></tr>\n",
       "\t<tr><td>Azollaceae        </td><td> 4</td></tr>\n",
       "\t<tr><td>Cladophoraceae    </td><td> 4</td></tr>\n",
       "\t<tr><td>Cobaeaceae        </td><td> 3</td></tr>\n",
       "\t<tr><td>Convallariaceae   </td><td> 3</td></tr>\n",
       "\t<tr><td>Valerianaceae     </td><td> 3</td></tr>\n",
       "\t<tr><td>Codiaceae         </td><td> 2</td></tr>\n",
       "\t<tr><td>Hydrophyllaceae   </td><td> 2</td></tr>\n",
       "\t<tr><td>Nandinaceae       </td><td> 2</td></tr>\n",
       "\t<tr><td>Peganaceae        </td><td> 2</td></tr>\n",
       "\t<tr><td>Ulvaceae          </td><td> 2</td></tr>\n",
       "\t<tr><td>Aucubaceae        </td><td> 1</td></tr>\n",
       "\t<tr><td>Bangiaceae        </td><td> 1</td></tr>\n",
       "\t<tr><td>Batrachospermaceae</td><td> 1</td></tr>\n",
       "\t<tr><td>Bombacaceae       </td><td> 1</td></tr>\n",
       "\t<tr><td>Calomniaceae      </td><td> 1</td></tr>\n",
       "\t<tr><td>Caulacanthaceae   </td><td> 1</td></tr>\n",
       "\t<tr><td>Caulerpaceae      </td><td> 1</td></tr>\n",
       "\t<tr><td>Chordariaceae     </td><td> 1</td></tr>\n",
       "\t<tr><td>Cystoseiraceae    </td><td> 1</td></tr>\n",
       "\t<tr><td>Delesseriaceae    </td><td> 1</td></tr>\n",
       "\t<tr><td>Gracilariaceae    </td><td> 1</td></tr>\n",
       "\t<tr><td>Hormosiraceae     </td><td> 1</td></tr>\n",
       "\t<tr><td>Hypneaceae        </td><td> 1</td></tr>\n",
       "\t<tr><td>Limnocharitaceae  </td><td> 1</td></tr>\n",
       "\t<tr><td>Parkeriaceae      </td><td> 1</td></tr>\n",
       "\t<tr><td>Platyzomataceae   </td><td> 1</td></tr>\n",
       "\t<tr><td>Psilosiphonaceae  </td><td> 1</td></tr>\n",
       "\t<tr><td>Punicaceae        </td><td> 1</td></tr>\n",
       "\t<tr><td>Rhodomelaceae     </td><td> 1</td></tr>\n",
       "\t<tr><td>Ruscaceae         </td><td> 1</td></tr>\n",
       "\t<tr><td>Sargassaceae      </td><td> 1</td></tr>\n",
       "\t<tr><td>Sporochnaceae     </td><td> 1</td></tr>\n",
       "\t<tr><td>Ternstroemiaceae  </td><td> 1</td></tr>\n",
       "\t<tr><td>Vittariaceae      </td><td> 1</td></tr>\n",
       "</tbody>\n",
       "</table>\n"
      ],
      "text/latex": [
       "A tibble: 47 × 2\n",
       "\\begin{tabular}{ll}\n",
       " family & nspp\\\\\n",
       " <chr> & <int>\\\\\n",
       "\\hline\n",
       "\t Unknown Flora      & 32\\\\\n",
       "\t Athyriaceae        & 15\\\\\n",
       "\t Lemnaceae          & 13\\\\\n",
       "\t Viscaceae          & 13\\\\\n",
       "\t Stackhousiaceae    & 12\\\\\n",
       "\t Characeae          &  9\\\\\n",
       "\t Callitrichaceae    &  8\\\\\n",
       "\t Dipsacaceae        &  6\\\\\n",
       "\t Najadaceae         &  6\\\\\n",
       "\t Peperomiaceae      &  6\\\\\n",
       "\t Selaginaceae       &  5\\\\\n",
       "\t Uvulariaceae       &  5\\\\\n",
       "\t Zannichelliaceae   &  5\\\\\n",
       "\t Azollaceae         &  4\\\\\n",
       "\t Cladophoraceae     &  4\\\\\n",
       "\t Cobaeaceae         &  3\\\\\n",
       "\t Convallariaceae    &  3\\\\\n",
       "\t Valerianaceae      &  3\\\\\n",
       "\t Codiaceae          &  2\\\\\n",
       "\t Hydrophyllaceae    &  2\\\\\n",
       "\t Nandinaceae        &  2\\\\\n",
       "\t Peganaceae         &  2\\\\\n",
       "\t Ulvaceae           &  2\\\\\n",
       "\t Aucubaceae         &  1\\\\\n",
       "\t Bangiaceae         &  1\\\\\n",
       "\t Batrachospermaceae &  1\\\\\n",
       "\t Bombacaceae        &  1\\\\\n",
       "\t Calomniaceae       &  1\\\\\n",
       "\t Caulacanthaceae    &  1\\\\\n",
       "\t Caulerpaceae       &  1\\\\\n",
       "\t Chordariaceae      &  1\\\\\n",
       "\t Cystoseiraceae     &  1\\\\\n",
       "\t Delesseriaceae     &  1\\\\\n",
       "\t Gracilariaceae     &  1\\\\\n",
       "\t Hormosiraceae      &  1\\\\\n",
       "\t Hypneaceae         &  1\\\\\n",
       "\t Limnocharitaceae   &  1\\\\\n",
       "\t Parkeriaceae       &  1\\\\\n",
       "\t Platyzomataceae    &  1\\\\\n",
       "\t Psilosiphonaceae   &  1\\\\\n",
       "\t Punicaceae         &  1\\\\\n",
       "\t Rhodomelaceae      &  1\\\\\n",
       "\t Ruscaceae          &  1\\\\\n",
       "\t Sargassaceae       &  1\\\\\n",
       "\t Sporochnaceae      &  1\\\\\n",
       "\t Ternstroemiaceae   &  1\\\\\n",
       "\t Vittariaceae       &  1\\\\\n",
       "\\end{tabular}\n"
      ],
      "text/markdown": [
       "\n",
       "A tibble: 47 × 2\n",
       "\n",
       "| family &lt;chr&gt; | nspp &lt;int&gt; |\n",
       "|---|---|\n",
       "| Unknown Flora      | 32 |\n",
       "| Athyriaceae        | 15 |\n",
       "| Lemnaceae          | 13 |\n",
       "| Viscaceae          | 13 |\n",
       "| Stackhousiaceae    | 12 |\n",
       "| Characeae          |  9 |\n",
       "| Callitrichaceae    |  8 |\n",
       "| Dipsacaceae        |  6 |\n",
       "| Najadaceae         |  6 |\n",
       "| Peperomiaceae      |  6 |\n",
       "| Selaginaceae       |  5 |\n",
       "| Uvulariaceae       |  5 |\n",
       "| Zannichelliaceae   |  5 |\n",
       "| Azollaceae         |  4 |\n",
       "| Cladophoraceae     |  4 |\n",
       "| Cobaeaceae         |  3 |\n",
       "| Convallariaceae    |  3 |\n",
       "| Valerianaceae      |  3 |\n",
       "| Codiaceae          |  2 |\n",
       "| Hydrophyllaceae    |  2 |\n",
       "| Nandinaceae        |  2 |\n",
       "| Peganaceae         |  2 |\n",
       "| Ulvaceae           |  2 |\n",
       "| Aucubaceae         |  1 |\n",
       "| Bangiaceae         |  1 |\n",
       "| Batrachospermaceae |  1 |\n",
       "| Bombacaceae        |  1 |\n",
       "| Calomniaceae       |  1 |\n",
       "| Caulacanthaceae    |  1 |\n",
       "| Caulerpaceae       |  1 |\n",
       "| Chordariaceae      |  1 |\n",
       "| Cystoseiraceae     |  1 |\n",
       "| Delesseriaceae     |  1 |\n",
       "| Gracilariaceae     |  1 |\n",
       "| Hormosiraceae      |  1 |\n",
       "| Hypneaceae         |  1 |\n",
       "| Limnocharitaceae   |  1 |\n",
       "| Parkeriaceae       |  1 |\n",
       "| Platyzomataceae    |  1 |\n",
       "| Psilosiphonaceae   |  1 |\n",
       "| Punicaceae         |  1 |\n",
       "| Rhodomelaceae      |  1 |\n",
       "| Ruscaceae          |  1 |\n",
       "| Sargassaceae       |  1 |\n",
       "| Sporochnaceae      |  1 |\n",
       "| Ternstroemiaceae   |  1 |\n",
       "| Vittariaceae       |  1 |\n",
       "\n"
      ],
      "text/plain": [
       "   family             nspp\n",
       "1  Unknown Flora      32  \n",
       "2  Athyriaceae        15  \n",
       "3  Lemnaceae          13  \n",
       "4  Viscaceae          13  \n",
       "5  Stackhousiaceae    12  \n",
       "6  Characeae           9  \n",
       "7  Callitrichaceae     8  \n",
       "8  Dipsacaceae         6  \n",
       "9  Najadaceae          6  \n",
       "10 Peperomiaceae       6  \n",
       "11 Selaginaceae        5  \n",
       "12 Uvulariaceae        5  \n",
       "13 Zannichelliaceae    5  \n",
       "14 Azollaceae          4  \n",
       "15 Cladophoraceae      4  \n",
       "16 Cobaeaceae          3  \n",
       "17 Convallariaceae     3  \n",
       "18 Valerianaceae       3  \n",
       "19 Codiaceae           2  \n",
       "20 Hydrophyllaceae     2  \n",
       "21 Nandinaceae         2  \n",
       "22 Peganaceae          2  \n",
       "23 Ulvaceae            2  \n",
       "24 Aucubaceae          1  \n",
       "25 Bangiaceae          1  \n",
       "26 Batrachospermaceae  1  \n",
       "27 Bombacaceae         1  \n",
       "28 Calomniaceae        1  \n",
       "29 Caulacanthaceae     1  \n",
       "30 Caulerpaceae        1  \n",
       "31 Chordariaceae       1  \n",
       "32 Cystoseiraceae      1  \n",
       "33 Delesseriaceae      1  \n",
       "34 Gracilariaceae      1  \n",
       "35 Hormosiraceae       1  \n",
       "36 Hypneaceae          1  \n",
       "37 Limnocharitaceae    1  \n",
       "38 Parkeriaceae        1  \n",
       "39 Platyzomataceae     1  \n",
       "40 Psilosiphonaceae    1  \n",
       "41 Punicaceae          1  \n",
       "42 Rhodomelaceae       1  \n",
       "43 Ruscaceae           1  \n",
       "44 Sargassaceae        1  \n",
       "45 Sporochnaceae       1  \n",
       "46 Ternstroemiaceae    1  \n",
       "47 Vittariaceae        1  "
      ]
     },
     "metadata": {},
     "output_type": "display_data"
    }
   ],
   "source": [
    "spp.table %>% \n",
    "    filter(rank_order %in% c(NA,\"unknown\")) %>% \n",
    "    group_by(family) %>% \n",
    "    summarise(nspp=n()) %>% \n",
    "    arrange(desc(nspp))"
   ]
  },
  {
   "cell_type": "code",
   "execution_count": null,
   "id": "da26d7fc-5cf7-4d3d-9a97-e1b41a3ed337",
   "metadata": {},
   "outputs": [],
   "source": []
  },
  {
   "cell_type": "code",
   "execution_count": 20,
   "id": "5b64901b-b582-402f-9ba9-c01ba064f135",
   "metadata": {},
   "outputs": [],
   "source": [
    "saveRDS(file=here::here('data','Summary-traits-species.rds'),spp.table)"
   ]
  },
  {
   "cell_type": "code",
   "execution_count": 21,
   "id": "8ad65156-c7a4-4057-9908-a116894e3d74",
   "metadata": {},
   "outputs": [],
   "source": [
    "saveRDS(file=here::here('data','NSW-plants-according-to-ALA.rds'),plant_families)"
   ]
  },
  {
   "cell_type": "code",
   "execution_count": 22,
   "id": "f6c75c45-cf6c-4711-ba3e-1edede998c92",
   "metadata": {},
   "outputs": [
    {
     "data": {
      "text/html": [
       "TRUE"
      ],
      "text/latex": [
       "TRUE"
      ],
      "text/markdown": [
       "TRUE"
      ],
      "text/plain": [
       "[1] TRUE"
      ]
     },
     "metadata": {},
     "output_type": "display_data"
    }
   ],
   "source": [
    "dbDisconnect(con)"
   ]
  }
 ],
 "metadata": {
  "kernelspec": {
   "display_name": "R",
   "language": "R",
   "name": "ir"
  },
  "language_info": {
   "codemirror_mode": "r",
   "file_extension": ".r",
   "mimetype": "text/x-r-source",
   "name": "R",
   "pygments_lexer": "r",
   "version": "4.3.0"
  }
 },
 "nbformat": 4,
 "nbformat_minor": 5
}
