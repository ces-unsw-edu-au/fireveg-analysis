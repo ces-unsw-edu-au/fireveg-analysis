{
 "cells": [
  {
   "cell_type": "code",
   "execution_count": 1,
   "id": "0eba81d3-0888-4bfa-ad6d-834e7ea1fd84",
   "metadata": {},
   "outputs": [],
   "source": [
    "library(readr)"
   ]
  },
  {
   "cell_type": "code",
   "execution_count": 12,
   "id": "dcbee9a2-e032-4bdb-9750-64fd31755047",
   "metadata": {},
   "outputs": [
    {
     "name": "stderr",
     "output_type": "stream",
     "text": [
      "here() starts at /Users/z3529065/proyectos/fireveg/fireveg-analysis\n",
      "\n"
     ]
    }
   ],
   "source": [
    "here::i_am(\"misc/Untitled.ipynb\")\n",
    "data_dir <- here::here(\"data\")"
   ]
  },
  {
   "cell_type": "code",
   "execution_count": 5,
   "id": "a3b6e99d-3ef2-46c0-b28a-064f86f27477",
   "metadata": {},
   "outputs": [
    {
     "name": "stderr",
     "output_type": "stream",
     "text": [
      "\u001b[1mRows: \u001b[22m\u001b[34m1414\u001b[39m \u001b[1mColumns: \u001b[22m\u001b[34m7\u001b[39m\n",
      "\u001b[36m──\u001b[39m \u001b[1mColumn specification\u001b[22m \u001b[36m─────────────────────────────────────────────────────────────────────────────────────────────────────────────────────────────────────────────────────────────────────────────────────────────────────\u001b[39m\n",
      "\u001b[1mDelimiter:\u001b[22m \",\"\n",
      "\u001b[31mchr\u001b[39m (4): accepted_name, family, broader, establishment_means\n",
      "\u001b[32mdbl\u001b[39m (3): park_list, voucher_exists, iNat_RG_record_exists\n",
      "\n",
      "\u001b[36mℹ\u001b[39m Use `spec()` to retrieve the full column specification for this data.\n",
      "\u001b[36mℹ\u001b[39m Specify the column types or set `show_col_types = FALSE` to quiet this message.\n"
     ]
    }
   ],
   "source": [
    "royal_species_list <- read_csv(\"https://ars.els-cdn.com/content/image/1-s2.0-S1574954124004631-mmc4.csv\")"
   ]
  },
  {
   "cell_type": "code",
   "execution_count": 9,
   "id": "d7d999da-67fd-4762-be15-e4f1570a35ba",
   "metadata": {},
   "outputs": [
    {
     "data": {
      "text/html": [
       "1414"
      ],
      "text/latex": [
       "1414"
      ],
      "text/markdown": [
       "1414"
      ],
      "text/plain": [
       "[1] 1414"
      ]
     },
     "metadata": {},
     "output_type": "display_data"
    }
   ],
   "source": [
    "length(unique(royal_species_list$accepted_name))\n"
   ]
  },
  {
   "cell_type": "code",
   "execution_count": 25,
   "id": "81da2544-0cce-42f1-be9f-e21eaf2beae5",
   "metadata": {},
   "outputs": [],
   "source": [
    "field_data <- readRDS(here::here(data_dir,\"Quadrat-sample-data.rds\"))"
   ]
  },
  {
   "cell_type": "code",
   "execution_count": 26,
   "id": "82259df6-b4a6-4f9b-a968-16ae4398a043",
   "metadata": {},
   "outputs": [
    {
     "data": {
      "text/html": [
       "<table class=\"dataframe\">\n",
       "<caption>A data.frame: 1 × 29</caption>\n",
       "<thead>\n",
       "\t<tr><th></th><th scope=col>survey_name</th><th scope=col>visit_id</th><th scope=col>visit_date</th><th scope=col>sample_nr</th><th scope=col>sample_method</th><th scope=col>quadrat_area</th><th scope=col>min_fire_date</th><th scope=col>max_fire_date</th><th scope=col>species</th><th scope=col>species_code</th><th scope=col>⋯</th><th scope=col>adults_unburnt</th><th scope=col>resprouts_live</th><th scope=col>resprouts_died</th><th scope=col>resprouts_kill</th><th scope=col>resprouts_reproductive</th><th scope=col>recruits_live</th><th scope=col>recruits_died</th><th scope=col>recruits_reproductive</th><th scope=col>scorch</th><th scope=col>life_stage</th></tr>\n",
       "\t<tr><th></th><th scope=col>&lt;chr&gt;</th><th scope=col>&lt;chr&gt;</th><th scope=col>&lt;date&gt;</th><th scope=col>&lt;int&gt;</th><th scope=col>&lt;chr&gt;</th><th scope=col>&lt;dbl&gt;</th><th scope=col>&lt;date&gt;</th><th scope=col>&lt;date&gt;</th><th scope=col>&lt;chr&gt;</th><th scope=col>&lt;int&gt;</th><th scope=col>⋯</th><th scope=col>&lt;dbl&gt;</th><th scope=col>&lt;dbl&gt;</th><th scope=col>&lt;dbl&gt;</th><th scope=col>&lt;dbl&gt;</th><th scope=col>&lt;dbl&gt;</th><th scope=col>&lt;dbl&gt;</th><th scope=col>&lt;dbl&gt;</th><th scope=col>&lt;dbl&gt;</th><th scope=col>&lt;chr&gt;</th><th scope=col>&lt;chr&gt;</th></tr>\n",
       "</thead>\n",
       "<tbody>\n",
       "\t<tr><th scope=row>1</th><td>UplandBasalt</td><td>CRC09B7UVH</td><td>2021-02-03</td><td>1</td><td>NA</td><td>NA</td><td>2020-02-10</td><td>2020-02-10</td><td>Goodenia ovata</td><td>3192</td><td>⋯</td><td>0</td><td>0</td><td>NA</td><td>NA</td><td>0</td><td>100</td><td>NA</td><td>0</td><td>NA</td><td>NA</td></tr>\n",
       "</tbody>\n",
       "</table>\n"
      ],
      "text/latex": [
       "A data.frame: 1 × 29\n",
       "\\begin{tabular}{r|lllllllllllllllllllll}\n",
       "  & survey\\_name & visit\\_id & visit\\_date & sample\\_nr & sample\\_method & quadrat\\_area & min\\_fire\\_date & max\\_fire\\_date & species & species\\_code & ⋯ & adults\\_unburnt & resprouts\\_live & resprouts\\_died & resprouts\\_kill & resprouts\\_reproductive & recruits\\_live & recruits\\_died & recruits\\_reproductive & scorch & life\\_stage\\\\\n",
       "  & <chr> & <chr> & <date> & <int> & <chr> & <dbl> & <date> & <date> & <chr> & <int> & ⋯ & <dbl> & <dbl> & <dbl> & <dbl> & <dbl> & <dbl> & <dbl> & <dbl> & <chr> & <chr>\\\\\n",
       "\\hline\n",
       "\t1 & UplandBasalt & CRC09B7UVH & 2021-02-03 & 1 & NA & NA & 2020-02-10 & 2020-02-10 & Goodenia ovata & 3192 & ⋯ & 0 & 0 & NA & NA & 0 & 100 & NA & 0 & NA & NA\\\\\n",
       "\\end{tabular}\n"
      ],
      "text/markdown": [
       "\n",
       "A data.frame: 1 × 29\n",
       "\n",
       "| <!--/--> | survey_name &lt;chr&gt; | visit_id &lt;chr&gt; | visit_date &lt;date&gt; | sample_nr &lt;int&gt; | sample_method &lt;chr&gt; | quadrat_area &lt;dbl&gt; | min_fire_date &lt;date&gt; | max_fire_date &lt;date&gt; | species &lt;chr&gt; | species_code &lt;int&gt; | ⋯ ⋯ | adults_unburnt &lt;dbl&gt; | resprouts_live &lt;dbl&gt; | resprouts_died &lt;dbl&gt; | resprouts_kill &lt;dbl&gt; | resprouts_reproductive &lt;dbl&gt; | recruits_live &lt;dbl&gt; | recruits_died &lt;dbl&gt; | recruits_reproductive &lt;dbl&gt; | scorch &lt;chr&gt; | life_stage &lt;chr&gt; |\n",
       "|---|---|---|---|---|---|---|---|---|---|---|---|---|---|---|---|---|---|---|---|---|---|\n",
       "| 1 | UplandBasalt | CRC09B7UVH | 2021-02-03 | 1 | NA | NA | 2020-02-10 | 2020-02-10 | Goodenia ovata | 3192 | ⋯ | 0 | 0 | NA | NA | 0 | 100 | NA | 0 | NA | NA |\n",
       "\n"
      ],
      "text/plain": [
       "  survey_name  visit_id   visit_date sample_nr sample_method quadrat_area\n",
       "1 UplandBasalt CRC09B7UVH 2021-02-03 1         NA            NA          \n",
       "  min_fire_date max_fire_date species        species_code ⋯ adults_unburnt\n",
       "1 2020-02-10    2020-02-10    Goodenia ovata 3192         ⋯ 0             \n",
       "  resprouts_live resprouts_died resprouts_kill resprouts_reproductive\n",
       "1 0              NA             NA             0                     \n",
       "  recruits_live recruits_died recruits_reproductive scorch life_stage\n",
       "1 100           NA            0                     NA     NA        "
      ]
     },
     "metadata": {},
     "output_type": "display_data"
    }
   ],
   "source": [
    "field_data[1,]"
   ]
  },
  {
   "cell_type": "code",
   "execution_count": 27,
   "id": "7a1f554b-672f-4e1f-9ac9-a1caa6421d54",
   "metadata": {},
   "outputs": [
    {
     "data": {
      "text/plain": [
       "\n",
       "FALSE  TRUE \n",
       " 1046   368 "
      ]
     },
     "metadata": {},
     "output_type": "display_data"
    }
   ],
   "source": [
    "table(royal_species_list$accepted_name %in% field_data$species)"
   ]
  },
  {
   "cell_type": "code",
   "execution_count": 21,
   "id": "0eeae94c-25df-468c-9eac-f4435b72ba9f",
   "metadata": {},
   "outputs": [],
   "source": [
    "trait_summary <- readRDS(here::here(data_dir,\"References-traits-sources.rds\"))"
   ]
  },
  {
   "cell_type": "code",
   "execution_count": 22,
   "id": "a29b9045-3a7d-4f5c-9082-d7945d2f442b",
   "metadata": {},
   "outputs": [
    {
     "data": {
      "text/plain": [
       "\n",
       "FALSE \n",
       " 1414 "
      ]
     },
     "metadata": {},
     "output_type": "display_data"
    }
   ],
   "source": [
    "table(royal_species_list$accepted_name %in% trait_summary$scientific_name)"
   ]
  },
  {
   "cell_type": "code",
   "execution_count": 19,
   "id": "5b007fcc-7611-42e3-b7a4-17f8cb582517",
   "metadata": {},
   "outputs": [
    {
     "data": {
      "text/plain": [
       "\n",
       "FALSE  TRUE \n",
       " 6483  1185 "
      ]
     },
     "metadata": {},
     "output_type": "display_data"
    }
   ],
   "source": [
    "table(unique(trait_summary$scientific_name) %in% royal_species_list$accepted_name)"
   ]
  },
  {
   "cell_type": "code",
   "execution_count": 24,
   "id": "42d500ff-b9d0-46d1-9c59-e229ca693b8e",
   "metadata": {},
   "outputs": [
    {
     "data": {
      "text/html": [
       "<table class=\"dataframe\">\n",
       "<caption>A data.frame: 347 × 2</caption>\n",
       "<thead>\n",
       "\t<tr><th scope=col>ref_code</th><th scope=col>ref_cite</th></tr>\n",
       "\t<tr><th scope=col>&lt;chr&gt;</th><th scope=col>&lt;chr&gt;</th></tr>\n",
       "</thead>\n",
       "<tbody>\n",
       "\t<tr><td><span style=white-space:pre-wrap>austraits-6.0.0                                   </span></td><td><span style=white-space:pre-wrap>Falster, D., Gallagher, R., Wenk, E., &amp; Sauquet, H. (2024). AusTraits: a curated plant trait database for the Australian flora [Data set]. In Scientific Data (v6.0.0, Vol. 8, p. 254). Zenodo. https://doi.org/10.5281/zenodo.11188867                                                                                                                                                                                                                  </span></td></tr>\n",
       "\t<tr><td>Auld Keith Bradstock 2000                         </td><td>Auld, Tony D.; Keith, David A.; Bradstock, Ross A. (2000) {Patterns in longevity of soil seedbanks in fire-prone communities of south-eastern Australia} Australian Journal of Botany 48 10.1071/bt99046                                                                                                                                                                                                                                                 </td></tr>\n",
       "\t<tr><td>Baker 2019                                        </td><td>Baker, Andrew (2019) {Unpublished data: Post-fire fire-response surveys on the NSW north coast, Southern Cross University}                                                                                                                                                                                                                                                                                                                               </td></tr>\n",
       "\t<tr><td>Burrows Wardell-Johnson Ward 2008                 </td><td>Burrows, Neil D; Wardell-Johnson, Grant; Ward, Bruce (2008) {Post-fire juvenile period of plants in south-west Australia forests and implications for fire management} Journal of the Royal Society of Western Australia 91                                                                                                                                                                                                                              </td></tr>\n",
       "\t<tr><td>Burrows 2020                                      </td><td>Burrows, Neil (2020) {Data from 'Plant Ecological Attributes' theme, NatureMap, DBCA, WA}                                                                                                                                                                                                                                                                                                                                                                </td></tr>\n",
       "\t<tr><td>Campbell Clarke 2006                              </td><td>Campbell, Monica L.; Clarke, Peter J. (2006) {Response of montane wet sclerophyll forest understorey species to fire- evidence from high and low intensity fires} Proceedings of the Linnean Society of New South Wales 127 unknown                                                                                                                                                                                                                      </td></tr>\n",
       "\t<tr><td>Cheal 2010                                        </td><td>Cheal, David (2010) {Growth stages and tolerable fire intervals for Victoria's native vegetation data sets}                                                                                                                                                                                                                                                                                                                                              </td></tr>\n",
       "\t<tr><td>Clarke Knox Campbell Copeland 2009                </td><td>Clarke, Peter J.; Knox, Kirsten J. E.; Campbell, Monica L.; Copeland, Lachlan M. (2009) {Post-fire recovery of woody plants in the New England Tableland Bioregion} Cunninghamia 11 https://hdl.handle.net/1959.11/4907                                                                                                                                                                                                                                  </td></tr>\n",
       "\t<tr><td>Clarke Lawes Murphy Russell-Smith Nano Bradstoc...</td><td>Clarke, Peter J.; Lawes, Michael J.; Murphy, Brett P.; Russell-Smith, Jeremy; Nano, Catherine E.M.; Bradstock, Ross; Enright, Neal J.; Fontaine, Joseph B.; Gosper, Carl R.; Radford, Ian; Midgley, Jeremy J.; Gunton, Richard M. (2015) {A synthesis of postfire recovery traits of woody plants in Australian ecosystems} Science of The Total Environment 534 10.1016/j.scitotenv.2015.04.002                                                         </td></tr>\n",
       "\t<tr><td>Cowling Lamont Pierce 1987                        </td><td>Cowling, R. M.; Lamont, Byron B.; Pierce, S. M. (1987) {Seed bank dynamics of four co-occurring Banksia species} The Journal of Ecology 75 10.2307/2260419                                                                                                                                                                                                                                                                                               </td></tr>\n",
       "\t<tr><td>Crisp Cayzer Chandler Cook 2017                   </td><td>Crisp, Michael D.; Cayzer, Lindy; Chandler, Gregory T.; Cook, Lyn G. (2017) {A monograph of Daviesia (Mirbelieae, Faboideae, Fabaceae)} Phytotaxa 300 10.11646/phytotaxa.300.1.1                                                                                                                                                                                                                                                                         </td></tr>\n",
       "\t<tr><td>Crowley Gardener Marrinan 2007                    </td><td>Crowley, G.; Gardener, M.; Marrinan, M. (2007) {Tropical savannas fire response database}                                                                                                                                                                                                                                                                                                                                                                </td></tr>\n",
       "\t<tr><td>Denton Veneklaas Freimoser Lambers 2007           </td><td>Denton, Matthew D.; Veneklaas, Erik J.; Freimoser, Florian M.; Lambers, Hans (2007) {Banksia species (Proteaceae) from severely phosphorus-impoverished soils exhibit extreme efficiency in the use and re-mobilization of phosphorus} Plant, Cell and Environment 30 10.1111/j.1365-3040.2007.01733.x                                                                                                                                                   </td></tr>\n",
       "\t<tr><td>Enright Fontaine Lamont Miller Westcott 2014      </td><td>Enright, Neal J.; Fontaine, Joseph B.; Lamont, Byron B.; Miller, Ben P.; Westcott, Vanessa C. (2014) {Resistance and resilience to changing climate and fire regime depend on plant functional traits} Journal of Ecology 102 10.1111/1365-2745.12306                                                                                                                                                                                                    </td></tr>\n",
       "\t<tr><td>Falster Westoby 2005                              </td><td>Falster, Daniel S.; Westoby, Mark (2005) {Tradeoffs between height growth rate, stem persistence and maximum height among plant species in a post-fire succession} Oikos 111 10.1111/j.0030-1299.2005.13383.x                                                                                                                                                                                                                                            </td></tr>\n",
       "\t<tr><td>French Prior Williamson Bowman 2016               </td><td>French, Ben J.; Prior, Lynda D.; Williamson, Grant J.; Bowman, David M. J. S. (2016) {Cause and effects of a megafire in sedge-heathland in the Tasmanian temperate wilderness} Australian Journal of Botany 64 10.1071/bt16087                                                                                                                                                                                                                          </td></tr>\n",
       "\t<tr><td>Gosper Yates Prober 2012                          </td><td>Gosper, Carl R.; Yates, Colin J.; Prober, Suzanne M. (2012) {Changes in plant species and functional composition with time since fire in two mediterranean climate plant communities} Journal of Vegetation Science 23 10.1111/j.1654-1103.2012.01434.x                                                                                                                                                                                                  </td></tr>\n",
       "\t<tr><td>Gosper Yates Cook Harvey Liedloff McCaw Thiele ...</td><td>Gosper, Carl R.; Yates, Colin J.; Cook, Garry D.; Harvey, Judith M.; Liedloff, Adam C.; McCaw, W. Lachlan; Thiele, Kevin R.; Prober, Suzanne M. (2018) {A conceptual model of vegetation dynamics for the unique obligate-seeder eucalypt woodlands of south-western Australia} Austral Ecology 43 10.1111/aec.12613                                                                                                                                     </td></tr>\n",
       "\t<tr><td>Gosper Miller Gallagher Kinloch {van Dongen} Ad...</td><td>Gosper, Carl R.; Miller, Ben P.; Gallagher, Rachael V.; Kinloch, Janine; {van Dongen}, Richard; Adams, Emma; Barrett, Sarah; Cochrane, Anne; Comer, Sarah; McCaw, Lachlan; Miller, Russell G.; Prober, Suzanne M.; Yates, Colin J. (2022) {Mapping risk to plant populations from short fire intervals via relationships between maturation period and environmental productivity} Plant Ecology 10.1007/s11258-022-01229-6                              </td></tr>\n",
       "\t<tr><td>Groom Lamont 1997                                 </td><td>Groom, Philip K.; Lamont, Byron B. (1997) {Fruit-seed relations in Hakea: serotinous species invest more dry matter in predispersal seed protection} Austral Ecology 22 10.1111/j.1442-9993.1997.tb00682.x                                                                                                                                                                                                                                               </td></tr>\n",
       "\t<tr><td>Groom Lamont 2010                                 </td><td>Groom, Philip K.; Lamont, Byron B. (2010) {Phosphorus accumulation in Proteaceae seeds: A synthesis} Plant and Soil 334 10.1007/s11104-009-0135-6                                                                                                                                                                                                                                                                                                        </td></tr>\n",
       "\t<tr><td>Harvey Hopkins Langley Gosper Williams Yates 2017 </td><td>Harvey, J. M.; Hopkins, A. J. M.; Langley, M. A.; Gosper, C. R.; Williams, M. R.; Yates, C. J. (2017) {Long-term studies of post-fire reproduction in an Australian shrubland and woodland} Australian Journal of Botany 65 10.1071/bt17011                                                                                                                                                                                                              </td></tr>\n",
       "\t<tr><td>He Lamont Downes 2011                             </td><td>He, Tianhua; Lamont, Byron B.; Downes, Katherine S. (2011) {Banksia born to burn} New Phytologist 191 10.1111/j.1469-8137.2011.03663.x                                                                                                                                                                                                                                                                                                                   </td></tr>\n",
       "\t<tr><td>Kirkpatrick 2020                                  </td><td>Kirkpatrick, James (2020) {Unpublished data: Fire response traits for woody Tasmanian endemic species, University of Tasmania}                                                                                                                                                                                                                                                                                                                           </td></tr>\n",
       "\t<tr><td>Knox Clarke 2011                                  </td><td>Knox, Kirsten J. E.; Clarke, Peter J. (2011) {Fire severity and nutrient availability do not constrain resprouting in forest shrubs} Plant Ecology 212 10.1007/s11258-011-9956-5                                                                                                                                                                                                                                                                         </td></tr>\n",
       "\t<tr><td>Kubiak 2009                                       </td><td>Kubiak, P. J. (2009) {Fire responses of bushland plants after the January 1994 wildfires in northern Sydney} Cunninghamia 11                                                                                                                                                                                                                                                                                                                             </td></tr>\n",
       "\t<tr><td>Meers 2007                                        </td><td>Meers, Trevor (2007) {Role of plant functional traits in determining the response of vegetation to land use change on the Delatite Peninsula, Victoria.}                                                                                                                                                                                                                                                                                                 </td></tr>\n",
       "\t<tr><td>Laliberte Wells DeClerck Metcalfe Catterall Que...</td><td>Laliberte, Etienne; Wells, Jessie A.; DeClerck, Fabrice; Metcalfe, Daniel J.; Catterall, Carla P.; Queiroz, Cibele; Aubin, Isabelle; Bonser, Stephen P.; Ding, Yi; Fraterrigo, Jennifer M.; McNamara, Sean; Morgan, John W.; Merlos, Dalia Sanchez; Vesk, Peter A.; Mayfield, Margaret M. (2010) {Land-use intensification reduces functional redundancy and response diversity in plant communities} Ecology Letters 13 10.1111/j.1461-0248.2009.01403.x</td></tr>\n",
       "\t<tr><td>Bishop 1996                                       </td><td>Bishop T. (1996) Field Guide to the Orchids of NSW and Victoria                                                                                                                                                                                                                                                                                                                                                                                          </td></tr>\n",
       "\t<tr><td>Moore Camac Morgan 2018                           </td><td>Moore, Nicholas A.; Camac, James S.; Morgan, John W. (2018) {Effects of drought and fire on resprouting capacity of 52 temperate Australian perennial native grasses} New Phytologist 221 10.1111/nph.15480                                                                                                                                                                                                                                              </td></tr>\n",
       "\t<tr><td>⋮</td><td>⋮</td></tr>\n",
       "\t<tr><td>RP Zieria prostrata                               </td><td>RP Zieria prostrata. Approved Recovery Plan; December 1998                                                                                                                                                                  </td></tr>\n",
       "\t<tr><td>RP Epacris hamiltonii                             </td><td>RP Epacris hamiltonii. Draft Recovery Plan for public comment; June 2000                                                                                                                                                    </td></tr>\n",
       "\t<tr><td>RP Grevillea obtusiflora subsp. obtusiflora and su</td><td>RP Grevillea obtusiflora subsp. obtusiflora and su. Draft Recovery Plan for public comment; June 2000                                                                                                                       </td></tr>\n",
       "\t<tr><td>RP Thesium australe                               </td><td>RP Thesium australe. RP (ANPWS) 1992                                                                                                                                                                                        </td></tr>\n",
       "\t<tr><td>RP Allocasuarina glareicola                       </td><td>RP Allocasuarina glareicola. Conservation Research Statement and Recovery Plan (ANCA); May 1996                                                                                                                             </td></tr>\n",
       "\t<tr><td>RP Acacia pubescens                               </td><td>RP Acacia pubescens. Draft Recovery Plan for public comment; April 2001                                                                                                                                                     </td></tr>\n",
       "\t<tr><td>RP Allocasuarina defungens                        </td><td>RP Allocasuarina defungens. Draft Recovery Plan; May 1997                                                                                                                                                                   </td></tr>\n",
       "\t<tr><td>RP Pterostylis gibbosa                            </td><td>RP Pterostylis gibbosa. Draft Recovery Plan for public comment; March 2000                                                                                                                                                  </td></tr>\n",
       "\t<tr><td>RP Callitris oblonga                              </td><td>RP Callitris oblonga. Species Management Report No.7; 1993                                                                                                                                                                  </td></tr>\n",
       "\t<tr><td>RP Acrophyllum australe                           </td><td>RP Acrophyllum australe. Recovery Plan (ANCA); March 1994                                                                                                                                                                   </td></tr>\n",
       "\t<tr><td>RP Asterolasia elegans                            </td><td>RP Asterolasia elegans. Recovery Plan (ANCA); March 1994                                                                                                                                                                    </td></tr>\n",
       "\t<tr><td>RP Apatophyllum constablei                        </td><td>RP Apatophyllum constablei. Conservation Research Statement and Recovery Plan (ANCA); 1994 (revised)                                                                                                                        </td></tr>\n",
       "\t<tr><td>RP Velleia perfoliata                             </td><td>RP Velleia perfoliata. Recovery Plan (ANCA); April 1994                                                                                                                                                                     </td></tr>\n",
       "\t<tr><td>RP Zieria involucrata                             </td><td>RP Zieria involucrata. Recovery Plan (ANCA); May 1994                                                                                                                                                                       </td></tr>\n",
       "\t<tr><td>RP Pimelea spicata                                </td><td>RP Pimelea spicata. Conservation Research Statement and Recovery Plan (ANCA); 1993 (revised)                                                                                                                                </td></tr>\n",
       "\t<tr><td>RP Kunzea rupestris                               </td><td>RP Kunzea rupestris. Conservation Research Statement and Recovery Plan (ANPWS)                                                                                                                                              </td></tr>\n",
       "\t<tr><td>RP Corchorus cunninghamia                         </td><td>RP Corchorus cunninghamia. Draft RP for public comment, April 1999                                                                                                                                                          </td></tr>\n",
       "\t<tr><td>RP Persoonia nutans                               </td><td>RP Persoonia nutans. Conservation Research Statement and Recovery Plan (ANCA); 1996                                                                                                                                         </td></tr>\n",
       "\t<tr><td>RP Darwinnia biflora                              </td><td>RP Darwinnia biflora. Draft RP for public authority endorsement, Sep 2000                                                                                                                                                   </td></tr>\n",
       "\t<tr><td>RP RFA NSW - Eden                                 </td><td>RP RFA NSW - Eden. Response to disturbance of forest species in CRA regions in NSW, Eden region. Environment Australia.                                                                                                     </td></tr>\n",
       "\t<tr><td>RP RFA NSW - Northern                             </td><td>RP RFA NSW - Northern. Threatened Plants Project, Northern Region. Peter Richards, Aug 1999.                                                                                                                                </td></tr>\n",
       "\t<tr><td>RP RFA Victoria - West                            </td><td>RP RFA Victoria - West. Biodiversity Assessment, Appendix E. Commonwealth-Victorian RFA Steering Committee, 2000.                                                                                                           </td></tr>\n",
       "\t<tr><td>RP RFA Victoria - Gippsland                       </td><td>RP RFA Victoria - Gippsland. Biodiversity Assessment, Appendix E. Commonwealth-Victorian RFA Steering Committee, 1999.                                                                                                      </td></tr>\n",
       "\t<tr><td>RP RFA Victoria - North East                      </td><td>RP RFA Victoria - North East. Biodiversity Assessment, Appendix E. Commonwealth-Victorian RFA Steering Committee, 1998.                                                                                                     </td></tr>\n",
       "\t<tr><td>RP RFA Victoria - Central Highlands               </td><td>RP RFA Victoria - Central Highlands. Biodiversity Technical Report, Appendix E: Life History Attributes of Threatened Plant Taxa. Commonwealth-Victorian RFA Steering Committee, 1997.                                      </td></tr>\n",
       "\t<tr><td>RP RFA Victoria - East Gippsland                  </td><td>RP RFA Victoria - East Gippsland. Environment and Heritage Report, Appendix E: Rare or Threatened Plants.  Commonwealth-Victorian RFA Steering Committee, 1999.                                                             </td></tr>\n",
       "\t<tr><td>RP RFA Tasmania                                   </td><td>RP RFA Tasmania. Tasmanian-Commonwealth RFA Background Report Part C. Environment and Heritage Report, Volume IV, Appendix I: Life history and population summaries (Flora). Tasmanian Public Land Use Commission, Nov 1996.</td></tr>\n",
       "\t<tr><td>RP Threatened Eucalypts                           </td><td>RP Threatened Eucalypts. Draft Recovery Plan, Jan 2000                                                                                                                                                                      </td></tr>\n",
       "\t<tr><td>RP Boronia granitica                              </td><td>RP Boronia granitica. RP Draft for public comment, Feb 2002                                                                                                                                                                 </td></tr>\n",
       "\t<tr><td>RP Microtis angusii                               </td><td>RP Microtis angusii. Draft RP, August 1999                                                                                                                                                                                  </td></tr>\n",
       "</tbody>\n",
       "</table>\n"
      ],
      "text/latex": [
       "A data.frame: 347 × 2\n",
       "\\begin{tabular}{ll}\n",
       " ref\\_code & ref\\_cite\\\\\n",
       " <chr> & <chr>\\\\\n",
       "\\hline\n",
       "\t austraits-6.0.0                                    & Falster, D., Gallagher, R., Wenk, E., \\& Sauquet, H. (2024). AusTraits: a curated plant trait database for the Australian flora {[}Data set{]}. In Scientific Data (v6.0.0, Vol. 8, p. 254). Zenodo. https://doi.org/10.5281/zenodo.11188867                                                                                                                                                                                                                  \\\\\n",
       "\t Auld Keith Bradstock 2000                          & Auld, Tony D.; Keith, David A.; Bradstock, Ross A. (2000) \\{Patterns in longevity of soil seedbanks in fire-prone communities of south-eastern Australia\\} Australian Journal of Botany 48 10.1071/bt99046                                                                                                                                                                                                                                                 \\\\\n",
       "\t Baker 2019                                         & Baker, Andrew (2019) \\{Unpublished data: Post-fire fire-response surveys on the NSW north coast, Southern Cross University\\}                                                                                                                                                                                                                                                                                                                               \\\\\n",
       "\t Burrows Wardell-Johnson Ward 2008                  & Burrows, Neil D; Wardell-Johnson, Grant; Ward, Bruce (2008) \\{Post-fire juvenile period of plants in south-west Australia forests and implications for fire management\\} Journal of the Royal Society of Western Australia 91                                                                                                                                                                                                                              \\\\\n",
       "\t Burrows 2020                                       & Burrows, Neil (2020) \\{Data from 'Plant Ecological Attributes' theme, NatureMap, DBCA, WA\\}                                                                                                                                                                                                                                                                                                                                                                \\\\\n",
       "\t Campbell Clarke 2006                               & Campbell, Monica L.; Clarke, Peter J. (2006) \\{Response of montane wet sclerophyll forest understorey species to fire- evidence from high and low intensity fires\\} Proceedings of the Linnean Society of New South Wales 127 unknown                                                                                                                                                                                                                      \\\\\n",
       "\t Cheal 2010                                         & Cheal, David (2010) \\{Growth stages and tolerable fire intervals for Victoria's native vegetation data sets\\}                                                                                                                                                                                                                                                                                                                                              \\\\\n",
       "\t Clarke Knox Campbell Copeland 2009                 & Clarke, Peter J.; Knox, Kirsten J. E.; Campbell, Monica L.; Copeland, Lachlan M. (2009) \\{Post-fire recovery of woody plants in the New England Tableland Bioregion\\} Cunninghamia 11 https://hdl.handle.net/1959.11/4907                                                                                                                                                                                                                                  \\\\\n",
       "\t Clarke Lawes Murphy Russell-Smith Nano Bradstoc... & Clarke, Peter J.; Lawes, Michael J.; Murphy, Brett P.; Russell-Smith, Jeremy; Nano, Catherine E.M.; Bradstock, Ross; Enright, Neal J.; Fontaine, Joseph B.; Gosper, Carl R.; Radford, Ian; Midgley, Jeremy J.; Gunton, Richard M. (2015) \\{A synthesis of postfire recovery traits of woody plants in Australian ecosystems\\} Science of The Total Environment 534 10.1016/j.scitotenv.2015.04.002                                                         \\\\\n",
       "\t Cowling Lamont Pierce 1987                         & Cowling, R. M.; Lamont, Byron B.; Pierce, S. M. (1987) \\{Seed bank dynamics of four co-occurring Banksia species\\} The Journal of Ecology 75 10.2307/2260419                                                                                                                                                                                                                                                                                               \\\\\n",
       "\t Crisp Cayzer Chandler Cook 2017                    & Crisp, Michael D.; Cayzer, Lindy; Chandler, Gregory T.; Cook, Lyn G. (2017) \\{A monograph of Daviesia (Mirbelieae, Faboideae, Fabaceae)\\} Phytotaxa 300 10.11646/phytotaxa.300.1.1                                                                                                                                                                                                                                                                         \\\\\n",
       "\t Crowley Gardener Marrinan 2007                     & Crowley, G.; Gardener, M.; Marrinan, M. (2007) \\{Tropical savannas fire response database\\}                                                                                                                                                                                                                                                                                                                                                                \\\\\n",
       "\t Denton Veneklaas Freimoser Lambers 2007            & Denton, Matthew D.; Veneklaas, Erik J.; Freimoser, Florian M.; Lambers, Hans (2007) \\{Banksia species (Proteaceae) from severely phosphorus-impoverished soils exhibit extreme efficiency in the use and re-mobilization of phosphorus\\} Plant, Cell and Environment 30 10.1111/j.1365-3040.2007.01733.x                                                                                                                                                   \\\\\n",
       "\t Enright Fontaine Lamont Miller Westcott 2014       & Enright, Neal J.; Fontaine, Joseph B.; Lamont, Byron B.; Miller, Ben P.; Westcott, Vanessa C. (2014) \\{Resistance and resilience to changing climate and fire regime depend on plant functional traits\\} Journal of Ecology 102 10.1111/1365-2745.12306                                                                                                                                                                                                    \\\\\n",
       "\t Falster Westoby 2005                               & Falster, Daniel S.; Westoby, Mark (2005) \\{Tradeoffs between height growth rate, stem persistence and maximum height among plant species in a post-fire succession\\} Oikos 111 10.1111/j.0030-1299.2005.13383.x                                                                                                                                                                                                                                            \\\\\n",
       "\t French Prior Williamson Bowman 2016                & French, Ben J.; Prior, Lynda D.; Williamson, Grant J.; Bowman, David M. J. S. (2016) \\{Cause and effects of a megafire in sedge-heathland in the Tasmanian temperate wilderness\\} Australian Journal of Botany 64 10.1071/bt16087                                                                                                                                                                                                                          \\\\\n",
       "\t Gosper Yates Prober 2012                           & Gosper, Carl R.; Yates, Colin J.; Prober, Suzanne M. (2012) \\{Changes in plant species and functional composition with time since fire in two mediterranean climate plant communities\\} Journal of Vegetation Science 23 10.1111/j.1654-1103.2012.01434.x                                                                                                                                                                                                  \\\\\n",
       "\t Gosper Yates Cook Harvey Liedloff McCaw Thiele ... & Gosper, Carl R.; Yates, Colin J.; Cook, Garry D.; Harvey, Judith M.; Liedloff, Adam C.; McCaw, W. Lachlan; Thiele, Kevin R.; Prober, Suzanne M. (2018) \\{A conceptual model of vegetation dynamics for the unique obligate-seeder eucalypt woodlands of south-western Australia\\} Austral Ecology 43 10.1111/aec.12613                                                                                                                                     \\\\\n",
       "\t Gosper Miller Gallagher Kinloch \\{van Dongen\\} Ad... & Gosper, Carl R.; Miller, Ben P.; Gallagher, Rachael V.; Kinloch, Janine; \\{van Dongen\\}, Richard; Adams, Emma; Barrett, Sarah; Cochrane, Anne; Comer, Sarah; McCaw, Lachlan; Miller, Russell G.; Prober, Suzanne M.; Yates, Colin J. (2022) \\{Mapping risk to plant populations from short fire intervals via relationships between maturation period and environmental productivity\\} Plant Ecology 10.1007/s11258-022-01229-6                              \\\\\n",
       "\t Groom Lamont 1997                                  & Groom, Philip K.; Lamont, Byron B. (1997) \\{Fruit-seed relations in Hakea: serotinous species invest more dry matter in predispersal seed protection\\} Austral Ecology 22 10.1111/j.1442-9993.1997.tb00682.x                                                                                                                                                                                                                                               \\\\\n",
       "\t Groom Lamont 2010                                  & Groom, Philip K.; Lamont, Byron B. (2010) \\{Phosphorus accumulation in Proteaceae seeds: A synthesis\\} Plant and Soil 334 10.1007/s11104-009-0135-6                                                                                                                                                                                                                                                                                                        \\\\\n",
       "\t Harvey Hopkins Langley Gosper Williams Yates 2017  & Harvey, J. M.; Hopkins, A. J. M.; Langley, M. A.; Gosper, C. R.; Williams, M. R.; Yates, C. J. (2017) \\{Long-term studies of post-fire reproduction in an Australian shrubland and woodland\\} Australian Journal of Botany 65 10.1071/bt17011                                                                                                                                                                                                              \\\\\n",
       "\t He Lamont Downes 2011                              & He, Tianhua; Lamont, Byron B.; Downes, Katherine S. (2011) \\{Banksia born to burn\\} New Phytologist 191 10.1111/j.1469-8137.2011.03663.x                                                                                                                                                                                                                                                                                                                   \\\\\n",
       "\t Kirkpatrick 2020                                   & Kirkpatrick, James (2020) \\{Unpublished data: Fire response traits for woody Tasmanian endemic species, University of Tasmania\\}                                                                                                                                                                                                                                                                                                                           \\\\\n",
       "\t Knox Clarke 2011                                   & Knox, Kirsten J. E.; Clarke, Peter J. (2011) \\{Fire severity and nutrient availability do not constrain resprouting in forest shrubs\\} Plant Ecology 212 10.1007/s11258-011-9956-5                                                                                                                                                                                                                                                                         \\\\\n",
       "\t Kubiak 2009                                        & Kubiak, P. J. (2009) \\{Fire responses of bushland plants after the January 1994 wildfires in northern Sydney\\} Cunninghamia 11                                                                                                                                                                                                                                                                                                                             \\\\\n",
       "\t Meers 2007                                         & Meers, Trevor (2007) \\{Role of plant functional traits in determining the response of vegetation to land use change on the Delatite Peninsula, Victoria.\\}                                                                                                                                                                                                                                                                                                 \\\\\n",
       "\t Laliberte Wells DeClerck Metcalfe Catterall Que... & Laliberte, Etienne; Wells, Jessie A.; DeClerck, Fabrice; Metcalfe, Daniel J.; Catterall, Carla P.; Queiroz, Cibele; Aubin, Isabelle; Bonser, Stephen P.; Ding, Yi; Fraterrigo, Jennifer M.; McNamara, Sean; Morgan, John W.; Merlos, Dalia Sanchez; Vesk, Peter A.; Mayfield, Margaret M. (2010) \\{Land-use intensification reduces functional redundancy and response diversity in plant communities\\} Ecology Letters 13 10.1111/j.1461-0248.2009.01403.x\\\\\n",
       "\t Bishop 1996                                        & Bishop T. (1996) Field Guide to the Orchids of NSW and Victoria                                                                                                                                                                                                                                                                                                                                                                                          \\\\\n",
       "\t Moore Camac Morgan 2018                            & Moore, Nicholas A.; Camac, James S.; Morgan, John W. (2018) \\{Effects of drought and fire on resprouting capacity of 52 temperate Australian perennial native grasses\\} New Phytologist 221 10.1111/nph.15480                                                                                                                                                                                                                                              \\\\\n",
       "\t ⋮ & ⋮\\\\\n",
       "\t RP Zieria prostrata                                & RP Zieria prostrata. Approved Recovery Plan; December 1998                                                                                                                                                                  \\\\\n",
       "\t RP Epacris hamiltonii                              & RP Epacris hamiltonii. Draft Recovery Plan for public comment; June 2000                                                                                                                                                    \\\\\n",
       "\t RP Grevillea obtusiflora subsp. obtusiflora and su & RP Grevillea obtusiflora subsp. obtusiflora and su. Draft Recovery Plan for public comment; June 2000                                                                                                                       \\\\\n",
       "\t RP Thesium australe                                & RP Thesium australe. RP (ANPWS) 1992                                                                                                                                                                                        \\\\\n",
       "\t RP Allocasuarina glareicola                        & RP Allocasuarina glareicola. Conservation Research Statement and Recovery Plan (ANCA); May 1996                                                                                                                             \\\\\n",
       "\t RP Acacia pubescens                                & RP Acacia pubescens. Draft Recovery Plan for public comment; April 2001                                                                                                                                                     \\\\\n",
       "\t RP Allocasuarina defungens                         & RP Allocasuarina defungens. Draft Recovery Plan; May 1997                                                                                                                                                                   \\\\\n",
       "\t RP Pterostylis gibbosa                             & RP Pterostylis gibbosa. Draft Recovery Plan for public comment; March 2000                                                                                                                                                  \\\\\n",
       "\t RP Callitris oblonga                               & RP Callitris oblonga. Species Management Report No.7; 1993                                                                                                                                                                  \\\\\n",
       "\t RP Acrophyllum australe                            & RP Acrophyllum australe. Recovery Plan (ANCA); March 1994                                                                                                                                                                   \\\\\n",
       "\t RP Asterolasia elegans                             & RP Asterolasia elegans. Recovery Plan (ANCA); March 1994                                                                                                                                                                    \\\\\n",
       "\t RP Apatophyllum constablei                         & RP Apatophyllum constablei. Conservation Research Statement and Recovery Plan (ANCA); 1994 (revised)                                                                                                                        \\\\\n",
       "\t RP Velleia perfoliata                              & RP Velleia perfoliata. Recovery Plan (ANCA); April 1994                                                                                                                                                                     \\\\\n",
       "\t RP Zieria involucrata                              & RP Zieria involucrata. Recovery Plan (ANCA); May 1994                                                                                                                                                                       \\\\\n",
       "\t RP Pimelea spicata                                 & RP Pimelea spicata. Conservation Research Statement and Recovery Plan (ANCA); 1993 (revised)                                                                                                                                \\\\\n",
       "\t RP Kunzea rupestris                                & RP Kunzea rupestris. Conservation Research Statement and Recovery Plan (ANPWS)                                                                                                                                              \\\\\n",
       "\t RP Corchorus cunninghamia                          & RP Corchorus cunninghamia. Draft RP for public comment, April 1999                                                                                                                                                          \\\\\n",
       "\t RP Persoonia nutans                                & RP Persoonia nutans. Conservation Research Statement and Recovery Plan (ANCA); 1996                                                                                                                                         \\\\\n",
       "\t RP Darwinnia biflora                               & RP Darwinnia biflora. Draft RP for public authority endorsement, Sep 2000                                                                                                                                                   \\\\\n",
       "\t RP RFA NSW - Eden                                  & RP RFA NSW - Eden. Response to disturbance of forest species in CRA regions in NSW, Eden region. Environment Australia.                                                                                                     \\\\\n",
       "\t RP RFA NSW - Northern                              & RP RFA NSW - Northern. Threatened Plants Project, Northern Region. Peter Richards, Aug 1999.                                                                                                                                \\\\\n",
       "\t RP RFA Victoria - West                             & RP RFA Victoria - West. Biodiversity Assessment, Appendix E. Commonwealth-Victorian RFA Steering Committee, 2000.                                                                                                           \\\\\n",
       "\t RP RFA Victoria - Gippsland                        & RP RFA Victoria - Gippsland. Biodiversity Assessment, Appendix E. Commonwealth-Victorian RFA Steering Committee, 1999.                                                                                                      \\\\\n",
       "\t RP RFA Victoria - North East                       & RP RFA Victoria - North East. Biodiversity Assessment, Appendix E. Commonwealth-Victorian RFA Steering Committee, 1998.                                                                                                     \\\\\n",
       "\t RP RFA Victoria - Central Highlands                & RP RFA Victoria - Central Highlands. Biodiversity Technical Report, Appendix E: Life History Attributes of Threatened Plant Taxa. Commonwealth-Victorian RFA Steering Committee, 1997.                                      \\\\\n",
       "\t RP RFA Victoria - East Gippsland                   & RP RFA Victoria - East Gippsland. Environment and Heritage Report, Appendix E: Rare or Threatened Plants.  Commonwealth-Victorian RFA Steering Committee, 1999.                                                             \\\\\n",
       "\t RP RFA Tasmania                                    & RP RFA Tasmania. Tasmanian-Commonwealth RFA Background Report Part C. Environment and Heritage Report, Volume IV, Appendix I: Life history and population summaries (Flora). Tasmanian Public Land Use Commission, Nov 1996.\\\\\n",
       "\t RP Threatened Eucalypts                            & RP Threatened Eucalypts. Draft Recovery Plan, Jan 2000                                                                                                                                                                      \\\\\n",
       "\t RP Boronia granitica                               & RP Boronia granitica. RP Draft for public comment, Feb 2002                                                                                                                                                                 \\\\\n",
       "\t RP Microtis angusii                                & RP Microtis angusii. Draft RP, August 1999                                                                                                                                                                                  \\\\\n",
       "\\end{tabular}\n"
      ],
      "text/markdown": [
       "\n",
       "A data.frame: 347 × 2\n",
       "\n",
       "| ref_code &lt;chr&gt; | ref_cite &lt;chr&gt; |\n",
       "|---|---|\n",
       "| austraits-6.0.0                                    | Falster, D., Gallagher, R., Wenk, E., &amp; Sauquet, H. (2024). AusTraits: a curated plant trait database for the Australian flora [Data set]. In Scientific Data (v6.0.0, Vol. 8, p. 254). Zenodo. https://doi.org/10.5281/zenodo.11188867                                                                                                                                                                                                                   |\n",
       "| Auld Keith Bradstock 2000                          | Auld, Tony D.; Keith, David A.; Bradstock, Ross A. (2000) {Patterns in longevity of soil seedbanks in fire-prone communities of south-eastern Australia} Australian Journal of Botany 48 10.1071/bt99046                                                                                                                                                                                                                                                  |\n",
       "| Baker 2019                                         | Baker, Andrew (2019) {Unpublished data: Post-fire fire-response surveys on the NSW north coast, Southern Cross University}                                                                                                                                                                                                                                                                                                                                |\n",
       "| Burrows Wardell-Johnson Ward 2008                  | Burrows, Neil D; Wardell-Johnson, Grant; Ward, Bruce (2008) {Post-fire juvenile period of plants in south-west Australia forests and implications for fire management} Journal of the Royal Society of Western Australia 91                                                                                                                                                                                                                               |\n",
       "| Burrows 2020                                       | Burrows, Neil (2020) {Data from 'Plant Ecological Attributes' theme, NatureMap, DBCA, WA}                                                                                                                                                                                                                                                                                                                                                                 |\n",
       "| Campbell Clarke 2006                               | Campbell, Monica L.; Clarke, Peter J. (2006) {Response of montane wet sclerophyll forest understorey species to fire- evidence from high and low intensity fires} Proceedings of the Linnean Society of New South Wales 127 unknown                                                                                                                                                                                                                       |\n",
       "| Cheal 2010                                         | Cheal, David (2010) {Growth stages and tolerable fire intervals for Victoria's native vegetation data sets}                                                                                                                                                                                                                                                                                                                                               |\n",
       "| Clarke Knox Campbell Copeland 2009                 | Clarke, Peter J.; Knox, Kirsten J. E.; Campbell, Monica L.; Copeland, Lachlan M. (2009) {Post-fire recovery of woody plants in the New England Tableland Bioregion} Cunninghamia 11 https://hdl.handle.net/1959.11/4907                                                                                                                                                                                                                                   |\n",
       "| Clarke Lawes Murphy Russell-Smith Nano Bradstoc... | Clarke, Peter J.; Lawes, Michael J.; Murphy, Brett P.; Russell-Smith, Jeremy; Nano, Catherine E.M.; Bradstock, Ross; Enright, Neal J.; Fontaine, Joseph B.; Gosper, Carl R.; Radford, Ian; Midgley, Jeremy J.; Gunton, Richard M. (2015) {A synthesis of postfire recovery traits of woody plants in Australian ecosystems} Science of The Total Environment 534 10.1016/j.scitotenv.2015.04.002                                                          |\n",
       "| Cowling Lamont Pierce 1987                         | Cowling, R. M.; Lamont, Byron B.; Pierce, S. M. (1987) {Seed bank dynamics of four co-occurring Banksia species} The Journal of Ecology 75 10.2307/2260419                                                                                                                                                                                                                                                                                                |\n",
       "| Crisp Cayzer Chandler Cook 2017                    | Crisp, Michael D.; Cayzer, Lindy; Chandler, Gregory T.; Cook, Lyn G. (2017) {A monograph of Daviesia (Mirbelieae, Faboideae, Fabaceae)} Phytotaxa 300 10.11646/phytotaxa.300.1.1                                                                                                                                                                                                                                                                          |\n",
       "| Crowley Gardener Marrinan 2007                     | Crowley, G.; Gardener, M.; Marrinan, M. (2007) {Tropical savannas fire response database}                                                                                                                                                                                                                                                                                                                                                                 |\n",
       "| Denton Veneklaas Freimoser Lambers 2007            | Denton, Matthew D.; Veneklaas, Erik J.; Freimoser, Florian M.; Lambers, Hans (2007) {Banksia species (Proteaceae) from severely phosphorus-impoverished soils exhibit extreme efficiency in the use and re-mobilization of phosphorus} Plant, Cell and Environment 30 10.1111/j.1365-3040.2007.01733.x                                                                                                                                                    |\n",
       "| Enright Fontaine Lamont Miller Westcott 2014       | Enright, Neal J.; Fontaine, Joseph B.; Lamont, Byron B.; Miller, Ben P.; Westcott, Vanessa C. (2014) {Resistance and resilience to changing climate and fire regime depend on plant functional traits} Journal of Ecology 102 10.1111/1365-2745.12306                                                                                                                                                                                                     |\n",
       "| Falster Westoby 2005                               | Falster, Daniel S.; Westoby, Mark (2005) {Tradeoffs between height growth rate, stem persistence and maximum height among plant species in a post-fire succession} Oikos 111 10.1111/j.0030-1299.2005.13383.x                                                                                                                                                                                                                                             |\n",
       "| French Prior Williamson Bowman 2016                | French, Ben J.; Prior, Lynda D.; Williamson, Grant J.; Bowman, David M. J. S. (2016) {Cause and effects of a megafire in sedge-heathland in the Tasmanian temperate wilderness} Australian Journal of Botany 64 10.1071/bt16087                                                                                                                                                                                                                           |\n",
       "| Gosper Yates Prober 2012                           | Gosper, Carl R.; Yates, Colin J.; Prober, Suzanne M. (2012) {Changes in plant species and functional composition with time since fire in two mediterranean climate plant communities} Journal of Vegetation Science 23 10.1111/j.1654-1103.2012.01434.x                                                                                                                                                                                                   |\n",
       "| Gosper Yates Cook Harvey Liedloff McCaw Thiele ... | Gosper, Carl R.; Yates, Colin J.; Cook, Garry D.; Harvey, Judith M.; Liedloff, Adam C.; McCaw, W. Lachlan; Thiele, Kevin R.; Prober, Suzanne M. (2018) {A conceptual model of vegetation dynamics for the unique obligate-seeder eucalypt woodlands of south-western Australia} Austral Ecology 43 10.1111/aec.12613                                                                                                                                      |\n",
       "| Gosper Miller Gallagher Kinloch {van Dongen} Ad... | Gosper, Carl R.; Miller, Ben P.; Gallagher, Rachael V.; Kinloch, Janine; {van Dongen}, Richard; Adams, Emma; Barrett, Sarah; Cochrane, Anne; Comer, Sarah; McCaw, Lachlan; Miller, Russell G.; Prober, Suzanne M.; Yates, Colin J. (2022) {Mapping risk to plant populations from short fire intervals via relationships between maturation period and environmental productivity} Plant Ecology 10.1007/s11258-022-01229-6                               |\n",
       "| Groom Lamont 1997                                  | Groom, Philip K.; Lamont, Byron B. (1997) {Fruit-seed relations in Hakea: serotinous species invest more dry matter in predispersal seed protection} Austral Ecology 22 10.1111/j.1442-9993.1997.tb00682.x                                                                                                                                                                                                                                                |\n",
       "| Groom Lamont 2010                                  | Groom, Philip K.; Lamont, Byron B. (2010) {Phosphorus accumulation in Proteaceae seeds: A synthesis} Plant and Soil 334 10.1007/s11104-009-0135-6                                                                                                                                                                                                                                                                                                         |\n",
       "| Harvey Hopkins Langley Gosper Williams Yates 2017  | Harvey, J. M.; Hopkins, A. J. M.; Langley, M. A.; Gosper, C. R.; Williams, M. R.; Yates, C. J. (2017) {Long-term studies of post-fire reproduction in an Australian shrubland and woodland} Australian Journal of Botany 65 10.1071/bt17011                                                                                                                                                                                                               |\n",
       "| He Lamont Downes 2011                              | He, Tianhua; Lamont, Byron B.; Downes, Katherine S. (2011) {Banksia born to burn} New Phytologist 191 10.1111/j.1469-8137.2011.03663.x                                                                                                                                                                                                                                                                                                                    |\n",
       "| Kirkpatrick 2020                                   | Kirkpatrick, James (2020) {Unpublished data: Fire response traits for woody Tasmanian endemic species, University of Tasmania}                                                                                                                                                                                                                                                                                                                            |\n",
       "| Knox Clarke 2011                                   | Knox, Kirsten J. E.; Clarke, Peter J. (2011) {Fire severity and nutrient availability do not constrain resprouting in forest shrubs} Plant Ecology 212 10.1007/s11258-011-9956-5                                                                                                                                                                                                                                                                          |\n",
       "| Kubiak 2009                                        | Kubiak, P. J. (2009) {Fire responses of bushland plants after the January 1994 wildfires in northern Sydney} Cunninghamia 11                                                                                                                                                                                                                                                                                                                              |\n",
       "| Meers 2007                                         | Meers, Trevor (2007) {Role of plant functional traits in determining the response of vegetation to land use change on the Delatite Peninsula, Victoria.}                                                                                                                                                                                                                                                                                                  |\n",
       "| Laliberte Wells DeClerck Metcalfe Catterall Que... | Laliberte, Etienne; Wells, Jessie A.; DeClerck, Fabrice; Metcalfe, Daniel J.; Catterall, Carla P.; Queiroz, Cibele; Aubin, Isabelle; Bonser, Stephen P.; Ding, Yi; Fraterrigo, Jennifer M.; McNamara, Sean; Morgan, John W.; Merlos, Dalia Sanchez; Vesk, Peter A.; Mayfield, Margaret M. (2010) {Land-use intensification reduces functional redundancy and response diversity in plant communities} Ecology Letters 13 10.1111/j.1461-0248.2009.01403.x |\n",
       "| Bishop 1996                                        | Bishop T. (1996) Field Guide to the Orchids of NSW and Victoria                                                                                                                                                                                                                                                                                                                                                                                           |\n",
       "| Moore Camac Morgan 2018                            | Moore, Nicholas A.; Camac, James S.; Morgan, John W. (2018) {Effects of drought and fire on resprouting capacity of 52 temperate Australian perennial native grasses} New Phytologist 221 10.1111/nph.15480                                                                                                                                                                                                                                               |\n",
       "| ⋮ | ⋮ |\n",
       "| RP Zieria prostrata                                | RP Zieria prostrata. Approved Recovery Plan; December 1998                                                                                                                                                                   |\n",
       "| RP Epacris hamiltonii                              | RP Epacris hamiltonii. Draft Recovery Plan for public comment; June 2000                                                                                                                                                     |\n",
       "| RP Grevillea obtusiflora subsp. obtusiflora and su | RP Grevillea obtusiflora subsp. obtusiflora and su. Draft Recovery Plan for public comment; June 2000                                                                                                                        |\n",
       "| RP Thesium australe                                | RP Thesium australe. RP (ANPWS) 1992                                                                                                                                                                                         |\n",
       "| RP Allocasuarina glareicola                        | RP Allocasuarina glareicola. Conservation Research Statement and Recovery Plan (ANCA); May 1996                                                                                                                              |\n",
       "| RP Acacia pubescens                                | RP Acacia pubescens. Draft Recovery Plan for public comment; April 2001                                                                                                                                                      |\n",
       "| RP Allocasuarina defungens                         | RP Allocasuarina defungens. Draft Recovery Plan; May 1997                                                                                                                                                                    |\n",
       "| RP Pterostylis gibbosa                             | RP Pterostylis gibbosa. Draft Recovery Plan for public comment; March 2000                                                                                                                                                   |\n",
       "| RP Callitris oblonga                               | RP Callitris oblonga. Species Management Report No.7; 1993                                                                                                                                                                   |\n",
       "| RP Acrophyllum australe                            | RP Acrophyllum australe. Recovery Plan (ANCA); March 1994                                                                                                                                                                    |\n",
       "| RP Asterolasia elegans                             | RP Asterolasia elegans. Recovery Plan (ANCA); March 1994                                                                                                                                                                     |\n",
       "| RP Apatophyllum constablei                         | RP Apatophyllum constablei. Conservation Research Statement and Recovery Plan (ANCA); 1994 (revised)                                                                                                                         |\n",
       "| RP Velleia perfoliata                              | RP Velleia perfoliata. Recovery Plan (ANCA); April 1994                                                                                                                                                                      |\n",
       "| RP Zieria involucrata                              | RP Zieria involucrata. Recovery Plan (ANCA); May 1994                                                                                                                                                                        |\n",
       "| RP Pimelea spicata                                 | RP Pimelea spicata. Conservation Research Statement and Recovery Plan (ANCA); 1993 (revised)                                                                                                                                 |\n",
       "| RP Kunzea rupestris                                | RP Kunzea rupestris. Conservation Research Statement and Recovery Plan (ANPWS)                                                                                                                                               |\n",
       "| RP Corchorus cunninghamia                          | RP Corchorus cunninghamia. Draft RP for public comment, April 1999                                                                                                                                                           |\n",
       "| RP Persoonia nutans                                | RP Persoonia nutans. Conservation Research Statement and Recovery Plan (ANCA); 1996                                                                                                                                          |\n",
       "| RP Darwinnia biflora                               | RP Darwinnia biflora. Draft RP for public authority endorsement, Sep 2000                                                                                                                                                    |\n",
       "| RP RFA NSW - Eden                                  | RP RFA NSW - Eden. Response to disturbance of forest species in CRA regions in NSW, Eden region. Environment Australia.                                                                                                      |\n",
       "| RP RFA NSW - Northern                              | RP RFA NSW - Northern. Threatened Plants Project, Northern Region. Peter Richards, Aug 1999.                                                                                                                                 |\n",
       "| RP RFA Victoria - West                             | RP RFA Victoria - West. Biodiversity Assessment, Appendix E. Commonwealth-Victorian RFA Steering Committee, 2000.                                                                                                            |\n",
       "| RP RFA Victoria - Gippsland                        | RP RFA Victoria - Gippsland. Biodiversity Assessment, Appendix E. Commonwealth-Victorian RFA Steering Committee, 1999.                                                                                                       |\n",
       "| RP RFA Victoria - North East                       | RP RFA Victoria - North East. Biodiversity Assessment, Appendix E. Commonwealth-Victorian RFA Steering Committee, 1998.                                                                                                      |\n",
       "| RP RFA Victoria - Central Highlands                | RP RFA Victoria - Central Highlands. Biodiversity Technical Report, Appendix E: Life History Attributes of Threatened Plant Taxa. Commonwealth-Victorian RFA Steering Committee, 1997.                                       |\n",
       "| RP RFA Victoria - East Gippsland                   | RP RFA Victoria - East Gippsland. Environment and Heritage Report, Appendix E: Rare or Threatened Plants.  Commonwealth-Victorian RFA Steering Committee, 1999.                                                              |\n",
       "| RP RFA Tasmania                                    | RP RFA Tasmania. Tasmanian-Commonwealth RFA Background Report Part C. Environment and Heritage Report, Volume IV, Appendix I: Life history and population summaries (Flora). Tasmanian Public Land Use Commission, Nov 1996. |\n",
       "| RP Threatened Eucalypts                            | RP Threatened Eucalypts. Draft Recovery Plan, Jan 2000                                                                                                                                                                       |\n",
       "| RP Boronia granitica                               | RP Boronia granitica. RP Draft for public comment, Feb 2002                                                                                                                                                                  |\n",
       "| RP Microtis angusii                                | RP Microtis angusii. Draft RP, August 1999                                                                                                                                                                                   |\n",
       "\n"
      ],
      "text/plain": [
       "    ref_code                                          \n",
       "1   austraits-6.0.0                                   \n",
       "2   Auld Keith Bradstock 2000                         \n",
       "3   Baker 2019                                        \n",
       "4   Burrows Wardell-Johnson Ward 2008                 \n",
       "5   Burrows 2020                                      \n",
       "6   Campbell Clarke 2006                              \n",
       "7   Cheal 2010                                        \n",
       "8   Clarke Knox Campbell Copeland 2009                \n",
       "9   Clarke Lawes Murphy Russell-Smith Nano Bradstoc...\n",
       "10  Cowling Lamont Pierce 1987                        \n",
       "11  Crisp Cayzer Chandler Cook 2017                   \n",
       "12  Crowley Gardener Marrinan 2007                    \n",
       "13  Denton Veneklaas Freimoser Lambers 2007           \n",
       "14  Enright Fontaine Lamont Miller Westcott 2014      \n",
       "15  Falster Westoby 2005                              \n",
       "16  French Prior Williamson Bowman 2016               \n",
       "17  Gosper Yates Prober 2012                          \n",
       "18  Gosper Yates Cook Harvey Liedloff McCaw Thiele ...\n",
       "19  Gosper Miller Gallagher Kinloch {van Dongen} Ad...\n",
       "20  Groom Lamont 1997                                 \n",
       "21  Groom Lamont 2010                                 \n",
       "22  Harvey Hopkins Langley Gosper Williams Yates 2017 \n",
       "23  He Lamont Downes 2011                             \n",
       "24  Kirkpatrick 2020                                  \n",
       "25  Knox Clarke 2011                                  \n",
       "26  Kubiak 2009                                       \n",
       "27  Meers 2007                                        \n",
       "28  Laliberte Wells DeClerck Metcalfe Catterall Que...\n",
       "29  Bishop 1996                                       \n",
       "30  Moore Camac Morgan 2018                           \n",
       "⋮   ⋮                                                 \n",
       "318 RP Zieria prostrata                               \n",
       "319 RP Epacris hamiltonii                             \n",
       "320 RP Grevillea obtusiflora subsp. obtusiflora and su\n",
       "321 RP Thesium australe                               \n",
       "322 RP Allocasuarina glareicola                       \n",
       "323 RP Acacia pubescens                               \n",
       "324 RP Allocasuarina defungens                        \n",
       "325 RP Pterostylis gibbosa                            \n",
       "326 RP Callitris oblonga                              \n",
       "327 RP Acrophyllum australe                           \n",
       "328 RP Asterolasia elegans                            \n",
       "329 RP Apatophyllum constablei                        \n",
       "330 RP Velleia perfoliata                             \n",
       "331 RP Zieria involucrata                             \n",
       "332 RP Pimelea spicata                                \n",
       "333 RP Kunzea rupestris                               \n",
       "334 RP Corchorus cunninghamia                         \n",
       "335 RP Persoonia nutans                               \n",
       "336 RP Darwinnia biflora                              \n",
       "337 RP RFA NSW - Eden                                 \n",
       "338 RP RFA NSW - Northern                             \n",
       "339 RP RFA Victoria - West                            \n",
       "340 RP RFA Victoria - Gippsland                       \n",
       "341 RP RFA Victoria - North East                      \n",
       "342 RP RFA Victoria - Central Highlands               \n",
       "343 RP RFA Victoria - East Gippsland                  \n",
       "344 RP RFA Tasmania                                   \n",
       "345 RP Threatened Eucalypts                           \n",
       "346 RP Boronia granitica                              \n",
       "347 RP Microtis angusii                               \n",
       "    ref_cite                                                                                                                                                                                                                                                                                                                                                                                                                                                 \n",
       "1   Falster, D., Gallagher, R., Wenk, E., & Sauquet, H. (2024). AusTraits: a curated plant trait database for the Australian flora [Data set]. In Scientific Data (v6.0.0, Vol. 8, p. 254). Zenodo. https://doi.org/10.5281/zenodo.11188867                                                                                                                                                                                                                  \n",
       "2   Auld, Tony D.; Keith, David A.; Bradstock, Ross A. (2000) {Patterns in longevity of soil seedbanks in fire-prone communities of south-eastern Australia} Australian Journal of Botany 48 10.1071/bt99046                                                                                                                                                                                                                                                 \n",
       "3   Baker, Andrew (2019) {Unpublished data: Post-fire fire-response surveys on the NSW north coast, Southern Cross University}                                                                                                                                                                                                                                                                                                                               \n",
       "4   Burrows, Neil D; Wardell-Johnson, Grant; Ward, Bruce (2008) {Post-fire juvenile period of plants in south-west Australia forests and implications for fire management} Journal of the Royal Society of Western Australia 91                                                                                                                                                                                                                              \n",
       "5   Burrows, Neil (2020) {Data from 'Plant Ecological Attributes' theme, NatureMap, DBCA, WA}                                                                                                                                                                                                                                                                                                                                                                \n",
       "6   Campbell, Monica L.; Clarke, Peter J. (2006) {Response of montane wet sclerophyll forest understorey species to fire- evidence from high and low intensity fires} Proceedings of the Linnean Society of New South Wales 127 unknown                                                                                                                                                                                                                      \n",
       "7   Cheal, David (2010) {Growth stages and tolerable fire intervals for Victoria's native vegetation data sets}                                                                                                                                                                                                                                                                                                                                              \n",
       "8   Clarke, Peter J.; Knox, Kirsten J. E.; Campbell, Monica L.; Copeland, Lachlan M. (2009) {Post-fire recovery of woody plants in the New England Tableland Bioregion} Cunninghamia 11 https://hdl.handle.net/1959.11/4907                                                                                                                                                                                                                                  \n",
       "9   Clarke, Peter J.; Lawes, Michael J.; Murphy, Brett P.; Russell-Smith, Jeremy; Nano, Catherine E.M.; Bradstock, Ross; Enright, Neal J.; Fontaine, Joseph B.; Gosper, Carl R.; Radford, Ian; Midgley, Jeremy J.; Gunton, Richard M. (2015) {A synthesis of postfire recovery traits of woody plants in Australian ecosystems} Science of The Total Environment 534 10.1016/j.scitotenv.2015.04.002                                                         \n",
       "10  Cowling, R. M.; Lamont, Byron B.; Pierce, S. M. (1987) {Seed bank dynamics of four co-occurring Banksia species} The Journal of Ecology 75 10.2307/2260419                                                                                                                                                                                                                                                                                               \n",
       "11  Crisp, Michael D.; Cayzer, Lindy; Chandler, Gregory T.; Cook, Lyn G. (2017) {A monograph of Daviesia (Mirbelieae, Faboideae, Fabaceae)} Phytotaxa 300 10.11646/phytotaxa.300.1.1                                                                                                                                                                                                                                                                         \n",
       "12  Crowley, G.; Gardener, M.; Marrinan, M. (2007) {Tropical savannas fire response database}                                                                                                                                                                                                                                                                                                                                                                \n",
       "13  Denton, Matthew D.; Veneklaas, Erik J.; Freimoser, Florian M.; Lambers, Hans (2007) {Banksia species (Proteaceae) from severely phosphorus-impoverished soils exhibit extreme efficiency in the use and re-mobilization of phosphorus} Plant, Cell and Environment 30 10.1111/j.1365-3040.2007.01733.x                                                                                                                                                   \n",
       "14  Enright, Neal J.; Fontaine, Joseph B.; Lamont, Byron B.; Miller, Ben P.; Westcott, Vanessa C. (2014) {Resistance and resilience to changing climate and fire regime depend on plant functional traits} Journal of Ecology 102 10.1111/1365-2745.12306                                                                                                                                                                                                    \n",
       "15  Falster, Daniel S.; Westoby, Mark (2005) {Tradeoffs between height growth rate, stem persistence and maximum height among plant species in a post-fire succession} Oikos 111 10.1111/j.0030-1299.2005.13383.x                                                                                                                                                                                                                                            \n",
       "16  French, Ben J.; Prior, Lynda D.; Williamson, Grant J.; Bowman, David M. J. S. (2016) {Cause and effects of a megafire in sedge-heathland in the Tasmanian temperate wilderness} Australian Journal of Botany 64 10.1071/bt16087                                                                                                                                                                                                                          \n",
       "17  Gosper, Carl R.; Yates, Colin J.; Prober, Suzanne M. (2012) {Changes in plant species and functional composition with time since fire in two mediterranean climate plant communities} Journal of Vegetation Science 23 10.1111/j.1654-1103.2012.01434.x                                                                                                                                                                                                  \n",
       "18  Gosper, Carl R.; Yates, Colin J.; Cook, Garry D.; Harvey, Judith M.; Liedloff, Adam C.; McCaw, W. Lachlan; Thiele, Kevin R.; Prober, Suzanne M. (2018) {A conceptual model of vegetation dynamics for the unique obligate-seeder eucalypt woodlands of south-western Australia} Austral Ecology 43 10.1111/aec.12613                                                                                                                                     \n",
       "19  Gosper, Carl R.; Miller, Ben P.; Gallagher, Rachael V.; Kinloch, Janine; {van Dongen}, Richard; Adams, Emma; Barrett, Sarah; Cochrane, Anne; Comer, Sarah; McCaw, Lachlan; Miller, Russell G.; Prober, Suzanne M.; Yates, Colin J. (2022) {Mapping risk to plant populations from short fire intervals via relationships between maturation period and environmental productivity} Plant Ecology 10.1007/s11258-022-01229-6                              \n",
       "20  Groom, Philip K.; Lamont, Byron B. (1997) {Fruit-seed relations in Hakea: serotinous species invest more dry matter in predispersal seed protection} Austral Ecology 22 10.1111/j.1442-9993.1997.tb00682.x                                                                                                                                                                                                                                               \n",
       "21  Groom, Philip K.; Lamont, Byron B. (2010) {Phosphorus accumulation in Proteaceae seeds: A synthesis} Plant and Soil 334 10.1007/s11104-009-0135-6                                                                                                                                                                                                                                                                                                        \n",
       "22  Harvey, J. M.; Hopkins, A. J. M.; Langley, M. A.; Gosper, C. R.; Williams, M. R.; Yates, C. J. (2017) {Long-term studies of post-fire reproduction in an Australian shrubland and woodland} Australian Journal of Botany 65 10.1071/bt17011                                                                                                                                                                                                              \n",
       "23  He, Tianhua; Lamont, Byron B.; Downes, Katherine S. (2011) {Banksia born to burn} New Phytologist 191 10.1111/j.1469-8137.2011.03663.x                                                                                                                                                                                                                                                                                                                   \n",
       "24  Kirkpatrick, James (2020) {Unpublished data: Fire response traits for woody Tasmanian endemic species, University of Tasmania}                                                                                                                                                                                                                                                                                                                           \n",
       "25  Knox, Kirsten J. E.; Clarke, Peter J. (2011) {Fire severity and nutrient availability do not constrain resprouting in forest shrubs} Plant Ecology 212 10.1007/s11258-011-9956-5                                                                                                                                                                                                                                                                         \n",
       "26  Kubiak, P. J. (2009) {Fire responses of bushland plants after the January 1994 wildfires in northern Sydney} Cunninghamia 11                                                                                                                                                                                                                                                                                                                             \n",
       "27  Meers, Trevor (2007) {Role of plant functional traits in determining the response of vegetation to land use change on the Delatite Peninsula, Victoria.}                                                                                                                                                                                                                                                                                                 \n",
       "28  Laliberte, Etienne; Wells, Jessie A.; DeClerck, Fabrice; Metcalfe, Daniel J.; Catterall, Carla P.; Queiroz, Cibele; Aubin, Isabelle; Bonser, Stephen P.; Ding, Yi; Fraterrigo, Jennifer M.; McNamara, Sean; Morgan, John W.; Merlos, Dalia Sanchez; Vesk, Peter A.; Mayfield, Margaret M. (2010) {Land-use intensification reduces functional redundancy and response diversity in plant communities} Ecology Letters 13 10.1111/j.1461-0248.2009.01403.x\n",
       "29  Bishop T. (1996) Field Guide to the Orchids of NSW and Victoria                                                                                                                                                                                                                                                                                                                                                                                          \n",
       "30  Moore, Nicholas A.; Camac, James S.; Morgan, John W. (2018) {Effects of drought and fire on resprouting capacity of 52 temperate Australian perennial native grasses} New Phytologist 221 10.1111/nph.15480                                                                                                                                                                                                                                              \n",
       "⋮   ⋮                                                                                                                                                                                                                                                                                                                                                                                                                                                        \n",
       "318 RP Zieria prostrata. Approved Recovery Plan; December 1998                                                                                                                                                                                                                                                                                                                                                                                               \n",
       "319 RP Epacris hamiltonii. Draft Recovery Plan for public comment; June 2000                                                                                                                                                                                                                                                                                                                                                                                 \n",
       "320 RP Grevillea obtusiflora subsp. obtusiflora and su. Draft Recovery Plan for public comment; June 2000                                                                                                                                                                                                                                                                                                                                                    \n",
       "321 RP Thesium australe. RP (ANPWS) 1992                                                                                                                                                                                                                                                                                                                                                                                                                     \n",
       "322 RP Allocasuarina glareicola. Conservation Research Statement and Recovery Plan (ANCA); May 1996                                                                                                                                                                                                                                                                                                                                                          \n",
       "323 RP Acacia pubescens. Draft Recovery Plan for public comment; April 2001                                                                                                                                                                                                                                                                                                                                                                                  \n",
       "324 RP Allocasuarina defungens. Draft Recovery Plan; May 1997                                                                                                                                                                                                                                                                                                                                                                                                \n",
       "325 RP Pterostylis gibbosa. Draft Recovery Plan for public comment; March 2000                                                                                                                                                                                                                                                                                                                                                                               \n",
       "326 RP Callitris oblonga. Species Management Report No.7; 1993                                                                                                                                                                                                                                                                                                                                                                                               \n",
       "327 RP Acrophyllum australe. Recovery Plan (ANCA); March 1994                                                                                                                                                                                                                                                                                                                                                                                                \n",
       "328 RP Asterolasia elegans. Recovery Plan (ANCA); March 1994                                                                                                                                                                                                                                                                                                                                                                                                 \n",
       "329 RP Apatophyllum constablei. Conservation Research Statement and Recovery Plan (ANCA); 1994 (revised)                                                                                                                                                                                                                                                                                                                                                     \n",
       "330 RP Velleia perfoliata. Recovery Plan (ANCA); April 1994                                                                                                                                                                                                                                                                                                                                                                                                  \n",
       "331 RP Zieria involucrata. Recovery Plan (ANCA); May 1994                                                                                                                                                                                                                                                                                                                                                                                                    \n",
       "332 RP Pimelea spicata. Conservation Research Statement and Recovery Plan (ANCA); 1993 (revised)                                                                                                                                                                                                                                                                                                                                                             \n",
       "333 RP Kunzea rupestris. Conservation Research Statement and Recovery Plan (ANPWS)                                                                                                                                                                                                                                                                                                                                                                           \n",
       "334 RP Corchorus cunninghamia. Draft RP for public comment, April 1999                                                                                                                                                                                                                                                                                                                                                                                       \n",
       "335 RP Persoonia nutans. Conservation Research Statement and Recovery Plan (ANCA); 1996                                                                                                                                                                                                                                                                                                                                                                      \n",
       "336 RP Darwinnia biflora. Draft RP for public authority endorsement, Sep 2000                                                                                                                                                                                                                                                                                                                                                                                \n",
       "337 RP RFA NSW - Eden. Response to disturbance of forest species in CRA regions in NSW, Eden region. Environment Australia.                                                                                                                                                                                                                                                                                                                                  \n",
       "338 RP RFA NSW - Northern. Threatened Plants Project, Northern Region. Peter Richards, Aug 1999.                                                                                                                                                                                                                                                                                                                                                             \n",
       "339 RP RFA Victoria - West. Biodiversity Assessment, Appendix E. Commonwealth-Victorian RFA Steering Committee, 2000.                                                                                                                                                                                                                                                                                                                                        \n",
       "340 RP RFA Victoria - Gippsland. Biodiversity Assessment, Appendix E. Commonwealth-Victorian RFA Steering Committee, 1999.                                                                                                                                                                                                                                                                                                                                   \n",
       "341 RP RFA Victoria - North East. Biodiversity Assessment, Appendix E. Commonwealth-Victorian RFA Steering Committee, 1998.                                                                                                                                                                                                                                                                                                                                  \n",
       "342 RP RFA Victoria - Central Highlands. Biodiversity Technical Report, Appendix E: Life History Attributes of Threatened Plant Taxa. Commonwealth-Victorian RFA Steering Committee, 1997.                                                                                                                                                                                                                                                                   \n",
       "343 RP RFA Victoria - East Gippsland. Environment and Heritage Report, Appendix E: Rare or Threatened Plants.  Commonwealth-Victorian RFA Steering Committee, 1999.                                                                                                                                                                                                                                                                                          \n",
       "344 RP RFA Tasmania. Tasmanian-Commonwealth RFA Background Report Part C. Environment and Heritage Report, Volume IV, Appendix I: Life history and population summaries (Flora). Tasmanian Public Land Use Commission, Nov 1996.                                                                                                                                                                                                                             \n",
       "345 RP Threatened Eucalypts. Draft Recovery Plan, Jan 2000                                                                                                                                                                                                                                                                                                                                                                                                   \n",
       "346 RP Boronia granitica. RP Draft for public comment, Feb 2002                                                                                                                                                                                                                                                                                                                                                                                              \n",
       "347 RP Microtis angusii. Draft RP, August 1999                                                                                                                                                                                                                                                                                                                                                                                                               "
      ]
     },
     "metadata": {},
     "output_type": "display_data"
    }
   ],
   "source": [
    "trait_summary"
   ]
  },
  {
   "cell_type": "code",
   "execution_count": null,
   "id": "e71b8e1e-5ed5-450f-ac08-2e8fcc41c8b2",
   "metadata": {},
   "outputs": [],
   "source": []
  }
 ],
 "metadata": {
  "kernelspec": {
   "display_name": "R",
   "language": "R",
   "name": "ir"
  },
  "language_info": {
   "codemirror_mode": "r",
   "file_extension": ".r",
   "mimetype": "text/x-r-source",
   "name": "R",
   "pygments_lexer": "r",
   "version": "4.3.1"
  }
 },
 "nbformat": 4,
 "nbformat_minor": 5
}
