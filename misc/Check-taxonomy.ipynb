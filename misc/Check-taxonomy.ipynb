{
 "cells": [
  {
   "cell_type": "markdown",
   "id": "f0c4cc86-2348-478b-9d79-795941d07ba8",
   "metadata": {},
   "source": [
    "# Fireveg DB - plot of fire history per sampling location\n",
    "\n",
    "Author: [José R. Ferrer-Paris](https://github.com/jrfep) and [Ada Sánchez-Mercado](https://github.com/adasanchez)\n",
    "\n",
    "Date: July 2024\n",
    "\n",
    "This Jupyter Notebook includes R code to check taxonomic alignment for species names used in the Fireveg Database. \n",
    "\n",
    "The input is loaded from a public data record of the database.\n"
   ]
  },
  {
   "cell_type": "markdown",
   "id": "89ac1f61-f605-46c2-bfd9-60f398590a56",
   "metadata": {},
   "source": [
    "The animal and plant lists in BioNet Atlas are maintained by the BioNet Data Team.\n",
    "\n",
    "For taxonomic decisions on plants, BioNet uses the following sources in order of precedence (eg if there is inconsistency between the NSW Biodiversity Conservation Act 2016 and the information in PlantNet then BioNet names will be consistent with the former):\n",
    " - NSW Biodiversity Conservation Act 2016 https://legislation.nsw.gov.au/view/html/inforce/current/act-2016-063\n",
    " - PlantNet https://plantnet.rbgsyd.nsw.gov.au/search/simple.htm\n",
    " - APNI https://www.anbg.gov.au/apni/\n",
    " - IPNI https://www.ipni.org/\n",
    "\n",
    "[BIONET species names web standard](https://www.environment.nsw.gov.au/-/media/OEH/Corporate-Site/Documents/BioNet/bionet-species-names-web-service-data-standard-v-1-2-220050.pdf)"
   ]
  },
  {
   "cell_type": "markdown",
   "id": "8af59e01-4053-4523-a422-b8b6579ba431",
   "metadata": {},
   "source": [
    "## Set-up\n",
    "### Load libraries\n"
   ]
  },
  {
   "cell_type": "code",
   "execution_count": 1,
   "id": "ed6e604c-a11d-45d3-b97f-9a18cd2a65ec",
   "metadata": {},
   "outputs": [
    {
     "name": "stderr",
     "output_type": "stream",
     "text": [
      "\n",
      "Attaching package: ‘dplyr’\n",
      "\n",
      "\n",
      "The following objects are masked from ‘package:stats’:\n",
      "\n",
      "    filter, lag\n",
      "\n",
      "\n",
      "The following objects are masked from ‘package:base’:\n",
      "\n",
      "    intersect, setdiff, setequal, union\n",
      "\n",
      "\n",
      "Loading required package: tidyr\n",
      "\n"
     ]
    }
   ],
   "source": [
    "library(ggplot2)\n",
    "##library(forcats)\n",
    "library(dplyr)\n",
    "#library(data.table)\n",
    "require(tidyr)"
   ]
  },
  {
   "cell_type": "code",
   "execution_count": null,
   "id": "bb21baef-ec52-4939-ab54-063cd7e4944d",
   "metadata": {},
   "outputs": [],
   "source": []
  },
  {
   "cell_type": "markdown",
   "id": "c1fd46ed-0f88-4742-af46-17a78b6f6830",
   "metadata": {},
   "source": [
    "### Working directory"
   ]
  },
  {
   "cell_type": "code",
   "execution_count": 2,
   "id": "66bb9180-d534-479d-9cf1-989f3e8c7957",
   "metadata": {},
   "outputs": [
    {
     "name": "stderr",
     "output_type": "stream",
     "text": [
      "here() starts at /Users/z3529065/proyectos/fireveg/fireveg-analysis\n",
      "\n"
     ]
    }
   ],
   "source": [
    "here::i_am(\"taxonomic-coverage/Check-taxonomy.ipynb\")"
   ]
  },
  {
   "cell_type": "markdown",
   "id": "427387da-429b-4a0f-954b-ef452afc21b5",
   "metadata": {},
   "source": [
    "### Load data\n",
    "Check if a copy of the data is available in the local data folder, otherwise download from OSF cloud drive. "
   ]
  },
  {
   "cell_type": "code",
   "execution_count": 3,
   "id": "fbd90213-80af-4e7a-bc75-fad2ebd3c4a2",
   "metadata": {},
   "outputs": [
    {
     "name": "stdout",
     "output_type": "stream",
     "text": [
      "RDS file found at:\n",
      "/Users/z3529065/proyectos/fireveg/fireveg-analysis/data/Summary-traits-species.rds\n",
      "No need to download!\n",
      "\n"
     ]
    }
   ],
   "source": [
    "data_dir <- here::here(\"data\")\n",
    "if (!dir.exists(data_dir))\n",
    "    dir.create(data_dir)\n",
    "\n",
    "for (RDSfile in c(\"Summary-traits-species.rds\")) {\n",
    "    RDSpath <- here::here(data_dir, RDSfile)\n",
    "    if (file.exists(RDSpath)) {\n",
    "        cat(sprintf(\"RDS file found at:\\n%s\\nNo need to download!\\n\\n\", RDSpath))\n",
    "    } else {\n",
    "        require(osfr)\n",
    "        osf_project <- osf_retrieve_node(\"https://osf.io/h96q2\")\n",
    "        file_list <- osf_ls_files(osf_project, pattern=RDSfile)\n",
    "        osf_download(file_list,\n",
    "                 data_dir,\n",
    "                 conflicts = \"overwrite\")\n",
    "    }\n",
    "}"
   ]
  },
  {
   "cell_type": "code",
   "execution_count": 4,
   "id": "c926742c-8763-495f-93f4-f6ae04691e7a",
   "metadata": {},
   "outputs": [],
   "source": [
    "#quadrats_table <- readRDS(here::here(data_dir,\"Quadrat-sample-data.rds\"))\n",
    "all_traits <- readRDS(here::here(data_dir,\"Summary-traits-species.rds\"))\n"
   ]
  },
  {
   "cell_type": "code",
   "execution_count": 5,
   "id": "0f95fe55-e3f6-4fcc-8c6c-dfc24bc3b2d8",
   "metadata": {},
   "outputs": [
    {
     "name": "stdout",
     "output_type": "stream",
     "text": [
      "Rows: 15,732\n",
      "Columns: 24\n",
      "$ family          \u001b[3m\u001b[90m<chr>\u001b[39m\u001b[23m \"Brassicaceae\", \"Myrtaceae\", \"Myrtaceae\", \"Apiaceae\", …\n",
      "$ genus           \u001b[3m\u001b[90m<chr>\u001b[39m\u001b[23m \"Lepidium\", \"Eucalyptus\", \"Melaleuca\", \"Actinotus\", \"A…\n",
      "$ spp             \u001b[3m\u001b[90m<dbl>\u001b[39m\u001b[23m 2358, 2359, 2360, 2361, 2362, 2363, 2364, 2365, 2366, …\n",
      "$ species         \u001b[3m\u001b[90m<chr>\u001b[39m\u001b[23m \"Lepidium oxytrichum\", \"Eucalyptus williamsiana\", \"Mel…\n",
      "$ current_spp     \u001b[3m\u001b[90m<dbl>\u001b[39m\u001b[23m 2358, 2359, 2360, 2361, 2362, 2363, 22952, 2365, 2366,…\n",
      "$ current_species \u001b[3m\u001b[90m<chr>\u001b[39m\u001b[23m \"Lepidium oxytrichum\", \"Eucalyptus williamsiana\", \"Mel…\n",
      "$ taxonrank       \u001b[3m\u001b[90m<chr>\u001b[39m\u001b[23m \"Species\", \"Species\", \"Species\", \"Species\", \"Species\",…\n",
      "$ establishment   \u001b[3m\u001b[90m<chr>\u001b[39m\u001b[23m \"Alive in NSW, Native\", \"Alive in NSW, Native\", \"Alive…\n",
      "$ current         \u001b[3m\u001b[90m<chr>\u001b[39m\u001b[23m \"true\", \"true\", \"true\", \"true\", \"true\", \"true\", \"false…\n",
      "$ nquadrat        \u001b[3m\u001b[90m<dbl>\u001b[39m\u001b[23m 0, 0, 0, 0, 0, 2, 1, 0, 0, 0, 15, 0, 0, 0, 0, 0, 0, 8,…\n",
      "$ germ8           \u001b[3m\u001b[90m<dbl>\u001b[39m\u001b[23m 0, 0, 0, 0, 0, 0, 0, 0, 0, 0, 0, 0, 0, 0, 0, 0, 0, 1, …\n",
      "$ rect2           \u001b[3m\u001b[90m<dbl>\u001b[39m\u001b[23m 0, 1, 0, 2, 0, 0, 0, 0, 0, 0, 1, 0, 0, 0, 0, 0, 0, 0, …\n",
      "$ germ1           \u001b[3m\u001b[90m<dbl>\u001b[39m\u001b[23m 0, 1, 0, 1, 0, 0, 0, 0, 0, 1, 0, 0, 1, 0, 0, 0, 0, 1, …\n",
      "$ grow1           \u001b[3m\u001b[90m<dbl>\u001b[39m\u001b[23m 0, 0, 0, 0, 0, 0, 0, 0, 0, 0, 0, 0, 1, 0, 0, 0, 0, 0, …\n",
      "$ repr4           \u001b[3m\u001b[90m<dbl>\u001b[39m\u001b[23m 0, 0, 0, 1, 0, 0, 0, 0, 0, 0, 0, 0, 0, 0, 0, 0, 0, 0, …\n",
      "$ repr2           \u001b[3m\u001b[90m<dbl>\u001b[39m\u001b[23m 0, 0, 0, 0, 0, 0, 0, 0, 0, 0, 0, 0, 0, 0, 0, 0, 0, 0, …\n",
      "$ surv5           \u001b[3m\u001b[90m<dbl>\u001b[39m\u001b[23m 0, 0, 0, 2, 0, 0, 0, 0, 0, 0, 1, 0, 1, 0, 0, 0, 0, 1, …\n",
      "$ surv6           \u001b[3m\u001b[90m<dbl>\u001b[39m\u001b[23m 0, 0, 0, 0, 0, 0, 0, 0, 0, 0, 0, 0, 0, 0, 0, 0, 0, 0, …\n",
      "$ surv7           \u001b[3m\u001b[90m<dbl>\u001b[39m\u001b[23m 0, 0, 0, 1, 0, 0, 0, 0, 0, 0, 0, 0, 0, 0, 0, 0, 0, 0, …\n",
      "$ disp1           \u001b[3m\u001b[90m<dbl>\u001b[39m\u001b[23m 3, 0, 0, 3, 1, 1, 0, 1, 0, 1, 7, 0, 4, 2, 0, 12, 0, 4,…\n",
      "$ repr3a          \u001b[3m\u001b[90m<dbl>\u001b[39m\u001b[23m 0, 0, 0, 0, 0, 0, 1, 0, 0, 0, 0, 0, 0, 0, 0, 0, 0, 1, …\n",
      "$ repr3           \u001b[3m\u001b[90m<dbl>\u001b[39m\u001b[23m 0, 0, 0, 3, 0, 0, 0, 0, 0, 0, 1, 0, 0, 0, 0, 0, 0, 0, …\n",
      "$ surv4           \u001b[3m\u001b[90m<dbl>\u001b[39m\u001b[23m 0, 0, 0, 0, 0, 0, 1, 0, 0, 0, 1, 0, 2, 0, 0, 0, 0, 1, …\n",
      "$ surv1           \u001b[3m\u001b[90m<dbl>\u001b[39m\u001b[23m 1, 6, 3, 14, 1, 1, 3, 1, 0, 7, 10, 0, 9, 0, 0, 11, 0, …\n"
     ]
    }
   ],
   "source": [
    "glimpse(all_traits)"
   ]
  },
  {
   "cell_type": "markdown",
   "id": "b9fe39d0-8eb1-434d-b1a8-2b2105764ced",
   "metadata": {},
   "source": [
    "## Check taxonomic alignment with APCalign\n",
    "\n",
    "From Will Cornwell:\n",
    "\n",
    "> APC will apparently in the medium-term future going to a formal version control, but in the meantime we've been working with Anne Fuchs and Anna Munro to get a dynamic updating system here:  https://www.publish.csiro.au/BT/pdf/BT24014.\n",
    "> \n",
    ">  Somewhere in the flow from RBG -> BioNET -> AVH -> ALA, there is a taxonomy switch. AVH (Australian Virtual Herbarium) seems to be APC, so I guess it's either it's on export from BioNET or input into AVH?\n",
    " \n",
    "> I checked Palmeria racemosa which is for some reason not recognized by NSW, and it's not in the database, so it does seem like PlantNET taxonomy. So maybe check what's happening to names not in PlantNET?\n",
    "\n",
    "Following recommendations from:\n",
    "https://traitecoevo.github.io/APCalign/articles/APCalign.html"
   ]
  },
  {
   "cell_type": "raw",
   "id": "03132561-2c0c-47f3-937b-fd98d4846c48",
   "metadata": {},
   "source": [
    "##install.packages(\"remotes\")\n",
    "remotes::install_github(\"traitecoevo/APCalign\")\n"
   ]
  },
  {
   "cell_type": "code",
   "execution_count": 6,
   "id": "bfbac7a3-a1f9-46c5-8965-4c2a822ae04d",
   "metadata": {},
   "outputs": [],
   "source": [
    "library(APCalign)"
   ]
  },
  {
   "cell_type": "markdown",
   "id": "5934485c-07c6-496c-aa74-de72caa2cfb7",
   "metadata": {},
   "source": [
    "Download the stable version of the taxonomic resources"
   ]
  },
  {
   "cell_type": "code",
   "execution_count": 7,
   "id": "ad073f90-c604-4b49-895a-5a1679bbd4ff",
   "metadata": {},
   "outputs": [
    {
     "name": "stdout",
     "output_type": "stream",
     "text": [
      "\r"
     ]
    },
    {
     "name": "stderr",
     "output_type": "stream",
     "text": [
      "Loading resources into memory...\n",
      "\n"
     ]
    },
    {
     "name": "stdout",
     "output_type": "stream",
     "text": [
      "================================================================================\n"
     ]
    },
    {
     "name": "stderr",
     "output_type": "stream",
     "text": [
      "...done\n",
      "\n"
     ]
    }
   ],
   "source": [
    "stable_resources <- load_taxonomic_resources(stable_or_current_data = \"stable\")\n"
   ]
  },
  {
   "cell_type": "code",
   "execution_count": 22,
   "id": "1677223c-dfa9-4d1d-8173-63879968f47e",
   "metadata": {},
   "outputs": [
    {
     "name": "stderr",
     "output_type": "stream",
     "text": [
      "Checking alignments of 15648 taxa\n",
      "\n",
      "\n",
      "  -> of these \u001b[34m9044\u001b[39m names have a perfect match to a scientific name in the APC. \n",
      "      Alignments being sought for remaining names.\n",
      "\n"
     ]
    }
   ],
   "source": [
    "fireveg_species_names <- all_traits |> \n",
    "  distinct(species) |>\n",
    "  pull(species) |>\n",
    "  create_taxonomic_update_lookup(resources = stable_resources)"
   ]
  },
  {
   "cell_type": "code",
   "execution_count": 23,
   "id": "14985efd-12f0-4697-ad41-8599badaa3e0",
   "metadata": {},
   "outputs": [
    {
     "name": "stdout",
     "output_type": "stream",
     "text": [
      "\u001b[90m# A tibble: 15,648 × 12\u001b[39m\n",
      "  original_name       aligned_name accepted_name suggested_name genus taxon_rank\n",
      "  \u001b[3m\u001b[90m<chr>\u001b[39m\u001b[23m               \u001b[3m\u001b[90m<chr>\u001b[39m\u001b[23m        \u001b[3m\u001b[90m<chr>\u001b[39m\u001b[23m         \u001b[3m\u001b[90m<chr>\u001b[39m\u001b[23m          \u001b[3m\u001b[90m<chr>\u001b[39m\u001b[23m \u001b[3m\u001b[90m<chr>\u001b[39m\u001b[23m     \n",
      "\u001b[90m1\u001b[39m Lepidium oxytrichum Lepidium ox… Lepidium oxy… Lepidium oxyt… Lepi… species   \n",
      "\u001b[90m2\u001b[39m Eucalyptus william… Eucalyptus … Eucalyptus w… Eucalyptus wi… Euca… species   \n",
      "\u001b[90m3\u001b[39m Melaleuca glomerata Melaleuca g… Melaleuca gl… Melaleuca glo… Mela… species   \n",
      "\u001b[90m4\u001b[39m Actinotus helianthi Actinotus h… Actinotus he… Actinotus hel… Acti… species   \n",
      "\u001b[90m5\u001b[39m Apium prostratum    Apium prost… Apium prostr… Apium prostra… Apium species   \n",
      "\u001b[90m6\u001b[39m Cryptocarya obovata Cryptocarya… Cryptocarya … Cryptocarya o… Cryp… species   \n",
      "\u001b[90m# ℹ 15,642 more rows\u001b[39m\n",
      "\u001b[90m# ℹ 6 more variables: taxonomic_dataset <chr>, taxonomic_status <chr>,\u001b[39m\n",
      "\u001b[90m#   scientific_name <chr>, aligned_reason <chr>, update_reason <chr>,\u001b[39m\n",
      "\u001b[90m#   number_of_collapsed_taxa <dbl>\u001b[39m\n"
     ]
    }
   ],
   "source": [
    "\n",
    "fireveg_species_names |> \n",
    "  print(n = 6)"
   ]
  },
  {
   "cell_type": "code",
   "execution_count": 27,
   "id": "8a90ce71-7d34-4ce2-afa4-e008a356abc5",
   "metadata": {},
   "outputs": [
    {
     "data": {
      "text/html": [
       "<table class=\"dataframe\">\n",
       "<caption>A tibble: 13 × 8</caption>\n",
       "<thead>\n",
       "\t<tr><th scope=col>update_reason</th><th scope=col>form</th><th scope=col>species</th><th scope=col>subspecies</th><th scope=col>variety</th><th scope=col>family</th><th scope=col>genus</th><th scope=col>NA</th></tr>\n",
       "\t<tr><th scope=col>&lt;chr&gt;</th><th scope=col>&lt;int&gt;</th><th scope=col>&lt;int&gt;</th><th scope=col>&lt;int&gt;</th><th scope=col>&lt;int&gt;</th><th scope=col>&lt;int&gt;</th><th scope=col>&lt;int&gt;</th><th scope=col>&lt;int&gt;</th></tr>\n",
       "</thead>\n",
       "<tbody>\n",
       "\t<tr><td>aligned name accepted by APC   </td><td>28</td><td>8259</td><td>811</td><td>379</td><td>NA</td><td>  NA</td><td> NA</td></tr>\n",
       "\t<tr><td>basionym                       </td><td>NA</td><td> 137</td><td> 20</td><td> 13</td><td>NA</td><td>  NA</td><td> NA</td></tr>\n",
       "\t<tr><td>doubtful taxonomic synonym     </td><td> 2</td><td>   8</td><td>  2</td><td>  1</td><td>NA</td><td>  NA</td><td> NA</td></tr>\n",
       "\t<tr><td>excluded                       </td><td> 3</td><td>  96</td><td>  4</td><td>  1</td><td>NA</td><td>  NA</td><td> NA</td></tr>\n",
       "\t<tr><td>misapplied                     </td><td>NA</td><td> 132</td><td>  6</td><td>  8</td><td>NA</td><td>  NA</td><td> NA</td></tr>\n",
       "\t<tr><td>nomenclatural synonym          </td><td> 4</td><td>1125</td><td>211</td><td>261</td><td>NA</td><td>  NA</td><td> NA</td></tr>\n",
       "\t<tr><td>orthographic variant           </td><td>NA</td><td> 139</td><td>  6</td><td> 15</td><td>NA</td><td>  NA</td><td> NA</td></tr>\n",
       "\t<tr><td>pro parte misapplied           </td><td>NA</td><td>  36</td><td>  1</td><td> NA</td><td>NA</td><td>  NA</td><td> NA</td></tr>\n",
       "\t<tr><td>pro parte nomenclatural synonym</td><td>NA</td><td>  NA</td><td>  1</td><td>  1</td><td>NA</td><td>  NA</td><td> NA</td></tr>\n",
       "\t<tr><td>pro parte taxonomic synonym    </td><td>NA</td><td>  12</td><td>  3</td><td>  5</td><td>NA</td><td>  NA</td><td> NA</td></tr>\n",
       "\t<tr><td>replaced synonym               </td><td>NA</td><td>   3</td><td> NA</td><td> NA</td><td>NA</td><td>  NA</td><td> NA</td></tr>\n",
       "\t<tr><td>taxonomic synonym              </td><td>34</td><td> 870</td><td> 93</td><td>180</td><td>NA</td><td>  NA</td><td> NA</td></tr>\n",
       "\t<tr><td>NA                             </td><td>NA</td><td> 108</td><td>  6</td><td> 11</td><td>46</td><td>2237</td><td>330</td></tr>\n",
       "</tbody>\n",
       "</table>\n"
      ],
      "text/latex": [
       "A tibble: 13 × 8\n",
       "\\begin{tabular}{llllllll}\n",
       " update\\_reason & form & species & subspecies & variety & family & genus & NA\\\\\n",
       " <chr> & <int> & <int> & <int> & <int> & <int> & <int> & <int>\\\\\n",
       "\\hline\n",
       "\t aligned name accepted by APC    & 28 & 8259 & 811 & 379 & NA &   NA &  NA\\\\\n",
       "\t basionym                        & NA &  137 &  20 &  13 & NA &   NA &  NA\\\\\n",
       "\t doubtful taxonomic synonym      &  2 &    8 &   2 &   1 & NA &   NA &  NA\\\\\n",
       "\t excluded                        &  3 &   96 &   4 &   1 & NA &   NA &  NA\\\\\n",
       "\t misapplied                      & NA &  132 &   6 &   8 & NA &   NA &  NA\\\\\n",
       "\t nomenclatural synonym           &  4 & 1125 & 211 & 261 & NA &   NA &  NA\\\\\n",
       "\t orthographic variant            & NA &  139 &   6 &  15 & NA &   NA &  NA\\\\\n",
       "\t pro parte misapplied            & NA &   36 &   1 &  NA & NA &   NA &  NA\\\\\n",
       "\t pro parte nomenclatural synonym & NA &   NA &   1 &   1 & NA &   NA &  NA\\\\\n",
       "\t pro parte taxonomic synonym     & NA &   12 &   3 &   5 & NA &   NA &  NA\\\\\n",
       "\t replaced synonym                & NA &    3 &  NA &  NA & NA &   NA &  NA\\\\\n",
       "\t taxonomic synonym               & 34 &  870 &  93 & 180 & NA &   NA &  NA\\\\\n",
       "\t NA                              & NA &  108 &   6 &  11 & 46 & 2237 & 330\\\\\n",
       "\\end{tabular}\n"
      ],
      "text/markdown": [
       "\n",
       "A tibble: 13 × 8\n",
       "\n",
       "| update_reason &lt;chr&gt; | form &lt;int&gt; | species &lt;int&gt; | subspecies &lt;int&gt; | variety &lt;int&gt; | family &lt;int&gt; | genus &lt;int&gt; | NA &lt;int&gt; |\n",
       "|---|---|---|---|---|---|---|---|\n",
       "| aligned name accepted by APC    | 28 | 8259 | 811 | 379 | NA |   NA |  NA |\n",
       "| basionym                        | NA |  137 |  20 |  13 | NA |   NA |  NA |\n",
       "| doubtful taxonomic synonym      |  2 |    8 |   2 |   1 | NA |   NA |  NA |\n",
       "| excluded                        |  3 |   96 |   4 |   1 | NA |   NA |  NA |\n",
       "| misapplied                      | NA |  132 |   6 |   8 | NA |   NA |  NA |\n",
       "| nomenclatural synonym           |  4 | 1125 | 211 | 261 | NA |   NA |  NA |\n",
       "| orthographic variant            | NA |  139 |   6 |  15 | NA |   NA |  NA |\n",
       "| pro parte misapplied            | NA |   36 |   1 |  NA | NA |   NA |  NA |\n",
       "| pro parte nomenclatural synonym | NA |   NA |   1 |   1 | NA |   NA |  NA |\n",
       "| pro parte taxonomic synonym     | NA |   12 |   3 |   5 | NA |   NA |  NA |\n",
       "| replaced synonym                | NA |    3 |  NA |  NA | NA |   NA |  NA |\n",
       "| taxonomic synonym               | 34 |  870 |  93 | 180 | NA |   NA |  NA |\n",
       "| NA                              | NA |  108 |   6 |  11 | 46 | 2237 | 330 |\n",
       "\n"
      ],
      "text/plain": [
       "   update_reason                   form species subspecies variety family genus\n",
       "1  aligned name accepted by APC    28   8259    811        379     NA       NA \n",
       "2  basionym                        NA    137     20         13     NA       NA \n",
       "3  doubtful taxonomic synonym       2      8      2          1     NA       NA \n",
       "4  excluded                         3     96      4          1     NA       NA \n",
       "5  misapplied                      NA    132      6          8     NA       NA \n",
       "6  nomenclatural synonym            4   1125    211        261     NA       NA \n",
       "7  orthographic variant            NA    139      6         15     NA       NA \n",
       "8  pro parte misapplied            NA     36      1         NA     NA       NA \n",
       "9  pro parte nomenclatural synonym NA     NA      1          1     NA       NA \n",
       "10 pro parte taxonomic synonym     NA     12      3          5     NA       NA \n",
       "11 replaced synonym                NA      3     NA         NA     NA       NA \n",
       "12 taxonomic synonym               34    870     93        180     NA       NA \n",
       "13 NA                              NA    108      6         11     46     2237 \n",
       "   NA \n",
       "1   NA\n",
       "2   NA\n",
       "3   NA\n",
       "4   NA\n",
       "5   NA\n",
       "6   NA\n",
       "7   NA\n",
       "8   NA\n",
       "9   NA\n",
       "10  NA\n",
       "11  NA\n",
       "12  NA\n",
       "13 330"
      ]
     },
     "metadata": {},
     "output_type": "display_data"
    }
   ],
   "source": [
    "fireveg_species_names |> \n",
    "    group_by(update_reason,taxon_rank) |> \n",
    "    summarise(names = n_distinct(original_name), .groups = \"drop\") |>\n",
    "    pivot_wider(names_from = taxon_rank, values_from = names)"
   ]
  },
  {
   "cell_type": "code",
   "execution_count": 11,
   "id": "5de063a5-6d54-47f0-8665-375bcf18df96",
   "metadata": {},
   "outputs": [
    {
     "data": {
      "text/html": [
       "<table class=\"dataframe\">\n",
       "<caption>A tibble: 37 × 12</caption>\n",
       "<thead>\n",
       "\t<tr><th scope=col>original_name</th><th scope=col>aligned_name</th><th scope=col>accepted_name</th><th scope=col>suggested_name</th><th scope=col>genus</th><th scope=col>taxon_rank</th><th scope=col>taxonomic_dataset</th><th scope=col>taxonomic_status</th><th scope=col>scientific_name</th><th scope=col>aligned_reason</th><th scope=col>update_reason</th><th scope=col>number_of_collapsed_taxa</th></tr>\n",
       "\t<tr><th scope=col>&lt;chr&gt;</th><th scope=col>&lt;chr&gt;</th><th scope=col>&lt;chr&gt;</th><th scope=col>&lt;chr&gt;</th><th scope=col>&lt;chr&gt;</th><th scope=col>&lt;chr&gt;</th><th scope=col>&lt;chr&gt;</th><th scope=col>&lt;chr&gt;</th><th scope=col>&lt;chr&gt;</th><th scope=col>&lt;chr&gt;</th><th scope=col>&lt;chr&gt;</th><th scope=col>&lt;dbl&gt;</th></tr>\n",
       "</thead>\n",
       "<tbody>\n",
       "\t<tr><td>Myriophyllum elatinoides                  </td><td>Myriophyllum elatinoides                  </td><td>Myriophyllum caput-medusae             </td><td>Myriophyllum caput-medusae [alternative possible names: Myriophyllum porcatum (pro parte misapplied) | Myriophyllum salsugineum (pro parte misapplied) | Myriophyllum triphyllum (pro parte misapplied)]                                                                                                                                                                                                                                                                            </td><td>Myriophyllum   </td><td>species   </td><td>APC</td><td>accepted</td><td>Myriophyllum caput-medusae Orchard                          </td><td>Exact match of taxon name to an APC-known canonical name once punctuation and filler words are removed (2024-08-16)</td><td>pro parte misapplied</td><td>1</td></tr>\n",
       "\t<tr><td>Xanthium strumarium                       </td><td>Xanthium strumarium                       </td><td>Xanthium cavanillesii                  </td><td>Xanthium cavanillesii [alternative possible names: Xanthium italicum (pro parte misapplied) | Xanthium occidentale (pro parte misapplied) | Xanthium orientale (pro parte misapplied)]                                                                                                                                                                                                                                                                                              </td><td>Xanthium       </td><td>species   </td><td>APC</td><td>accepted</td><td>Xanthium cavanillesii Schouw                                </td><td>Exact match of taxon name to an APC-known canonical name once punctuation and filler words are removed (2024-08-16)</td><td>pro parte misapplied</td><td>1</td></tr>\n",
       "\t<tr><td>Mischocarpus sundaicus                    </td><td>Mischocarpus sundaicus                    </td><td>Mischocarpus australis                 </td><td>Mischocarpus australis [alternative possible names: Mischocarpus macrocarpus (pro parte misapplied) | Mischocarpus stipitatus (pro parte misapplied) | Mischocarpus australis (misapplied)]                                                                                                                                                                                                                                                                                         </td><td>Mischocarpus   </td><td>species   </td><td>APC</td><td>accepted</td><td>Mischocarpus australis S.T.Reynolds                         </td><td>Exact match of taxon name to an APC-known canonical name once punctuation and filler words are removed (2024-08-16)</td><td>pro parte misapplied</td><td>1</td></tr>\n",
       "\t<tr><td>Rubus fruticosus                          </td><td>Rubus fruticosus                          </td><td>Rubus anglocandicans                   </td><td>Rubus anglocandicans [alternative possible names: Rubus erythrops (pro parte misapplied) | Rubus laciniatus (pro parte misapplied) | Rubus leucostachys (pro parte misapplied) | Rubus phaeocarpus (pro parte misapplied) | Rubus riddelsdellii (pro parte misapplied) | Rubus rubritinctus (pro parte misapplied) | Rubus ulmifolius var. ulmifolius (pro parte misapplied) | Rubus anglocandicans (misapplied) | Rubus laudatus (misapplied)]                                     </td><td>Rubus          </td><td>species   </td><td>APC</td><td>accepted</td><td>Rubus anglocandicans A.Newton                               </td><td>Exact match of taxon name to an APC-known canonical name once punctuation and filler words are removed (2024-08-16)</td><td>pro parte misapplied</td><td>1</td></tr>\n",
       "\t<tr><td>Phaius tancarvilleae                      </td><td>Phaius tancarvilleae                      </td><td>Phaius amboinensis                     </td><td>Phaius amboinensis [alternative possible names: Phaius australis (pro parte misapplied) | Phaius bernaysii (pro parte misapplied) | Phaius australis (misapplied) | Phaius bernaysii (misapplied)]                                                                                                                                                                                                                                                                                  </td><td>Phaius         </td><td>species   </td><td>APC</td><td>accepted</td><td>Phaius amboinensis Blume                                    </td><td>Exact match of taxon name to an APC-known canonical name once punctuation and filler words are removed (2024-08-16)</td><td>pro parte misapplied</td><td>1</td></tr>\n",
       "\t<tr><td>Cuscuta racemosa                          </td><td>Cuscuta racemosa                          </td><td>Cuscuta epithymum                      </td><td>Cuscuta epithymum [alternative possible names: Cuscuta suaveolens (pro parte misapplied)]                                                                                                                                                                                                                                                                                                                                                                                           </td><td>Cuscuta        </td><td>species   </td><td>APC</td><td>accepted</td><td>Cuscuta epithymum (L.) L.                                   </td><td>Exact match of taxon name to an APC-known canonical name once punctuation and filler words are removed (2024-08-16)</td><td>pro parte misapplied</td><td>1</td></tr>\n",
       "\t<tr><td>Rubus chloocladus                         </td><td>Rubus chloocladus                         </td><td>Rubus anglocandicans                   </td><td>Rubus anglocandicans [alternative possible names: Rubus leucostachys (pro parte misapplied) | Rubus vestitus (pro parte misapplied) | Rubus leucostachys (misapplied)]                                                                                                                                                                                                                                                                                                              </td><td>Rubus          </td><td>species   </td><td>APC</td><td>accepted</td><td>Rubus anglocandicans A.Newton                               </td><td>Exact match of taxon name to an APC-known canonical name once punctuation and filler words are removed (2024-08-16)</td><td>pro parte misapplied</td><td>1</td></tr>\n",
       "\t<tr><td>Festuca elatior                           </td><td>Festuca elatior                           </td><td>Lolium arundinaceum                    </td><td>Lolium arundinaceum [alternative possible names: Lolium pratense (pro parte misapplied)]                                                                                                                                                                                                                                                                                                                                                                                            </td><td>Lolium         </td><td>species   </td><td>APC</td><td>accepted</td><td>Lolium arundinaceum (Schreb.) Darbysh.                      </td><td>Exact match of taxon name to an APC-known canonical name once punctuation and filler words are removed (2024-08-16)</td><td>pro parte misapplied</td><td>1</td></tr>\n",
       "\t<tr><td><span style=white-space:pre-wrap>Picris hieracioides                       </span></td><td><span style=white-space:pre-wrap>Picris hieracioides                       </span></td><td>Picris angustifolia subsp. merxmuelleri</td><td><span style=white-space:pre-wrap>Picris angustifolia subsp. merxmuelleri [alternative possible names: Picris angustifolia subsp. angustifolia (misapplied) | Picris angustifolia subsp. merxmuelleri (misapplied)]                                                                                                                                                                                                                                                                                                   </span></td><td><span style=white-space:pre-wrap>Picris         </span></td><td><span style=white-space:pre-wrap>species   </span></td><td>APC</td><td>accepted</td><td><span style=white-space:pre-wrap>Picris angustifolia subsp. merxmuelleri Lack &amp; S.Holzapfel  </span></td><td>Exact match of taxon name to an APC-known canonical name once punctuation and filler words are removed (2024-08-16)</td><td>pro parte misapplied</td><td>1</td></tr>\n",
       "\t<tr><td>Rubus discolor                            </td><td>Rubus discolor                            </td><td>Rubus anglocandicans                   </td><td>Rubus anglocandicans [alternative possible names: Rubus anglocandicans (misapplied)]                                                                                                                                                                                                                                                                                                                                                                                                </td><td>Rubus          </td><td>species   </td><td>APC</td><td>accepted</td><td>Rubus anglocandicans A.Newton                               </td><td>Exact match of taxon name to an APC-known canonical name once punctuation and filler words are removed (2024-08-16)</td><td>pro parte misapplied</td><td>1</td></tr>\n",
       "\t<tr><td>Physalis viscosa                          </td><td>Physalis viscosa                          </td><td>Physalis crassifolia var. versicolor   </td><td>Physalis crassifolia var. versicolor [alternative possible names: Physalis hederifolia (pro parte misapplied) | Physalis crassifolia var. versicolor (misapplied) | Physalis hederifolia (misapplied)]                                                                                                                                                                                                                                                                              </td><td>Physalis       </td><td>species   </td><td>APC</td><td>accepted</td><td>Physalis crassifolia var. versicolor (Rydb.) Waterf.        </td><td>Exact match of taxon name to an APC-known canonical name once punctuation and filler words are removed (2024-08-16)</td><td>pro parte misapplied</td><td>1</td></tr>\n",
       "\t<tr><td><span style=white-space:pre-wrap>Taraxacum magellanicum                    </span></td><td><span style=white-space:pre-wrap>Taraxacum magellanicum                    </span></td><td><span style=white-space:pre-wrap>Taraxacum aristum                      </span></td><td><span style=white-space:pre-wrap>Taraxacum aristum [alternative possible names: NA]                                                                                                                                                                                                                                                                                                                                                                                                                                  </span></td><td><span style=white-space:pre-wrap>Taraxacum      </span></td><td><span style=white-space:pre-wrap>species   </span></td><td>APC</td><td>accepted</td><td><span style=white-space:pre-wrap>Taraxacum aristum G.E.Haglund &amp; Markl.                      </span></td><td>Exact match of taxon name to an APC-known canonical name once punctuation and filler words are removed (2024-08-16)</td><td>pro parte misapplied</td><td>1</td></tr>\n",
       "\t<tr><td>Senecio lautus                            </td><td>Senecio lautus                            </td><td>Senecio depressicola                   </td><td>Senecio depressicola [alternative possible names: Senecio eremicola (pro parte misapplied) | Senecio lacustrinus (pro parte misapplied) | Senecio pinnatifolius (pro parte misapplied) | Senecio pinnatifolius var. lanceolatus (pro parte misapplied) | Senecio pinnatifolius var. maritimus (pro parte misapplied) | Senecio spanomerus (pro parte misapplied) | Senecio spathulatus (pro parte misapplied) | Senecio australis (misapplied) | Senecio pinnatifolius (misapplied)]</td><td>Senecio        </td><td>species   </td><td>APC</td><td>accepted</td><td>Senecio depressicola I.Thomps.                              </td><td>Exact match of taxon name to an APC-known canonical name once punctuation and filler words are removed (2024-08-16)</td><td>pro parte misapplied</td><td>1</td></tr>\n",
       "\t<tr><td><span style=white-space:pre-wrap>Lastreopsis decomposita                   </span></td><td><span style=white-space:pre-wrap>Lastreopsis decomposita                   </span></td><td><span style=white-space:pre-wrap>Parapolystichum calanthum              </span></td><td><span style=white-space:pre-wrap>Parapolystichum calanthum [alternative possible names: NA]                                                                                                                                                                                                                                                                                                                                                                                                                          </span></td><td>Parapolystichum</td><td><span style=white-space:pre-wrap>species   </span></td><td>APC</td><td>accepted</td><td>Parapolystichum calanthum (Endl.) J.J.S.Gardner &amp; Nagalingum</td><td>Exact match of taxon name to an APC-known canonical name once punctuation and filler words are removed (2024-08-16)</td><td>pro parte misapplied</td><td>1</td></tr>\n",
       "\t<tr><td>Salsola kali                              </td><td>Salsola kali                              </td><td>Salsola australis                      </td><td>Salsola australis [alternative possible names: Salsola australis (misapplied)]                                                                                                                                                                                                                                                                                                                                                                                                      </td><td>Salsola        </td><td>species   </td><td>APC</td><td>accepted</td><td>Salsola australis R.Br.                                     </td><td>Exact match of taxon name to an APC-known canonical name once punctuation and filler words are removed (2024-08-16)</td><td>pro parte misapplied</td><td>1</td></tr>\n",
       "\t<tr><td>Lupinus hirsutus                          </td><td>Lupinus hirsutus                          </td><td>Lupinus cosentinii                     </td><td>Lupinus cosentinii [alternative possible names: Lupinus angustifolius (misapplied)]                                                                                                                                                                                                                                                                                                                                                                                                 </td><td>Lupinus        </td><td>species   </td><td>APC</td><td>accepted</td><td>Lupinus cosentinii Guss.                                    </td><td>Exact match of taxon name to an APC-known canonical name once punctuation and filler words are removed (2024-08-16)</td><td>pro parte misapplied</td><td>1</td></tr>\n",
       "\t<tr><td>Eryngium rostratum                        </td><td>Eryngium rostratum                        </td><td>Eryngium ovinum                        </td><td>Eryngium ovinum [alternative possible names: Eryngium pinnatifidum (pro parte misapplied) | Eryngium ovinum (misapplied) | Eryngium pinnatifidum (misapplied)]                                                                                                                                                                                                                                                                                                                      </td><td>Eryngium       </td><td>species   </td><td>APC</td><td>accepted</td><td>Eryngium ovinum A.Cunn.                                     </td><td>Exact match of taxon name to an APC-known canonical name once punctuation and filler words are removed (2024-08-16)</td><td>pro parte misapplied</td><td>1</td></tr>\n",
       "\t<tr><td>Hibiscus trionum                          </td><td>Hibiscus trionum                          </td><td>Hibiscus richardsonii                  </td><td>Hibiscus richardsonii [alternative possible names: Hibiscus tridactylites (pro parte misapplied) | Hibiscus verdcourtii (pro parte misapplied) | Hibiscus verdcourtii (misapplied)]                                                                                                                                                                                                                                                                                                 </td><td>Hibiscus       </td><td>species   </td><td>APC</td><td>accepted</td><td>Hibiscus richardsonii Sweet ex Lindl.                       </td><td>Exact match of taxon name to an APC-known canonical name once punctuation and filler words are removed (2024-08-16)</td><td>pro parte misapplied</td><td>1</td></tr>\n",
       "\t<tr><td>Sium latifolium                           </td><td>Sium latifolium                           </td><td>Berula erecta                          </td><td>Berula erecta [alternative possible names: Berula erecta (misapplied)]                                                                                                                                                                                                                                                                                                                                                                                                              </td><td>Berula         </td><td>species   </td><td>APC</td><td>accepted</td><td>Berula erecta (Huds.) Coville                               </td><td>Exact match of taxon name to an APC-known canonical name once punctuation and filler words are removed (2024-08-16)</td><td>pro parte misapplied</td><td>1</td></tr>\n",
       "\t<tr><td>Caladenia lyallii                         </td><td>Caladenia lyallii                         </td><td>Caladenia alpina                       </td><td>Caladenia alpina [alternative possible names: Caladenia cracens (pro parte misapplied) | Caladenia alpina (misapplied)]                                                                                                                                                                                                                                                                                                                                                             </td><td>Caladenia      </td><td>species   </td><td>APC</td><td>accepted</td><td>Caladenia alpina R.S.Rogers                                 </td><td>Exact match of taxon name to an APC-known canonical name once punctuation and filler words are removed (2024-08-16)</td><td>pro parte misapplied</td><td>1</td></tr>\n",
       "\t<tr><td>Stylidium uliginosum                      </td><td>Stylidium uliginosum                      </td><td>Stylidium tenerum                      </td><td>Stylidium tenerum [alternative possible names: Stylidium tenerum (misapplied)]                                                                                                                                                                                                                                                                                                                                                                                                      </td><td>Stylidium      </td><td>species   </td><td>APC</td><td>accepted</td><td>Stylidium tenerum Spreng.                                   </td><td>Exact match of taxon name to an APC-known canonical name once punctuation and filler words are removed (2024-08-16)</td><td>pro parte misapplied</td><td>1</td></tr>\n",
       "\t<tr><td>Drosera indica                            </td><td>Drosera indica                            </td><td>Drosera finlaysoniana                  </td><td>Drosera finlaysoniana [alternative possible names: Drosera finlaysoniana (misapplied)]                                                                                                                                                                                                                                                                                                                                                                                              </td><td>Drosera        </td><td>species   </td><td>APC</td><td>accepted</td><td>Drosera finlaysoniana Wall. ex Arn.                         </td><td>Exact match of taxon name to an APC-known canonical name once punctuation and filler words are removed (2024-08-16)</td><td>pro parte misapplied</td><td>1</td></tr>\n",
       "\t<tr><td>Myriophyllum propinquum                   </td><td>Myriophyllum propinquum                   </td><td>Myriophyllum crispatum                 </td><td>Myriophyllum crispatum [alternative possible names: Myriophyllum papillosum (pro parte misapplied) | Myriophyllum simulans (pro parte misapplied) | Myriophyllum variifolium (pro parte misapplied)]                                                                                                                                                                                                                                                                                </td><td>Myriophyllum   </td><td>species   </td><td>APC</td><td>accepted</td><td>Myriophyllum crispatum Orchard                              </td><td>Exact match of taxon name to an APC-known canonical name once punctuation and filler words are removed (2024-08-16)</td><td>pro parte misapplied</td><td>1</td></tr>\n",
       "\t<tr><td>Trachymene saniculifolia                  </td><td>Trachymene saniculifolia                  </td><td>Trachymene scapigera                   </td><td>Trachymene scapigera [alternative possible names: Trachymene scapigera (misapplied)]                                                                                                                                                                                                                                                                                                                                                                                                </td><td>Trachymene     </td><td>species   </td><td>APC</td><td>accepted</td><td>Trachymene scapigera (Domin) B.L.Burtt                      </td><td>Exact match of taxon name to an APC-known canonical name once punctuation and filler words are removed (2024-08-16)</td><td>pro parte misapplied</td><td>1</td></tr>\n",
       "\t<tr><td><span style=white-space:pre-wrap>Mukia maderaspatana                       </span></td><td><span style=white-space:pre-wrap>Mukia maderaspatana                       </span></td><td><span style=white-space:pre-wrap>Cucumis althaeoides                    </span></td><td><span style=white-space:pre-wrap>Cucumis althaeoides [alternative possible names: Cucumis argenteus (pro parte misapplied) | Cucumis variabilis (pro parte misapplied) | Cucumis althaeoides (misapplied)]                                                                                                                                                                                                                                                                                                           </span></td><td><span style=white-space:pre-wrap>Cucumis        </span></td><td><span style=white-space:pre-wrap>species   </span></td><td>APC</td><td>accepted</td><td><span style=white-space:pre-wrap>Cucumis althaeoides (Ser.) P.Sebastian &amp; I.Telford          </span></td><td>Exact match of taxon name to an APC-known canonical name once punctuation and filler words are removed (2024-08-16)</td><td>pro parte misapplied</td><td>1</td></tr>\n",
       "\t<tr><td>Salsola tragus                            </td><td>Salsola tragus                            </td><td>Salsola australis                      </td><td>Salsola australis [alternative possible names: NA]                                                                                                                                                                                                                                                                                                                                                                                                                                  </td><td>Salsola        </td><td>species   </td><td>APC</td><td>accepted</td><td>Salsola australis R.Br.                                     </td><td>Exact match of taxon name to an APC-known canonical name once punctuation and filler words are removed (2024-08-16)</td><td>pro parte misapplied</td><td>1</td></tr>\n",
       "\t<tr><td>Salsola tragus 'strobilifera'             </td><td>Salsola tragus                            </td><td>Salsola australis                      </td><td>Salsola australis [alternative possible names: NA]                                                                                                                                                                                                                                                                                                                                                                                                                                  </td><td>Salsola        </td><td>species   </td><td>APC</td><td>accepted</td><td>Salsola australis R.Br.                                     </td><td>Exact match of the first two words of the taxon name to an APC-known canonical name (2024-08-16)                   </td><td>pro parte misapplied</td><td>1</td></tr>\n",
       "\t<tr><td><span style=white-space:pre-wrap>Craspedia uniflora                        </span></td><td><span style=white-space:pre-wrap>Craspedia uniflora                        </span></td><td><span style=white-space:pre-wrap>Craspedia haplorrhiza                  </span></td><td><span style=white-space:pre-wrap>Craspedia haplorrhiza [alternative possible names: Craspedia variabilis (pro parte misapplied)]                                                                                                                                                                                                                                                                                                                                                                                     </span></td><td><span style=white-space:pre-wrap>Craspedia      </span></td><td><span style=white-space:pre-wrap>species   </span></td><td>APC</td><td>accepted</td><td><span style=white-space:pre-wrap>Craspedia haplorrhiza J.Everett &amp; Doust                     </span></td><td>Exact match of taxon name to an APC-known canonical name once punctuation and filler words are removed (2024-08-16)</td><td>pro parte misapplied</td><td>1</td></tr>\n",
       "\t<tr><td>Rubus fruticosus sp. agg.                 </td><td>Rubus fruticosus                          </td><td>Rubus anglocandicans                   </td><td>Rubus anglocandicans [alternative possible names: Rubus erythrops (pro parte misapplied) | Rubus laciniatus (pro parte misapplied) | Rubus leucostachys (pro parte misapplied) | Rubus phaeocarpus (pro parte misapplied) | Rubus riddelsdellii (pro parte misapplied) | Rubus rubritinctus (pro parte misapplied) | Rubus ulmifolius var. ulmifolius (pro parte misapplied) | Rubus anglocandicans (misapplied) | Rubus laudatus (misapplied)]                                     </td><td>Rubus          </td><td>species   </td><td>APC</td><td>accepted</td><td>Rubus anglocandicans A.Newton                               </td><td>Exact match of the first two words of the taxon name to an APC-known canonical name (2024-08-16)                   </td><td>pro parte misapplied</td><td>1</td></tr>\n",
       "\t<tr><td><span style=white-space:pre-wrap>Lomaria capensis                          </span></td><td><span style=white-space:pre-wrap>Lomaria capensis                          </span></td><td><span style=white-space:pre-wrap>Blechnum howeanum                      </span></td><td><span style=white-space:pre-wrap>Blechnum howeanum [alternative possible names: Blechnum wattsii (misapplied)]                                                                                                                                                                                                                                                                                                                                                                                                       </span></td><td><span style=white-space:pre-wrap>Blechnum       </span></td><td><span style=white-space:pre-wrap>species   </span></td><td>APC</td><td>accepted</td><td><span style=white-space:pre-wrap>Blechnum howeanum T.C.Chambers &amp; P.A.Farrant                </span></td><td>Exact match of taxon name to an APC-known canonical name once punctuation and filler words are removed (2024-08-16)</td><td>pro parte misapplied</td><td>1</td></tr>\n",
       "\t<tr><td>Apium australe                            </td><td>Apium australe                            </td><td>Apium annuum                           </td><td>Apium annuum [alternative possible names: Apium insulare (pro parte misapplied) | Apium prostratum (pro parte misapplied) | Apium prostratum subsp. howense (pro parte misapplied) | Apium prostratum var. filiforme (pro parte misapplied) | Apium prostratum var. prostratum (pro parte misapplied) | Apium graveolens (misapplied) | Apium prostratum (misapplied)]                                                                                                              </td><td>Apium          </td><td>species   </td><td>APC</td><td>accepted</td><td>Apium annuum P.S.Short                                      </td><td>Exact match of taxon name to an APC-known canonical name once punctuation and filler words are removed (2024-08-16)</td><td>pro parte misapplied</td><td>1</td></tr>\n",
       "\t<tr><td>Leptecophylla juniperina subsp. juniperina</td><td>Leptecophylla juniperina subsp. juniperina</td><td>Leptecophylla oxycedrus                </td><td>Leptecophylla oxycedrus [alternative possible names: Leptecophylla pogonocalyx subsp. decipiens (pro parte misapplied)]                                                                                                                                                                                                                                                                                                                                                             </td><td>Leptecophylla  </td><td>subspecies</td><td>APC</td><td>accepted</td><td>Leptecophylla oxycedrus (Labill.) Jarman                    </td><td>Exact match of taxon name to an APC-known canonical name once punctuation and filler words are removed (2024-08-16)</td><td>pro parte misapplied</td><td>1</td></tr>\n",
       "\t<tr><td>Malva rotundifolia                        </td><td>Malva rotundifolia                        </td><td>Malva neglecta                         </td><td>Malva neglecta [alternative possible names: Malva nicaeensis (pro parte misapplied) | Malva parviflora (misapplied)]                                                                                                                                                                                                                                                                                                                                                                </td><td>Malva          </td><td>species   </td><td>APC</td><td>accepted</td><td>Malva neglecta Wallr.                                       </td><td>Exact match of taxon name to an APC-known canonical name once punctuation and filler words are removed (2024-08-16)</td><td>pro parte misapplied</td><td>1</td></tr>\n",
       "\t<tr><td><span style=white-space:pre-wrap>Cucumis maderaspatanus                    </span></td><td><span style=white-space:pre-wrap>Cucumis maderaspatanus                    </span></td><td><span style=white-space:pre-wrap>Cucumis althaeoides                    </span></td><td><span style=white-space:pre-wrap>Cucumis althaeoides [alternative possible names: Cucumis argenteus (pro parte misapplied) | Cucumis variabilis (pro parte misapplied)]                                                                                                                                                                                                                                                                                                                                              </span></td><td><span style=white-space:pre-wrap>Cucumis        </span></td><td><span style=white-space:pre-wrap>species   </span></td><td>APC</td><td>accepted</td><td><span style=white-space:pre-wrap>Cucumis althaeoides (Ser.) P.Sebastian &amp; I.Telford          </span></td><td>Exact match of taxon name to an APC-known canonical name once punctuation and filler words are removed (2024-08-16)</td><td>pro parte misapplied</td><td>1</td></tr>\n",
       "\t<tr><td>Anisomeles malabarica                     </td><td>Anisomeles malabarica                     </td><td>Anisomeles inodora                     </td><td>Anisomeles inodora [alternative possible names: Anisomeles moschata (pro parte misapplied) | Anisomeles salviifolia (pro parte misapplied) | Anisomeles salviifolia (misapplied)]                                                                                                                                                                                                                                                                                                   </td><td>Anisomeles     </td><td>species   </td><td>APC</td><td>accepted</td><td>Anisomeles inodora R.Br.                                    </td><td>Exact match of taxon name to an APC-known canonical name once punctuation and filler words are removed (2024-08-16)</td><td>pro parte misapplied</td><td>1</td></tr>\n",
       "\t<tr><td>Lycium chinense                           </td><td>Lycium chinense                           </td><td>Lycium barbarum                        </td><td>Lycium barbarum [alternative possible names: Lycium ferocissimum (pro parte misapplied) | Lycium barbarum (doubtful misapplied) | Lycium ferocissimum (doubtful misapplied)]                                                                                                                                                                                                                                                                                                        </td><td>Lycium         </td><td>species   </td><td>APC</td><td>accepted</td><td>Lycium barbarum L.                                          </td><td>Exact match of taxon name to an APC-known canonical name once punctuation and filler words are removed (2024-08-16)</td><td>pro parte misapplied</td><td>1</td></tr>\n",
       "\t<tr><td>Carissa spinarum                          </td><td>Carissa spinarum                          </td><td>Carissa lanceolata                     </td><td>Carissa lanceolata [alternative possible names: Carissa laxiflora (pro parte misapplied) | Carissa ovata (pro parte misapplied) | Carissa scabra (pro parte misapplied)]                                                                                                                                                                                                                                                                                                            </td><td>Carissa        </td><td>species   </td><td>APC</td><td>accepted</td><td>Carissa lanceolata R.Br.                                    </td><td>Exact match of taxon name to an APC-known canonical name once punctuation and filler words are removed (2024-08-16)</td><td>pro parte misapplied</td><td>1</td></tr>\n",
       "</tbody>\n",
       "</table>\n"
      ],
      "text/latex": [
       "A tibble: 37 × 12\n",
       "\\begin{tabular}{llllllllllll}\n",
       " original\\_name & aligned\\_name & accepted\\_name & suggested\\_name & genus & taxon\\_rank & taxonomic\\_dataset & taxonomic\\_status & scientific\\_name & aligned\\_reason & update\\_reason & number\\_of\\_collapsed\\_taxa\\\\\n",
       " <chr> & <chr> & <chr> & <chr> & <chr> & <chr> & <chr> & <chr> & <chr> & <chr> & <chr> & <dbl>\\\\\n",
       "\\hline\n",
       "\t Myriophyllum elatinoides                   & Myriophyllum elatinoides                   & Myriophyllum caput-medusae              & Myriophyllum caput-medusae {[}alternative possible names: Myriophyllum porcatum (pro parte misapplied) \\textbar{} Myriophyllum salsugineum (pro parte misapplied) \\textbar{} Myriophyllum triphyllum (pro parte misapplied){]}                                                                                                                                                                                                                                                                             & Myriophyllum    & species    & APC & accepted & Myriophyllum caput-medusae Orchard                           & Exact match of taxon name to an APC-known canonical name once punctuation and filler words are removed (2024-08-16) & pro parte misapplied & 1\\\\\n",
       "\t Xanthium strumarium                        & Xanthium strumarium                        & Xanthium cavanillesii                   & Xanthium cavanillesii {[}alternative possible names: Xanthium italicum (pro parte misapplied) \\textbar{} Xanthium occidentale (pro parte misapplied) \\textbar{} Xanthium orientale (pro parte misapplied){]}                                                                                                                                                                                                                                                                                               & Xanthium        & species    & APC & accepted & Xanthium cavanillesii Schouw                                 & Exact match of taxon name to an APC-known canonical name once punctuation and filler words are removed (2024-08-16) & pro parte misapplied & 1\\\\\n",
       "\t Mischocarpus sundaicus                     & Mischocarpus sundaicus                     & Mischocarpus australis                  & Mischocarpus australis {[}alternative possible names: Mischocarpus macrocarpus (pro parte misapplied) \\textbar{} Mischocarpus stipitatus (pro parte misapplied) \\textbar{} Mischocarpus australis (misapplied){]}                                                                                                                                                                                                                                                                                          & Mischocarpus    & species    & APC & accepted & Mischocarpus australis S.T.Reynolds                          & Exact match of taxon name to an APC-known canonical name once punctuation and filler words are removed (2024-08-16) & pro parte misapplied & 1\\\\\n",
       "\t Rubus fruticosus                           & Rubus fruticosus                           & Rubus anglocandicans                    & Rubus anglocandicans {[}alternative possible names: Rubus erythrops (pro parte misapplied) \\textbar{} Rubus laciniatus (pro parte misapplied) \\textbar{} Rubus leucostachys (pro parte misapplied) \\textbar{} Rubus phaeocarpus (pro parte misapplied) \\textbar{} Rubus riddelsdellii (pro parte misapplied) \\textbar{} Rubus rubritinctus (pro parte misapplied) \\textbar{} Rubus ulmifolius var. ulmifolius (pro parte misapplied) \\textbar{} Rubus anglocandicans (misapplied) \\textbar{} Rubus laudatus (misapplied){]}                                      & Rubus           & species    & APC & accepted & Rubus anglocandicans A.Newton                                & Exact match of taxon name to an APC-known canonical name once punctuation and filler words are removed (2024-08-16) & pro parte misapplied & 1\\\\\n",
       "\t Phaius tancarvilleae                       & Phaius tancarvilleae                       & Phaius amboinensis                      & Phaius amboinensis {[}alternative possible names: Phaius australis (pro parte misapplied) \\textbar{} Phaius bernaysii (pro parte misapplied) \\textbar{} Phaius australis (misapplied) \\textbar{} Phaius bernaysii (misapplied){]}                                                                                                                                                                                                                                                                                   & Phaius          & species    & APC & accepted & Phaius amboinensis Blume                                     & Exact match of taxon name to an APC-known canonical name once punctuation and filler words are removed (2024-08-16) & pro parte misapplied & 1\\\\\n",
       "\t Cuscuta racemosa                           & Cuscuta racemosa                           & Cuscuta epithymum                       & Cuscuta epithymum {[}alternative possible names: Cuscuta suaveolens (pro parte misapplied){]}                                                                                                                                                                                                                                                                                                                                                                                            & Cuscuta         & species    & APC & accepted & Cuscuta epithymum (L.) L.                                    & Exact match of taxon name to an APC-known canonical name once punctuation and filler words are removed (2024-08-16) & pro parte misapplied & 1\\\\\n",
       "\t Rubus chloocladus                          & Rubus chloocladus                          & Rubus anglocandicans                    & Rubus anglocandicans {[}alternative possible names: Rubus leucostachys (pro parte misapplied) \\textbar{} Rubus vestitus (pro parte misapplied) \\textbar{} Rubus leucostachys (misapplied){]}                                                                                                                                                                                                                                                                                                               & Rubus           & species    & APC & accepted & Rubus anglocandicans A.Newton                                & Exact match of taxon name to an APC-known canonical name once punctuation and filler words are removed (2024-08-16) & pro parte misapplied & 1\\\\\n",
       "\t Festuca elatior                            & Festuca elatior                            & Lolium arundinaceum                     & Lolium arundinaceum {[}alternative possible names: Lolium pratense (pro parte misapplied){]}                                                                                                                                                                                                                                                                                                                                                                                             & Lolium          & species    & APC & accepted & Lolium arundinaceum (Schreb.) Darbysh.                       & Exact match of taxon name to an APC-known canonical name once punctuation and filler words are removed (2024-08-16) & pro parte misapplied & 1\\\\\n",
       "\t Picris hieracioides                        & Picris hieracioides                        & Picris angustifolia subsp. merxmuelleri & Picris angustifolia subsp. merxmuelleri {[}alternative possible names: Picris angustifolia subsp. angustifolia (misapplied) \\textbar{} Picris angustifolia subsp. merxmuelleri (misapplied){]}                                                                                                                                                                                                                                                                                                    & Picris          & species    & APC & accepted & Picris angustifolia subsp. merxmuelleri Lack \\& S.Holzapfel   & Exact match of taxon name to an APC-known canonical name once punctuation and filler words are removed (2024-08-16) & pro parte misapplied & 1\\\\\n",
       "\t Rubus discolor                             & Rubus discolor                             & Rubus anglocandicans                    & Rubus anglocandicans {[}alternative possible names: Rubus anglocandicans (misapplied){]}                                                                                                                                                                                                                                                                                                                                                                                                 & Rubus           & species    & APC & accepted & Rubus anglocandicans A.Newton                                & Exact match of taxon name to an APC-known canonical name once punctuation and filler words are removed (2024-08-16) & pro parte misapplied & 1\\\\\n",
       "\t Physalis viscosa                           & Physalis viscosa                           & Physalis crassifolia var. versicolor    & Physalis crassifolia var. versicolor {[}alternative possible names: Physalis hederifolia (pro parte misapplied) \\textbar{} Physalis crassifolia var. versicolor (misapplied) \\textbar{} Physalis hederifolia (misapplied){]}                                                                                                                                                                                                                                                                               & Physalis        & species    & APC & accepted & Physalis crassifolia var. versicolor (Rydb.) Waterf.         & Exact match of taxon name to an APC-known canonical name once punctuation and filler words are removed (2024-08-16) & pro parte misapplied & 1\\\\\n",
       "\t Taraxacum magellanicum                     & Taraxacum magellanicum                     & Taraxacum aristum                       & Taraxacum aristum {[}alternative possible names: NA{]}                                                                                                                                                                                                                                                                                                                                                                                                                                   & Taraxacum       & species    & APC & accepted & Taraxacum aristum G.E.Haglund \\& Markl.                       & Exact match of taxon name to an APC-known canonical name once punctuation and filler words are removed (2024-08-16) & pro parte misapplied & 1\\\\\n",
       "\t Senecio lautus                             & Senecio lautus                             & Senecio depressicola                    & Senecio depressicola {[}alternative possible names: Senecio eremicola (pro parte misapplied) \\textbar{} Senecio lacustrinus (pro parte misapplied) \\textbar{} Senecio pinnatifolius (pro parte misapplied) \\textbar{} Senecio pinnatifolius var. lanceolatus (pro parte misapplied) \\textbar{} Senecio pinnatifolius var. maritimus (pro parte misapplied) \\textbar{} Senecio spanomerus (pro parte misapplied) \\textbar{} Senecio spathulatus (pro parte misapplied) \\textbar{} Senecio australis (misapplied) \\textbar{} Senecio pinnatifolius (misapplied){]} & Senecio         & species    & APC & accepted & Senecio depressicola I.Thomps.                               & Exact match of taxon name to an APC-known canonical name once punctuation and filler words are removed (2024-08-16) & pro parte misapplied & 1\\\\\n",
       "\t Lastreopsis decomposita                    & Lastreopsis decomposita                    & Parapolystichum calanthum               & Parapolystichum calanthum {[}alternative possible names: NA{]}                                                                                                                                                                                                                                                                                                                                                                                                                           & Parapolystichum & species    & APC & accepted & Parapolystichum calanthum (Endl.) J.J.S.Gardner \\& Nagalingum & Exact match of taxon name to an APC-known canonical name once punctuation and filler words are removed (2024-08-16) & pro parte misapplied & 1\\\\\n",
       "\t Salsola kali                               & Salsola kali                               & Salsola australis                       & Salsola australis {[}alternative possible names: Salsola australis (misapplied){]}                                                                                                                                                                                                                                                                                                                                                                                                       & Salsola         & species    & APC & accepted & Salsola australis R.Br.                                      & Exact match of taxon name to an APC-known canonical name once punctuation and filler words are removed (2024-08-16) & pro parte misapplied & 1\\\\\n",
       "\t Lupinus hirsutus                           & Lupinus hirsutus                           & Lupinus cosentinii                      & Lupinus cosentinii {[}alternative possible names: Lupinus angustifolius (misapplied){]}                                                                                                                                                                                                                                                                                                                                                                                                  & Lupinus         & species    & APC & accepted & Lupinus cosentinii Guss.                                     & Exact match of taxon name to an APC-known canonical name once punctuation and filler words are removed (2024-08-16) & pro parte misapplied & 1\\\\\n",
       "\t Eryngium rostratum                         & Eryngium rostratum                         & Eryngium ovinum                         & Eryngium ovinum {[}alternative possible names: Eryngium pinnatifidum (pro parte misapplied) \\textbar{} Eryngium ovinum (misapplied) \\textbar{} Eryngium pinnatifidum (misapplied){]}                                                                                                                                                                                                                                                                                                                       & Eryngium        & species    & APC & accepted & Eryngium ovinum A.Cunn.                                      & Exact match of taxon name to an APC-known canonical name once punctuation and filler words are removed (2024-08-16) & pro parte misapplied & 1\\\\\n",
       "\t Hibiscus trionum                           & Hibiscus trionum                           & Hibiscus richardsonii                   & Hibiscus richardsonii {[}alternative possible names: Hibiscus tridactylites (pro parte misapplied) \\textbar{} Hibiscus verdcourtii (pro parte misapplied) \\textbar{} Hibiscus verdcourtii (misapplied){]}                                                                                                                                                                                                                                                                                                  & Hibiscus        & species    & APC & accepted & Hibiscus richardsonii Sweet ex Lindl.                        & Exact match of taxon name to an APC-known canonical name once punctuation and filler words are removed (2024-08-16) & pro parte misapplied & 1\\\\\n",
       "\t Sium latifolium                            & Sium latifolium                            & Berula erecta                           & Berula erecta {[}alternative possible names: Berula erecta (misapplied){]}                                                                                                                                                                                                                                                                                                                                                                                                               & Berula          & species    & APC & accepted & Berula erecta (Huds.) Coville                                & Exact match of taxon name to an APC-known canonical name once punctuation and filler words are removed (2024-08-16) & pro parte misapplied & 1\\\\\n",
       "\t Caladenia lyallii                          & Caladenia lyallii                          & Caladenia alpina                        & Caladenia alpina {[}alternative possible names: Caladenia cracens (pro parte misapplied) \\textbar{} Caladenia alpina (misapplied){]}                                                                                                                                                                                                                                                                                                                                                              & Caladenia       & species    & APC & accepted & Caladenia alpina R.S.Rogers                                  & Exact match of taxon name to an APC-known canonical name once punctuation and filler words are removed (2024-08-16) & pro parte misapplied & 1\\\\\n",
       "\t Stylidium uliginosum                       & Stylidium uliginosum                       & Stylidium tenerum                       & Stylidium tenerum {[}alternative possible names: Stylidium tenerum (misapplied){]}                                                                                                                                                                                                                                                                                                                                                                                                       & Stylidium       & species    & APC & accepted & Stylidium tenerum Spreng.                                    & Exact match of taxon name to an APC-known canonical name once punctuation and filler words are removed (2024-08-16) & pro parte misapplied & 1\\\\\n",
       "\t Drosera indica                             & Drosera indica                             & Drosera finlaysoniana                   & Drosera finlaysoniana {[}alternative possible names: Drosera finlaysoniana (misapplied){]}                                                                                                                                                                                                                                                                                                                                                                                               & Drosera         & species    & APC & accepted & Drosera finlaysoniana Wall. ex Arn.                          & Exact match of taxon name to an APC-known canonical name once punctuation and filler words are removed (2024-08-16) & pro parte misapplied & 1\\\\\n",
       "\t Myriophyllum propinquum                    & Myriophyllum propinquum                    & Myriophyllum crispatum                  & Myriophyllum crispatum {[}alternative possible names: Myriophyllum papillosum (pro parte misapplied) \\textbar{} Myriophyllum simulans (pro parte misapplied) \\textbar{} Myriophyllum variifolium (pro parte misapplied){]}                                                                                                                                                                                                                                                                                 & Myriophyllum    & species    & APC & accepted & Myriophyllum crispatum Orchard                               & Exact match of taxon name to an APC-known canonical name once punctuation and filler words are removed (2024-08-16) & pro parte misapplied & 1\\\\\n",
       "\t Trachymene saniculifolia                   & Trachymene saniculifolia                   & Trachymene scapigera                    & Trachymene scapigera {[}alternative possible names: Trachymene scapigera (misapplied){]}                                                                                                                                                                                                                                                                                                                                                                                                 & Trachymene      & species    & APC & accepted & Trachymene scapigera (Domin) B.L.Burtt                       & Exact match of taxon name to an APC-known canonical name once punctuation and filler words are removed (2024-08-16) & pro parte misapplied & 1\\\\\n",
       "\t Mukia maderaspatana                        & Mukia maderaspatana                        & Cucumis althaeoides                     & Cucumis althaeoides {[}alternative possible names: Cucumis argenteus (pro parte misapplied) \\textbar{} Cucumis variabilis (pro parte misapplied) \\textbar{} Cucumis althaeoides (misapplied){]}                                                                                                                                                                                                                                                                                                            & Cucumis         & species    & APC & accepted & Cucumis althaeoides (Ser.) P.Sebastian \\& I.Telford           & Exact match of taxon name to an APC-known canonical name once punctuation and filler words are removed (2024-08-16) & pro parte misapplied & 1\\\\\n",
       "\t Salsola tragus                             & Salsola tragus                             & Salsola australis                       & Salsola australis {[}alternative possible names: NA{]}                                                                                                                                                                                                                                                                                                                                                                                                                                   & Salsola         & species    & APC & accepted & Salsola australis R.Br.                                      & Exact match of taxon name to an APC-known canonical name once punctuation and filler words are removed (2024-08-16) & pro parte misapplied & 1\\\\\n",
       "\t Salsola tragus 'strobilifera'              & Salsola tragus                             & Salsola australis                       & Salsola australis {[}alternative possible names: NA{]}                                                                                                                                                                                                                                                                                                                                                                                                                                   & Salsola         & species    & APC & accepted & Salsola australis R.Br.                                      & Exact match of the first two words of the taxon name to an APC-known canonical name (2024-08-16)                    & pro parte misapplied & 1\\\\\n",
       "\t Craspedia uniflora                         & Craspedia uniflora                         & Craspedia haplorrhiza                   & Craspedia haplorrhiza {[}alternative possible names: Craspedia variabilis (pro parte misapplied){]}                                                                                                                                                                                                                                                                                                                                                                                      & Craspedia       & species    & APC & accepted & Craspedia haplorrhiza J.Everett \\& Doust                      & Exact match of taxon name to an APC-known canonical name once punctuation and filler words are removed (2024-08-16) & pro parte misapplied & 1\\\\\n",
       "\t Rubus fruticosus sp. agg.                  & Rubus fruticosus                           & Rubus anglocandicans                    & Rubus anglocandicans {[}alternative possible names: Rubus erythrops (pro parte misapplied) \\textbar{} Rubus laciniatus (pro parte misapplied) \\textbar{} Rubus leucostachys (pro parte misapplied) \\textbar{} Rubus phaeocarpus (pro parte misapplied) \\textbar{} Rubus riddelsdellii (pro parte misapplied) \\textbar{} Rubus rubritinctus (pro parte misapplied) \\textbar{} Rubus ulmifolius var. ulmifolius (pro parte misapplied) \\textbar{} Rubus anglocandicans (misapplied) \\textbar{} Rubus laudatus (misapplied){]}                                      & Rubus           & species    & APC & accepted & Rubus anglocandicans A.Newton                                & Exact match of the first two words of the taxon name to an APC-known canonical name (2024-08-16)                    & pro parte misapplied & 1\\\\\n",
       "\t Lomaria capensis                           & Lomaria capensis                           & Blechnum howeanum                       & Blechnum howeanum {[}alternative possible names: Blechnum wattsii (misapplied){]}                                                                                                                                                                                                                                                                                                                                                                                                        & Blechnum        & species    & APC & accepted & Blechnum howeanum T.C.Chambers \\& P.A.Farrant                 & Exact match of taxon name to an APC-known canonical name once punctuation and filler words are removed (2024-08-16) & pro parte misapplied & 1\\\\\n",
       "\t Apium australe                             & Apium australe                             & Apium annuum                            & Apium annuum {[}alternative possible names: Apium insulare (pro parte misapplied) \\textbar{} Apium prostratum (pro parte misapplied) \\textbar{} Apium prostratum subsp. howense (pro parte misapplied) \\textbar{} Apium prostratum var. filiforme (pro parte misapplied) \\textbar{} Apium prostratum var. prostratum (pro parte misapplied) \\textbar{} Apium graveolens (misapplied) \\textbar{} Apium prostratum (misapplied){]}                                                                                                               & Apium           & species    & APC & accepted & Apium annuum P.S.Short                                       & Exact match of taxon name to an APC-known canonical name once punctuation and filler words are removed (2024-08-16) & pro parte misapplied & 1\\\\\n",
       "\t Leptecophylla juniperina subsp. juniperina & Leptecophylla juniperina subsp. juniperina & Leptecophylla oxycedrus                 & Leptecophylla oxycedrus {[}alternative possible names: Leptecophylla pogonocalyx subsp. decipiens (pro parte misapplied){]}                                                                                                                                                                                                                                                                                                                                                              & Leptecophylla   & subspecies & APC & accepted & Leptecophylla oxycedrus (Labill.) Jarman                     & Exact match of taxon name to an APC-known canonical name once punctuation and filler words are removed (2024-08-16) & pro parte misapplied & 1\\\\\n",
       "\t Malva rotundifolia                         & Malva rotundifolia                         & Malva neglecta                          & Malva neglecta {[}alternative possible names: Malva nicaeensis (pro parte misapplied) \\textbar{} Malva parviflora (misapplied){]}                                                                                                                                                                                                                                                                                                                                                                 & Malva           & species    & APC & accepted & Malva neglecta Wallr.                                        & Exact match of taxon name to an APC-known canonical name once punctuation and filler words are removed (2024-08-16) & pro parte misapplied & 1\\\\\n",
       "\t Cucumis maderaspatanus                     & Cucumis maderaspatanus                     & Cucumis althaeoides                     & Cucumis althaeoides {[}alternative possible names: Cucumis argenteus (pro parte misapplied) \\textbar{} Cucumis variabilis (pro parte misapplied){]}                                                                                                                                                                                                                                                                                                                                               & Cucumis         & species    & APC & accepted & Cucumis althaeoides (Ser.) P.Sebastian \\& I.Telford           & Exact match of taxon name to an APC-known canonical name once punctuation and filler words are removed (2024-08-16) & pro parte misapplied & 1\\\\\n",
       "\t Anisomeles malabarica                      & Anisomeles malabarica                      & Anisomeles inodora                      & Anisomeles inodora {[}alternative possible names: Anisomeles moschata (pro parte misapplied) \\textbar{} Anisomeles salviifolia (pro parte misapplied) \\textbar{} Anisomeles salviifolia (misapplied){]}                                                                                                                                                                                                                                                                                                    & Anisomeles      & species    & APC & accepted & Anisomeles inodora R.Br.                                     & Exact match of taxon name to an APC-known canonical name once punctuation and filler words are removed (2024-08-16) & pro parte misapplied & 1\\\\\n",
       "\t Lycium chinense                            & Lycium chinense                            & Lycium barbarum                         & Lycium barbarum {[}alternative possible names: Lycium ferocissimum (pro parte misapplied) \\textbar{} Lycium barbarum (doubtful misapplied) \\textbar{} Lycium ferocissimum (doubtful misapplied){]}                                                                                                                                                                                                                                                                                                         & Lycium          & species    & APC & accepted & Lycium barbarum L.                                           & Exact match of taxon name to an APC-known canonical name once punctuation and filler words are removed (2024-08-16) & pro parte misapplied & 1\\\\\n",
       "\t Carissa spinarum                           & Carissa spinarum                           & Carissa lanceolata                      & Carissa lanceolata {[}alternative possible names: Carissa laxiflora (pro parte misapplied) \\textbar{} Carissa ovata (pro parte misapplied) \\textbar{} Carissa scabra (pro parte misapplied){]}                                                                                                                                                                                                                                                                                                             & Carissa         & species    & APC & accepted & Carissa lanceolata R.Br.                                     & Exact match of taxon name to an APC-known canonical name once punctuation and filler words are removed (2024-08-16) & pro parte misapplied & 1\\\\\n",
       "\\end{tabular}\n"
      ],
      "text/markdown": [
       "\n",
       "A tibble: 37 × 12\n",
       "\n",
       "| original_name &lt;chr&gt; | aligned_name &lt;chr&gt; | accepted_name &lt;chr&gt; | suggested_name &lt;chr&gt; | genus &lt;chr&gt; | taxon_rank &lt;chr&gt; | taxonomic_dataset &lt;chr&gt; | taxonomic_status &lt;chr&gt; | scientific_name &lt;chr&gt; | aligned_reason &lt;chr&gt; | update_reason &lt;chr&gt; | number_of_collapsed_taxa &lt;dbl&gt; |\n",
       "|---|---|---|---|---|---|---|---|---|---|---|---|\n",
       "| Myriophyllum elatinoides                   | Myriophyllum elatinoides                   | Myriophyllum caput-medusae              | Myriophyllum caput-medusae [alternative possible names: Myriophyllum porcatum (pro parte misapplied) | Myriophyllum salsugineum (pro parte misapplied) | Myriophyllum triphyllum (pro parte misapplied)]                                                                                                                                                                                                                                                                             | Myriophyllum    | species    | APC | accepted | Myriophyllum caput-medusae Orchard                           | Exact match of taxon name to an APC-known canonical name once punctuation and filler words are removed (2024-08-16) | pro parte misapplied | 1 |\n",
       "| Xanthium strumarium                        | Xanthium strumarium                        | Xanthium cavanillesii                   | Xanthium cavanillesii [alternative possible names: Xanthium italicum (pro parte misapplied) | Xanthium occidentale (pro parte misapplied) | Xanthium orientale (pro parte misapplied)]                                                                                                                                                                                                                                                                                               | Xanthium        | species    | APC | accepted | Xanthium cavanillesii Schouw                                 | Exact match of taxon name to an APC-known canonical name once punctuation and filler words are removed (2024-08-16) | pro parte misapplied | 1 |\n",
       "| Mischocarpus sundaicus                     | Mischocarpus sundaicus                     | Mischocarpus australis                  | Mischocarpus australis [alternative possible names: Mischocarpus macrocarpus (pro parte misapplied) | Mischocarpus stipitatus (pro parte misapplied) | Mischocarpus australis (misapplied)]                                                                                                                                                                                                                                                                                          | Mischocarpus    | species    | APC | accepted | Mischocarpus australis S.T.Reynolds                          | Exact match of taxon name to an APC-known canonical name once punctuation and filler words are removed (2024-08-16) | pro parte misapplied | 1 |\n",
       "| Rubus fruticosus                           | Rubus fruticosus                           | Rubus anglocandicans                    | Rubus anglocandicans [alternative possible names: Rubus erythrops (pro parte misapplied) | Rubus laciniatus (pro parte misapplied) | Rubus leucostachys (pro parte misapplied) | Rubus phaeocarpus (pro parte misapplied) | Rubus riddelsdellii (pro parte misapplied) | Rubus rubritinctus (pro parte misapplied) | Rubus ulmifolius var. ulmifolius (pro parte misapplied) | Rubus anglocandicans (misapplied) | Rubus laudatus (misapplied)]                                      | Rubus           | species    | APC | accepted | Rubus anglocandicans A.Newton                                | Exact match of taxon name to an APC-known canonical name once punctuation and filler words are removed (2024-08-16) | pro parte misapplied | 1 |\n",
       "| Phaius tancarvilleae                       | Phaius tancarvilleae                       | Phaius amboinensis                      | Phaius amboinensis [alternative possible names: Phaius australis (pro parte misapplied) | Phaius bernaysii (pro parte misapplied) | Phaius australis (misapplied) | Phaius bernaysii (misapplied)]                                                                                                                                                                                                                                                                                   | Phaius          | species    | APC | accepted | Phaius amboinensis Blume                                     | Exact match of taxon name to an APC-known canonical name once punctuation and filler words are removed (2024-08-16) | pro parte misapplied | 1 |\n",
       "| Cuscuta racemosa                           | Cuscuta racemosa                           | Cuscuta epithymum                       | Cuscuta epithymum [alternative possible names: Cuscuta suaveolens (pro parte misapplied)]                                                                                                                                                                                                                                                                                                                                                                                            | Cuscuta         | species    | APC | accepted | Cuscuta epithymum (L.) L.                                    | Exact match of taxon name to an APC-known canonical name once punctuation and filler words are removed (2024-08-16) | pro parte misapplied | 1 |\n",
       "| Rubus chloocladus                          | Rubus chloocladus                          | Rubus anglocandicans                    | Rubus anglocandicans [alternative possible names: Rubus leucostachys (pro parte misapplied) | Rubus vestitus (pro parte misapplied) | Rubus leucostachys (misapplied)]                                                                                                                                                                                                                                                                                                               | Rubus           | species    | APC | accepted | Rubus anglocandicans A.Newton                                | Exact match of taxon name to an APC-known canonical name once punctuation and filler words are removed (2024-08-16) | pro parte misapplied | 1 |\n",
       "| Festuca elatior                            | Festuca elatior                            | Lolium arundinaceum                     | Lolium arundinaceum [alternative possible names: Lolium pratense (pro parte misapplied)]                                                                                                                                                                                                                                                                                                                                                                                             | Lolium          | species    | APC | accepted | Lolium arundinaceum (Schreb.) Darbysh.                       | Exact match of taxon name to an APC-known canonical name once punctuation and filler words are removed (2024-08-16) | pro parte misapplied | 1 |\n",
       "| Picris hieracioides                        | Picris hieracioides                        | Picris angustifolia subsp. merxmuelleri | Picris angustifolia subsp. merxmuelleri [alternative possible names: Picris angustifolia subsp. angustifolia (misapplied) | Picris angustifolia subsp. merxmuelleri (misapplied)]                                                                                                                                                                                                                                                                                                    | Picris          | species    | APC | accepted | Picris angustifolia subsp. merxmuelleri Lack &amp; S.Holzapfel   | Exact match of taxon name to an APC-known canonical name once punctuation and filler words are removed (2024-08-16) | pro parte misapplied | 1 |\n",
       "| Rubus discolor                             | Rubus discolor                             | Rubus anglocandicans                    | Rubus anglocandicans [alternative possible names: Rubus anglocandicans (misapplied)]                                                                                                                                                                                                                                                                                                                                                                                                 | Rubus           | species    | APC | accepted | Rubus anglocandicans A.Newton                                | Exact match of taxon name to an APC-known canonical name once punctuation and filler words are removed (2024-08-16) | pro parte misapplied | 1 |\n",
       "| Physalis viscosa                           | Physalis viscosa                           | Physalis crassifolia var. versicolor    | Physalis crassifolia var. versicolor [alternative possible names: Physalis hederifolia (pro parte misapplied) | Physalis crassifolia var. versicolor (misapplied) | Physalis hederifolia (misapplied)]                                                                                                                                                                                                                                                                               | Physalis        | species    | APC | accepted | Physalis crassifolia var. versicolor (Rydb.) Waterf.         | Exact match of taxon name to an APC-known canonical name once punctuation and filler words are removed (2024-08-16) | pro parte misapplied | 1 |\n",
       "| Taraxacum magellanicum                     | Taraxacum magellanicum                     | Taraxacum aristum                       | Taraxacum aristum [alternative possible names: NA]                                                                                                                                                                                                                                                                                                                                                                                                                                   | Taraxacum       | species    | APC | accepted | Taraxacum aristum G.E.Haglund &amp; Markl.                       | Exact match of taxon name to an APC-known canonical name once punctuation and filler words are removed (2024-08-16) | pro parte misapplied | 1 |\n",
       "| Senecio lautus                             | Senecio lautus                             | Senecio depressicola                    | Senecio depressicola [alternative possible names: Senecio eremicola (pro parte misapplied) | Senecio lacustrinus (pro parte misapplied) | Senecio pinnatifolius (pro parte misapplied) | Senecio pinnatifolius var. lanceolatus (pro parte misapplied) | Senecio pinnatifolius var. maritimus (pro parte misapplied) | Senecio spanomerus (pro parte misapplied) | Senecio spathulatus (pro parte misapplied) | Senecio australis (misapplied) | Senecio pinnatifolius (misapplied)] | Senecio         | species    | APC | accepted | Senecio depressicola I.Thomps.                               | Exact match of taxon name to an APC-known canonical name once punctuation and filler words are removed (2024-08-16) | pro parte misapplied | 1 |\n",
       "| Lastreopsis decomposita                    | Lastreopsis decomposita                    | Parapolystichum calanthum               | Parapolystichum calanthum [alternative possible names: NA]                                                                                                                                                                                                                                                                                                                                                                                                                           | Parapolystichum | species    | APC | accepted | Parapolystichum calanthum (Endl.) J.J.S.Gardner &amp; Nagalingum | Exact match of taxon name to an APC-known canonical name once punctuation and filler words are removed (2024-08-16) | pro parte misapplied | 1 |\n",
       "| Salsola kali                               | Salsola kali                               | Salsola australis                       | Salsola australis [alternative possible names: Salsola australis (misapplied)]                                                                                                                                                                                                                                                                                                                                                                                                       | Salsola         | species    | APC | accepted | Salsola australis R.Br.                                      | Exact match of taxon name to an APC-known canonical name once punctuation and filler words are removed (2024-08-16) | pro parte misapplied | 1 |\n",
       "| Lupinus hirsutus                           | Lupinus hirsutus                           | Lupinus cosentinii                      | Lupinus cosentinii [alternative possible names: Lupinus angustifolius (misapplied)]                                                                                                                                                                                                                                                                                                                                                                                                  | Lupinus         | species    | APC | accepted | Lupinus cosentinii Guss.                                     | Exact match of taxon name to an APC-known canonical name once punctuation and filler words are removed (2024-08-16) | pro parte misapplied | 1 |\n",
       "| Eryngium rostratum                         | Eryngium rostratum                         | Eryngium ovinum                         | Eryngium ovinum [alternative possible names: Eryngium pinnatifidum (pro parte misapplied) | Eryngium ovinum (misapplied) | Eryngium pinnatifidum (misapplied)]                                                                                                                                                                                                                                                                                                                       | Eryngium        | species    | APC | accepted | Eryngium ovinum A.Cunn.                                      | Exact match of taxon name to an APC-known canonical name once punctuation and filler words are removed (2024-08-16) | pro parte misapplied | 1 |\n",
       "| Hibiscus trionum                           | Hibiscus trionum                           | Hibiscus richardsonii                   | Hibiscus richardsonii [alternative possible names: Hibiscus tridactylites (pro parte misapplied) | Hibiscus verdcourtii (pro parte misapplied) | Hibiscus verdcourtii (misapplied)]                                                                                                                                                                                                                                                                                                  | Hibiscus        | species    | APC | accepted | Hibiscus richardsonii Sweet ex Lindl.                        | Exact match of taxon name to an APC-known canonical name once punctuation and filler words are removed (2024-08-16) | pro parte misapplied | 1 |\n",
       "| Sium latifolium                            | Sium latifolium                            | Berula erecta                           | Berula erecta [alternative possible names: Berula erecta (misapplied)]                                                                                                                                                                                                                                                                                                                                                                                                               | Berula          | species    | APC | accepted | Berula erecta (Huds.) Coville                                | Exact match of taxon name to an APC-known canonical name once punctuation and filler words are removed (2024-08-16) | pro parte misapplied | 1 |\n",
       "| Caladenia lyallii                          | Caladenia lyallii                          | Caladenia alpina                        | Caladenia alpina [alternative possible names: Caladenia cracens (pro parte misapplied) | Caladenia alpina (misapplied)]                                                                                                                                                                                                                                                                                                                                                              | Caladenia       | species    | APC | accepted | Caladenia alpina R.S.Rogers                                  | Exact match of taxon name to an APC-known canonical name once punctuation and filler words are removed (2024-08-16) | pro parte misapplied | 1 |\n",
       "| Stylidium uliginosum                       | Stylidium uliginosum                       | Stylidium tenerum                       | Stylidium tenerum [alternative possible names: Stylidium tenerum (misapplied)]                                                                                                                                                                                                                                                                                                                                                                                                       | Stylidium       | species    | APC | accepted | Stylidium tenerum Spreng.                                    | Exact match of taxon name to an APC-known canonical name once punctuation and filler words are removed (2024-08-16) | pro parte misapplied | 1 |\n",
       "| Drosera indica                             | Drosera indica                             | Drosera finlaysoniana                   | Drosera finlaysoniana [alternative possible names: Drosera finlaysoniana (misapplied)]                                                                                                                                                                                                                                                                                                                                                                                               | Drosera         | species    | APC | accepted | Drosera finlaysoniana Wall. ex Arn.                          | Exact match of taxon name to an APC-known canonical name once punctuation and filler words are removed (2024-08-16) | pro parte misapplied | 1 |\n",
       "| Myriophyllum propinquum                    | Myriophyllum propinquum                    | Myriophyllum crispatum                  | Myriophyllum crispatum [alternative possible names: Myriophyllum papillosum (pro parte misapplied) | Myriophyllum simulans (pro parte misapplied) | Myriophyllum variifolium (pro parte misapplied)]                                                                                                                                                                                                                                                                                 | Myriophyllum    | species    | APC | accepted | Myriophyllum crispatum Orchard                               | Exact match of taxon name to an APC-known canonical name once punctuation and filler words are removed (2024-08-16) | pro parte misapplied | 1 |\n",
       "| Trachymene saniculifolia                   | Trachymene saniculifolia                   | Trachymene scapigera                    | Trachymene scapigera [alternative possible names: Trachymene scapigera (misapplied)]                                                                                                                                                                                                                                                                                                                                                                                                 | Trachymene      | species    | APC | accepted | Trachymene scapigera (Domin) B.L.Burtt                       | Exact match of taxon name to an APC-known canonical name once punctuation and filler words are removed (2024-08-16) | pro parte misapplied | 1 |\n",
       "| Mukia maderaspatana                        | Mukia maderaspatana                        | Cucumis althaeoides                     | Cucumis althaeoides [alternative possible names: Cucumis argenteus (pro parte misapplied) | Cucumis variabilis (pro parte misapplied) | Cucumis althaeoides (misapplied)]                                                                                                                                                                                                                                                                                                            | Cucumis         | species    | APC | accepted | Cucumis althaeoides (Ser.) P.Sebastian &amp; I.Telford           | Exact match of taxon name to an APC-known canonical name once punctuation and filler words are removed (2024-08-16) | pro parte misapplied | 1 |\n",
       "| Salsola tragus                             | Salsola tragus                             | Salsola australis                       | Salsola australis [alternative possible names: NA]                                                                                                                                                                                                                                                                                                                                                                                                                                   | Salsola         | species    | APC | accepted | Salsola australis R.Br.                                      | Exact match of taxon name to an APC-known canonical name once punctuation and filler words are removed (2024-08-16) | pro parte misapplied | 1 |\n",
       "| Salsola tragus 'strobilifera'              | Salsola tragus                             | Salsola australis                       | Salsola australis [alternative possible names: NA]                                                                                                                                                                                                                                                                                                                                                                                                                                   | Salsola         | species    | APC | accepted | Salsola australis R.Br.                                      | Exact match of the first two words of the taxon name to an APC-known canonical name (2024-08-16)                    | pro parte misapplied | 1 |\n",
       "| Craspedia uniflora                         | Craspedia uniflora                         | Craspedia haplorrhiza                   | Craspedia haplorrhiza [alternative possible names: Craspedia variabilis (pro parte misapplied)]                                                                                                                                                                                                                                                                                                                                                                                      | Craspedia       | species    | APC | accepted | Craspedia haplorrhiza J.Everett &amp; Doust                      | Exact match of taxon name to an APC-known canonical name once punctuation and filler words are removed (2024-08-16) | pro parte misapplied | 1 |\n",
       "| Rubus fruticosus sp. agg.                  | Rubus fruticosus                           | Rubus anglocandicans                    | Rubus anglocandicans [alternative possible names: Rubus erythrops (pro parte misapplied) | Rubus laciniatus (pro parte misapplied) | Rubus leucostachys (pro parte misapplied) | Rubus phaeocarpus (pro parte misapplied) | Rubus riddelsdellii (pro parte misapplied) | Rubus rubritinctus (pro parte misapplied) | Rubus ulmifolius var. ulmifolius (pro parte misapplied) | Rubus anglocandicans (misapplied) | Rubus laudatus (misapplied)]                                      | Rubus           | species    | APC | accepted | Rubus anglocandicans A.Newton                                | Exact match of the first two words of the taxon name to an APC-known canonical name (2024-08-16)                    | pro parte misapplied | 1 |\n",
       "| Lomaria capensis                           | Lomaria capensis                           | Blechnum howeanum                       | Blechnum howeanum [alternative possible names: Blechnum wattsii (misapplied)]                                                                                                                                                                                                                                                                                                                                                                                                        | Blechnum        | species    | APC | accepted | Blechnum howeanum T.C.Chambers &amp; P.A.Farrant                 | Exact match of taxon name to an APC-known canonical name once punctuation and filler words are removed (2024-08-16) | pro parte misapplied | 1 |\n",
       "| Apium australe                             | Apium australe                             | Apium annuum                            | Apium annuum [alternative possible names: Apium insulare (pro parte misapplied) | Apium prostratum (pro parte misapplied) | Apium prostratum subsp. howense (pro parte misapplied) | Apium prostratum var. filiforme (pro parte misapplied) | Apium prostratum var. prostratum (pro parte misapplied) | Apium graveolens (misapplied) | Apium prostratum (misapplied)]                                                                                                               | Apium           | species    | APC | accepted | Apium annuum P.S.Short                                       | Exact match of taxon name to an APC-known canonical name once punctuation and filler words are removed (2024-08-16) | pro parte misapplied | 1 |\n",
       "| Leptecophylla juniperina subsp. juniperina | Leptecophylla juniperina subsp. juniperina | Leptecophylla oxycedrus                 | Leptecophylla oxycedrus [alternative possible names: Leptecophylla pogonocalyx subsp. decipiens (pro parte misapplied)]                                                                                                                                                                                                                                                                                                                                                              | Leptecophylla   | subspecies | APC | accepted | Leptecophylla oxycedrus (Labill.) Jarman                     | Exact match of taxon name to an APC-known canonical name once punctuation and filler words are removed (2024-08-16) | pro parte misapplied | 1 |\n",
       "| Malva rotundifolia                         | Malva rotundifolia                         | Malva neglecta                          | Malva neglecta [alternative possible names: Malva nicaeensis (pro parte misapplied) | Malva parviflora (misapplied)]                                                                                                                                                                                                                                                                                                                                                                 | Malva           | species    | APC | accepted | Malva neglecta Wallr.                                        | Exact match of taxon name to an APC-known canonical name once punctuation and filler words are removed (2024-08-16) | pro parte misapplied | 1 |\n",
       "| Cucumis maderaspatanus                     | Cucumis maderaspatanus                     | Cucumis althaeoides                     | Cucumis althaeoides [alternative possible names: Cucumis argenteus (pro parte misapplied) | Cucumis variabilis (pro parte misapplied)]                                                                                                                                                                                                                                                                                                                                               | Cucumis         | species    | APC | accepted | Cucumis althaeoides (Ser.) P.Sebastian &amp; I.Telford           | Exact match of taxon name to an APC-known canonical name once punctuation and filler words are removed (2024-08-16) | pro parte misapplied | 1 |\n",
       "| Anisomeles malabarica                      | Anisomeles malabarica                      | Anisomeles inodora                      | Anisomeles inodora [alternative possible names: Anisomeles moschata (pro parte misapplied) | Anisomeles salviifolia (pro parte misapplied) | Anisomeles salviifolia (misapplied)]                                                                                                                                                                                                                                                                                                    | Anisomeles      | species    | APC | accepted | Anisomeles inodora R.Br.                                     | Exact match of taxon name to an APC-known canonical name once punctuation and filler words are removed (2024-08-16) | pro parte misapplied | 1 |\n",
       "| Lycium chinense                            | Lycium chinense                            | Lycium barbarum                         | Lycium barbarum [alternative possible names: Lycium ferocissimum (pro parte misapplied) | Lycium barbarum (doubtful misapplied) | Lycium ferocissimum (doubtful misapplied)]                                                                                                                                                                                                                                                                                                         | Lycium          | species    | APC | accepted | Lycium barbarum L.                                           | Exact match of taxon name to an APC-known canonical name once punctuation and filler words are removed (2024-08-16) | pro parte misapplied | 1 |\n",
       "| Carissa spinarum                           | Carissa spinarum                           | Carissa lanceolata                      | Carissa lanceolata [alternative possible names: Carissa laxiflora (pro parte misapplied) | Carissa ovata (pro parte misapplied) | Carissa scabra (pro parte misapplied)]                                                                                                                                                                                                                                                                                                             | Carissa         | species    | APC | accepted | Carissa lanceolata R.Br.                                     | Exact match of taxon name to an APC-known canonical name once punctuation and filler words are removed (2024-08-16) | pro parte misapplied | 1 |\n",
       "\n"
      ],
      "text/plain": [
       "   original_name                             \n",
       "1  Myriophyllum elatinoides                  \n",
       "2  Xanthium strumarium                       \n",
       "3  Mischocarpus sundaicus                    \n",
       "4  Rubus fruticosus                          \n",
       "5  Phaius tancarvilleae                      \n",
       "6  Cuscuta racemosa                          \n",
       "7  Rubus chloocladus                         \n",
       "8  Festuca elatior                           \n",
       "9  Picris hieracioides                       \n",
       "10 Rubus discolor                            \n",
       "11 Physalis viscosa                          \n",
       "12 Taraxacum magellanicum                    \n",
       "13 Senecio lautus                            \n",
       "14 Lastreopsis decomposita                   \n",
       "15 Salsola kali                              \n",
       "16 Lupinus hirsutus                          \n",
       "17 Eryngium rostratum                        \n",
       "18 Hibiscus trionum                          \n",
       "19 Sium latifolium                           \n",
       "20 Caladenia lyallii                         \n",
       "21 Stylidium uliginosum                      \n",
       "22 Drosera indica                            \n",
       "23 Myriophyllum propinquum                   \n",
       "24 Trachymene saniculifolia                  \n",
       "25 Mukia maderaspatana                       \n",
       "26 Salsola tragus                            \n",
       "27 Salsola tragus 'strobilifera'             \n",
       "28 Craspedia uniflora                        \n",
       "29 Rubus fruticosus sp. agg.                 \n",
       "30 Lomaria capensis                          \n",
       "31 Apium australe                            \n",
       "32 Leptecophylla juniperina subsp. juniperina\n",
       "33 Malva rotundifolia                        \n",
       "34 Cucumis maderaspatanus                    \n",
       "35 Anisomeles malabarica                     \n",
       "36 Lycium chinense                           \n",
       "37 Carissa spinarum                          \n",
       "   aligned_name                              \n",
       "1  Myriophyllum elatinoides                  \n",
       "2  Xanthium strumarium                       \n",
       "3  Mischocarpus sundaicus                    \n",
       "4  Rubus fruticosus                          \n",
       "5  Phaius tancarvilleae                      \n",
       "6  Cuscuta racemosa                          \n",
       "7  Rubus chloocladus                         \n",
       "8  Festuca elatior                           \n",
       "9  Picris hieracioides                       \n",
       "10 Rubus discolor                            \n",
       "11 Physalis viscosa                          \n",
       "12 Taraxacum magellanicum                    \n",
       "13 Senecio lautus                            \n",
       "14 Lastreopsis decomposita                   \n",
       "15 Salsola kali                              \n",
       "16 Lupinus hirsutus                          \n",
       "17 Eryngium rostratum                        \n",
       "18 Hibiscus trionum                          \n",
       "19 Sium latifolium                           \n",
       "20 Caladenia lyallii                         \n",
       "21 Stylidium uliginosum                      \n",
       "22 Drosera indica                            \n",
       "23 Myriophyllum propinquum                   \n",
       "24 Trachymene saniculifolia                  \n",
       "25 Mukia maderaspatana                       \n",
       "26 Salsola tragus                            \n",
       "27 Salsola tragus                            \n",
       "28 Craspedia uniflora                        \n",
       "29 Rubus fruticosus                          \n",
       "30 Lomaria capensis                          \n",
       "31 Apium australe                            \n",
       "32 Leptecophylla juniperina subsp. juniperina\n",
       "33 Malva rotundifolia                        \n",
       "34 Cucumis maderaspatanus                    \n",
       "35 Anisomeles malabarica                     \n",
       "36 Lycium chinense                           \n",
       "37 Carissa spinarum                          \n",
       "   accepted_name                          \n",
       "1  Myriophyllum caput-medusae             \n",
       "2  Xanthium cavanillesii                  \n",
       "3  Mischocarpus australis                 \n",
       "4  Rubus anglocandicans                   \n",
       "5  Phaius amboinensis                     \n",
       "6  Cuscuta epithymum                      \n",
       "7  Rubus anglocandicans                   \n",
       "8  Lolium arundinaceum                    \n",
       "9  Picris angustifolia subsp. merxmuelleri\n",
       "10 Rubus anglocandicans                   \n",
       "11 Physalis crassifolia var. versicolor   \n",
       "12 Taraxacum aristum                      \n",
       "13 Senecio depressicola                   \n",
       "14 Parapolystichum calanthum              \n",
       "15 Salsola australis                      \n",
       "16 Lupinus cosentinii                     \n",
       "17 Eryngium ovinum                        \n",
       "18 Hibiscus richardsonii                  \n",
       "19 Berula erecta                          \n",
       "20 Caladenia alpina                       \n",
       "21 Stylidium tenerum                      \n",
       "22 Drosera finlaysoniana                  \n",
       "23 Myriophyllum crispatum                 \n",
       "24 Trachymene scapigera                   \n",
       "25 Cucumis althaeoides                    \n",
       "26 Salsola australis                      \n",
       "27 Salsola australis                      \n",
       "28 Craspedia haplorrhiza                  \n",
       "29 Rubus anglocandicans                   \n",
       "30 Blechnum howeanum                      \n",
       "31 Apium annuum                           \n",
       "32 Leptecophylla oxycedrus                \n",
       "33 Malva neglecta                         \n",
       "34 Cucumis althaeoides                    \n",
       "35 Anisomeles inodora                     \n",
       "36 Lycium barbarum                        \n",
       "37 Carissa lanceolata                     \n",
       "   suggested_name                                                                                                                                                                                                                                                                                                                                                                                                                                                                      \n",
       "1  Myriophyllum caput-medusae [alternative possible names: Myriophyllum porcatum (pro parte misapplied) | Myriophyllum salsugineum (pro parte misapplied) | Myriophyllum triphyllum (pro parte misapplied)]                                                                                                                                                                                                                                                                            \n",
       "2  Xanthium cavanillesii [alternative possible names: Xanthium italicum (pro parte misapplied) | Xanthium occidentale (pro parte misapplied) | Xanthium orientale (pro parte misapplied)]                                                                                                                                                                                                                                                                                              \n",
       "3  Mischocarpus australis [alternative possible names: Mischocarpus macrocarpus (pro parte misapplied) | Mischocarpus stipitatus (pro parte misapplied) | Mischocarpus australis (misapplied)]                                                                                                                                                                                                                                                                                         \n",
       "4  Rubus anglocandicans [alternative possible names: Rubus erythrops (pro parte misapplied) | Rubus laciniatus (pro parte misapplied) | Rubus leucostachys (pro parte misapplied) | Rubus phaeocarpus (pro parte misapplied) | Rubus riddelsdellii (pro parte misapplied) | Rubus rubritinctus (pro parte misapplied) | Rubus ulmifolius var. ulmifolius (pro parte misapplied) | Rubus anglocandicans (misapplied) | Rubus laudatus (misapplied)]                                     \n",
       "5  Phaius amboinensis [alternative possible names: Phaius australis (pro parte misapplied) | Phaius bernaysii (pro parte misapplied) | Phaius australis (misapplied) | Phaius bernaysii (misapplied)]                                                                                                                                                                                                                                                                                  \n",
       "6  Cuscuta epithymum [alternative possible names: Cuscuta suaveolens (pro parte misapplied)]                                                                                                                                                                                                                                                                                                                                                                                           \n",
       "7  Rubus anglocandicans [alternative possible names: Rubus leucostachys (pro parte misapplied) | Rubus vestitus (pro parte misapplied) | Rubus leucostachys (misapplied)]                                                                                                                                                                                                                                                                                                              \n",
       "8  Lolium arundinaceum [alternative possible names: Lolium pratense (pro parte misapplied)]                                                                                                                                                                                                                                                                                                                                                                                            \n",
       "9  Picris angustifolia subsp. merxmuelleri [alternative possible names: Picris angustifolia subsp. angustifolia (misapplied) | Picris angustifolia subsp. merxmuelleri (misapplied)]                                                                                                                                                                                                                                                                                                   \n",
       "10 Rubus anglocandicans [alternative possible names: Rubus anglocandicans (misapplied)]                                                                                                                                                                                                                                                                                                                                                                                                \n",
       "11 Physalis crassifolia var. versicolor [alternative possible names: Physalis hederifolia (pro parte misapplied) | Physalis crassifolia var. versicolor (misapplied) | Physalis hederifolia (misapplied)]                                                                                                                                                                                                                                                                              \n",
       "12 Taraxacum aristum [alternative possible names: NA]                                                                                                                                                                                                                                                                                                                                                                                                                                  \n",
       "13 Senecio depressicola [alternative possible names: Senecio eremicola (pro parte misapplied) | Senecio lacustrinus (pro parte misapplied) | Senecio pinnatifolius (pro parte misapplied) | Senecio pinnatifolius var. lanceolatus (pro parte misapplied) | Senecio pinnatifolius var. maritimus (pro parte misapplied) | Senecio spanomerus (pro parte misapplied) | Senecio spathulatus (pro parte misapplied) | Senecio australis (misapplied) | Senecio pinnatifolius (misapplied)]\n",
       "14 Parapolystichum calanthum [alternative possible names: NA]                                                                                                                                                                                                                                                                                                                                                                                                                          \n",
       "15 Salsola australis [alternative possible names: Salsola australis (misapplied)]                                                                                                                                                                                                                                                                                                                                                                                                      \n",
       "16 Lupinus cosentinii [alternative possible names: Lupinus angustifolius (misapplied)]                                                                                                                                                                                                                                                                                                                                                                                                 \n",
       "17 Eryngium ovinum [alternative possible names: Eryngium pinnatifidum (pro parte misapplied) | Eryngium ovinum (misapplied) | Eryngium pinnatifidum (misapplied)]                                                                                                                                                                                                                                                                                                                      \n",
       "18 Hibiscus richardsonii [alternative possible names: Hibiscus tridactylites (pro parte misapplied) | Hibiscus verdcourtii (pro parte misapplied) | Hibiscus verdcourtii (misapplied)]                                                                                                                                                                                                                                                                                                 \n",
       "19 Berula erecta [alternative possible names: Berula erecta (misapplied)]                                                                                                                                                                                                                                                                                                                                                                                                              \n",
       "20 Caladenia alpina [alternative possible names: Caladenia cracens (pro parte misapplied) | Caladenia alpina (misapplied)]                                                                                                                                                                                                                                                                                                                                                             \n",
       "21 Stylidium tenerum [alternative possible names: Stylidium tenerum (misapplied)]                                                                                                                                                                                                                                                                                                                                                                                                      \n",
       "22 Drosera finlaysoniana [alternative possible names: Drosera finlaysoniana (misapplied)]                                                                                                                                                                                                                                                                                                                                                                                              \n",
       "23 Myriophyllum crispatum [alternative possible names: Myriophyllum papillosum (pro parte misapplied) | Myriophyllum simulans (pro parte misapplied) | Myriophyllum variifolium (pro parte misapplied)]                                                                                                                                                                                                                                                                                \n",
       "24 Trachymene scapigera [alternative possible names: Trachymene scapigera (misapplied)]                                                                                                                                                                                                                                                                                                                                                                                                \n",
       "25 Cucumis althaeoides [alternative possible names: Cucumis argenteus (pro parte misapplied) | Cucumis variabilis (pro parte misapplied) | Cucumis althaeoides (misapplied)]                                                                                                                                                                                                                                                                                                           \n",
       "26 Salsola australis [alternative possible names: NA]                                                                                                                                                                                                                                                                                                                                                                                                                                  \n",
       "27 Salsola australis [alternative possible names: NA]                                                                                                                                                                                                                                                                                                                                                                                                                                  \n",
       "28 Craspedia haplorrhiza [alternative possible names: Craspedia variabilis (pro parte misapplied)]                                                                                                                                                                                                                                                                                                                                                                                     \n",
       "29 Rubus anglocandicans [alternative possible names: Rubus erythrops (pro parte misapplied) | Rubus laciniatus (pro parte misapplied) | Rubus leucostachys (pro parte misapplied) | Rubus phaeocarpus (pro parte misapplied) | Rubus riddelsdellii (pro parte misapplied) | Rubus rubritinctus (pro parte misapplied) | Rubus ulmifolius var. ulmifolius (pro parte misapplied) | Rubus anglocandicans (misapplied) | Rubus laudatus (misapplied)]                                     \n",
       "30 Blechnum howeanum [alternative possible names: Blechnum wattsii (misapplied)]                                                                                                                                                                                                                                                                                                                                                                                                       \n",
       "31 Apium annuum [alternative possible names: Apium insulare (pro parte misapplied) | Apium prostratum (pro parte misapplied) | Apium prostratum subsp. howense (pro parte misapplied) | Apium prostratum var. filiforme (pro parte misapplied) | Apium prostratum var. prostratum (pro parte misapplied) | Apium graveolens (misapplied) | Apium prostratum (misapplied)]                                                                                                              \n",
       "32 Leptecophylla oxycedrus [alternative possible names: Leptecophylla pogonocalyx subsp. decipiens (pro parte misapplied)]                                                                                                                                                                                                                                                                                                                                                             \n",
       "33 Malva neglecta [alternative possible names: Malva nicaeensis (pro parte misapplied) | Malva parviflora (misapplied)]                                                                                                                                                                                                                                                                                                                                                                \n",
       "34 Cucumis althaeoides [alternative possible names: Cucumis argenteus (pro parte misapplied) | Cucumis variabilis (pro parte misapplied)]                                                                                                                                                                                                                                                                                                                                              \n",
       "35 Anisomeles inodora [alternative possible names: Anisomeles moschata (pro parte misapplied) | Anisomeles salviifolia (pro parte misapplied) | Anisomeles salviifolia (misapplied)]                                                                                                                                                                                                                                                                                                   \n",
       "36 Lycium barbarum [alternative possible names: Lycium ferocissimum (pro parte misapplied) | Lycium barbarum (doubtful misapplied) | Lycium ferocissimum (doubtful misapplied)]                                                                                                                                                                                                                                                                                                        \n",
       "37 Carissa lanceolata [alternative possible names: Carissa laxiflora (pro parte misapplied) | Carissa ovata (pro parte misapplied) | Carissa scabra (pro parte misapplied)]                                                                                                                                                                                                                                                                                                            \n",
       "   genus           taxon_rank taxonomic_dataset taxonomic_status\n",
       "1  Myriophyllum    species    APC               accepted        \n",
       "2  Xanthium        species    APC               accepted        \n",
       "3  Mischocarpus    species    APC               accepted        \n",
       "4  Rubus           species    APC               accepted        \n",
       "5  Phaius          species    APC               accepted        \n",
       "6  Cuscuta         species    APC               accepted        \n",
       "7  Rubus           species    APC               accepted        \n",
       "8  Lolium          species    APC               accepted        \n",
       "9  Picris          species    APC               accepted        \n",
       "10 Rubus           species    APC               accepted        \n",
       "11 Physalis        species    APC               accepted        \n",
       "12 Taraxacum       species    APC               accepted        \n",
       "13 Senecio         species    APC               accepted        \n",
       "14 Parapolystichum species    APC               accepted        \n",
       "15 Salsola         species    APC               accepted        \n",
       "16 Lupinus         species    APC               accepted        \n",
       "17 Eryngium        species    APC               accepted        \n",
       "18 Hibiscus        species    APC               accepted        \n",
       "19 Berula          species    APC               accepted        \n",
       "20 Caladenia       species    APC               accepted        \n",
       "21 Stylidium       species    APC               accepted        \n",
       "22 Drosera         species    APC               accepted        \n",
       "23 Myriophyllum    species    APC               accepted        \n",
       "24 Trachymene      species    APC               accepted        \n",
       "25 Cucumis         species    APC               accepted        \n",
       "26 Salsola         species    APC               accepted        \n",
       "27 Salsola         species    APC               accepted        \n",
       "28 Craspedia       species    APC               accepted        \n",
       "29 Rubus           species    APC               accepted        \n",
       "30 Blechnum        species    APC               accepted        \n",
       "31 Apium           species    APC               accepted        \n",
       "32 Leptecophylla   subspecies APC               accepted        \n",
       "33 Malva           species    APC               accepted        \n",
       "34 Cucumis         species    APC               accepted        \n",
       "35 Anisomeles      species    APC               accepted        \n",
       "36 Lycium          species    APC               accepted        \n",
       "37 Carissa         species    APC               accepted        \n",
       "   scientific_name                                             \n",
       "1  Myriophyllum caput-medusae Orchard                          \n",
       "2  Xanthium cavanillesii Schouw                                \n",
       "3  Mischocarpus australis S.T.Reynolds                         \n",
       "4  Rubus anglocandicans A.Newton                               \n",
       "5  Phaius amboinensis Blume                                    \n",
       "6  Cuscuta epithymum (L.) L.                                   \n",
       "7  Rubus anglocandicans A.Newton                               \n",
       "8  Lolium arundinaceum (Schreb.) Darbysh.                      \n",
       "9  Picris angustifolia subsp. merxmuelleri Lack & S.Holzapfel  \n",
       "10 Rubus anglocandicans A.Newton                               \n",
       "11 Physalis crassifolia var. versicolor (Rydb.) Waterf.        \n",
       "12 Taraxacum aristum G.E.Haglund & Markl.                      \n",
       "13 Senecio depressicola I.Thomps.                              \n",
       "14 Parapolystichum calanthum (Endl.) J.J.S.Gardner & Nagalingum\n",
       "15 Salsola australis R.Br.                                     \n",
       "16 Lupinus cosentinii Guss.                                    \n",
       "17 Eryngium ovinum A.Cunn.                                     \n",
       "18 Hibiscus richardsonii Sweet ex Lindl.                       \n",
       "19 Berula erecta (Huds.) Coville                               \n",
       "20 Caladenia alpina R.S.Rogers                                 \n",
       "21 Stylidium tenerum Spreng.                                   \n",
       "22 Drosera finlaysoniana Wall. ex Arn.                         \n",
       "23 Myriophyllum crispatum Orchard                              \n",
       "24 Trachymene scapigera (Domin) B.L.Burtt                      \n",
       "25 Cucumis althaeoides (Ser.) P.Sebastian & I.Telford          \n",
       "26 Salsola australis R.Br.                                     \n",
       "27 Salsola australis R.Br.                                     \n",
       "28 Craspedia haplorrhiza J.Everett & Doust                     \n",
       "29 Rubus anglocandicans A.Newton                               \n",
       "30 Blechnum howeanum T.C.Chambers & P.A.Farrant                \n",
       "31 Apium annuum P.S.Short                                      \n",
       "32 Leptecophylla oxycedrus (Labill.) Jarman                    \n",
       "33 Malva neglecta Wallr.                                       \n",
       "34 Cucumis althaeoides (Ser.) P.Sebastian & I.Telford          \n",
       "35 Anisomeles inodora R.Br.                                    \n",
       "36 Lycium barbarum L.                                          \n",
       "37 Carissa lanceolata R.Br.                                    \n",
       "   aligned_reason                                                                                                     \n",
       "1  Exact match of taxon name to an APC-known canonical name once punctuation and filler words are removed (2024-08-16)\n",
       "2  Exact match of taxon name to an APC-known canonical name once punctuation and filler words are removed (2024-08-16)\n",
       "3  Exact match of taxon name to an APC-known canonical name once punctuation and filler words are removed (2024-08-16)\n",
       "4  Exact match of taxon name to an APC-known canonical name once punctuation and filler words are removed (2024-08-16)\n",
       "5  Exact match of taxon name to an APC-known canonical name once punctuation and filler words are removed (2024-08-16)\n",
       "6  Exact match of taxon name to an APC-known canonical name once punctuation and filler words are removed (2024-08-16)\n",
       "7  Exact match of taxon name to an APC-known canonical name once punctuation and filler words are removed (2024-08-16)\n",
       "8  Exact match of taxon name to an APC-known canonical name once punctuation and filler words are removed (2024-08-16)\n",
       "9  Exact match of taxon name to an APC-known canonical name once punctuation and filler words are removed (2024-08-16)\n",
       "10 Exact match of taxon name to an APC-known canonical name once punctuation and filler words are removed (2024-08-16)\n",
       "11 Exact match of taxon name to an APC-known canonical name once punctuation and filler words are removed (2024-08-16)\n",
       "12 Exact match of taxon name to an APC-known canonical name once punctuation and filler words are removed (2024-08-16)\n",
       "13 Exact match of taxon name to an APC-known canonical name once punctuation and filler words are removed (2024-08-16)\n",
       "14 Exact match of taxon name to an APC-known canonical name once punctuation and filler words are removed (2024-08-16)\n",
       "15 Exact match of taxon name to an APC-known canonical name once punctuation and filler words are removed (2024-08-16)\n",
       "16 Exact match of taxon name to an APC-known canonical name once punctuation and filler words are removed (2024-08-16)\n",
       "17 Exact match of taxon name to an APC-known canonical name once punctuation and filler words are removed (2024-08-16)\n",
       "18 Exact match of taxon name to an APC-known canonical name once punctuation and filler words are removed (2024-08-16)\n",
       "19 Exact match of taxon name to an APC-known canonical name once punctuation and filler words are removed (2024-08-16)\n",
       "20 Exact match of taxon name to an APC-known canonical name once punctuation and filler words are removed (2024-08-16)\n",
       "21 Exact match of taxon name to an APC-known canonical name once punctuation and filler words are removed (2024-08-16)\n",
       "22 Exact match of taxon name to an APC-known canonical name once punctuation and filler words are removed (2024-08-16)\n",
       "23 Exact match of taxon name to an APC-known canonical name once punctuation and filler words are removed (2024-08-16)\n",
       "24 Exact match of taxon name to an APC-known canonical name once punctuation and filler words are removed (2024-08-16)\n",
       "25 Exact match of taxon name to an APC-known canonical name once punctuation and filler words are removed (2024-08-16)\n",
       "26 Exact match of taxon name to an APC-known canonical name once punctuation and filler words are removed (2024-08-16)\n",
       "27 Exact match of the first two words of the taxon name to an APC-known canonical name (2024-08-16)                   \n",
       "28 Exact match of taxon name to an APC-known canonical name once punctuation and filler words are removed (2024-08-16)\n",
       "29 Exact match of the first two words of the taxon name to an APC-known canonical name (2024-08-16)                   \n",
       "30 Exact match of taxon name to an APC-known canonical name once punctuation and filler words are removed (2024-08-16)\n",
       "31 Exact match of taxon name to an APC-known canonical name once punctuation and filler words are removed (2024-08-16)\n",
       "32 Exact match of taxon name to an APC-known canonical name once punctuation and filler words are removed (2024-08-16)\n",
       "33 Exact match of taxon name to an APC-known canonical name once punctuation and filler words are removed (2024-08-16)\n",
       "34 Exact match of taxon name to an APC-known canonical name once punctuation and filler words are removed (2024-08-16)\n",
       "35 Exact match of taxon name to an APC-known canonical name once punctuation and filler words are removed (2024-08-16)\n",
       "36 Exact match of taxon name to an APC-known canonical name once punctuation and filler words are removed (2024-08-16)\n",
       "37 Exact match of taxon name to an APC-known canonical name once punctuation and filler words are removed (2024-08-16)\n",
       "   update_reason        number_of_collapsed_taxa\n",
       "1  pro parte misapplied 1                       \n",
       "2  pro parte misapplied 1                       \n",
       "3  pro parte misapplied 1                       \n",
       "4  pro parte misapplied 1                       \n",
       "5  pro parte misapplied 1                       \n",
       "6  pro parte misapplied 1                       \n",
       "7  pro parte misapplied 1                       \n",
       "8  pro parte misapplied 1                       \n",
       "9  pro parte misapplied 1                       \n",
       "10 pro parte misapplied 1                       \n",
       "11 pro parte misapplied 1                       \n",
       "12 pro parte misapplied 1                       \n",
       "13 pro parte misapplied 1                       \n",
       "14 pro parte misapplied 1                       \n",
       "15 pro parte misapplied 1                       \n",
       "16 pro parte misapplied 1                       \n",
       "17 pro parte misapplied 1                       \n",
       "18 pro parte misapplied 1                       \n",
       "19 pro parte misapplied 1                       \n",
       "20 pro parte misapplied 1                       \n",
       "21 pro parte misapplied 1                       \n",
       "22 pro parte misapplied 1                       \n",
       "23 pro parte misapplied 1                       \n",
       "24 pro parte misapplied 1                       \n",
       "25 pro parte misapplied 1                       \n",
       "26 pro parte misapplied 1                       \n",
       "27 pro parte misapplied 1                       \n",
       "28 pro parte misapplied 1                       \n",
       "29 pro parte misapplied 1                       \n",
       "30 pro parte misapplied 1                       \n",
       "31 pro parte misapplied 1                       \n",
       "32 pro parte misapplied 1                       \n",
       "33 pro parte misapplied 1                       \n",
       "34 pro parte misapplied 1                       \n",
       "35 pro parte misapplied 1                       \n",
       "36 pro parte misapplied 1                       \n",
       "37 pro parte misapplied 1                       "
      ]
     },
     "metadata": {},
     "output_type": "display_data"
    }
   ],
   "source": [
    "fireveg_species_names |> filter(update_reason %in% \"pro parte misapplied\") |> distinct()"
   ]
  },
  {
   "cell_type": "markdown",
   "id": "b9d58673-0bd6-4617-81c5-1723b71d8c7d",
   "metadata": {},
   "source": [
    "### Reproducibility\n",
    "\n",
    "Here are details about the version of the `APCalign` package used here:"
   ]
  },
  {
   "cell_type": "code",
   "execution_count": 12,
   "id": "704fcfc4-5500-420b-9155-533a83990f4a",
   "metadata": {},
   "outputs": [
    {
     "data": {
      "text/plain": [
       "[1] ‘1.0.2’"
      ]
     },
     "metadata": {},
     "output_type": "display_data"
    },
    {
     "data": {
      "text/html": [
       "'2024-07+31'"
      ],
      "text/latex": [
       "'2024-07+31'"
      ],
      "text/markdown": [
       "'2024-07+31'"
      ],
      "text/plain": [
       "[1] \"2024-07+31\""
      ]
     },
     "metadata": {},
     "output_type": "display_data"
    }
   ],
   "source": [
    "packageVersion(\"APCalign\")\n",
    "default_version()"
   ]
  },
  {
   "cell_type": "code",
   "execution_count": 13,
   "id": "f2fa66f0-37da-4ae2-a186-6efdad7d4eae",
   "metadata": {},
   "outputs": [
    {
     "data": {
      "text/plain": [
       "To cite package ‘APCalign’ in publications use:\n",
       "\n",
       "  Wenk E, Cornwell W, Fuchs A, Kar F, Monro A, Sauquet H, Stephens R,\n",
       "  Falster D (2024). “APCalign: an R package workflow and app for\n",
       "  aligning and updating flora names to the Australian Plant Census.”\n",
       "  _Australian Journal of Botany_. R package version: 1.0.1,\n",
       "  <https://www.biorxiv.org/content/10.1101/2024.02.02.578715v1>.\n",
       "\n",
       "A BibTeX entry for LaTeX users is\n",
       "\n",
       "  @Article{,\n",
       "    title = {APCalign: an R package workflow and app for aligning and updating flora names to the Australian Plant Census},\n",
       "    journal = {Australian Journal of Botany},\n",
       "    author = {Elizabeth Wenk and Will Cornwell and Ann Fuchs and Fonti Kar and Anna Monro and Herve Sauquet and Ruby Stephens and Daniel Falster},\n",
       "    year = {2024},\n",
       "    note = {R package version: 1.0.1},\n",
       "    url = {https://www.biorxiv.org/content/10.1101/2024.02.02.578715v1},\n",
       "  }"
      ]
     },
     "metadata": {},
     "output_type": "display_data"
    }
   ],
   "source": [
    "citation(\"APCalign\")"
   ]
  },
  {
   "cell_type": "markdown",
   "id": "19134af8-7573-4718-b1a1-bc5857a2c9cd",
   "metadata": {},
   "source": [
    "## Check taxonomy with MCVP"
   ]
  },
  {
   "cell_type": "code",
   "execution_count": 28,
   "id": "2f2df0d6-013e-4026-80ad-5b81b5817f49",
   "metadata": {},
   "outputs": [],
   "source": [
    "\n",
    "library(rWCVP)"
   ]
  },
  {
   "cell_type": "code",
   "execution_count": 31,
   "id": "e1c7ad07-65f5-47f4-92d9-2863d8d8e6dd",
   "metadata": {},
   "outputs": [
    {
     "name": "stderr",
     "output_type": "stream",
     "text": [
      "\n",
      "\n",
      "\u001b[36m──\u001b[39m \u001b[1mMatching names to WCVP\u001b[22m \u001b[36m──────────────────────────────────────────────────────\u001b[39m\n",
      "\n",
      "\u001b[36mℹ\u001b[39m Using the `species` column\n",
      "\n",
      "\u001b[33m!\u001b[39m No author information supplied - matching on taxon name only\n",
      "\n",
      "\n",
      "\n",
      "── \u001b[1m\u001b[1mExact matching  names\u001b[1m\u001b[22m ──\n",
      "\n",
      "\n",
      "\n",
      "\u001b[32m✔\u001b[39m Found 6 of  names\n",
      "\n",
      "\n",
      "\n",
      "── \u001b[1m\u001b[1mMatching complete!\u001b[1m\u001b[22m ──\n",
      "\n",
      "\n",
      "\n",
      "\u001b[32m✔\u001b[39m Matched 6 of 6 names\n",
      "\n",
      "\u001b[36mℹ\u001b[39m Exact (without author): 6\n",
      "\n",
      "\u001b[33m!\u001b[39m Names with multiple matches: 0\n",
      "\n"
     ]
    }
   ],
   "source": [
    "matched_table <- wcvp_match_names(head(all_traits), name_col=\"species\")"
   ]
  },
  {
   "cell_type": "code",
   "execution_count": 32,
   "id": "ee55b451-f7fa-4757-8b1a-5c15f1823465",
   "metadata": {},
   "outputs": [
    {
     "name": "stdout",
     "output_type": "stream",
     "text": [
      "'data.frame':\t6 obs. of  36 variables:\n",
      " $ family             : chr  \"Brassicaceae\" \"Myrtaceae\" \"Myrtaceae\" \"Apiaceae\" ...\n",
      " $ genus              : chr  \"Lepidium\" \"Eucalyptus\" \"Melaleuca\" \"Actinotus\" ...\n",
      " $ spp                : num  2358 2359 2360 2361 2362 ...\n",
      " $ species            : chr  \"Lepidium oxytrichum\" \"Eucalyptus williamsiana\" \"Melaleuca glomerata\" \"Actinotus helianthi\" ...\n",
      " $ current_spp        : num  2358 2359 2360 2361 2362 ...\n",
      " $ current_species    : chr  \"Lepidium oxytrichum\" \"Eucalyptus williamsiana\" \"Melaleuca glomerata\" \"Actinotus helianthi\" ...\n",
      " $ taxonrank          : chr  \"Species\" \"Species\" \"Species\" \"Species\" ...\n",
      " $ establishment      : chr  \"Alive in NSW, Native\" \"Alive in NSW, Native\" \"Alive in NSW, Native\" \"Alive in NSW, Native\" ...\n",
      " $ current            : chr  \"true\" \"true\" \"true\" \"true\" ...\n",
      " $ nquadrat           : num  0 0 0 0 0 2\n",
      " $ germ8              : num  0 0 0 0 0 0\n",
      " $ rect2              : num  0 1 0 2 0 0\n",
      " $ germ1              : num  0 1 0 1 0 0\n",
      " $ grow1              : num  0 0 0 0 0 0\n",
      " $ repr4              : num  0 0 0 1 0 0\n",
      " $ repr2              : num  0 0 0 0 0 0\n",
      " $ surv5              : num  0 0 0 2 0 0\n",
      " $ surv6              : num  0 0 0 0 0 0\n",
      " $ surv7              : num  0 0 0 1 0 0\n",
      " $ disp1              : num  3 0 0 3 1 1\n",
      " $ repr3a             : num  0 0 0 0 0 0\n",
      " $ repr3              : num  0 0 0 3 0 0\n",
      " $ surv4              : num  0 0 0 0 0 0\n",
      " $ surv1              : num  1 6 3 14 1 1\n",
      " $ match_type         : chr  \"Exact (without author)\" \"Exact (without author)\" \"Exact (without author)\" \"Exact (without author)\" ...\n",
      " $ multiple_matches   : logi  FALSE FALSE FALSE FALSE FALSE FALSE\n",
      " $ match_similarity   : num  1 1 1 1 1 1\n",
      " $ match_edit_distance: num  0 0 0 0 0 0\n",
      " $ wcvp_id            : num  2337907 74151 123666 2621049 2644120 ...\n",
      " $ wcvp_name          : chr  \"Lepidium oxytrichum\" \"Eucalyptus williamsiana\" \"Melaleuca glomerata\" \"Actinotus helianthi\" ...\n",
      " $ wcvp_authors       : chr  \"Sprague\" \"L.A.S.Johnson & K.D.Hill\" \"F.Muell.\" \"Labill.\" ...\n",
      " $ wcvp_rank          : chr  \"Species\" \"Species\" \"Species\" \"Species\" ...\n",
      " $ wcvp_status        : chr  \"Accepted\" \"Accepted\" \"Accepted\" \"Accepted\" ...\n",
      " $ wcvp_homotypic     : logi  NA NA NA NA NA NA\n",
      " $ wcvp_ipni_id       : chr  \"286328-1\" \"940255-1\" \"597959-1\" \"837289-1\" ...\n",
      " $ wcvp_accepted_id   : num  2337907 74151 123666 2621049 2644120 ...\n"
     ]
    }
   ],
   "source": [
    "str(matched_table)"
   ]
  },
  {
   "cell_type": "code",
   "execution_count": 41,
   "id": "70648280-ed4d-4a74-9a9e-d81e9a5c2c18",
   "metadata": {},
   "outputs": [],
   "source": [
    "fireveg_species <- all_traits |> \n",
    "    filter(!species %in% c(NA,\"\")) |>\n",
    "    select(species) |>\n",
    "    distinct()"
   ]
  },
  {
   "cell_type": "code",
   "execution_count": 43,
   "id": "920050e2-6cab-4d85-be20-b4b1840bce35",
   "metadata": {},
   "outputs": [
    {
     "name": "stderr",
     "output_type": "stream",
     "text": [
      "\u001b[K\n",
      "\n",
      "\n",
      "Matching \u001b[32m■■■■                            \u001b[39m  12% | ETA:  2h\n",
      "\u001b[K\n",
      "\u001b[36m──\u001b[39m \u001b[1mMatching names to WCVP\u001b[22m \u001b[36m──────────────────────────────────────────────────────\u001b[39m\n",
      "\n",
      "Matching \u001b[32m■■■■                            \u001b[39m  12% | ETA:  2h\n",
      "\u001b[K\n",
      "\u001b[36mℹ\u001b[39m Using the `species` column\n",
      "\n",
      "Matching \u001b[32m■■■■                            \u001b[39m  12% | ETA:  2h\n",
      "\u001b[K\n",
      "\u001b[33m!\u001b[39m No author information supplied - matching on taxon name only\n",
      "\n",
      "Matching \u001b[32m■■■■                            \u001b[39m  12% | ETA:  2h\n",
      "\u001b[K\n",
      "\n",
      "\n",
      "Matching \u001b[32m■■■■                            \u001b[39m  12% | ETA:  2h\n",
      "\u001b[K\n",
      "── \u001b[1m\u001b[1mExact matching  names\u001b[1m\u001b[22m ──\n",
      "\n",
      "Matching \u001b[32m■■■■                            \u001b[39m  12% | ETA:  2h\n",
      "\u001b[K\n",
      "\n",
      "\n",
      "Matching \u001b[32m■■■■                            \u001b[39m  12% | ETA:  2h\n",
      "\u001b[K\n",
      "\u001b[32m✔\u001b[39m Found 11718 of  names\n",
      "\n",
      "Matching \u001b[32m■■■■                            \u001b[39m  12% | ETA:  2h\n",
      "\u001b[K\n",
      "\n",
      "\n",
      "Matching \u001b[32m■■■■                            \u001b[39m  12% | ETA:  2h\n",
      "\u001b[K\n",
      "── \u001b[1m\u001b[1mFuzzy matching \u001b[1m3930\u001b[1m names\u001b[1m\u001b[22m ──\n",
      "\n",
      "Matching \u001b[32m■■■■                            \u001b[39m  12% | ETA:  2h\n",
      "\u001b[K\n",
      "\n",
      "\n",
      "Matching \u001b[32m■■■■                            \u001b[39m  12% | ETA:  2h\n",
      "\u001b[K\n",
      "\u001b[32m✔\u001b[39m Found 1405 of 3930 names\n",
      "\n",
      "Matching \u001b[32m■■■■■■■■■■■■■■■■■■■■■■■■■■■■■■■ \u001b[39m 100% | ETA:  2s\n",
      "\u001b[K\n",
      "\n",
      "\n",
      "Matching \u001b[32m■■■■■■■■■■■■■■■■■■■■■■■■■■■■■■■ \u001b[39m 100% | ETA:  2s\n",
      "\u001b[K\n",
      "── \u001b[1m\u001b[1mMatching complete!\u001b[1m\u001b[22m ──\n",
      "\n",
      "Matching \u001b[32m■■■■■■■■■■■■■■■■■■■■■■■■■■■■■■■ \u001b[39m 100% | ETA:  2s\n",
      "\u001b[K\n",
      "\n",
      "\n",
      "Matching \u001b[32m■■■■■■■■■■■■■■■■■■■■■■■■■■■■■■■ \u001b[39m 100% | ETA:  2s\n",
      "\u001b[K\n",
      "\u001b[32m✔\u001b[39m Matched 12999 of 15648 names\n",
      "\n",
      "Matching \u001b[32m■■■■■■■■■■■■■■■■■■■■■■■■■■■■■■■ \u001b[39m 100% | ETA:  2s\n",
      "\u001b[K\n",
      "\u001b[36mℹ\u001b[39m Exact (without author): 11718\n",
      "\n",
      "Matching \u001b[32m■■■■■■■■■■■■■■■■■■■■■■■■■■■■■■■ \u001b[39m 100% | ETA:  2s\n",
      "\u001b[K\n",
      "\u001b[36mℹ\u001b[39m Fuzzy (edit distance): 1089\n",
      "\n",
      "Matching \u001b[32m■■■■■■■■■■■■■■■■■■■■■■■■■■■■■■■ \u001b[39m 100% | ETA:  2s\n",
      "\u001b[K\n",
      "\u001b[36mℹ\u001b[39m Fuzzy (phonetic): 192\n",
      "\n",
      "Matching \u001b[32m■■■■■■■■■■■■■■■■■■■■■■■■■■■■■■■ \u001b[39m 100% | ETA:  2s\n",
      "\u001b[K\n",
      "\u001b[33m!\u001b[39m Names with multiple matches: 951\n",
      "\n",
      "Matching \u001b[32m■■■■■■■■■■■■■■■■■■■■■■■■■■■■■■■ \u001b[39m 100% | ETA:  2s\n"
     ]
    }
   ],
   "source": [
    "matched_table <- wcvp_match_names(fireveg_species, name_col=\"species\", progress_bar = FALSE)"
   ]
  },
  {
   "cell_type": "code",
   "execution_count": 44,
   "id": "6650dc73-9bf4-4a7f-99a1-82cb8bb63716",
   "metadata": {},
   "outputs": [
    {
     "ename": "ERROR",
     "evalue": "Error in eval(expr, envir, enclos): object 's' not found\n",
     "output_type": "error",
     "traceback": [
      "Error in eval(expr, envir, enclos): object 's' not found\nTraceback:\n"
     ]
    }
   ],
   "source": [
    "s"
   ]
  },
  {
   "cell_type": "code",
   "execution_count": null,
   "id": "7b29fc94-dd1e-4884-92c4-09e887d20252",
   "metadata": {},
   "outputs": [],
   "source": []
  }
 ],
 "metadata": {
  "kernelspec": {
   "display_name": "R",
   "language": "R",
   "name": "ir"
  },
  "language_info": {
   "codemirror_mode": "r",
   "file_extension": ".r",
   "mimetype": "text/x-r-source",
   "name": "R",
   "pygments_lexer": "r",
   "version": "4.3.1"
  }
 },
 "nbformat": 4,
 "nbformat_minor": 5
}
