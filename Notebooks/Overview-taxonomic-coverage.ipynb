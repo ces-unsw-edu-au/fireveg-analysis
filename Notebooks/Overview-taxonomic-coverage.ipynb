{
 "cells": [
  {
   "cell_type": "markdown",
   "id": "0a821a83-58f2-4da3-92bf-a4f1872fc232",
   "metadata": {},
   "source": [
    "# Fireveg DB - overview of taxonomic coverage\n",
    "\n",
    "Author: [José R. Ferrer-Paris](https://github.com/jrfep) and [Ada Sánchez-Mercado](https://github.com/adasanchez)\n",
    "\n",
    "Date: July 2024\n",
    "\n",
    "This Jupyter Notebook includes R code to visualise data from the Fireveg Database. \n",
    "\n",
    "The input is loaded from a public data record of the database.\n",
    "\n",
    "We use this code to ..."
   ]
  },
  {
   "cell_type": "markdown",
   "id": "fb9cb953-fe33-43b5-aede-af0b2e14fbf2",
   "metadata": {
    "jp-MarkdownHeadingCollapsed": true
   },
   "source": [
    "## Set-up"
   ]
  },
  {
   "cell_type": "markdown",
   "id": "2a03016f-8f7c-4de5-bf50-88e623cccfc9",
   "metadata": {},
   "source": [
    "### Load packages"
   ]
  },
  {
   "cell_type": "code",
   "execution_count": 1,
   "id": "ca0aa60e-b5be-41d6-ae77-25b341572f08",
   "metadata": {},
   "outputs": [
    {
     "name": "stderr",
     "output_type": "stream",
     "text": [
      "\n",
      "Attaching package: ‘dplyr’\n",
      "\n",
      "\n",
      "The following objects are masked from ‘package:stats’:\n",
      "\n",
      "    filter, lag\n",
      "\n",
      "\n",
      "The following objects are masked from ‘package:base’:\n",
      "\n",
      "    intersect, setdiff, setequal, union\n",
      "\n",
      "\n",
      "Loading required package: tidyr\n",
      "\n",
      "\n",
      "Attaching package: ‘igraph’\n",
      "\n",
      "\n",
      "The following object is masked from ‘package:tidyr’:\n",
      "\n",
      "    crossing\n",
      "\n",
      "\n",
      "The following objects are masked from ‘package:dplyr’:\n",
      "\n",
      "    as_data_frame, groups, union\n",
      "\n",
      "\n",
      "The following objects are masked from ‘package:stats’:\n",
      "\n",
      "    decompose, spectrum\n",
      "\n",
      "\n",
      "The following object is masked from ‘package:base’:\n",
      "\n",
      "    union\n",
      "\n",
      "\n"
     ]
    }
   ],
   "source": [
    "library(ggplot2)\n",
    "library(dplyr)\n",
    "require(tidyr)\n",
    "library(igraph)\n",
    "library(ggraph)"
   ]
  },
  {
   "cell_type": "markdown",
   "id": "db03fb87-4cf1-482d-9841-f9d9fcc22010",
   "metadata": {},
   "source": [
    "For [Markdown display from a code cell](https://stackoverflow.com/questions/35786496/using-r-in-jupyter-display-markdown-in-loop?rq=4)."
   ]
  },
  {
   "cell_type": "code",
   "execution_count": 2,
   "id": "1a9fa2db-37e2-4d6e-a164-8a49f451bd34",
   "metadata": {},
   "outputs": [],
   "source": [
    "library(IRdisplay)"
   ]
  },
  {
   "cell_type": "markdown",
   "id": "ff31785d-d350-4bae-8c47-cf6e1582349f",
   "metadata": {},
   "source": [
    "For data download from cloud storage"
   ]
  },
  {
   "cell_type": "code",
   "execution_count": 3,
   "id": "12e180cc-e481-4822-b2a7-bd2c4d2c7507",
   "metadata": {},
   "outputs": [
    {
     "name": "stderr",
     "output_type": "stream",
     "text": [
      "Loading required package: osfr\n",
      "\n",
      "Automatically registered OSF personal access token\n",
      "\n"
     ]
    }
   ],
   "source": [
    "require(osfr)\n",
    "library(jsonlite)"
   ]
  },
  {
   "cell_type": "markdown",
   "id": "31b618ca-62fc-40b1-b1db-455ddaa549e1",
   "metadata": {},
   "source": [
    "### Paths for inputs and outputs"
   ]
  },
  {
   "cell_type": "markdown",
   "id": "800ec85f-b4d7-42da-9d9b-878819239c22",
   "metadata": {},
   "source": [
    "Locate the root directory of the repo"
   ]
  },
  {
   "cell_type": "code",
   "execution_count": 4,
   "id": "d09a62b8-14b3-4755-af99-d3f8f22ae17e",
   "metadata": {},
   "outputs": [
    {
     "name": "stderr",
     "output_type": "stream",
     "text": [
      "here() starts at /Users/z3529065/proyectos/fireveg/fireveg-analysis\n",
      "\n"
     ]
    }
   ],
   "source": [
    "here::i_am(\"Notebooks/Overview-taxonomic-coverage.ipynb\")"
   ]
  },
  {
   "cell_type": "markdown",
   "id": "eecf6237-d14e-434a-ba75-8be285ad66f5",
   "metadata": {},
   "source": [
    "Relative path to local data files within project repository"
   ]
  },
  {
   "cell_type": "code",
   "execution_count": 5,
   "id": "282632dd-2702-478a-a07f-d01a0cf1346f",
   "metadata": {},
   "outputs": [],
   "source": [
    "data_dir <- here::here(\"data\")\n",
    "if (!dir.exists(data_dir))\n",
    "    dir.create(data_dir)"
   ]
  },
  {
   "cell_type": "markdown",
   "id": "69137f25-875d-4b59-ab48-98db2a601155",
   "metadata": {},
   "source": [
    "### Download data from OSF"
   ]
  },
  {
   "cell_type": "markdown",
   "id": "5fa1a195-0358-4997-b929-6f44d455254f",
   "metadata": {},
   "source": [
    " <div class=\"alert alert-info\">\n",
    "     <img src='../img/open-data-2.png' width=25 alt=\"open data icon\"/>\n",
    "Data for this Notebook is available from the following OSF repository:\n",
    "\n",
    "> Ferrer-Paris, J. R., Keith, D., & Sánchez-Mercado, A. (2024, August 15). Export data records from Fire Ecology Traits for Plants database. Retrieved from [osf.io/h96q2](https://osf.io/h96q2/)\n",
    "</div>\n",
    "\n",
    "Here we will download data programmatically from OSF cloud storage to our local data folder. First we will check the metadata for the target file. We use the `osf_ls_files` function from package `osfr` to explore the metadata of the file associated to the OSF component."
   ]
  },
  {
   "cell_type": "code",
   "execution_count": 6,
   "id": "34c27433-0645-4490-b791-e81eef3fd5d3",
   "metadata": {},
   "outputs": [],
   "source": [
    "osf_project <- osf_retrieve_node(\"https://osf.io/h96q2\")\n",
    "file_list <- osf_ls_files(osf_project)"
   ]
  },
  {
   "cell_type": "code",
   "execution_count": 7,
   "id": "93684798-8ccd-4da9-9c95-337bd96103b9",
   "metadata": {},
   "outputs": [
    {
     "data": {
      "text/html": [
       "<table class=\"dataframe\">\n",
       "<caption>A tibble: 10 × 2</caption>\n",
       "<thead>\n",
       "\t<tr><th scope=col>name</th><th scope=col>id</th></tr>\n",
       "\t<tr><th scope=col>&lt;chr&gt;</th><th scope=col>&lt;chr&gt;</th></tr>\n",
       "</thead>\n",
       "<tbody>\n",
       "\t<tr><td>fire-history.rds                 </td><td>6452ba9d13904f00b7fc85d2</td></tr>\n",
       "\t<tr><td>Quadrat-sample-data.rds          </td><td>6452bab38ea16b0093b69427</td></tr>\n",
       "\t<tr><td>site-visits.rds                  </td><td>6452bac07177850087b0f73c</td></tr>\n",
       "\t<tr><td>Summary-traits-family.rds        </td><td>6452bacfb30b4900b4b9ddc4</td></tr>\n",
       "\t<tr><td>Summary-traits-species.rds       </td><td>6452bae3717785008bb0f4b1</td></tr>\n",
       "\t<tr><td>field-sites.gpkg                 </td><td>648a583bbee36d028d0e6261</td></tr>\n",
       "\t<tr><td>Summary-traits-sources.rds       </td><td>64966f6fa2a2f4075a436743</td></tr>\n",
       "\t<tr><td>Trait-info.rds                   </td><td>649a64e8a2a2f40aa7436407</td></tr>\n",
       "\t<tr><td>References-traits-sources.rds    </td><td>66c8198039554f1e062d2f46</td></tr>\n",
       "\t<tr><td>Summary-traits-species-orders.rds</td><td>66c829ef6725569184c5ca7a</td></tr>\n",
       "</tbody>\n",
       "</table>\n"
      ],
      "text/latex": [
       "A tibble: 10 × 2\n",
       "\\begin{tabular}{ll}\n",
       " name & id\\\\\n",
       " <chr> & <chr>\\\\\n",
       "\\hline\n",
       "\t fire-history.rds                  & 6452ba9d13904f00b7fc85d2\\\\\n",
       "\t Quadrat-sample-data.rds           & 6452bab38ea16b0093b69427\\\\\n",
       "\t site-visits.rds                   & 6452bac07177850087b0f73c\\\\\n",
       "\t Summary-traits-family.rds         & 6452bacfb30b4900b4b9ddc4\\\\\n",
       "\t Summary-traits-species.rds        & 6452bae3717785008bb0f4b1\\\\\n",
       "\t field-sites.gpkg                  & 648a583bbee36d028d0e6261\\\\\n",
       "\t Summary-traits-sources.rds        & 64966f6fa2a2f4075a436743\\\\\n",
       "\t Trait-info.rds                    & 649a64e8a2a2f40aa7436407\\\\\n",
       "\t References-traits-sources.rds     & 66c8198039554f1e062d2f46\\\\\n",
       "\t Summary-traits-species-orders.rds & 66c829ef6725569184c5ca7a\\\\\n",
       "\\end{tabular}\n"
      ],
      "text/markdown": [
       "\n",
       "A tibble: 10 × 2\n",
       "\n",
       "| name &lt;chr&gt; | id &lt;chr&gt; |\n",
       "|---|---|\n",
       "| fire-history.rds                  | 6452ba9d13904f00b7fc85d2 |\n",
       "| Quadrat-sample-data.rds           | 6452bab38ea16b0093b69427 |\n",
       "| site-visits.rds                   | 6452bac07177850087b0f73c |\n",
       "| Summary-traits-family.rds         | 6452bacfb30b4900b4b9ddc4 |\n",
       "| Summary-traits-species.rds        | 6452bae3717785008bb0f4b1 |\n",
       "| field-sites.gpkg                  | 648a583bbee36d028d0e6261 |\n",
       "| Summary-traits-sources.rds        | 64966f6fa2a2f4075a436743 |\n",
       "| Trait-info.rds                    | 649a64e8a2a2f40aa7436407 |\n",
       "| References-traits-sources.rds     | 66c8198039554f1e062d2f46 |\n",
       "| Summary-traits-species-orders.rds | 66c829ef6725569184c5ca7a |\n",
       "\n"
      ],
      "text/plain": [
       "   name                              id                      \n",
       "1  fire-history.rds                  6452ba9d13904f00b7fc85d2\n",
       "2  Quadrat-sample-data.rds           6452bab38ea16b0093b69427\n",
       "3  site-visits.rds                   6452bac07177850087b0f73c\n",
       "4  Summary-traits-family.rds         6452bacfb30b4900b4b9ddc4\n",
       "5  Summary-traits-species.rds        6452bae3717785008bb0f4b1\n",
       "6  field-sites.gpkg                  648a583bbee36d028d0e6261\n",
       "7  Summary-traits-sources.rds        64966f6fa2a2f4075a436743\n",
       "8  Trait-info.rds                    649a64e8a2a2f40aa7436407\n",
       "9  References-traits-sources.rds     66c8198039554f1e062d2f46\n",
       "10 Summary-traits-species-orders.rds 66c829ef6725569184c5ca7a"
      ]
     },
     "metadata": {},
     "output_type": "display_data"
    }
   ],
   "source": [
    "select(file_list, name, id)"
   ]
  },
  {
   "cell_type": "markdown",
   "id": "dd708b2f-f41d-4202-8f18-7ba3f0b43013",
   "metadata": {},
   "source": [
    "We will select a subset of files to download"
   ]
  },
  {
   "cell_type": "code",
   "execution_count": 8,
   "id": "4640db0d-7d59-4e7d-831f-2d9e4dfbb530",
   "metadata": {},
   "outputs": [],
   "source": [
    "files_to_download <- c(\n",
    "    \"Trait-info.rds\",\n",
    "    \"Summary-traits-sources.rds\", \n",
    "    \"References-traits-sources.rds\",\n",
    "    \"Quadrat-sample-data.rds\",\n",
    "    \"Summary-traits-species.rds\",\n",
    "    \"Summary-traits-species-orders.rds\"\n",
    ")"
   ]
  },
  {
   "cell_type": "code",
   "execution_count": 9,
   "id": "afd7d9ce-0a03-4852-a64d-06729a57fa2c",
   "metadata": {},
   "outputs": [],
   "source": [
    "selected_files <- filter(file_list, name %in% files_to_download)"
   ]
  },
  {
   "cell_type": "markdown",
   "id": "b5e8df77-1813-4f6c-a338-393b45ae1cfe",
   "metadata": {},
   "source": [
    "To download the latest version we apply the `osf_download` function with option `conflicts=\"overwrite\"`. \n",
    "If we already have the latest version we can choose option `conflicts=\"skip\"`."
   ]
  },
  {
   "cell_type": "code",
   "execution_count": 10,
   "id": "e1e24e35-76d3-44af-a85f-ca54d962d617",
   "metadata": {},
   "outputs": [],
   "source": [
    "downloaded_files <- osf_download(selected_files,\n",
    "             data_dir,\n",
    "             conflicts = \"overwrite\")\n"
   ]
  },
  {
   "cell_type": "markdown",
   "id": "f0109b9b-caf6-448c-afdf-111e941f21fa",
   "metadata": {},
   "source": [
    "**What about older versions?**\n",
    "\n",
    "We can request more complete version information with a direct call to the API using the `read_json` function. For example the version for the first downloaded file are available here:"
   ]
  },
  {
   "cell_type": "code",
   "execution_count": 11,
   "id": "16fa50b6-158c-412a-8dda-3f20962e8ef9",
   "metadata": {},
   "outputs": [],
   "source": [
    "file_versions <- read_json(downloaded_files$meta[[1]]$relationships$versions$links$related$href)"
   ]
  },
  {
   "cell_type": "markdown",
   "id": "dbd85b06-d991-42ff-8a10-7de21569ac56",
   "metadata": {},
   "source": [
    "And we could use these urls to download specific versions:"
   ]
  },
  {
   "cell_type": "code",
   "execution_count": 12,
   "id": "a352786f-5b33-40ec-b746-af3bd593b566",
   "metadata": {},
   "outputs": [
    {
     "name": "stdout",
     "output_type": "stream",
     "text": [
      "version id 7 from 2024-08-23T09:56:59.235285 available at https://osf.io/download/6452bab38ea16b0093b69427/?revision=7\n",
      "version id 6 from 2024-08-23T04:45:32.377746 available at https://osf.io/download/6452bab38ea16b0093b69427/?revision=6\n",
      "version id 5 from 2024-08-22T12:27:43.452137 available at https://osf.io/download/6452bab38ea16b0093b69427/?revision=5\n",
      "version id 4 from 2024-08-14T21:45:11.547888 available at https://osf.io/download/6452bab38ea16b0093b69427/?revision=4\n",
      "version id 3 from 2023-09-11T09:37:38.971966 available at https://osf.io/download/6452bab38ea16b0093b69427/?revision=3\n",
      "version id 2 from 2023-06-01T04:36:35.649577 available at https://osf.io/download/6452bab38ea16b0093b69427/?revision=2\n",
      "version id 1 from 2023-05-03T19:49:07.778770 available at https://osf.io/download/6452bab38ea16b0093b69427/?revision=1\n"
     ]
    }
   ],
   "source": [
    "results <- lapply(file_versions$data, function(x) {\n",
    "    sprintf(\"version id %s from %s available at %s\\n\",\n",
    "            x$id,\n",
    "            x$attributes$date_created,\n",
    "            x$links$download)\n",
    "})\n",
    "for (res in results) \n",
    "    cat(res)"
   ]
  },
  {
   "cell_type": "markdown",
   "id": "6adee416-cc32-4891-a604-551dc3576c30",
   "metadata": {},
   "source": [
    "### Read data from local folder"
   ]
  },
  {
   "cell_type": "markdown",
   "id": "286cebd4-9d2c-43b4-ae17-402d0a902e8d",
   "metadata": {},
   "source": [
    "The data is now available in our local data folder and we can use `readRDS` to read this file into our R session:"
   ]
  },
  {
   "cell_type": "code",
   "execution_count": 13,
   "id": "dc04d6eb-3b1c-4f41-89ee-a6914823b6cb",
   "metadata": {},
   "outputs": [],
   "source": [
    "traits_table <- readRDS(here::here(data_dir,'Summary-traits-sources.rds'))\n",
    "references <- readRDS(here::here(data_dir,\"References-traits-sources.rds\"))\n",
    "quadrat_samples <- readRDS(here::here(data_dir,\"Quadrat-sample-data.rds\"))\n",
    "spp_traits_table <- readRDS(here::here(data_dir,\"Summary-traits-species.rds\"))\n",
    "trait_info <- readRDS(here::here(data_dir,\"Trait-info.rds\"))"
   ]
  },
  {
   "cell_type": "code",
   "execution_count": 14,
   "id": "90d76cc0-2194-4a25-87a1-c6bdb1aa393e",
   "metadata": {},
   "outputs": [],
   "source": [
    "sptraits <- readRDS(here::here(data_dir,\"Summary-traits-species-orders.rds\")) %>%\n",
    "  rowwise() %>% \n",
    "  mutate(litdata=sum(c_across(germ8:surv1))>0) %>%\n",
    "  ungroup() %>%\n",
    "  mutate(\n",
    "    fielddata=nquadrat>0,\n",
    "    kldg=case_when(\n",
    "      fielddata & litdata ~ \"both\",\n",
    "      fielddata ~ \"field\",\n",
    "      litdata ~ \"literature\",\n",
    "      TRUE ~ \"none\"\n",
    "    )\n",
    "  )\n"
   ]
  },
  {
   "cell_type": "code",
   "execution_count": 22,
   "id": "aa72a49e-ba15-4261-ae5c-13703a0bb3b9",
   "metadata": {},
   "outputs": [
    {
     "data": {
      "text/html": [
       "<style>\n",
       ".list-inline {list-style: none; margin:0; padding: 0}\n",
       ".list-inline>li {display: inline-block}\n",
       ".list-inline>li:not(:last-child)::after {content: \"\\00b7\"; padding: 0 .5ex}\n",
       "</style>\n",
       "<ol class=list-inline><li>16157</li><li>28</li></ol>\n"
      ],
      "text/latex": [
       "\\begin{enumerate*}\n",
       "\\item 16157\n",
       "\\item 28\n",
       "\\end{enumerate*}\n"
      ],
      "text/markdown": [
       "1. 16157\n",
       "2. 28\n",
       "\n",
       "\n"
      ],
      "text/plain": [
       "[1] 16157    28"
      ]
     },
     "metadata": {},
     "output_type": "display_data"
    },
    {
     "data": {
      "text/html": [
       "<style>\n",
       ".list-inline {list-style: none; margin:0; padding: 0}\n",
       ".list-inline>li {display: inline-block}\n",
       ".list-inline>li:not(:last-child)::after {content: \"\\00b7\"; padding: 0 .5ex}\n",
       "</style>\n",
       "<ol class=list-inline><li>16157</li><li>24</li></ol>\n"
      ],
      "text/latex": [
       "\\begin{enumerate*}\n",
       "\\item 16157\n",
       "\\item 24\n",
       "\\end{enumerate*}\n"
      ],
      "text/markdown": [
       "1. 16157\n",
       "2. 24\n",
       "\n",
       "\n"
      ],
      "text/plain": [
       "[1] 16157    24"
      ]
     },
     "metadata": {},
     "output_type": "display_data"
    },
    {
     "data": {
      "text/html": [
       "<table class=\"dataframe\">\n",
       "<caption>A tibble: 4 × 3</caption>\n",
       "<thead>\n",
       "\t<tr><th scope=col>fielddata</th><th scope=col>litdata</th><th scope=col>n_distinct(current_species)</th></tr>\n",
       "\t<tr><th scope=col>&lt;lgl&gt;</th><th scope=col>&lt;lgl&gt;</th><th scope=col>&lt;int&gt;</th></tr>\n",
       "</thead>\n",
       "<tbody>\n",
       "\t<tr><td>FALSE</td><td>FALSE</td><td>6140</td></tr>\n",
       "\t<tr><td>FALSE</td><td> TRUE</td><td>5484</td></tr>\n",
       "\t<tr><td> TRUE</td><td>FALSE</td><td> 100</td></tr>\n",
       "\t<tr><td> TRUE</td><td> TRUE</td><td> 793</td></tr>\n",
       "</tbody>\n",
       "</table>\n"
      ],
      "text/latex": [
       "A tibble: 4 × 3\n",
       "\\begin{tabular}{lll}\n",
       " fielddata & litdata & n\\_distinct(current\\_species)\\\\\n",
       " <lgl> & <lgl> & <int>\\\\\n",
       "\\hline\n",
       "\t FALSE & FALSE & 6140\\\\\n",
       "\t FALSE &  TRUE & 5484\\\\\n",
       "\t  TRUE & FALSE &  100\\\\\n",
       "\t  TRUE &  TRUE &  793\\\\\n",
       "\\end{tabular}\n"
      ],
      "text/markdown": [
       "\n",
       "A tibble: 4 × 3\n",
       "\n",
       "| fielddata &lt;lgl&gt; | litdata &lt;lgl&gt; | n_distinct(current_species) &lt;int&gt; |\n",
       "|---|---|---|\n",
       "| FALSE | FALSE | 6140 |\n",
       "| FALSE |  TRUE | 5484 |\n",
       "|  TRUE | FALSE |  100 |\n",
       "|  TRUE |  TRUE |  793 |\n",
       "\n"
      ],
      "text/plain": [
       "  fielddata litdata n_distinct(current_species)\n",
       "1 FALSE     FALSE   6140                       \n",
       "2 FALSE      TRUE   5484                       \n",
       "3  TRUE     FALSE    100                       \n",
       "4  TRUE      TRUE    793                       "
      ]
     },
     "metadata": {},
     "output_type": "display_data"
    }
   ],
   "source": [
    "dim(sptraits)\n",
    "dim(spp_traits_table)\n",
    "sptraits |>\n",
    "    filter(taxonrank %in% \"Species\") |>\n",
    "    group_by(fielddata, litdata) |>\n",
    "    summarise(n_distinct(current_species), .groups = \"drop\") \n",
    "# this can introduce errors due to double counting of a species with multiple names\n",
    "# for example, if two names are synonyms but one name has data and the other hasn't"
   ]
  },
  {
   "cell_type": "code",
   "execution_count": 23,
   "id": "72938269-db84-4550-89c4-8dd134dfa7a2",
   "metadata": {},
   "outputs": [
    {
     "data": {
      "text/html": [
       "6377"
      ],
      "text/latex": [
       "6377"
      ],
      "text/markdown": [
       "6377"
      ],
      "text/plain": [
       "[1] 6377"
      ]
     },
     "metadata": {},
     "output_type": "display_data"
    }
   ],
   "source": [
    "5484+100+793"
   ]
  },
  {
   "cell_type": "markdown",
   "id": "7b4f2724-4fcb-41d5-8003-9ac4c572e97f",
   "metadata": {},
   "source": [
    "## Trait information"
   ]
  },
  {
   "cell_type": "markdown",
   "id": "d83d630c-86b8-42e3-8b4f-c5645a4f2409",
   "metadata": {},
   "source": [
    "The data frame `trait_info` includes descriptions of all traits, here we show the priority traits that are already uploaded in the current version of the database."
   ]
  },
  {
   "cell_type": "code",
   "execution_count": 27,
   "id": "0817b9ee-3665-4977-b4e6-54f9a469181a",
   "metadata": {},
   "outputs": [
    {
     "data": {
      "text/markdown": [
       "|Code   |Trait                                                |Classification              |Description                                                                                                                                   |\n",
       "|:------|:----------------------------------------------------|:---------------------------|:---------------------------------------------------------------------------------------------------------------------------------------------|\n",
       "|surv1  |Resprouting - full canopy scorch                     |Standing plant/Survival     |Ordinal categories of survival and resprouting proportions for plants subjected to 100% canopy scorch                                         |\n",
       "|surv4  |Regenerative Organ                                   |Standing plant/Survival     |NA                                                                                                                                            |\n",
       "|surv5  |Standing plant longevity (Max)                       |Standing plant/Survival     |Age at which 50% of individuals in a cohort (excluding outliers) have died from senescence                                                    |\n",
       "|surv6  |Seedbank half-life                                   |Seed/Survival               |Age at which 50% of a seed cohort in an in situ seedbank have decayed or become inviable                                                      |\n",
       "|surv7  |Seed longevity                                       |Seed/Survival               |Age at which all seeds in a cohort (excluding outliers, e.g. 95th percentile) have decayed or become inviable                                 |\n",
       "|repr2  |Post-fire flowering response                         |Standing plant/Reproduction |NA                                                                                                                                            |\n",
       "|repr3  |Age at first flower production (from seed)           |Standing plant/Reproduction |The time taken for first individual in a recruitment cohort to produce their first reproductive organs (e.g. flowers, sporophylls)            |\n",
       "|repr3a |Time to first postfire reproduction (from resprouts) |Standing plant/Reproduction |The time taken after fire for first reproductive organs (e.g. flowers, sporophylls) to be produced in a population of resprouting individuals |\n",
       "|repr4  |Maturation age                                       |Standing plant/Reproduction |The time taken for 50% of individuals in a cohort [even aged recruits] to produce their first viable seed                                     |\n",
       "|rect2  |Establishment pattern                                |Seedling/Recruitment        |The temporal pattern of seedling or clonal establishment through the fire cycle                                                               |\n",
       "|grow1  |Age to develop regenerative/resistance organs        |Standing plant/Growth       |The time taken to develop organs or tissues enabling at least 50% of cohort survival when fully scorched in a fire                            |\n",
       "|germ1  |Seedbank Type                                        |Seed/Germination            |NA                                                                                                                                            |\n",
       "|germ8  |Seed dormancy type                                   |Seed/Germination            |NA                                                                                                                                            |\n",
       "|disp1  |Propagule dispersal mode                             |Seed/Dispersal              |Propagule dispersal mode                                                                                                                      |"
      ]
     },
     "metadata": {},
     "output_type": "display_data"
    }
   ],
   "source": [
    "tbl_trait_info <- trait_info %>% \n",
    "  filter(!is.na(priority)) %>%\n",
    "  rowwise() %>% \n",
    "  mutate(Code=code, Trait=name, \n",
    "         Description = description,\n",
    "            `Classification` = paste( \n",
    "              life_stage,\n",
    "              life_history_process, \n",
    "              sep=\"/\")) %>%\n",
    "  ungroup() %>% \n",
    "    arrange(desc(life_history_process),Code) %>% \n",
    "  select(Code, Trait, Classification, Description) %>%\n",
    "  knitr::kable()\n",
    "    \n",
    "display_markdown(paste(as.character(tbl_trait_info), collapse=\"\\n\"))"
   ]
  },
  {
   "cell_type": "markdown",
   "id": "8569df16-7658-4b2c-aafd-3d6723241387",
   "metadata": {
    "jp-MarkdownHeadingCollapsed": true
   },
   "source": [
    "## Plant species in NSW according to BioNet"
   ]
  },
  {
   "cell_type": "markdown",
   "id": "c333bfbd-c060-49c6-891d-af36b0d012af",
   "metadata": {},
   "source": [
    "The data frame `spp_traits_table` is based on the BioNet Altas list of species. \n",
    "\n",
    "This list includes around 8170 distinct taxa (based on current taxonomic status) at the species level which are considered native and alive in NSW. It also includes  around 1250 infra-species level taxa considered to be alive in NSW."
   ]
  },
  {
   "cell_type": "code",
   "execution_count": 13,
   "id": "5ed6b0c1-7fa7-40fe-a69c-ab6ebda98be6",
   "metadata": {},
   "outputs": [
    {
     "data": {
      "text/html": [
       "<table class=\"dataframe\">\n",
       "<caption>A tibble: 9 × 5</caption>\n",
       "<thead>\n",
       "\t<tr><th scope=col>species level</th><th scope=col>establishment</th><th scope=col>records</th><th scope=col>original names</th><th scope=col>current names</th></tr>\n",
       "\t<tr><th scope=col>&lt;lgl&gt;</th><th scope=col>&lt;chr&gt;</th><th scope=col>&lt;int&gt;</th><th scope=col>&lt;int&gt;</th><th scope=col>&lt;int&gt;</th></tr>\n",
       "</thead>\n",
       "<tbody>\n",
       "\t<tr><td>FALSE</td><td>Alive in NSW, Native  </td><td> 1813</td><td> 1813</td><td>1251</td></tr>\n",
       "\t<tr><td>FALSE</td><td>Extinct in NSW, Native</td><td>    9</td><td>    9</td><td>   4</td></tr>\n",
       "\t<tr><td>FALSE</td><td>Hybrid                </td><td>    1</td><td>    1</td><td>   1</td></tr>\n",
       "\t<tr><td>FALSE</td><td>Introduced            </td><td>  399</td><td>  399</td><td> 242</td></tr>\n",
       "\t<tr><td>FALSE</td><td>Not Known from NSW    </td><td>    5</td><td>    5</td><td>   5</td></tr>\n",
       "\t<tr><td> TRUE</td><td>Alive in NSW, Native  </td><td>10556</td><td>10556</td><td>8169</td></tr>\n",
       "\t<tr><td> TRUE</td><td>Extinct in NSW, Native</td><td>   38</td><td>   38</td><td>  28</td></tr>\n",
       "\t<tr><td> TRUE</td><td>Introduced            </td><td> 3309</td><td> 3309</td><td>2804</td></tr>\n",
       "\t<tr><td> TRUE</td><td>Not Known from NSW    </td><td>   27</td><td>   27</td><td>  26</td></tr>\n",
       "</tbody>\n",
       "</table>\n"
      ],
      "text/latex": [
       "A tibble: 9 × 5\n",
       "\\begin{tabular}{lllll}\n",
       " species level & establishment & records & original names & current names\\\\\n",
       " <lgl> & <chr> & <int> & <int> & <int>\\\\\n",
       "\\hline\n",
       "\t FALSE & Alive in NSW, Native   &  1813 &  1813 & 1251\\\\\n",
       "\t FALSE & Extinct in NSW, Native &     9 &     9 &    4\\\\\n",
       "\t FALSE & Hybrid                 &     1 &     1 &    1\\\\\n",
       "\t FALSE & Introduced             &   399 &   399 &  242\\\\\n",
       "\t FALSE & Not Known from NSW     &     5 &     5 &    5\\\\\n",
       "\t  TRUE & Alive in NSW, Native   & 10556 & 10556 & 8169\\\\\n",
       "\t  TRUE & Extinct in NSW, Native &    38 &    38 &   28\\\\\n",
       "\t  TRUE & Introduced             &  3309 &  3309 & 2804\\\\\n",
       "\t  TRUE & Not Known from NSW     &    27 &    27 &   26\\\\\n",
       "\\end{tabular}\n"
      ],
      "text/markdown": [
       "\n",
       "A tibble: 9 × 5\n",
       "\n",
       "| species level &lt;lgl&gt; | establishment &lt;chr&gt; | records &lt;int&gt; | original names &lt;int&gt; | current names &lt;int&gt; |\n",
       "|---|---|---|---|---|\n",
       "| FALSE | Alive in NSW, Native   |  1813 |  1813 | 1251 |\n",
       "| FALSE | Extinct in NSW, Native |     9 |     9 |    4 |\n",
       "| FALSE | Hybrid                 |     1 |     1 |    1 |\n",
       "| FALSE | Introduced             |   399 |   399 |  242 |\n",
       "| FALSE | Not Known from NSW     |     5 |     5 |    5 |\n",
       "|  TRUE | Alive in NSW, Native   | 10556 | 10556 | 8169 |\n",
       "|  TRUE | Extinct in NSW, Native |    38 |    38 |   28 |\n",
       "|  TRUE | Introduced             |  3309 |  3309 | 2804 |\n",
       "|  TRUE | Not Known from NSW     |    27 |    27 |   26 |\n",
       "\n"
      ],
      "text/plain": [
       "  species level establishment          records original names current names\n",
       "1 FALSE         Alive in NSW, Native    1813    1813          1251         \n",
       "2 FALSE         Extinct in NSW, Native     9       9             4         \n",
       "3 FALSE         Hybrid                     1       1             1         \n",
       "4 FALSE         Introduced               399     399           242         \n",
       "5 FALSE         Not Known from NSW         5       5             5         \n",
       "6  TRUE         Alive in NSW, Native   10556   10556          8169         \n",
       "7  TRUE         Extinct in NSW, Native    38      38            28         \n",
       "8  TRUE         Introduced              3309    3309          2804         \n",
       "9  TRUE         Not Known from NSW        27      27            26         "
      ]
     },
     "metadata": {},
     "output_type": "display_data"
    }
   ],
   "source": [
    "spp_traits_table |>\n",
    "    group_by(`species level`= taxonrank %in% \"Species\",establishment) |>\n",
    "    summarise(records=n(), `original names` = n_distinct(spp), `current names`=n_distinct(current_species), .groups = \"drop\") "
   ]
  },
  {
   "cell_type": "markdown",
   "id": "a58f778c-bd6c-4027-bb72-477065982d0d",
   "metadata": {},
   "source": [
    "We can filter this table by considering how many species have at least one record in the field sample (column `nquadrat` in this dataframe)."
   ]
  },
  {
   "cell_type": "code",
   "execution_count": 14,
   "id": "3528423d-c456-493d-bc5c-191745cfc503",
   "metadata": {},
   "outputs": [
    {
     "data": {
      "text/html": [
       "<table class=\"dataframe\">\n",
       "<caption>A tibble: 4 × 5</caption>\n",
       "<thead>\n",
       "\t<tr><th scope=col>species level</th><th scope=col>establishment</th><th scope=col>records</th><th scope=col>original names</th><th scope=col>current names</th></tr>\n",
       "\t<tr><th scope=col>&lt;lgl&gt;</th><th scope=col>&lt;chr&gt;</th><th scope=col>&lt;int&gt;</th><th scope=col>&lt;int&gt;</th><th scope=col>&lt;int&gt;</th></tr>\n",
       "</thead>\n",
       "<tbody>\n",
       "\t<tr><td>FALSE</td><td>Alive in NSW, Native</td><td> 68</td><td> 68</td><td> 68</td></tr>\n",
       "\t<tr><td>FALSE</td><td>Introduced          </td><td>  2</td><td>  2</td><td>  2</td></tr>\n",
       "\t<tr><td> TRUE</td><td>Alive in NSW, Native</td><td>812</td><td>812</td><td>806</td></tr>\n",
       "\t<tr><td> TRUE</td><td>Introduced          </td><td> 84</td><td> 84</td><td> 81</td></tr>\n",
       "</tbody>\n",
       "</table>\n"
      ],
      "text/latex": [
       "A tibble: 4 × 5\n",
       "\\begin{tabular}{lllll}\n",
       " species level & establishment & records & original names & current names\\\\\n",
       " <lgl> & <chr> & <int> & <int> & <int>\\\\\n",
       "\\hline\n",
       "\t FALSE & Alive in NSW, Native &  68 &  68 &  68\\\\\n",
       "\t FALSE & Introduced           &   2 &   2 &   2\\\\\n",
       "\t  TRUE & Alive in NSW, Native & 812 & 812 & 806\\\\\n",
       "\t  TRUE & Introduced           &  84 &  84 &  81\\\\\n",
       "\\end{tabular}\n"
      ],
      "text/markdown": [
       "\n",
       "A tibble: 4 × 5\n",
       "\n",
       "| species level &lt;lgl&gt; | establishment &lt;chr&gt; | records &lt;int&gt; | original names &lt;int&gt; | current names &lt;int&gt; |\n",
       "|---|---|---|---|---|\n",
       "| FALSE | Alive in NSW, Native |  68 |  68 |  68 |\n",
       "| FALSE | Introduced           |   2 |   2 |   2 |\n",
       "|  TRUE | Alive in NSW, Native | 812 | 812 | 806 |\n",
       "|  TRUE | Introduced           |  84 |  84 |  81 |\n",
       "\n"
      ],
      "text/plain": [
       "  species level establishment        records original names current names\n",
       "1 FALSE         Alive in NSW, Native  68      68             68          \n",
       "2 FALSE         Introduced             2       2              2          \n",
       "3  TRUE         Alive in NSW, Native 812     812            806          \n",
       "4  TRUE         Introduced            84      84             81          "
      ]
     },
     "metadata": {},
     "output_type": "display_data"
    }
   ],
   "source": [
    "spp_traits_table |>\n",
    "    filter(nquadrat>0) |>\n",
    "    group_by(`species level`= taxonrank %in% \"Species\",establishment) |>\n",
    "    summarise(records=n(), `original names` = n_distinct(spp), `current names`=n_distinct(current_species), .groups = \"drop\") "
   ]
  },
  {
   "cell_type": "markdown",
   "id": "26064651-b39f-4534-8d14-982e7960fb9c",
   "metadata": {},
   "source": [
    "And we can do the same for the species with at least one record from existing sources in the list of references and authors:"
   ]
  },
  {
   "cell_type": "code",
   "execution_count": 15,
   "id": "b34d68c0-a515-4a95-b685-b50eb205200b",
   "metadata": {},
   "outputs": [
    {
     "data": {
      "text/html": [
       "<table class=\"dataframe\">\n",
       "<caption>A tibble: 8 × 5</caption>\n",
       "<thead>\n",
       "\t<tr><th scope=col>species level</th><th scope=col>establishment</th><th scope=col>records</th><th scope=col>original names</th><th scope=col>current names</th></tr>\n",
       "\t<tr><th scope=col>&lt;lgl&gt;</th><th scope=col>&lt;chr&gt;</th><th scope=col>&lt;int&gt;</th><th scope=col>&lt;int&gt;</th><th scope=col>&lt;int&gt;</th></tr>\n",
       "</thead>\n",
       "<tbody>\n",
       "\t<tr><td>FALSE</td><td>Alive in NSW, Native  </td><td>1019</td><td>1019</td><td> 844</td></tr>\n",
       "\t<tr><td>FALSE</td><td>Extinct in NSW, Native</td><td>   7</td><td>   7</td><td>   4</td></tr>\n",
       "\t<tr><td>FALSE</td><td>Introduced            </td><td>  59</td><td>  59</td><td>  46</td></tr>\n",
       "\t<tr><td>FALSE</td><td>Not Known from NSW    </td><td>   1</td><td>   1</td><td>   1</td></tr>\n",
       "\t<tr><td> TRUE</td><td>Alive in NSW, Native  </td><td>5854</td><td>5854</td><td>5509</td></tr>\n",
       "\t<tr><td> TRUE</td><td>Extinct in NSW, Native</td><td>  22</td><td>  22</td><td>  20</td></tr>\n",
       "\t<tr><td> TRUE</td><td>Introduced            </td><td> 696</td><td> 696</td><td> 669</td></tr>\n",
       "\t<tr><td> TRUE</td><td>Not Known from NSW    </td><td>  17</td><td>  17</td><td>  16</td></tr>\n",
       "</tbody>\n",
       "</table>\n"
      ],
      "text/latex": [
       "A tibble: 8 × 5\n",
       "\\begin{tabular}{lllll}\n",
       " species level & establishment & records & original names & current names\\\\\n",
       " <lgl> & <chr> & <int> & <int> & <int>\\\\\n",
       "\\hline\n",
       "\t FALSE & Alive in NSW, Native   & 1019 & 1019 &  844\\\\\n",
       "\t FALSE & Extinct in NSW, Native &    7 &    7 &    4\\\\\n",
       "\t FALSE & Introduced             &   59 &   59 &   46\\\\\n",
       "\t FALSE & Not Known from NSW     &    1 &    1 &    1\\\\\n",
       "\t  TRUE & Alive in NSW, Native   & 5854 & 5854 & 5509\\\\\n",
       "\t  TRUE & Extinct in NSW, Native &   22 &   22 &   20\\\\\n",
       "\t  TRUE & Introduced             &  696 &  696 &  669\\\\\n",
       "\t  TRUE & Not Known from NSW     &   17 &   17 &   16\\\\\n",
       "\\end{tabular}\n"
      ],
      "text/markdown": [
       "\n",
       "A tibble: 8 × 5\n",
       "\n",
       "| species level &lt;lgl&gt; | establishment &lt;chr&gt; | records &lt;int&gt; | original names &lt;int&gt; | current names &lt;int&gt; |\n",
       "|---|---|---|---|---|\n",
       "| FALSE | Alive in NSW, Native   | 1019 | 1019 |  844 |\n",
       "| FALSE | Extinct in NSW, Native |    7 |    7 |    4 |\n",
       "| FALSE | Introduced             |   59 |   59 |   46 |\n",
       "| FALSE | Not Known from NSW     |    1 |    1 |    1 |\n",
       "|  TRUE | Alive in NSW, Native   | 5854 | 5854 | 5509 |\n",
       "|  TRUE | Extinct in NSW, Native |   22 |   22 |   20 |\n",
       "|  TRUE | Introduced             |  696 |  696 |  669 |\n",
       "|  TRUE | Not Known from NSW     |   17 |   17 |   16 |\n",
       "\n"
      ],
      "text/plain": [
       "  species level establishment          records original names current names\n",
       "1 FALSE         Alive in NSW, Native   1019    1019            844         \n",
       "2 FALSE         Extinct in NSW, Native    7       7              4         \n",
       "3 FALSE         Introduced               59      59             46         \n",
       "4 FALSE         Not Known from NSW        1       1              1         \n",
       "5  TRUE         Alive in NSW, Native   5854    5854           5509         \n",
       "6  TRUE         Extinct in NSW, Native   22      22             20         \n",
       "7  TRUE         Introduced              696     696            669         \n",
       "8  TRUE         Not Known from NSW       17      17             16         "
      ]
     },
     "metadata": {},
     "output_type": "display_data"
    }
   ],
   "source": [
    "spp_traits_table |>\n",
    "    mutate(\n",
    "        `existing sources` = (disp1 +\n",
    "                           germ1 + germ8 + \n",
    "                           rect2 + \n",
    "                           grow1 + \n",
    "                           repr2 + repr3a + repr3 + repr4 +  \n",
    "                           surv1 + surv4 + surv5 + surv6 + surv7) > 0\n",
    "    ) |>\n",
    "    filter(`existing sources`>0) |>\n",
    "    group_by(`species level`= taxonrank %in% \"Species\",establishment) |>\n",
    "    summarise(records=n(), `original names` = n_distinct(spp), `current names`=n_distinct(current_species), .groups = \"drop\") "
   ]
  },
  {
   "cell_type": "markdown",
   "id": "7c9d32e2-8ce6-4982-aafc-467336d96518",
   "metadata": {},
   "source": [
    "If we focus only on the taxa at the species level which are native and alive in NSW, we can look at the overlap between both field work data and existing sources:"
   ]
  },
  {
   "cell_type": "code",
   "execution_count": 66,
   "id": "f2ca5263-5e14-45ae-88cd-3073d755cb62",
   "metadata": {},
   "outputs": [
    {
     "data": {
      "text/html": [
       "<table class=\"dataframe\">\n",
       "<caption>A tibble: 4 × 4</caption>\n",
       "<thead>\n",
       "\t<tr><th scope=col>fieldwork_sources</th><th scope=col>literature_sources</th><th scope=col>total</th><th scope=col>total_current</th></tr>\n",
       "\t<tr><th scope=col>&lt;lgl&gt;</th><th scope=col>&lt;lgl&gt;</th><th scope=col>&lt;int&gt;</th><th scope=col>&lt;int&gt;</th></tr>\n",
       "</thead>\n",
       "<tbody>\n",
       "\t<tr><td>FALSE</td><td>FALSE</td><td>4574</td><td>3844</td></tr>\n",
       "\t<tr><td>FALSE</td><td> TRUE</td><td>5129</td><td>4843</td></tr>\n",
       "\t<tr><td> TRUE</td><td>FALSE</td><td>  87</td><td>  87</td></tr>\n",
       "\t<tr><td> TRUE</td><td> TRUE</td><td> 724</td><td> 723</td></tr>\n",
       "</tbody>\n",
       "</table>\n"
      ],
      "text/latex": [
       "A tibble: 4 × 4\n",
       "\\begin{tabular}{llll}\n",
       " fieldwork\\_sources & literature\\_sources & total & total\\_current\\\\\n",
       " <lgl> & <lgl> & <int> & <int>\\\\\n",
       "\\hline\n",
       "\t FALSE & FALSE & 4574 & 3844\\\\\n",
       "\t FALSE &  TRUE & 5129 & 4843\\\\\n",
       "\t  TRUE & FALSE &   87 &   87\\\\\n",
       "\t  TRUE &  TRUE &  724 &  723\\\\\n",
       "\\end{tabular}\n"
      ],
      "text/markdown": [
       "\n",
       "A tibble: 4 × 4\n",
       "\n",
       "| fieldwork_sources &lt;lgl&gt; | literature_sources &lt;lgl&gt; | total &lt;int&gt; | total_current &lt;int&gt; |\n",
       "|---|---|---|---|\n",
       "| FALSE | FALSE | 4574 | 3844 |\n",
       "| FALSE |  TRUE | 5129 | 4843 |\n",
       "|  TRUE | FALSE |   87 |   87 |\n",
       "|  TRUE |  TRUE |  724 |  723 |\n",
       "\n"
      ],
      "text/plain": [
       "  fieldwork_sources literature_sources total total_current\n",
       "1 FALSE             FALSE              4574  3844         \n",
       "2 FALSE              TRUE              5129  4843         \n",
       "3  TRUE             FALSE                87    87         \n",
       "4  TRUE              TRUE               724   723         "
      ]
     },
     "metadata": {},
     "output_type": "display_data"
    }
   ],
   "source": [
    "spp_traits_table |> \n",
    "    filter(\n",
    "           taxonrank %in% \"Species\",\n",
    "           establishment %in% \"Alive in NSW, Native\") |>\n",
    "    mutate(\n",
    "     fieldwork_sources =  nquadrat>0,\n",
    "     literature_sources = (disp1 +\n",
    "                           germ1 + germ8 + \n",
    "                           rect2 + \n",
    "                           grow1 + \n",
    "                           repr2 + repr3a + repr3 + repr4 +  \n",
    "                           surv1 + surv4 + surv5 + surv6 + surv7) > 0\n",
    "    ) |> \n",
    "    group_by(fieldwork_sources, literature_sources) |>\n",
    "    summarise(total = n_distinct(scientific_name), total_current = n_distinct(current_species), .groups = \"drop\")"
   ]
  },
  {
   "cell_type": "code",
   "execution_count": 77,
   "id": "69e8fcc6-8fc6-4fbe-bd9c-31c96db29ad5",
   "metadata": {},
   "outputs": [],
   "source": [
    "total_records <- spp_traits_table |> \n",
    "    filter(\n",
    "           taxonrank %in% \"Species\") |>\n",
    "    mutate(\n",
    "     any_sources = (nquadrat +\n",
    "                           disp1 +\n",
    "                           germ1 + germ8 + \n",
    "                           rect2 + \n",
    "                           grow1 + \n",
    "                           repr2 + repr3a + repr3 + repr4 +  \n",
    "                           surv1 + surv4 + surv5 + surv6 + surv7) > 0\n",
    "    ) |>\n",
    "    filter(any_sources>0) |>\n",
    "    summarise(total_current=n_distinct(current_species))"
   ]
  },
  {
   "cell_type": "code",
   "execution_count": 78,
   "id": "4da981ce-8fb3-4cde-b7fc-76edd7c5ccbf",
   "metadata": {},
   "outputs": [
    {
     "data": {
      "text/html": [
       "<table class=\"dataframe\">\n",
       "<caption>A data.frame: 1 × 1</caption>\n",
       "<thead>\n",
       "\t<tr><th scope=col>total_current</th></tr>\n",
       "\t<tr><th scope=col>&lt;int&gt;</th></tr>\n",
       "</thead>\n",
       "<tbody>\n",
       "\t<tr><td>6287</td></tr>\n",
       "</tbody>\n",
       "</table>\n"
      ],
      "text/latex": [
       "A data.frame: 1 × 1\n",
       "\\begin{tabular}{l}\n",
       " total\\_current\\\\\n",
       " <int>\\\\\n",
       "\\hline\n",
       "\t 6287\\\\\n",
       "\\end{tabular}\n"
      ],
      "text/markdown": [
       "\n",
       "A data.frame: 1 × 1\n",
       "\n",
       "| total_current &lt;int&gt; |\n",
       "|---|\n",
       "| 6287 |\n",
       "\n"
      ],
      "text/plain": [
       "  total_current\n",
       "1 6287         "
      ]
     },
     "metadata": {},
     "output_type": "display_data"
    }
   ],
   "source": [
    "total_records"
   ]
  },
  {
   "cell_type": "code",
   "execution_count": 24,
   "id": "ede38e8d-274e-46c8-b8b9-a3ac3ad67d84",
   "metadata": {},
   "outputs": [],
   "source": [
    "total_records <- sptraits |> \n",
    "    filter(\n",
    "           taxonrank %in% \"Species\") |>\n",
    "    filter(fielddata | litdata) |>\n",
    "    summarise(total_current=n_distinct(current_species))"
   ]
  },
  {
   "cell_type": "code",
   "execution_count": 25,
   "id": "5289e8c8-17e3-4375-bcbc-5fdcc7730428",
   "metadata": {},
   "outputs": [
    {
     "data": {
      "text/html": [
       "<table class=\"dataframe\">\n",
       "<caption>A tibble: 1 × 1</caption>\n",
       "<thead>\n",
       "\t<tr><th scope=col>total_current</th></tr>\n",
       "\t<tr><th scope=col>&lt;int&gt;</th></tr>\n",
       "</thead>\n",
       "<tbody>\n",
       "\t<tr><td>6287</td></tr>\n",
       "</tbody>\n",
       "</table>\n"
      ],
      "text/latex": [
       "A tibble: 1 × 1\n",
       "\\begin{tabular}{l}\n",
       " total\\_current\\\\\n",
       " <int>\\\\\n",
       "\\hline\n",
       "\t 6287\\\\\n",
       "\\end{tabular}\n"
      ],
      "text/markdown": [
       "\n",
       "A tibble: 1 × 1\n",
       "\n",
       "| total_current &lt;int&gt; |\n",
       "|---|\n",
       "| 6287 |\n",
       "\n"
      ],
      "text/plain": [
       "  total_current\n",
       "1 6287         "
      ]
     },
     "metadata": {},
     "output_type": "display_data"
    }
   ],
   "source": [
    "total_records"
   ]
  },
  {
   "cell_type": "markdown",
   "id": "4edc8f90-5139-40ad-8703-f7a13891740f",
   "metadata": {
    "jp-MarkdownHeadingCollapsed": true
   },
   "source": [
    "## Comparing existing trait records from different sources"
   ]
  },
  {
   "cell_type": "markdown",
   "id": "2cfad4f0-ec84-4c16-aff4-a50ece61fb92",
   "metadata": {},
   "source": [
    "These sources are mentioned in the primary source column, but bibliographic details are incomplete or missing from our database:"
   ]
  },
  {
   "cell_type": "code",
   "execution_count": 17,
   "id": "250bf78d-c39f-45f9-a7cf-28398487688e",
   "metadata": {},
   "outputs": [
    {
     "data": {
      "text/html": [
       "<style>\n",
       ".list-inline {list-style: none; margin:0; padding: 0}\n",
       ".list-inline>li {display: inline-block}\n",
       ".list-inline>li:not(:last-child)::after {content: \"\\00b7\"; padding: 0 .5ex}\n",
       "</style>\n",
       "<ol class=list-inline><li>'JRS_2004'</li><li>'KNP plots'</li><li>'Latz_2004'</li><li>'Liddle_2004'</li><li>'Albrecht_2004'</li><li>'Brock_2004'</li><li>'Brennan_2004'</li><li>'Unknown'</li><li>'Brock_2005'</li><li>'Nitmiluk plots'</li><li>'Yates_2003'</li><li>'Cowie_2019'</li><li>'Nano_2005'</li><li>'Cowie_2004'</li><li>'Duguid_2004'</li><li>'I.D.Cowie'</li><li>'Crowley_2007; Paula_2009'</li><li>'Tooth_2013'</li><li>'WAH_2022'</li><li>'Murray_1986'</li><li>'ODowd_1986'</li><li>'Davidson_1984'</li><li>'Berg_1975'</li><li>'Herrera_1998'</li><li>'Sen_1982'</li><li>'Tomlinson_1986'</li><li>'Enright_1995'</li><li>'Ridley_1930'</li><li>'Cook_1987'</li><li>'Corlett_1996'</li><li>'vanRheedevanOudtshoorn_1999'</li><li>'Zona_1989'</li><li>'Zona_2001'</li><li>'Milton_2001'</li><li>'vanderPijl_1982'</li><li>'Whelan_1986'</li><li>'Baraloto_2007'</li><li>'MorenoCasasola_1994'</li><li>'Gunn_1999'</li><li>'Foster_1986'</li><li>'Young_1992'</li><li>'Cremer_1977'</li><li>'Howe_1986'</li><li>'Kozlowski_1972'</li><li>'Hocking_1987'</li><li>'Rutledge_2019'</li><li>'Agami_1988'</li><li>'Mori_1998'</li><li>'Bouman_2000'</li><li>'Gibson_1995'</li><li>'Garrison_2000'</li><li>'authors'</li><li>'Williams_2011'</li><li>'Benson McDougall 2000'</li><li>'Benson 1986'</li></ol>\n"
      ],
      "text/latex": [
       "\\begin{enumerate*}\n",
       "\\item 'JRS\\_2004'\n",
       "\\item 'KNP plots'\n",
       "\\item 'Latz\\_2004'\n",
       "\\item 'Liddle\\_2004'\n",
       "\\item 'Albrecht\\_2004'\n",
       "\\item 'Brock\\_2004'\n",
       "\\item 'Brennan\\_2004'\n",
       "\\item 'Unknown'\n",
       "\\item 'Brock\\_2005'\n",
       "\\item 'Nitmiluk plots'\n",
       "\\item 'Yates\\_2003'\n",
       "\\item 'Cowie\\_2019'\n",
       "\\item 'Nano\\_2005'\n",
       "\\item 'Cowie\\_2004'\n",
       "\\item 'Duguid\\_2004'\n",
       "\\item 'I.D.Cowie'\n",
       "\\item 'Crowley\\_2007; Paula\\_2009'\n",
       "\\item 'Tooth\\_2013'\n",
       "\\item 'WAH\\_2022'\n",
       "\\item 'Murray\\_1986'\n",
       "\\item 'ODowd\\_1986'\n",
       "\\item 'Davidson\\_1984'\n",
       "\\item 'Berg\\_1975'\n",
       "\\item 'Herrera\\_1998'\n",
       "\\item 'Sen\\_1982'\n",
       "\\item 'Tomlinson\\_1986'\n",
       "\\item 'Enright\\_1995'\n",
       "\\item 'Ridley\\_1930'\n",
       "\\item 'Cook\\_1987'\n",
       "\\item 'Corlett\\_1996'\n",
       "\\item 'vanRheedevanOudtshoorn\\_1999'\n",
       "\\item 'Zona\\_1989'\n",
       "\\item 'Zona\\_2001'\n",
       "\\item 'Milton\\_2001'\n",
       "\\item 'vanderPijl\\_1982'\n",
       "\\item 'Whelan\\_1986'\n",
       "\\item 'Baraloto\\_2007'\n",
       "\\item 'MorenoCasasola\\_1994'\n",
       "\\item 'Gunn\\_1999'\n",
       "\\item 'Foster\\_1986'\n",
       "\\item 'Young\\_1992'\n",
       "\\item 'Cremer\\_1977'\n",
       "\\item 'Howe\\_1986'\n",
       "\\item 'Kozlowski\\_1972'\n",
       "\\item 'Hocking\\_1987'\n",
       "\\item 'Rutledge\\_2019'\n",
       "\\item 'Agami\\_1988'\n",
       "\\item 'Mori\\_1998'\n",
       "\\item 'Bouman\\_2000'\n",
       "\\item 'Gibson\\_1995'\n",
       "\\item 'Garrison\\_2000'\n",
       "\\item 'authors'\n",
       "\\item 'Williams\\_2011'\n",
       "\\item 'Benson McDougall 2000'\n",
       "\\item 'Benson 1986'\n",
       "\\end{enumerate*}\n"
      ],
      "text/markdown": [
       "1. 'JRS_2004'\n",
       "2. 'KNP plots'\n",
       "3. 'Latz_2004'\n",
       "4. 'Liddle_2004'\n",
       "5. 'Albrecht_2004'\n",
       "6. 'Brock_2004'\n",
       "7. 'Brennan_2004'\n",
       "8. 'Unknown'\n",
       "9. 'Brock_2005'\n",
       "10. 'Nitmiluk plots'\n",
       "11. 'Yates_2003'\n",
       "12. 'Cowie_2019'\n",
       "13. 'Nano_2005'\n",
       "14. 'Cowie_2004'\n",
       "15. 'Duguid_2004'\n",
       "16. 'I.D.Cowie'\n",
       "17. 'Crowley_2007; Paula_2009'\n",
       "18. 'Tooth_2013'\n",
       "19. 'WAH_2022'\n",
       "20. 'Murray_1986'\n",
       "21. 'ODowd_1986'\n",
       "22. 'Davidson_1984'\n",
       "23. 'Berg_1975'\n",
       "24. 'Herrera_1998'\n",
       "25. 'Sen_1982'\n",
       "26. 'Tomlinson_1986'\n",
       "27. 'Enright_1995'\n",
       "28. 'Ridley_1930'\n",
       "29. 'Cook_1987'\n",
       "30. 'Corlett_1996'\n",
       "31. 'vanRheedevanOudtshoorn_1999'\n",
       "32. 'Zona_1989'\n",
       "33. 'Zona_2001'\n",
       "34. 'Milton_2001'\n",
       "35. 'vanderPijl_1982'\n",
       "36. 'Whelan_1986'\n",
       "37. 'Baraloto_2007'\n",
       "38. 'MorenoCasasola_1994'\n",
       "39. 'Gunn_1999'\n",
       "40. 'Foster_1986'\n",
       "41. 'Young_1992'\n",
       "42. 'Cremer_1977'\n",
       "43. 'Howe_1986'\n",
       "44. 'Kozlowski_1972'\n",
       "45. 'Hocking_1987'\n",
       "46. 'Rutledge_2019'\n",
       "47. 'Agami_1988'\n",
       "48. 'Mori_1998'\n",
       "49. 'Bouman_2000'\n",
       "50. 'Gibson_1995'\n",
       "51. 'Garrison_2000'\n",
       "52. 'authors'\n",
       "53. 'Williams_2011'\n",
       "54. 'Benson McDougall 2000'\n",
       "55. 'Benson 1986'\n",
       "\n",
       "\n"
      ],
      "text/plain": [
       " [1] \"JRS_2004\"                    \"KNP plots\"                  \n",
       " [3] \"Latz_2004\"                   \"Liddle_2004\"                \n",
       " [5] \"Albrecht_2004\"               \"Brock_2004\"                 \n",
       " [7] \"Brennan_2004\"                \"Unknown\"                    \n",
       " [9] \"Brock_2005\"                  \"Nitmiluk plots\"             \n",
       "[11] \"Yates_2003\"                  \"Cowie_2019\"                 \n",
       "[13] \"Nano_2005\"                   \"Cowie_2004\"                 \n",
       "[15] \"Duguid_2004\"                 \"I.D.Cowie\"                  \n",
       "[17] \"Crowley_2007; Paula_2009\"    \"Tooth_2013\"                 \n",
       "[19] \"WAH_2022\"                    \"Murray_1986\"                \n",
       "[21] \"ODowd_1986\"                  \"Davidson_1984\"              \n",
       "[23] \"Berg_1975\"                   \"Herrera_1998\"               \n",
       "[25] \"Sen_1982\"                    \"Tomlinson_1986\"             \n",
       "[27] \"Enright_1995\"                \"Ridley_1930\"                \n",
       "[29] \"Cook_1987\"                   \"Corlett_1996\"               \n",
       "[31] \"vanRheedevanOudtshoorn_1999\" \"Zona_1989\"                  \n",
       "[33] \"Zona_2001\"                   \"Milton_2001\"                \n",
       "[35] \"vanderPijl_1982\"             \"Whelan_1986\"                \n",
       "[37] \"Baraloto_2007\"               \"MorenoCasasola_1994\"        \n",
       "[39] \"Gunn_1999\"                   \"Foster_1986\"                \n",
       "[41] \"Young_1992\"                  \"Cremer_1977\"                \n",
       "[43] \"Howe_1986\"                   \"Kozlowski_1972\"             \n",
       "[45] \"Hocking_1987\"                \"Rutledge_2019\"              \n",
       "[47] \"Agami_1988\"                  \"Mori_1998\"                  \n",
       "[49] \"Bouman_2000\"                 \"Gibson_1995\"                \n",
       "[51] \"Garrison_2000\"               \"authors\"                    \n",
       "[53] \"Williams_2011\"               \"Benson McDougall 2000\"      \n",
       "[55] \"Benson 1986\"                "
      ]
     },
     "metadata": {},
     "output_type": "display_data"
    }
   ],
   "source": [
    "traits_table |> \n",
    "    filter(!primary_source %in% references$ref_code) |>\n",
    "    distinct(primary_source) |> arrange() |> pull()\n"
   ]
  },
  {
   "cell_type": "code",
   "execution_count": 18,
   "id": "a10ca5a1-9f62-48b6-b2a4-f06286dc8092",
   "metadata": {},
   "outputs": [
    {
     "data": {
      "text/html": [
       "<table class=\"dataframe\">\n",
       "<caption>A tibble: 2 × 5</caption>\n",
       "<thead>\n",
       "\t<tr><th scope=col>main_source</th><th scope=col>total</th><th scope=col>records</th><th scope=col>species</th><th scope=col>sources</th></tr>\n",
       "\t<tr><th scope=col>&lt;chr&gt;</th><th scope=col>&lt;int&gt;</th><th scope=col>&lt;int&gt;</th><th scope=col>&lt;int&gt;</th><th scope=col>&lt;int&gt;</th></tr>\n",
       "</thead>\n",
       "<tbody>\n",
       "\t<tr><td>NSWFFRDv2.1    </td><td>12175</td><td>10391</td><td>2860</td><td>206</td></tr>\n",
       "\t<tr><td>austraits-6.0.0</td><td>38532</td><td>37883</td><td>6848</td><td>102</td></tr>\n",
       "</tbody>\n",
       "</table>\n"
      ],
      "text/latex": [
       "A tibble: 2 × 5\n",
       "\\begin{tabular}{lllll}\n",
       " main\\_source & total & records & species & sources\\\\\n",
       " <chr> & <int> & <int> & <int> & <int>\\\\\n",
       "\\hline\n",
       "\t NSWFFRDv2.1     & 12175 & 10391 & 2860 & 206\\\\\n",
       "\t austraits-6.0.0 & 38532 & 37883 & 6848 & 102\\\\\n",
       "\\end{tabular}\n"
      ],
      "text/markdown": [
       "\n",
       "A tibble: 2 × 5\n",
       "\n",
       "| main_source &lt;chr&gt; | total &lt;int&gt; | records &lt;int&gt; | species &lt;int&gt; | sources &lt;int&gt; |\n",
       "|---|---|---|---|---|\n",
       "| NSWFFRDv2.1     | 12175 | 10391 | 2860 | 206 |\n",
       "| austraits-6.0.0 | 38532 | 37883 | 6848 | 102 |\n",
       "\n"
      ],
      "text/plain": [
       "  main_source     total records species sources\n",
       "1 NSWFFRDv2.1     12175 10391   2860    206    \n",
       "2 austraits-6.0.0 38532 37883   6848    102    "
      ]
     },
     "metadata": {},
     "output_type": "display_data"
    }
   ],
   "source": [
    "traits_table |>\n",
    "    filter(!primary_source %in% 'Kenny Orscheg Tasker Gill Bradstock 2014', # this is the same as NSWFFRDv2.1\n",
    "           primary_source %in% references$ref_code) |> # exclude transcription errors\n",
    "    group_by(main_source) |>\n",
    "    summarise(\n",
    "        total=n(), \n",
    "        records=n_distinct(rid), \n",
    "        species=n_distinct(current_species), \n",
    "        sources=n_distinct(primary_source))"
   ]
  },
  {
   "cell_type": "code",
   "execution_count": 75,
   "id": "894b768d-3a2f-4229-8d63-eb2237fbaa5e",
   "metadata": {},
   "outputs": [],
   "source": [
    "summary_per_source <- traits_table |> \n",
    "    filter(taxonrank %in% \"Species\") |>\n",
    "    group_by(main_source) |>\n",
    "    summarise(\n",
    "        records=n_distinct(rid),\n",
    "        traits = n_distinct(traitcode),\n",
    "        species=n_distinct(current_species), \n",
    "        sources=n_distinct(primary_source))\n",
    "NSWFFRD_records <- filter(summary_per_source, main_source %in% 'NSWFFRDv2.1')\n",
    "Austraits_records <- filter(summary_per_source, main_source %in% 'austraits-6.0.0')"
   ]
  },
  {
   "cell_type": "code",
   "execution_count": 76,
   "id": "7eeb8d02-23a7-48bd-bada-62ec6257ad40",
   "metadata": {},
   "outputs": [
    {
     "data": {
      "text/html": [
       "<table class=\"dataframe\">\n",
       "<caption>A tibble: 2 × 5</caption>\n",
       "<thead>\n",
       "\t<tr><th scope=col>main_source</th><th scope=col>records</th><th scope=col>traits</th><th scope=col>species</th><th scope=col>sources</th></tr>\n",
       "\t<tr><th scope=col>&lt;chr&gt;</th><th scope=col>&lt;int&gt;</th><th scope=col>&lt;int&gt;</th><th scope=col>&lt;int&gt;</th><th scope=col>&lt;int&gt;</th></tr>\n",
       "</thead>\n",
       "<tbody>\n",
       "\t<tr><td>NSWFFRDv2.1    </td><td> 9486</td><td>12</td><td>2549</td><td>203</td></tr>\n",
       "\t<tr><td>austraits-6.0.0</td><td>39820</td><td> 5</td><td>6173</td><td>153</td></tr>\n",
       "</tbody>\n",
       "</table>\n"
      ],
      "text/latex": [
       "A tibble: 2 × 5\n",
       "\\begin{tabular}{lllll}\n",
       " main\\_source & records & traits & species & sources\\\\\n",
       " <chr> & <int> & <int> & <int> & <int>\\\\\n",
       "\\hline\n",
       "\t NSWFFRDv2.1     &  9486 & 12 & 2549 & 203\\\\\n",
       "\t austraits-6.0.0 & 39820 &  5 & 6173 & 153\\\\\n",
       "\\end{tabular}\n"
      ],
      "text/markdown": [
       "\n",
       "A tibble: 2 × 5\n",
       "\n",
       "| main_source &lt;chr&gt; | records &lt;int&gt; | traits &lt;int&gt; | species &lt;int&gt; | sources &lt;int&gt; |\n",
       "|---|---|---|---|---|\n",
       "| NSWFFRDv2.1     |  9486 | 12 | 2549 | 203 |\n",
       "| austraits-6.0.0 | 39820 |  5 | 6173 | 153 |\n",
       "\n"
      ],
      "text/plain": [
       "  main_source     records traits species sources\n",
       "1 NSWFFRDv2.1      9486   12     2549    203    \n",
       "2 austraits-6.0.0 39820    5     6173    153    "
      ]
     },
     "metadata": {},
     "output_type": "display_data"
    }
   ],
   "source": [
    "summary_per_source"
   ]
  },
  {
   "cell_type": "markdown",
   "id": "dbcabaa5-cba2-4939-961f-1da2d2496ead",
   "metadata": {
    "jp-MarkdownHeadingCollapsed": true
   },
   "source": [
    "## field work data"
   ]
  },
  {
   "cell_type": "code",
   "execution_count": 51,
   "id": "97fb7f13-c723-49f0-8b30-1b3506bef1e7",
   "metadata": {},
   "outputs": [],
   "source": [
    "summary_per_survey <- quadrat_samples |> \n",
    "    filter(!is.na(species_code),\n",
    "           taxonrank %in% \"Species\") |>\n",
    "    group_by(survey_group=survey_name %in% \"Mallee Woodlands\") |>\n",
    "    summarise(\n",
    "        locations = n_distinct(visit_id),\n",
    "        visits  = n_distinct(visit_id, visit_date),\n",
    "              samples  = n_distinct(visit_id, visit_date, sample_nr),\n",
    "              records = n(), \n",
    "              species = n_distinct(species),\n",
    "              current_species = n_distinct(current_species), \n",
    "              codes = n_distinct(species_code)) |> \n",
    "    arrange(survey_group)\n",
    "Postfire_samples <- filter(summary_per_survey, !survey_group)\n",
    "Mallee_samples <- filter(summary_per_survey, survey_group)"
   ]
  },
  {
   "cell_type": "code",
   "execution_count": 52,
   "id": "606aeaa7-cf7e-4c02-ae4f-c6645f70f784",
   "metadata": {},
   "outputs": [
    {
     "data": {
      "text/html": [
       "<table class=\"dataframe\">\n",
       "<caption>A tibble: 2 × 8</caption>\n",
       "<thead>\n",
       "\t<tr><th scope=col>survey_group</th><th scope=col>locations</th><th scope=col>visits</th><th scope=col>samples</th><th scope=col>records</th><th scope=col>species</th><th scope=col>current_species</th><th scope=col>codes</th></tr>\n",
       "\t<tr><th scope=col>&lt;lgl&gt;</th><th scope=col>&lt;int&gt;</th><th scope=col>&lt;int&gt;</th><th scope=col>&lt;int&gt;</th><th scope=col>&lt;int&gt;</th><th scope=col>&lt;int&gt;</th><th scope=col>&lt;int&gt;</th><th scope=col>&lt;int&gt;</th></tr>\n",
       "</thead>\n",
       "<tbody>\n",
       "\t<tr><td>FALSE</td><td>85</td><td>85</td><td>714</td><td>8936</td><td>773</td><td>765</td><td>773</td></tr>\n",
       "\t<tr><td> TRUE</td><td>61</td><td>85</td><td>510</td><td>7054</td><td>129</td><td>129</td><td>129</td></tr>\n",
       "</tbody>\n",
       "</table>\n"
      ],
      "text/latex": [
       "A tibble: 2 × 8\n",
       "\\begin{tabular}{llllllll}\n",
       " survey\\_group & locations & visits & samples & records & species & current\\_species & codes\\\\\n",
       " <lgl> & <int> & <int> & <int> & <int> & <int> & <int> & <int>\\\\\n",
       "\\hline\n",
       "\t FALSE & 85 & 85 & 714 & 8936 & 773 & 765 & 773\\\\\n",
       "\t  TRUE & 61 & 85 & 510 & 7054 & 129 & 129 & 129\\\\\n",
       "\\end{tabular}\n"
      ],
      "text/markdown": [
       "\n",
       "A tibble: 2 × 8\n",
       "\n",
       "| survey_group &lt;lgl&gt; | locations &lt;int&gt; | visits &lt;int&gt; | samples &lt;int&gt; | records &lt;int&gt; | species &lt;int&gt; | current_species &lt;int&gt; | codes &lt;int&gt; |\n",
       "|---|---|---|---|---|---|---|---|\n",
       "| FALSE | 85 | 85 | 714 | 8936 | 773 | 765 | 773 |\n",
       "|  TRUE | 61 | 85 | 510 | 7054 | 129 | 129 | 129 |\n",
       "\n"
      ],
      "text/plain": [
       "  survey_group locations visits samples records species current_species codes\n",
       "1 FALSE        85        85     714     8936    773     765             773  \n",
       "2  TRUE        61        85     510     7054    129     129             129  "
      ]
     },
     "metadata": {},
     "output_type": "display_data"
    }
   ],
   "source": [
    "summary_per_survey"
   ]
  },
  {
   "cell_type": "markdown",
   "id": "86c044d2-bf0a-469a-ba2a-c74722b77c39",
   "metadata": {},
   "source": [
    "Summary of data inputs"
   ]
  },
  {
   "cell_type": "code",
   "execution_count": 74,
   "id": "4a02fb30-9973-43f3-bc00-e0499406fe8c",
   "metadata": {},
   "outputs": [
    {
     "data": {
      "text/markdown": [
       "\n",
       "| Type\t| Unit of observation\t| Spatial information\t| Number of records\t| Number of taxa (including non-native)\t| Data source |\n",
       "|---|---|---|---|---|---|\n",
       "| **Primary Observations** |\n",
       "| Post-fire field surveys | Individual | 85 sites | 8936 | 765  | East coast post-fire surveys 2020-2022 |\n",
       "| Time series field observations | Individual | 61 sites | 7054 | 129 | Mallee vegetation dynamics 2007-2018 [@Keith_Tozer_2012] |\n",
       "| **Compilations** |\n",
       "| Fire response \t| Species\t| Not applicable\t| 9130\t| 2325\t | 203 sources compiled in NSW plant fire response database [@Kenny2014] | \n",
       "|Species traits\t| Individuals / Populations / Species\t| Variable |\t37555\t| 5472\t | 142 sources compiled in AusTraits plant database [@Falster2021] |\n",
       "| Total | |  |  | 6287  |\n"
      ]
     },
     "metadata": {},
     "output_type": "display_data"
    }
   ],
   "source": [
    "new_surveys <- quadrat_samples |> filter(!survey_name %in% c(\"Mallee Woodlands\"))\n",
    "old_surveys <- quadrat_samples |> filter(survey_name %in% c(\"Mallee Woodlands\"))\n",
    "total_spp <- pull(total_records,total_current)\n",
    "\n",
    "tbl = sprintf(\"\n",
    "| Type\t| Unit of observation\t| Spatial information\t| Number of records\t| Number of taxa (including non-native)\t| Data source |\n",
    "|---|---|---|---|---|---|\n",
    "| **Primary Observations** |\n",
    "| Post-fire field surveys | Individual | %s sites | %s | %s  | East coast post-fire surveys 2020-2022 |\n",
    "| Time series field observations | Individual | %s sites | %s | %s | Mallee vegetation dynamics 2007-2018 [@Keith_Tozer_2012] |\n",
    "| **Compilations** |\n",
    "| Fire response \t| Species\t| Not applicable\t| %s\t| %s\t | %s sources compiled in NSW plant fire response database [@Kenny2014] | \n",
    "|Species traits\t| Individuals / Populations / Species\t| Variable |\t%s\t| %s\t | %s sources compiled in AusTraits plant database [@Falster2021] |\n",
    "| Total | |  |  | %s  |\n",
    "\", \n",
    "              Postfire_samples$locations, Postfire_samples$records, Postfire_samples$current_species,\n",
    "            Mallee_samples$locations, Mallee_samples$records, Mallee_samples$current_species,\n",
    "              NSWFFRD_records$records, NSWFFRD_records$species, NSWFFRD_records$sources,\n",
    "              Austraits_records$records, Austraits_records$species, Austraits_records$sources,\n",
    "               total_spp\n",
    "             )\n",
    "\n",
    "display_markdown(tbl)\n"
   ]
  },
  {
   "cell_type": "markdown",
   "id": "94b450df-bce2-4fe2-ab5e-305e756f3f74",
   "metadata": {
    "jp-MarkdownHeadingCollapsed": true
   },
   "source": [
    "## That is it for now!\n",
    "\n",
    "✅ Job done! 😎👌🔥\n",
    "\n",
    "You can:\n",
    "- go [back home](../Instructions-and-workflow.ipynb),\n",
    "- continue navigating the repo on [GitHub](https://github.com/ces-unsw-edu-au/fireveg-db-exports)\n",
    "- continue exploring the repo on [OSF](https://osf.io/h96q2/).\n",
    "- visit the database at <http://fireecologyplants.net>"
   ]
  },
  {
   "cell_type": "code",
   "execution_count": null,
   "id": "5f4bf108-37a0-4b47-9f06-201dee55e49f",
   "metadata": {},
   "outputs": [],
   "source": []
  }
 ],
 "metadata": {
  "kernelspec": {
   "display_name": "R",
   "language": "R",
   "name": "ir"
  },
  "language_info": {
   "codemirror_mode": "r",
   "file_extension": ".r",
   "mimetype": "text/x-r-source",
   "name": "R",
   "pygments_lexer": "r",
   "version": "4.3.1"
  }
 },
 "nbformat": 4,
 "nbformat_minor": 5
}
