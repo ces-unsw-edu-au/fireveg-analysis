{
 "cells": [
  {
   "cell_type": "markdown",
   "id": "0a821a83-58f2-4da3-92bf-a4f1872fc232",
   "metadata": {},
   "source": [
    "# Fireveg DB - download data for analysis\n",
    "\n",
    "Author: [José R. Ferrer-Paris](https://github.com/jrfep) and [Ada Sánchez-Mercado](https://github.com/adasanchez)\n",
    "\n",
    "Date: January 2025\n",
    "\n",
    "This Jupyter Notebook includes **R code to download data records** of the data exported from the Fireveg Database. \n",
    "\n",
    "Here we will read input from a public data record of the database to save a local copy of the data, in the next workbooks will use these data to answer some questions about the data coverage of the database."
   ]
  },
  {
   "cell_type": "markdown",
   "id": "8d3051a5-e5b7-4fdb-bcd6-a4ccbc59e06d",
   "metadata": {},
   "source": [
    "```mermaid\n",
    "flowchart LR\n",
    "    Litrev & Form  --> Fireveg --> DR --> Down --> Code --> Q1 & Q2 & Q3\n",
    "    Fireveg[(Fireveg\\nDatabase)]\n",
    "    Litrev[Field work\\ndata stream] \n",
    "    Form[Existing sources\\n data stream] \n",
    "    BioNet(BioNet Atlas\\nSpecies list) \n",
    "    BioNet -.-> Fireveg\n",
    "    DR[Exported\\nData Record\\nVersion 1.1]:::ThisRepo\n",
    "    Down{R code\\nfor data download}:::ThisRepo\n",
    "    Code{R code\\nfor data analysis}\n",
    "    Q3[\"Q2. ...\"]\n",
    "    Q2[\"Q3. ...\"]\n",
    "    Q1[\"Q1. ...\"] \n",
    "classDef ThisRepo fill:none,stroke:black,color:black;\n",
    "\n",
    "```"
   ]
  },
  {
   "cell_type": "markdown",
   "id": "fb9cb953-fe33-43b5-aede-af0b2e14fbf2",
   "metadata": {},
   "source": [
    "## Set-up"
   ]
  },
  {
   "cell_type": "markdown",
   "id": "2a03016f-8f7c-4de5-bf50-88e623cccfc9",
   "metadata": {},
   "source": [
    "### Load packages"
   ]
  },
  {
   "cell_type": "code",
   "execution_count": 1,
   "id": "ca0aa60e-b5be-41d6-ae77-25b341572f08",
   "metadata": {},
   "outputs": [
    {
     "name": "stderr",
     "output_type": "stream",
     "text": [
      "\n",
      "Attaching package: ‘dplyr’\n",
      "\n",
      "\n",
      "The following objects are masked from ‘package:stats’:\n",
      "\n",
      "    filter, lag\n",
      "\n",
      "\n",
      "The following objects are masked from ‘package:base’:\n",
      "\n",
      "    intersect, setdiff, setequal, union\n",
      "\n",
      "\n"
     ]
    }
   ],
   "source": [
    "library(dplyr)"
   ]
  },
  {
   "cell_type": "markdown",
   "id": "ff31785d-d350-4bae-8c47-cf6e1582349f",
   "metadata": {},
   "source": [
    "For data download from cloud storage"
   ]
  },
  {
   "cell_type": "code",
   "execution_count": 2,
   "id": "12e180cc-e481-4822-b2a7-bd2c4d2c7507",
   "metadata": {},
   "outputs": [
    {
     "name": "stderr",
     "output_type": "stream",
     "text": [
      "Loading required package: osfr\n",
      "\n",
      "Automatically registered OSF personal access token\n",
      "\n",
      "Warning message:\n",
      "“package ‘jsonlite’ was built under R version 4.3.3”\n"
     ]
    }
   ],
   "source": [
    "require(osfr)\n",
    "library(jsonlite)\n",
    "library(httr)"
   ]
  },
  {
   "cell_type": "markdown",
   "id": "31b618ca-62fc-40b1-b1db-455ddaa549e1",
   "metadata": {},
   "source": [
    "### Paths for inputs and outputs"
   ]
  },
  {
   "cell_type": "markdown",
   "id": "800ec85f-b4d7-42da-9d9b-878819239c22",
   "metadata": {},
   "source": [
    "Locate the root directory of the repo"
   ]
  },
  {
   "cell_type": "code",
   "execution_count": 3,
   "id": "d09a62b8-14b3-4755-af99-d3f8f22ae17e",
   "metadata": {},
   "outputs": [
    {
     "name": "stderr",
     "output_type": "stream",
     "text": [
      "here() starts at /Users/z3529065/proyectos/fireveg/fireveg-analysis\n",
      "\n"
     ]
    }
   ],
   "source": [
    "here::i_am(\"Notebooks/00-Data-download.ipynb\")"
   ]
  },
  {
   "cell_type": "markdown",
   "id": "eecf6237-d14e-434a-ba75-8be285ad66f5",
   "metadata": {},
   "source": [
    "Relative path to local data files within project repository"
   ]
  },
  {
   "cell_type": "code",
   "execution_count": 4,
   "id": "282632dd-2702-478a-a07f-d01a0cf1346f",
   "metadata": {},
   "outputs": [],
   "source": [
    "data_dir <- here::here(\"data\")\n",
    "if (!dir.exists(data_dir))\n",
    "    dir.create(data_dir)"
   ]
  },
  {
   "cell_type": "markdown",
   "id": "623e0f24-6f59-4fc6-8dd6-4e367e4c112b",
   "metadata": {},
   "source": [
    "### Download data"
   ]
  },
  {
   "cell_type": "markdown",
   "id": "21e8b6b9-be95-4840-bb51-389507a732f9",
   "metadata": {},
   "source": [
    "<div class=\"alert alert-info\">\n",
    "     <img src='../img/open-data-2.png' width=25 alt=\"open data icon\"/>\n",
    "Data for this Notebook is available from the following repositories:\n",
    "\n",
    "> Ferrer-Paris, J. R., Keith, D., & Sánchez-Mercado, A. (2024, August 15). Export data records from Fire Ecology Traits for Plants database. Retrieved from [osf.io/h96q2](https://osf.io/h96q2/)\n",
    "\n",
    "and \n",
    "> Ferrer-Paris, J. R.; Keith, D. (2024). Fire Ecology Traits for Plants: Database exports. figshare. Dataset. Retrieved from <https://doi.org/10.6084/m9.figshare.24125088.v2>\n",
    "</div>\n",
    "\n",
    "Here we will download data programmatically from the figshare url and from OSF cloud storage to our local data folder. "
   ]
  },
  {
   "cell_type": "markdown",
   "id": "b1a234c6-c547-421f-b319-05f5d66195dc",
   "metadata": {},
   "source": [
    "#### Download data from Figshare"
   ]
  },
  {
   "cell_type": "markdown",
   "id": "8f45cb17-269b-467d-8f91-c2306688fc4e",
   "metadata": {},
   "source": [
    "We use the figshare url and declare our destination file"
   ]
  },
  {
   "cell_type": "code",
   "execution_count": 5,
   "id": "15c81895-daf5-40ed-b8ab-212ee1f411d5",
   "metadata": {},
   "outputs": [],
   "source": [
    "url <- \"https://figshare.com/ndownloader/articles/24125088/versions/2\"\n",
    "destfile <- here::here(data_dir, \"figshare-data.zip\")"
   ]
  },
  {
   "cell_type": "markdown",
   "id": "6a5a169b-45af-4a5e-87a6-02c2e8bebeae",
   "metadata": {},
   "source": [
    "Ada's suggestion is to use the `GET` function from package `httr`:"
   ]
  },
  {
   "cell_type": "code",
   "execution_count": 6,
   "id": "8b46774f-9fe0-42fe-8499-1096c507a1af",
   "metadata": {},
   "outputs": [],
   "source": [
    "if (!file.exists(destfile)) {\n",
    "    GET(url, write_disk(destfile, overwrite = FALSE), config = config(ssl_verifypeer = FALSE))\n",
    "}"
   ]
  },
  {
   "cell_type": "markdown",
   "id": "74898c01-f795-4dd6-81c6-d70a4d44a00b",
   "metadata": {},
   "source": [
    "And then to use `unzip` to create a new folder:"
   ]
  },
  {
   "cell_type": "code",
   "execution_count": 7,
   "id": "2b54e950-86ed-480c-860e-af121cb09c3b",
   "metadata": {},
   "outputs": [],
   "source": [
    "unzip(destfile, exdir = here::here(data_dir, \"figshare_data\"))"
   ]
  },
  {
   "cell_type": "markdown",
   "id": "69137f25-875d-4b59-ab48-98db2a601155",
   "metadata": {},
   "source": [
    "#### Download data from OSF"
   ]
  },
  {
   "cell_type": "markdown",
   "id": "5fa1a195-0358-4997-b929-6f44d455254f",
   "metadata": {},
   "source": [
    "Here we will download data programmatically from OSF cloud storage to our local data folder. First we will check the metadata for the target file. We use the `osf_ls_files` function from package `osfr` to explore the metadata of the files associated to the OSF component."
   ]
  },
  {
   "cell_type": "code",
   "execution_count": 8,
   "id": "34c27433-0645-4490-b791-e81eef3fd5d3",
   "metadata": {},
   "outputs": [],
   "source": [
    "osf_project <- osf_retrieve_node(\"https://osf.io/h96q2\")\n",
    "file_list <- osf_ls_files(osf_project)"
   ]
  },
  {
   "cell_type": "markdown",
   "id": "4817aeba-6456-4836-b7ee-bea057a19441",
   "metadata": {},
   "source": [
    "This will give us a list of file names and ids:"
   ]
  },
  {
   "cell_type": "code",
   "execution_count": 9,
   "id": "93684798-8ccd-4da9-9c95-337bd96103b9",
   "metadata": {},
   "outputs": [
    {
     "data": {
      "text/html": [
       "<table class=\"dataframe\">\n",
       "<caption>A tibble: 10 × 2</caption>\n",
       "<thead>\n",
       "\t<tr><th scope=col>name</th><th scope=col>id</th></tr>\n",
       "\t<tr><th scope=col>&lt;chr&gt;</th><th scope=col>&lt;chr&gt;</th></tr>\n",
       "</thead>\n",
       "<tbody>\n",
       "\t<tr><td>fire-history.rds                 </td><td>6452ba9d13904f00b7fc85d2</td></tr>\n",
       "\t<tr><td>Quadrat-sample-data.rds          </td><td>6452bab38ea16b0093b69427</td></tr>\n",
       "\t<tr><td>site-visits.rds                  </td><td>6452bac07177850087b0f73c</td></tr>\n",
       "\t<tr><td>Summary-traits-family.rds        </td><td>6452bacfb30b4900b4b9ddc4</td></tr>\n",
       "\t<tr><td>Summary-traits-species.rds       </td><td>6452bae3717785008bb0f4b1</td></tr>\n",
       "\t<tr><td>field-sites.gpkg                 </td><td>648a583bbee36d028d0e6261</td></tr>\n",
       "\t<tr><td>Summary-traits-sources.rds       </td><td>64966f6fa2a2f4075a436743</td></tr>\n",
       "\t<tr><td>Trait-info.rds                   </td><td>649a64e8a2a2f40aa7436407</td></tr>\n",
       "\t<tr><td>References-traits-sources.rds    </td><td>66c8198039554f1e062d2f46</td></tr>\n",
       "\t<tr><td>Summary-traits-species-orders.rds</td><td>66c829ef6725569184c5ca7a</td></tr>\n",
       "</tbody>\n",
       "</table>\n"
      ],
      "text/latex": [
       "A tibble: 10 × 2\n",
       "\\begin{tabular}{ll}\n",
       " name & id\\\\\n",
       " <chr> & <chr>\\\\\n",
       "\\hline\n",
       "\t fire-history.rds                  & 6452ba9d13904f00b7fc85d2\\\\\n",
       "\t Quadrat-sample-data.rds           & 6452bab38ea16b0093b69427\\\\\n",
       "\t site-visits.rds                   & 6452bac07177850087b0f73c\\\\\n",
       "\t Summary-traits-family.rds         & 6452bacfb30b4900b4b9ddc4\\\\\n",
       "\t Summary-traits-species.rds        & 6452bae3717785008bb0f4b1\\\\\n",
       "\t field-sites.gpkg                  & 648a583bbee36d028d0e6261\\\\\n",
       "\t Summary-traits-sources.rds        & 64966f6fa2a2f4075a436743\\\\\n",
       "\t Trait-info.rds                    & 649a64e8a2a2f40aa7436407\\\\\n",
       "\t References-traits-sources.rds     & 66c8198039554f1e062d2f46\\\\\n",
       "\t Summary-traits-species-orders.rds & 66c829ef6725569184c5ca7a\\\\\n",
       "\\end{tabular}\n"
      ],
      "text/markdown": [
       "\n",
       "A tibble: 10 × 2\n",
       "\n",
       "| name &lt;chr&gt; | id &lt;chr&gt; |\n",
       "|---|---|\n",
       "| fire-history.rds                  | 6452ba9d13904f00b7fc85d2 |\n",
       "| Quadrat-sample-data.rds           | 6452bab38ea16b0093b69427 |\n",
       "| site-visits.rds                   | 6452bac07177850087b0f73c |\n",
       "| Summary-traits-family.rds         | 6452bacfb30b4900b4b9ddc4 |\n",
       "| Summary-traits-species.rds        | 6452bae3717785008bb0f4b1 |\n",
       "| field-sites.gpkg                  | 648a583bbee36d028d0e6261 |\n",
       "| Summary-traits-sources.rds        | 64966f6fa2a2f4075a436743 |\n",
       "| Trait-info.rds                    | 649a64e8a2a2f40aa7436407 |\n",
       "| References-traits-sources.rds     | 66c8198039554f1e062d2f46 |\n",
       "| Summary-traits-species-orders.rds | 66c829ef6725569184c5ca7a |\n",
       "\n"
      ],
      "text/plain": [
       "   name                              id                      \n",
       "1  fire-history.rds                  6452ba9d13904f00b7fc85d2\n",
       "2  Quadrat-sample-data.rds           6452bab38ea16b0093b69427\n",
       "3  site-visits.rds                   6452bac07177850087b0f73c\n",
       "4  Summary-traits-family.rds         6452bacfb30b4900b4b9ddc4\n",
       "5  Summary-traits-species.rds        6452bae3717785008bb0f4b1\n",
       "6  field-sites.gpkg                  648a583bbee36d028d0e6261\n",
       "7  Summary-traits-sources.rds        64966f6fa2a2f4075a436743\n",
       "8  Trait-info.rds                    649a64e8a2a2f40aa7436407\n",
       "9  References-traits-sources.rds     66c8198039554f1e062d2f46\n",
       "10 Summary-traits-species-orders.rds 66c829ef6725569184c5ca7a"
      ]
     },
     "metadata": {},
     "output_type": "display_data"
    }
   ],
   "source": [
    "select(file_list, name, id)"
   ]
  },
  {
   "cell_type": "markdown",
   "id": "901c5f37-f9a4-46ef-ae39-60f0e61446e1",
   "metadata": {},
   "source": [
    "For a single file we can do:"
   ]
  },
  {
   "cell_type": "code",
   "execution_count": 10,
   "id": "2f1a42d3-a6e1-4317-9084-65bb5f3033ed",
   "metadata": {},
   "outputs": [],
   "source": [
    "selected_file <- osf_ls_files(osf_project, pattern=\"Summary-traits-sources.rds\")"
   ]
  },
  {
   "cell_type": "markdown",
   "id": "dcfa12ff-4904-463c-9678-783d2e80a331",
   "metadata": {},
   "source": [
    "And we can explore that file's  metadata:"
   ]
  },
  {
   "cell_type": "code",
   "execution_count": 11,
   "id": "3d7d75f1-846d-4723-aa87-e56cb75a6850",
   "metadata": {},
   "outputs": [
    {
     "name": "stdout",
     "output_type": "stream",
     "text": [
      "List of 1\n",
      " $ :List of 3\n",
      "  ..$ attributes   :List of 16\n",
      "  .. ..$ guid                    : NULL\n",
      "  .. ..$ checkout                : NULL\n",
      "  .. ..$ name                    : chr \"Summary-traits-sources.rds\"\n",
      "  .. ..$ kind                    : chr \"file\"\n",
      "  .. ..$ path                    : chr \"/64966f6fa2a2f4075a436743\"\n",
      "  .. ..$ size                    : int 1195532\n",
      "  .. ..$ provider                : chr \"osfstorage\"\n",
      "  .. ..$ materialized_path       : chr \"/Summary-traits-sources.rds\"\n",
      "  .. ..$ last_touched            : NULL\n",
      "  .. ..$ date_modified           : POSIXct[1:1], format: \"2024-08-23 09:57:39\"\n",
      "  .. ..$ date_created            : POSIXct[1:1], format: \"2023-06-24 04:22:07\"\n",
      "  .. ..$ extra                   :List of 2\n",
      "  .. ..$ tags                    : list()\n",
      "  .. ..$ current_user_can_comment: logi TRUE\n",
      "  .. ..$ current_version         : int 4\n",
      "  .. ..$ show_as_unviewed        : logi TRUE\n",
      "  ..$ links        :List of 8\n",
      "  .. ..$ info    : chr \"https://api.osf.io/v2/files/64966f6fa2a2f4075a436743/\"\n",
      "  .. ..$ move    : chr \"https://files.au-1.osf.io/v1/resources/h96q2/providers/osfstorage/64966f6fa2a2f4075a436743\"\n",
      "  .. ..$ upload  : chr \"https://files.au-1.osf.io/v1/resources/h96q2/providers/osfstorage/64966f6fa2a2f4075a436743\"\n",
      "  .. ..$ delete  : chr \"https://files.au-1.osf.io/v1/resources/h96q2/providers/osfstorage/64966f6fa2a2f4075a436743\"\n",
      "  .. ..$ download: chr \"https://osf.io/download/64966f6fa2a2f4075a436743/\"\n",
      "  .. ..$ render  : chr \"https://mfr.au-1.osf.io/render?url=https%3A%2F%2Fosf.io%2Fdownload%2F64966f6fa2a2f4075a436743%2F%3Fdirect%26mode%3Drender\"\n",
      "  .. ..$ html    : chr \"https://osf.io/h96q2/files/osfstorage/64966f6fa2a2f4075a436743\"\n",
      "  .. ..$ self    : chr \"https://api.osf.io/v2/files/64966f6fa2a2f4075a436743/\"\n",
      "  ..$ relationships:List of 5\n",
      "  .. ..$ parent_folder         :List of 2\n",
      "  .. ..$ versions              :List of 1\n",
      "  .. ..$ node                  :List of 2\n",
      "  .. ..$ target                :List of 2\n",
      "  .. ..$ cedar_metadata_records:List of 1\n"
     ]
    }
   ],
   "source": [
    "str(selected_file$meta,3)"
   ]
  },
  {
   "cell_type": "markdown",
   "id": "a9f03845-3be1-4937-8bb5-e8809a90fa07",
   "metadata": {},
   "source": [
    "We can download one file:"
   ]
  },
  {
   "cell_type": "code",
   "execution_count": 12,
   "id": "1dba3f30-73f5-457a-987b-3800a0127a1d",
   "metadata": {},
   "outputs": [
    {
     "data": {
      "text/html": [
       "<table class=\"dataframe\">\n",
       "<caption>A osf_tbl_file: 1 × 4</caption>\n",
       "<thead>\n",
       "\t<tr><th scope=col>name</th><th scope=col>id</th><th scope=col>local_path</th><th scope=col>meta</th></tr>\n",
       "\t<tr><th scope=col>&lt;chr&gt;</th><th scope=col>&lt;chr&gt;</th><th scope=col>&lt;chr&gt;</th><th scope=col>&lt;list&gt;</th></tr>\n",
       "</thead>\n",
       "<tbody>\n",
       "\t<tr><td>Summary-traits-sources.rds</td><td>64966f6fa2a2f4075a436743</td><td>/Users/z3529065/proyectos/fireveg/fireveg-analysis/data/Summary-traits-sources.rds</td><td>Summary-traits-sources.rds                                                                                               , file                                                                                                                     , /64966f6fa2a2f4075a436743                                                                                                , 1195532                                                                                                                  , osfstorage                                                                                                               , /Summary-traits-sources.rds                                                                                              , 1724407059                                                                                                               , 1687580527                                                                                                               , cbb68a6d602cc68e32f96a3e022adb9a                                                                                         , a048f8c6b16e1c8967978fa2eec695b85e4a018bc8888c2720517adf1ae29cac                                                         , 0                                                                                                                        , TRUE                                                                                                                     , 4                                                                                                                        , TRUE                                                                                                                     , https://api.osf.io/v2/files/64966f6fa2a2f4075a436743/                                                                    , https://files.au-1.osf.io/v1/resources/h96q2/providers/osfstorage/64966f6fa2a2f4075a436743                               , https://files.au-1.osf.io/v1/resources/h96q2/providers/osfstorage/64966f6fa2a2f4075a436743                               , https://files.au-1.osf.io/v1/resources/h96q2/providers/osfstorage/64966f6fa2a2f4075a436743                               , https://osf.io/download/64966f6fa2a2f4075a436743/                                                                        , https://mfr.au-1.osf.io/render?url=https%3A%2F%2Fosf.io%2Fdownload%2F64966f6fa2a2f4075a436743%2F%3Fdirect%26mode%3Drender, https://osf.io/h96q2/files/osfstorage/64966f6fa2a2f4075a436743                                                           , https://api.osf.io/v2/files/64966f6fa2a2f4075a436743/                                                                    , https://api.osf.io/v2/files/6343b15cd1964c0bcc48267c/                                                                    , 6343b15cd1964c0bcc48267c                                                                                                 , files                                                                                                                    , https://api.osf.io/v2/files/64966f6fa2a2f4075a436743/versions/                                                           , https://api.osf.io/v2/nodes/h96q2/                                                                                       , h96q2                                                                                                                    , nodes                                                                                                                    , https://api.osf.io/v2/nodes/h96q2/                                                                                       , nodes                                                                                                                    , nodes                                                                                                                    , h96q2                                                                                                                    , https://api.osf.io/v2/files/64966f6fa2a2f4075a436743/cedar_metadata_records/                                             </td></tr>\n",
       "</tbody>\n",
       "</table>\n"
      ],
      "text/latex": [
       "A osf\\_tbl\\_file: 1 × 4\n",
       "\\begin{tabular}{llll}\n",
       " name & id & local\\_path & meta\\\\\n",
       " <chr> & <chr> & <chr> & <list>\\\\\n",
       "\\hline\n",
       "\t Summary-traits-sources.rds & 64966f6fa2a2f4075a436743 & /Users/z3529065/proyectos/fireveg/fireveg-analysis/data/Summary-traits-sources.rds & Summary-traits-sources.rds                                                                                               , file                                                                                                                     , /64966f6fa2a2f4075a436743                                                                                                , 1195532                                                                                                                  , osfstorage                                                                                                               , /Summary-traits-sources.rds                                                                                              , 1724407059                                                                                                               , 1687580527                                                                                                               , cbb68a6d602cc68e32f96a3e022adb9a                                                                                         , a048f8c6b16e1c8967978fa2eec695b85e4a018bc8888c2720517adf1ae29cac                                                         , 0                                                                                                                        , TRUE                                                                                                                     , 4                                                                                                                        , TRUE                                                                                                                     , https://api.osf.io/v2/files/64966f6fa2a2f4075a436743/                                                                    , https://files.au-1.osf.io/v1/resources/h96q2/providers/osfstorage/64966f6fa2a2f4075a436743                               , https://files.au-1.osf.io/v1/resources/h96q2/providers/osfstorage/64966f6fa2a2f4075a436743                               , https://files.au-1.osf.io/v1/resources/h96q2/providers/osfstorage/64966f6fa2a2f4075a436743                               , https://osf.io/download/64966f6fa2a2f4075a436743/                                                                        , https://mfr.au-1.osf.io/render?url=https\\%3A\\%2F\\%2Fosf.io\\%2Fdownload\\%2F64966f6fa2a2f4075a436743\\%2F\\%3Fdirect\\%26mode\\%3Drender, https://osf.io/h96q2/files/osfstorage/64966f6fa2a2f4075a436743                                                           , https://api.osf.io/v2/files/64966f6fa2a2f4075a436743/                                                                    , https://api.osf.io/v2/files/6343b15cd1964c0bcc48267c/                                                                    , 6343b15cd1964c0bcc48267c                                                                                                 , files                                                                                                                    , https://api.osf.io/v2/files/64966f6fa2a2f4075a436743/versions/                                                           , https://api.osf.io/v2/nodes/h96q2/                                                                                       , h96q2                                                                                                                    , nodes                                                                                                                    , https://api.osf.io/v2/nodes/h96q2/                                                                                       , nodes                                                                                                                    , nodes                                                                                                                    , h96q2                                                                                                                    , https://api.osf.io/v2/files/64966f6fa2a2f4075a436743/cedar\\_metadata\\_records/                                             \\\\\n",
       "\\end{tabular}\n"
      ],
      "text/markdown": [
       "\n",
       "A osf_tbl_file: 1 × 4\n",
       "\n",
       "| name &lt;chr&gt; | id &lt;chr&gt; | local_path &lt;chr&gt; | meta &lt;list&gt; |\n",
       "|---|---|---|---|\n",
       "| Summary-traits-sources.rds | 64966f6fa2a2f4075a436743 | /Users/z3529065/proyectos/fireveg/fireveg-analysis/data/Summary-traits-sources.rds | Summary-traits-sources.rds                                                                                               , file                                                                                                                     , /64966f6fa2a2f4075a436743                                                                                                , 1195532                                                                                                                  , osfstorage                                                                                                               , /Summary-traits-sources.rds                                                                                              , 1724407059                                                                                                               , 1687580527                                                                                                               , cbb68a6d602cc68e32f96a3e022adb9a                                                                                         , a048f8c6b16e1c8967978fa2eec695b85e4a018bc8888c2720517adf1ae29cac                                                         , 0                                                                                                                        , TRUE                                                                                                                     , 4                                                                                                                        , TRUE                                                                                                                     , https://api.osf.io/v2/files/64966f6fa2a2f4075a436743/                                                                    , https://files.au-1.osf.io/v1/resources/h96q2/providers/osfstorage/64966f6fa2a2f4075a436743                               , https://files.au-1.osf.io/v1/resources/h96q2/providers/osfstorage/64966f6fa2a2f4075a436743                               , https://files.au-1.osf.io/v1/resources/h96q2/providers/osfstorage/64966f6fa2a2f4075a436743                               , https://osf.io/download/64966f6fa2a2f4075a436743/                                                                        , https://mfr.au-1.osf.io/render?url=https%3A%2F%2Fosf.io%2Fdownload%2F64966f6fa2a2f4075a436743%2F%3Fdirect%26mode%3Drender, https://osf.io/h96q2/files/osfstorage/64966f6fa2a2f4075a436743                                                           , https://api.osf.io/v2/files/64966f6fa2a2f4075a436743/                                                                    , https://api.osf.io/v2/files/6343b15cd1964c0bcc48267c/                                                                    , 6343b15cd1964c0bcc48267c                                                                                                 , files                                                                                                                    , https://api.osf.io/v2/files/64966f6fa2a2f4075a436743/versions/                                                           , https://api.osf.io/v2/nodes/h96q2/                                                                                       , h96q2                                                                                                                    , nodes                                                                                                                    , https://api.osf.io/v2/nodes/h96q2/                                                                                       , nodes                                                                                                                    , nodes                                                                                                                    , h96q2                                                                                                                    , https://api.osf.io/v2/files/64966f6fa2a2f4075a436743/cedar_metadata_records/                                              |\n",
       "\n"
      ],
      "text/plain": [
       "  name                       id                      \n",
       "1 Summary-traits-sources.rds 64966f6fa2a2f4075a436743\n",
       "  local_path                                                                        \n",
       "1 /Users/z3529065/proyectos/fireveg/fireveg-analysis/data/Summary-traits-sources.rds\n",
       "  meta                                                                                                                                                                                                                                                                                                                                                                                                                                                                                                                                                                                                                                                                                                                                                                                                                                                                                                                                                                                                                                                                                                                                                                                                                                                                                                                                                                                                                                                                                                                                                                                                                                                                                                                                                                                                                                                                                                                                                                                                                                                                                                                                                                                                                                                                                                                                                                                                                                                                                                                                                                                                                                                                                                                                                                                                                                                                                                                                                                                                                                                                                                                                                                                                                                                                                                                                                                                                                                                                                                                                                                                                                                                                                                                                                                                                                                                                                                                                                                                                                                                                                                                                                                                                                                                                                                                                                \n",
       "1 Summary-traits-sources.rds                                                                                               , file                                                                                                                     , /64966f6fa2a2f4075a436743                                                                                                , 1195532                                                                                                                  , osfstorage                                                                                                               , /Summary-traits-sources.rds                                                                                              , 1724407059                                                                                                               , 1687580527                                                                                                               , cbb68a6d602cc68e32f96a3e022adb9a                                                                                         , a048f8c6b16e1c8967978fa2eec695b85e4a018bc8888c2720517adf1ae29cac                                                         , 0                                                                                                                        , TRUE                                                                                                                     , 4                                                                                                                        , TRUE                                                                                                                     , https://api.osf.io/v2/files/64966f6fa2a2f4075a436743/                                                                    , https://files.au-1.osf.io/v1/resources/h96q2/providers/osfstorage/64966f6fa2a2f4075a436743                               , https://files.au-1.osf.io/v1/resources/h96q2/providers/osfstorage/64966f6fa2a2f4075a436743                               , https://files.au-1.osf.io/v1/resources/h96q2/providers/osfstorage/64966f6fa2a2f4075a436743                               , https://osf.io/download/64966f6fa2a2f4075a436743/                                                                        , https://mfr.au-1.osf.io/render?url=https%3A%2F%2Fosf.io%2Fdownload%2F64966f6fa2a2f4075a436743%2F%3Fdirect%26mode%3Drender, https://osf.io/h96q2/files/osfstorage/64966f6fa2a2f4075a436743                                                           , https://api.osf.io/v2/files/64966f6fa2a2f4075a436743/                                                                    , https://api.osf.io/v2/files/6343b15cd1964c0bcc48267c/                                                                    , 6343b15cd1964c0bcc48267c                                                                                                 , files                                                                                                                    , https://api.osf.io/v2/files/64966f6fa2a2f4075a436743/versions/                                                           , https://api.osf.io/v2/nodes/h96q2/                                                                                       , h96q2                                                                                                                    , nodes                                                                                                                    , https://api.osf.io/v2/nodes/h96q2/                                                                                       , nodes                                                                                                                    , nodes                                                                                                                    , h96q2                                                                                                                    , https://api.osf.io/v2/files/64966f6fa2a2f4075a436743/cedar_metadata_records/                                             "
      ]
     },
     "metadata": {},
     "output_type": "display_data"
    }
   ],
   "source": [
    "RDSfile <- here::here(data_dir,'Summary-traits-sources.rds')\n",
    "\n",
    "osf_download(selected_file,\n",
    "             data_dir,\n",
    "             conflicts = \"skip\")"
   ]
  },
  {
   "cell_type": "markdown",
   "id": "7f1b9f3d-fca5-491f-b00c-2266577f2d0d",
   "metadata": {},
   "source": [
    "Or we can select a subset of files to download"
   ]
  },
  {
   "cell_type": "code",
   "execution_count": 13,
   "id": "4640db0d-7d59-4e7d-831f-2d9e4dfbb530",
   "metadata": {},
   "outputs": [],
   "source": [
    "files_to_download <- c(\n",
    "    \"Trait-info.rds\",\n",
    "    \"Summary-traits-sources.rds\", \n",
    "    \"References-traits-sources.rds\",\n",
    "    \"Quadrat-sample-data.rds\",\n",
    "    \"Summary-traits-species-orders.rds\"\n",
    ")"
   ]
  },
  {
   "cell_type": "code",
   "execution_count": 14,
   "id": "afd7d9ce-0a03-4852-a64d-06729a57fa2c",
   "metadata": {},
   "outputs": [],
   "source": [
    "selected_files <- filter(file_list, name %in% files_to_download)"
   ]
  },
  {
   "cell_type": "markdown",
   "id": "b5e8df77-1813-4f6c-a338-393b45ae1cfe",
   "metadata": {},
   "source": [
    "To download the latest version we apply the `osf_download` function with option `conflicts=\"overwrite\"`. \n",
    "If we already have the latest version we can choose option `conflicts=\"skip\"`."
   ]
  },
  {
   "cell_type": "code",
   "execution_count": 15,
   "id": "e1e24e35-76d3-44af-a85f-ca54d962d617",
   "metadata": {},
   "outputs": [],
   "source": [
    "downloaded_files <- osf_download(selected_files,\n",
    "             data_dir,\n",
    "             conflicts = \"overwrite\")\n"
   ]
  },
  {
   "cell_type": "markdown",
   "id": "c10c55b8-109e-419e-a37d-e4cd9aeed767",
   "metadata": {},
   "source": [
    "#### What about older versions?\n",
    "\n",
    "We can request more complete version information with a direct call to the API using the `read_json` function. For example the versions for one of the downloaded file are available here:"
   ]
  },
  {
   "cell_type": "code",
   "execution_count": 16,
   "id": "bccb03b0-247f-44aa-9062-9d9a62b5f1d1",
   "metadata": {},
   "outputs": [],
   "source": [
    "file_versions <- read_json(downloaded_files$meta[[5]]$relationships$versions$links$related$href)"
   ]
  },
  {
   "cell_type": "markdown",
   "id": "40e7994e-cb56-429e-b4ba-24c901dbb25c",
   "metadata": {},
   "source": [
    "And we could use these urls to download specific versions:"
   ]
  },
  {
   "cell_type": "code",
   "execution_count": 17,
   "id": "a64a1f95-cc9b-437e-a24d-3f4361b31781",
   "metadata": {},
   "outputs": [
    {
     "name": "stdout",
     "output_type": "stream",
     "text": [
      "version id 2 from 2024-08-26T00:24:29.005736 available at https://osf.io/download/66c829ef6725569184c5ca7a/?revision=2\n",
      "version id 1 from 2024-08-23T06:19:27.104873 available at https://osf.io/download/66c829ef6725569184c5ca7a/?revision=1\n"
     ]
    }
   ],
   "source": [
    "results <- lapply(file_versions$data, function(x) {\n",
    "    sprintf(\"version id %s from %s available at %s\\n\",\n",
    "            x$id,\n",
    "            x$attributes$date_created,\n",
    "            x$links$download)\n",
    "})\n",
    "for (res in results) \n",
    "    cat(res)"
   ]
  },
  {
   "cell_type": "markdown",
   "id": "7b4f2724-4fcb-41d5-8003-9ac4c572e97f",
   "metadata": {
    "jp-MarkdownHeadingCollapsed": true
   },
   "source": [
    "### Trait descriptions"
   ]
  },
  {
   "cell_type": "markdown",
   "id": "d54f7cc8-18db-4d34-b584-8f83c6826c5b",
   "metadata": {},
   "source": [
    "```mermaid\n",
    "flowchart LR\n",
    "     Fireveg --> DR --> Code --> Q1 & Q2 & Q3\n",
    "    Q2 --> Q4 & Q5\n",
    "    Fireveg[(Fireveg\\nDatabase)]\n",
    "   \n",
    "    DR[Exported\\nData Record\\nVersion 1.1]\n",
    "    Code{R code\\nfor analysis}:::ThisRepo\n",
    "    Q1[Q1. Trait descriptions]:::ThisRepo\n",
    "    Q2[\"Q2. Trait coverage\\n(NSW plant species)\"]\n",
    "    Q3[\"Q3. ...\"]    \n",
    "    Q4[\"Q4. ...\"]   \n",
    "    Q5[\"Q5. ...\"]\n",
    "classDef ThisRepo fill:none,stroke:black,color:black;\n",
    "\n",
    "```"
   ]
  },
  {
   "cell_type": "markdown",
   "id": "d83d630c-86b8-42e3-8b4f-c5645a4f2409",
   "metadata": {},
   "source": [
    "The data frame `trait_info` includes descriptions of all traits, here we show the priority traits that are already uploaded in the current version of the database."
   ]
  },
  {
   "cell_type": "code",
   "execution_count": 18,
   "id": "0817b9ee-3665-4977-b4e6-54f9a469181a",
   "metadata": {},
   "outputs": [
    {
     "ename": "ERROR",
     "evalue": "Error: object 'trait_info' not found\n",
     "output_type": "error",
     "traceback": [
      "Error: object 'trait_info' not found\nTraceback:\n",
      "1. knitr::kable(.)",
      "2. select(., Code, Trait, Classification, Description)",
      "3. arrange(., desc(life_history_process), Code)",
      "4. ungroup(.)",
      "5. mutate(., Code = code, Trait = name, Description = description, \n .     Classification = paste(life_stage, life_history_process, \n .         sep = \"/\"))",
      "6. rowwise(.)",
      "7. filter(., !is.na(priority))",
      "8. .handleSimpleError(function (cnd) \n . {\n .     watcher$capture_plot_and_output()\n .     cnd <- sanitize_call(cnd)\n .     watcher$push(cnd)\n .     switch(on_error, continue = invokeRestart(\"eval_continue\"), \n .         stop = invokeRestart(\"eval_stop\"), error = NULL)\n . }, \"object 'trait_info' not found\", base::quote(eval(expr, envir)))"
     ]
    }
   ],
   "source": [
    "tbl_trait_info <- trait_info %>% \n",
    "  filter(!is.na(priority)) %>%\n",
    "  rowwise() %>% \n",
    "  mutate(Code=code, Trait=name, \n",
    "         Description = description,\n",
    "            `Classification` = paste( \n",
    "              life_stage,\n",
    "              life_history_process, \n",
    "              sep=\"/\")) %>%\n",
    "  ungroup() %>% \n",
    "    arrange(desc(life_history_process),Code) %>% \n",
    "  select(Code, Trait, Classification, Description) %>%\n",
    "  knitr::kable()\n",
    "    \n",
    "display_markdown(paste(as.character(tbl_trait_info), collapse=\"\\n\"))"
   ]
  },
  {
   "cell_type": "markdown",
   "id": "8569df16-7658-4b2c-aafd-3d6723241387",
   "metadata": {},
   "source": [
    "### Trait coverage"
   ]
  },
  {
   "cell_type": "markdown",
   "id": "e01f8165-2fd3-4e94-8639-56b125df3aa6",
   "metadata": {},
   "source": [
    "```mermaid\n",
    "flowchart LR\n",
    "     Fireveg --> DR --> Code --> Q1 & Q2 & Q3\n",
    "    Q2 --> Q4 & Q5 & Q6\n",
    "    Fireveg[(Fireveg\\nDatabase)]\n",
    "   \n",
    "    DR[Exported\\nData Record\\nVersion 1.1]\n",
    "    Code{R code\\nfor analysis}:::ThisRepo\n",
    "    Q1[Q1. ...]\n",
    "    Q2[\"Q2. Trait coverage\\n(NSW plant species)\"]:::ThisRepo\n",
    "    Q3[\"Q3. ...\"] \n",
    "    Q4[\"Q4. Range of observed values for each trait\"]:::ThisRepo  \n",
    "    Q5[\"Q5. ...\"]:::ThisRepo  \n",
    "    Q6[\"Q6. ...\"]:::ThisRepo   \n",
    "classDef ThisRepo fill:none,stroke:black,color:black;\n",
    "\n",
    "```"
   ]
  },
  {
   "cell_type": "code",
   "execution_count": null,
   "id": "03be4f80-550d-449f-bd61-1014dba86290",
   "metadata": {},
   "outputs": [],
   "source": [
    "table(trait_data$`trait code`)"
   ]
  },
  {
   "cell_type": "code",
   "execution_count": null,
   "id": "027298f1-0b52-494c-87ed-d6c4f0115fb5",
   "metadata": {},
   "outputs": [],
   "source": [
    "waffle_plot_trait <- function(x, trait_code, legend_rows = 1) {\n",
    "    \n",
    "trait_summary <- x |> \n",
    "    dplyr::filter(`trait code` %in% trait_code) |> \n",
    "    group_by(`norm value`) |>\n",
    "    summarise(n = n_distinct(`scientific name`)) \n",
    "\n",
    "fig_caption <- sprintf(\"***%s*** (n = %s)\",\n",
    "                       trait_code, sum(trait_summary$n))\n",
    "\n",
    "trait_summary |>\n",
    "ggplot(aes(values = n, fill = `norm value`)) +\n",
    "  geom_waffle(\n",
    "    n_rows =10,        # Number of squares in each row\n",
    "    color = \"white\",   # Border color\n",
    "    flip = F, na.rm = TRUE, \n",
    "    make_proportional = T,\n",
    "    show.legend = T) +\n",
    "    coord_equal() +\n",
    "    theme_void() +\n",
    "    theme(legend.position=\"right\", \n",
    "          legend.text=element_text(size=14),\n",
    "          plot.title=element_markdown(size=16)) +\n",
    "    labs(title=fig_caption) +\n",
    "    guides(fill=guide_legend(title=\"\", ncol = legend_rows))\n",
    "}\n"
   ]
  },
  {
   "cell_type": "code",
   "execution_count": null,
   "id": "831cd713-c7e3-4651-9f3c-f01d203c7ebc",
   "metadata": {},
   "outputs": [],
   "source": [
    "trait_code <- \"repr4\"\n",
    "trait_summary <- dplyr::filter(trait_data, `trait code` %in% trait_code) \n",
    "trait_summary <- trait_summary |> \n",
    "     mutate(`norm value`=str_replace_all(`norm value`,\"\\\\[|\\\\]\",\"\")) |>\n",
    "    separate(`norm value`,\n",
    "                    into=c(\"best\", \"lower\", \"upper\"), sep = \",\") |>\n",
    "    mutate(value = as.numeric(best)) |>\n",
    "    filter(!is.na(value))\n",
    "sprintf(\"***%s*** (n = %s)\",\n",
    "                       trait_code, n_distinct(trait_summary$`scientific name`))\n",
    "    "
   ]
  },
  {
   "cell_type": "code",
   "execution_count": null,
   "id": "fd1c800b-960c-4877-ac66-52aeac00e854",
   "metadata": {},
   "outputs": [],
   "source": [
    "trait_summary"
   ]
  },
  {
   "cell_type": "code",
   "execution_count": null,
   "id": "f0c08e0e-afc3-40c5-871e-b49f1bddd2e8",
   "metadata": {},
   "outputs": [],
   "source": [
    "box_plot_trait <- function(x, trait_code) {\n",
    "    trait_summary <- dplyr::filter(x, `trait code` %in% trait_code) \n",
    "    fig_caption <- sprintf(\"***%s*** (n = %s)\",\n",
    "                       trait_code, n_distinct(trait_summary$`scientific name`))\n",
    "    \n",
    "    trait_summary <- trait_summary |> \n",
    "     mutate(`norm value`=str_replace_all(`norm value`,\"\\\\[|\\\\]\",\"\")) |>\n",
    "    separate(`norm value`,\n",
    "                    into=c(\"best\", \"lower\", \"upper\"), sep = \",\") |>\n",
    "    mutate(best = as.numeric(best),\n",
    "          lower = as.numeric(lower),\n",
    "          upper = as.numeric(upper)) |>\n",
    "    pivot_longer(cols = c(\"best\",\"lower\",\"upper\"),\n",
    "                 names_to = \"bound\", values_to = \"value\")\n",
    "\n",
    "    \n",
    "    ggplot(filter(trait_summary, !is.na(value) & bound %in% \"best\")) +\n",
    "    geom_histogram(aes(x=value)) +\n",
    "    #scale_y_log10() +\n",
    "    theme_minimal() +\n",
    "    theme(plot.title=element_markdown(size=16)) +\n",
    "    labs(title=fig_caption) \n",
    "    }"
   ]
  },
  {
   "cell_type": "code",
   "execution_count": null,
   "id": "e0296210-03f9-46ea-854a-0d92132b683c",
   "metadata": {},
   "outputs": [],
   "source": [
    "plot_rect2 <- waffle_plot_trait(trait_data, \"rect2\")\n",
    "plot_repr2 <- waffle_plot_trait(trait_data, \"repr2\")\n",
    "plot_surv4 <- trait_data |> \n",
    "    mutate(`norm value`= case_when(`norm value` %in% \"Long rhizome or root sucker\" ~ \"Long rhizome\",\n",
    "                                  TRUE ~ `norm value`)) |> \n",
    "    waffle_plot_trait( \"surv4\")\n",
    "plot_germ1 <- waffle_plot_trait(trait_data, \"germ1\", legend_rows = 1)\n",
    "plot_germ8 <- waffle_plot_trait(trait_data, \"germ8\")\n",
    "plot_surv1 <- waffle_plot_trait(trait_data, \"surv1\", legend_rows = 1)\n",
    "plot_disp1 <- waffle_plot_trait(trait_data, \"disp1\", legend_rows = 1)\n",
    "\n",
    "plot_repr3 <- box_plot_trait(trait_data, \"repr3\")\n",
    "plot_repr3a <- box_plot_trait(trait_data, \"repr3a\")\n",
    "plot_repr4 <- box_plot_trait(trait_data, \"repr4\")\n",
    "plot_surv5 <- box_plot_trait(trait_data, \"surv5\")"
   ]
  },
  {
   "cell_type": "code",
   "execution_count": null,
   "id": "2fc96c26-34b1-4907-89f9-a25e7de3fb9e",
   "metadata": {},
   "outputs": [],
   "source": [
    "options(repr.plot.width=16, repr.plot.height=16) # Make plot larger\n",
    "\n",
    "plot_grid(plot_surv1, plot_surv4, plot_surv5,\n",
    "          plot_germ1, plot_germ8,\n",
    "          plot_repr2, plot_repr3, plot_repr3a, plot_repr4,\n",
    "          plot_rect2,\n",
    "          plot_disp1, \n",
    "           align = \"vh\",\n",
    "          labels = NA,\n",
    "         ncol = 3)\n"
   ]
  },
  {
   "cell_type": "code",
   "execution_count": null,
   "id": "4ff5a739-c8d8-4c08-92d0-4313a220906c",
   "metadata": {},
   "outputs": [],
   "source": [
    "last_fire <- sites_record |>\n",
    "  mutate(last_fire = case_when(\n",
    "      `Time since last fire (days)` %in% c(NA,\"0 days\",\"ERROR: mismatching dates\") ~ 'unknown',\n",
    "      !grepl(\"year\", `Time since last fire (days)`) ~ 'recent',\n",
    "      grepl(\"^(2 years|3 years|1 year)\", `Time since last fire (days)`) ~ 'recent',\n",
    "      TRUE ~ \"older\"\n",
    "  )) |>\n",
    "  select(`Survey`,`Site label`, `Visit date`, `Time since last fire (days)`, \"last_fire\")  |>\n",
    "  rename(visit_id = `Site label`, visit_date = `Visit date`)"
   ]
  },
  {
   "cell_type": "code",
   "execution_count": null,
   "id": "c58c1381-5785-4c09-b50b-d89ab67f760e",
   "metadata": {},
   "outputs": [],
   "source": [
    "last_fire |> slice_sample(n=5)"
   ]
  },
  {
   "cell_type": "code",
   "execution_count": null,
   "id": "52a5fd26-f4c5-41cd-9d3e-edde9381dffe",
   "metadata": {},
   "outputs": [],
   "source": [
    "sites_record |> slice_sample(n=5)"
   ]
  },
  {
   "cell_type": "code",
   "execution_count": null,
   "id": "130453ff-a87b-4a7f-ab7e-70b26fa52d31",
   "metadata": {},
   "outputs": [],
   "source": [
    "# 3. Calculate traits by species -----\n",
    "# Number of individuals with a given trait. All the spp in the datset\n",
    "full_spp_trait <- field_records |>\n",
    "    filter(!is.na(species_code)) |>\n",
    "  mutate(spp_type = case_when(\n",
    "    resprout_organ %in% c(\"None\") ~ \"Seeder\", \n",
    "    TRUE ~ \"Resprouter\")\n",
    "  ) |>\n",
    " # left_join(species_list, by = c(\"species\" = \"Scientific name (as entered)\")) |> # Add family information\n",
    "  left_join(distinct(species_list), by = c(\"species_code\" = \"CAPS code\")) |> # Add family information\n",
    "  left_join(last_fire, by = c(\"visit_id\",\"visit_date\")) |>  # Add fire information\n",
    "  filter(last_fire == \"recent\") |> # Calculate the metrics only for these sites with time since last fire <= 3 years\n",
    "  group_by(Family, species, Survey, visit_id, visit_date, spp_type, resprout_organ, seedbank) |>\n",
    "  summarise(n1 = sum(resprouts_live, na.rm = TRUE),         # N total live resprouts (N1)\n",
    "            n2 = sum(resprouts_reproductive, na.rm = TRUE), # N reproductive live resprouts (N2)\n",
    "            n5 = sum(recruits_live, na.rm = TRUE),          # N total live recruits (N5)\n",
    "            n6 = sum(recruits_reproductive, na.rm = TRUE),  # N reproductive live recruits (N6)\n",
    "            n7 = sum(resprouts_died, na.rm = TRUE),         # N Dead resprouts (N7). This variable is all 0\n",
    "            n8 = sum(recruits_died, na.rm = TRUE),          # N dead recruits (N8)\n",
    "            n9 = sum(resprouts_kill, na.rm = TRUE),      # N fire killed resprouts (N9)\n",
    "            .groups = \"drop\"\n",
    ") |>\n",
    "  mutate(prop_fire_mortality = n9 /(n1 + n7 + n9),\n",
    "         prop_sprout_surv = n7/ (n1 + n7),\n",
    "         seed_adult = (n5 + n8) / (n1 + n7),\n",
    "         pro_recruit_surv = n5 / (n5 + n8),\n",
    "         prop_reprod_recruit = n6 / max(n5)\n",
    "  ) |>\n",
    "  as_tibble() \n"
   ]
  },
  {
   "cell_type": "code",
   "execution_count": null,
   "id": "dfaaa6c3-c6bc-4a4f-9861-21bdc810c034",
   "metadata": {},
   "outputs": [],
   "source": [
    "full_spp_trait |> slice_sample(n=5)"
   ]
  },
  {
   "cell_type": "code",
   "execution_count": null,
   "id": "e2dfa602-27ca-4abd-a02a-3964ad1c9d96",
   "metadata": {},
   "outputs": [],
   "source": [
    "full_spp_trait |> select(species) |> n_distinct()\n",
    "full_spp_trait |> select(species,spp_type) |> n_distinct()\n"
   ]
  },
  {
   "cell_type": "code",
   "execution_count": null,
   "id": "cb3355b2-59ad-40a5-9cf0-0a1d843da425",
   "metadata": {},
   "outputs": [],
   "source": [
    "top_species"
   ]
  },
  {
   "cell_type": "code",
   "execution_count": null,
   "id": "8aaee3a3-0afb-403a-9a8e-89c4ca1a2304",
   "metadata": {},
   "outputs": [],
   "source": [
    "\n",
    "# 5. Select the top 5 families -----\n",
    "# Which are the families with more spp?\n",
    "top_families <- species_list |>\n",
    "    filter(!is.na(Family)) |>\n",
    "  group_by(Family) |>\n",
    "  summarise(\n",
    "    n_spp = n_distinct(`Scientific name (as entered)`)\n",
    "  ) |>\n",
    "  arrange(desc(n_spp)) |>\n",
    "  slice_head( n = 5 ) |>\n",
    "  pull(Family)\n",
    "\n",
    "\n"
   ]
  },
  {
   "cell_type": "code",
   "execution_count": null,
   "id": "5890b74f-0335-4ff4-89e0-d137c696a277",
   "metadata": {},
   "outputs": [],
   "source": []
  },
  {
   "cell_type": "code",
   "execution_count": null,
   "id": "da7bddd3-9a99-4562-8980-8365b8787688",
   "metadata": {},
   "outputs": [],
   "source": [
    "#title = \"<b>Distribution of species count by resprout organ<b>\",\n",
    "#       subtitle = \"Variation in resprouting strategies among the top 5 families\"\n",
    "plot_organ_type <- full_spp_trait|> \n",
    "  filter(Family %in% top_families) |>\n",
    "  filter(!is.na(resprout_organ)) |>\n",
    "  group_by(Family, resprout_organ) |>\n",
    "  summarise(n_species = n_distinct(species), .groups = \"drop\") |>\n",
    "  arrange(n_species) |> \n",
    "  mutate(resprout_organ = fct_reorder(resprout_organ, desc(n_species))) |>\n",
    "  ggplot(aes(x = resprout_organ, y = n_species)) +\n",
    "  geom_bar(stat=\"identity\", fill = \"black\") +\n",
    "  facet_grid(~ Family) +\n",
    "  coord_flip() +\n",
    "  ylim(0, 60) +\n",
    "  labs(y = \"Number of species\",\n",
    "       x = \"\") +\n",
    "  theme_classic() +\n",
    "  theme(plot.title=element_markdown(), # Enable markdown for title and subtitle\n",
    "        plot.subtitle=element_markdown())\n"
   ]
  },
  {
   "cell_type": "code",
   "execution_count": null,
   "id": "c3c44a1c-e9ab-414e-be63-f71d1f7f0c53",
   "metadata": {},
   "outputs": [],
   "source": [
    "\n",
    "       #title = \"<b>Distribution of species count by seedbank type<b>\",\n",
    "       #subtitle = \"Variation in seedbank strategies among the top 5 families\") +\n",
    "plot_seedbank <- full_spp_trait|> \n",
    "  filter(Family %in% top_families) |>\n",
    "  filter(!is.na(seedbank)) |>\n",
    "  group_by(Family, seedbank) |>\n",
    "  summarise(n_species = n_distinct(species), .groups = \"drop\") |>\n",
    "  arrange(n_species) |> \n",
    "  mutate(seedbank = fct_reorder(seedbank, desc(n_species))) |>\n",
    "  ggplot(aes(x = seedbank, y = n_species)) +\n",
    "  geom_bar(stat=\"identity\", fill = \"black\") +\n",
    "  facet_grid(~ Family) +\n",
    "  ylim(0, 60) +\n",
    "  coord_flip() +\n",
    "  labs(y = \"Number of species\",\n",
    "       x = \"\") +\n",
    "  theme_classic() +\n",
    "  theme(plot.title = element_markdown(), # Enable markdown for title and subtitle\n",
    "        plot.subtitle = element_markdown())\n"
   ]
  },
  {
   "cell_type": "code",
   "execution_count": null,
   "id": "12ebeaac-2d6a-48dc-8414-0df320129d8c",
   "metadata": {},
   "outputs": [],
   "source": [
    "options(repr.plot.width=12, repr.plot.height=12) # Make plot larger\n",
    "plot_grid(plot_organ_type, plot_seedbank, \n",
    "           align = \"vh\",\n",
    "          labels = \"auto\",\n",
    "          rel_heights = c(3, 2),\n",
    "         ncol = 1)"
   ]
  },
  {
   "cell_type": "code",
   "execution_count": null,
   "id": "9835fa8d-5cdd-4fa5-9e42-a990202fff9c",
   "metadata": {},
   "outputs": [],
   "source": [
    "library(ggridges)  "
   ]
  },
  {
   "cell_type": "code",
   "execution_count": null,
   "id": "037a833f-ee83-454a-bfca-35a44f79c235",
   "metadata": {},
   "outputs": [],
   "source": [
    "\n",
    "# 4. Select the top 20 spp ----\n",
    "# Species with more localities and plots\n",
    "top_species <- full_spp_trait |>\n",
    "    filter(Survey %in% \"Mallee Woodlands\") |>\n",
    "  group_by(species) |>\n",
    "  summarise(\n",
    "    n_localities = n_distinct(visit_id),\n",
    "    n_visits = n_distinct(visit_id,visit_date)\n",
    "  ) |>\n",
    "arrange(desc(n_localities)) |>\n",
    "slice_head(n=20) |> pull(species)\n"
   ]
  },
  {
   "cell_type": "code",
   "execution_count": null,
   "id": "3146df10-5f21-4a56-a355-59c8e045deca",
   "metadata": {},
   "outputs": [],
   "source": [
    "Mallee_dataset <- full_spp_trait |>\n",
    " #filter(species %in% top_species, Survey %in% \"Mallee Woodlands\") |> # Only the top 20 spp.\n",
    " #   filter(species %in% top_species) |> # Only the top 20 spp.\n",
    "  mutate(species = reorder(species, spp_type, FUN = function(x) ifelse(x[1] == \"Seeder\", 1, 2)))"
   ]
  },
  {
   "cell_type": "code",
   "execution_count": null,
   "id": "799aa5bd-ebf8-4740-9cdc-613d917163b0",
   "metadata": {},
   "outputs": [],
   "source": [
    "Mallee_dataset |> \n",
    "filter(!is.na(prop_fire_mortality), prop_fire_mortality>0) |> \n",
    "       select(prop_fire_mortality, species, spp_type)"
   ]
  },
  {
   "cell_type": "code",
   "execution_count": null,
   "id": "b7768387-1007-4e6d-b798-48f70a3145fc",
   "metadata": {},
   "outputs": [],
   "source": [
    "?geom_histogram"
   ]
  },
  {
   "cell_type": "code",
   "execution_count": null,
   "id": "1bb518ba-81ad-4d94-987f-c903a9f72913",
   "metadata": {},
   "outputs": [],
   "source": [
    "ggplot(Mallee_dataset, \n",
    "         aes(x = prop_fire_mortality)) +\n",
    "geom_histogram(aes(y = after_stat(count / sum(count))), bins = 8) +\n",
    "facet_grid(.~Survey)"
   ]
  },
  {
   "cell_type": "code",
   "execution_count": null,
   "id": "a8a92021-3a30-4ba7-a45e-c63810af1e19",
   "metadata": {},
   "outputs": [],
   "source": [
    "plot_mortality <- \n",
    "  ggplot(Mallee_dataset, \n",
    "         aes(x = prop_fire_mortality, y = species, fill = spp_type, color = spp_type)) +\n",
    "  geom_density() +\n",
    "  theme_ridges() +\n",
    "  labs(title = \"Fire mortality\",\n",
    "       x = \"Proportion\",\n",
    "       y = \"\",\n",
    "       fill = \"Species Type\") +\n",
    "  scale_fill_manual(values = c(\"Resprouter\" = \"#9EBCDA\", \"Seeder\" = \"#000000\")) +\n",
    "  scale_color_manual(values = c(\"Resprouter\" = \"#9EBCDA\", \"Seeder\" = \"#000000\")) +\n",
    "  scale_x_continuous(limits = c(0,1), breaks = seq(0, 1, by = 0.5)) +\n",
    "  theme(legend.position = \"none\",\n",
    "        axis.text.y = element_text(face = \"italic\") )"
   ]
  },
  {
   "cell_type": "code",
   "execution_count": null,
   "id": "486d9b88-ec54-447a-8488-186b7365015d",
   "metadata": {},
   "outputs": [],
   "source": [
    "plot_recruit_surv <- \n",
    "    ggplot(Mallee_dataset,\n",
    "        aes(x = pro_recruit_surv, y = species, fill = spp_type, color = spp_type)) +\n",
    "  geom_density_ridges(stat = \"binline\",\n",
    "                      bins = 5, draw_baseline = TRUE) +\n",
    "  theme_ridges() +\n",
    "  labs(title = \"Recruit survival\",\n",
    "       x = \"Proportion\",\n",
    "       y = \"\",\n",
    "       fill = \"Species Type\") +\n",
    "  scale_fill_manual(values = c(\"#9EBCDA\", \"#000000\")) +\n",
    "  scale_color_manual(values = c(\"#9EBCDA\", \"#000000\")) +\n",
    "  scale_x_continuous(limits = c(0,1), breaks = seq(0, 1, by = 0.5)) +\n",
    "  theme(legend.position = \"none\",\n",
    "        axis.text.y = element_blank())\n",
    "\n",
    "plot_reprod_recruit <- \n",
    "    ggplot(Mallee_dataset,\n",
    "       aes(x = prop_reprod_recruit, y = species, fill = spp_type, color = spp_type)) +\n",
    "  geom_density_ridges(scale = 0.4) +\n",
    "  theme_ridges() +\n",
    "  labs(title = \"Reproductive recruits\",\n",
    "       x = \"Proportion\",\n",
    "       y = \"\",\n",
    "       fill = \"Species Type\") +\n",
    "  scale_fill_manual(values = c(\"#9EBCDA\", \"#000000\")) +\n",
    "  scale_color_manual(values = c(\"#9EBCDA\", \"#000000\")) +\n",
    "  scale_x_continuous(limits = c(0,1), breaks = seq(0, 1, by = 0.5)) +\n",
    "  theme(legend.position = \"none\",\n",
    "        axis.text.y = element_blank())\n",
    "\n"
   ]
  },
  {
   "cell_type": "code",
   "execution_count": null,
   "id": "12ed49a8-97ff-4740-a6d5-9948e41fc784",
   "metadata": {},
   "outputs": [],
   "source": [
    "plot_grid(plot_mortality, plot_recruit_surv, plot_reprod_recruit,\n",
    "          labels = \"auto\",\n",
    "          rel_widths = c(2, 1, 1),\n",
    "         ncol = 3)"
   ]
  },
  {
   "cell_type": "code",
   "execution_count": null,
   "id": "7376fbab-e63d-4bbf-934a-5d09a543df06",
   "metadata": {},
   "outputs": [],
   "source": [
    "\n",
    "library(patchwork)\n",
    "plot_mortality + plot_recruit_surv + plot_reprod_recruit \n",
    "#+\n",
    "#  plot_layout(ncol = 3) +\n",
    "#  plot_annotation(title = 'Distribution of traits in the top 20 spp in the Mallee data',\n",
    "#                  subtitle = 'Resprouter species in light blue and seeders in black. Only sites with time since the last fire sites ≤3 years were included in traits calculation'\n",
    "#  ) #&\n",
    "  #theme(plot.title = element_text(size = 16),\n",
    "  #      plot.subtitle = element_text(size = 12) )"
   ]
  },
  {
   "cell_type": "code",
   "execution_count": null,
   "id": "ecc9495e-b662-4b27-93fe-37e26396093b",
   "metadata": {},
   "outputs": [],
   "source": [
    "full_spp_trait |> count(spp_type)\n",
    "full_spp_trait |> count(seedbank)\n",
    "full_spp_trait |> count(resprout_organ)\n",
    "full_spp_trait |> count(Family)\n",
    "full_spp_trait |> count(last_fire)"
   ]
  },
  {
   "cell_type": "code",
   "execution_count": null,
   "id": "6185d5ad-ab2a-4b9a-8491-f6eb7e6562d8",
   "metadata": {},
   "outputs": [],
   "source": [
    "filter(field_records, visit_date<\"2019-01-01\") |>\n",
    "group_by(species) |>\n",
    "summarise(nsites = n_distinct(visit_id),\n",
    "          nvisits = n_distinct(visit_id,visit_date),\n",
    "         nplots = n_distinct(visit_id,visit_date,sample_nr)) |>\n",
    "arrange(desc(nvisits)) |>\n",
    "slice_head(n=15)"
   ]
  },
  {
   "cell_type": "code",
   "execution_count": null,
   "id": "652ea801-ec50-4cd0-969a-659cbf8936bf",
   "metadata": {},
   "outputs": [],
   "source": [
    "filter(field_records, visit_date > \"2019-01-01\") |>\n",
    "group_by(species) |>\n",
    "summarise(nsites = n_distinct(visit_id),\n",
    "          nvisits = n_distinct(visit_id,visit_date),\n",
    "         nplots = n_distinct(visit_id,visit_date,sample_nr)) |>\n",
    "arrange(desc(nvisits)) |>\n",
    "slice_head(n=15)"
   ]
  },
  {
   "cell_type": "code",
   "execution_count": null,
   "id": "3a8b2b58-4637-4274-bdad-97f12e86457c",
   "metadata": {},
   "outputs": [],
   "source": [
    "spp_selection <- \"Sclerolaena diacantha\"\n",
    "spp_selection <- \"Microlaena stipoides\"\n",
    "\n",
    "\n",
    "datos_spp1 <- field_records |> \n",
    "    filter(species %in% spp_selection) |>\n",
    "      group_by(visit_id, visit_date) |>\n",
    "      summarise(n1 = sum(resprouts_live, na.rm = TRUE),         # N total live resprouts (N1)\n",
    "                n2 = sum(resprouts_reproductive, na.rm = TRUE), # N reproductive live resprouts (N2)\n",
    "                n5 = sum(recruits_live, na.rm = TRUE),          # N total live recruits (N5)\n",
    "                n6 = sum(recruits_reproductive, na.rm = TRUE),  # N reproductive live recruits (N6)\n",
    "                n7 = sum(resprouts_died, na.rm = TRUE),         # N Dead resprouts (N7)\n",
    "                n8 = sum(recruits_died, na.rm = TRUE),          # N dead recruits (N8)\n",
    "                n9 = sum(resprouts_kill, na.rm = TRUE),         # N fire killed resprouts (N9)\n",
    "                .groups = \"drop\") |>\n",
    "  mutate(n_fire_mortality = n1 + n7 + n9,\n",
    "         prop_fire_mortality = n9 /(n1 + n7 + n9),\n",
    "         n_sprout_surv = n1 + n7,\n",
    "         prop_sprout_surv = n7/ (n1 + n7),\n",
    "         seed_adult = (n5 + n8) / (n1 + n7),\n",
    "         n_recruit_surv = n5 + n8,\n",
    "         pro_recruit_surv = n5 / (n5 + n8),\n",
    "         n_reprod_resprod = n1,\n",
    "         n_reprod_recruit = n6, # the formula said N5 but this is the number of lives recruits\n",
    "         prop_reprod_recruit = n6 / max(n5),\n",
    "         surv_dens = n2 / 625, # plot area\n",
    "         recruit_dens = n5 / 625 # plot area\n",
    "         )"
   ]
  },
  {
   "cell_type": "code",
   "execution_count": null,
   "id": "c9939138-a5d5-4299-9100-e7648b3e8542",
   "metadata": {},
   "outputs": [],
   "source": [
    "options(repr.plot.width=5, repr.plot.height=5) \n",
    "ggplot(datos_spp1) +\n",
    "geom_histogram(aes(x=prop_fire_mortality))"
   ]
  },
  {
   "cell_type": "code",
   "execution_count": null,
   "id": "6528711c-bdc6-40a0-bb5d-3a0018005779",
   "metadata": {},
   "outputs": [],
   "source": [
    "options(repr.plot.width=5, repr.plot.height=5) \n",
    "ggplot(datos_spp1) +\n",
    "geom_histogram(aes(x=pro_recruit_surv))"
   ]
  },
  {
   "cell_type": "code",
   "execution_count": null,
   "id": "a6cb7357-455e-4d03-9bfa-d33510fab4ae",
   "metadata": {},
   "outputs": [],
   "source": [
    "options(repr.plot.width=5, repr.plot.height=5) \n",
    "ggplot(datos_spp1) +\n",
    "geom_histogram(aes(x=prop_reprod_recruit))"
   ]
  },
  {
   "cell_type": "code",
   "execution_count": null,
   "id": "8e36556a-3c70-42a8-acfc-b5dbfc2f4644",
   "metadata": {},
   "outputs": [],
   "source": [
    "surv6_data"
   ]
  },
  {
   "cell_type": "markdown",
   "id": "70ca0290-8fa4-4412-a8da-4caa2dae6846",
   "metadata": {},
   "source": [
    "We will now look at how many species from the NSW BioNet Atlas are represented in the fireveg database. First let's take a look at the NSW flora, and then we will query how many species have information about fire ecology traits from existing sources or field work. We will combine this information in the final subsection."
   ]
  },
  {
   "cell_type": "markdown",
   "id": "606c0abb-1742-4887-810a-82bc7cdac0c8",
   "metadata": {},
   "source": [
    "#### Plant species in NSW according to BioNet Atlas"
   ]
  },
  {
   "cell_type": "markdown",
   "id": "c333bfbd-c060-49c6-891d-af36b0d012af",
   "metadata": {},
   "source": [
    "The data frame `spp_traits_table` is based on the BioNet Altas list of species. \n",
    "\n",
    "This list includes around 8170 distinct taxa (based on current taxonomic status) at the species level which are considered native and alive in NSW. It also includes  around 1250 infra-species level taxa considered to be alive in NSW."
   ]
  },
  {
   "cell_type": "code",
   "execution_count": null,
   "id": "5ed6b0c1-7fa7-40fe-a69c-ab6ebda98be6",
   "metadata": {},
   "outputs": [],
   "source": [
    "spp_traits_table |>\n",
    "    group_by(`species level`= taxonrank %in% \"Species\",establishment) |>\n",
    "    summarise(records=n(), `original names` = n_distinct(spp), `current names`=n_distinct(current_species), .groups = \"drop\") "
   ]
  },
  {
   "cell_type": "markdown",
   "id": "6f633557-9c6b-4042-9090-933e67070dff",
   "metadata": {},
   "source": [
    "Here we focus on the current names, that means that information collected under two or more different, older taxonomic names for a single current taxonomic name is interpreted here as being equivalent to redundant information records from a single taxon. It is important to keep this in mind to avoid double counting or inconsistencies in the following queries. "
   ]
  },
  {
   "cell_type": "markdown",
   "id": "4edc8f90-5139-40ad-8703-f7a13891740f",
   "metadata": {},
   "source": [
    "#### Fire ecology traits from existing sources"
   ]
  },
  {
   "cell_type": "markdown",
   "id": "26064651-b39f-4534-8d14-982e7960fb9c",
   "metadata": {},
   "source": [
    "First we check the number of taxa with at least one record from existing sources:"
   ]
  },
  {
   "cell_type": "code",
   "execution_count": null,
   "id": "b34d68c0-a515-4a95-b685-b50eb205200b",
   "metadata": {},
   "outputs": [],
   "source": [
    "spp_traits_table |>\n",
    "    filter(`Existing sources`>0) |>\n",
    "    group_by(`species level`= taxonrank %in% \"Species\",establishment) |>\n",
    "    summarise(records=n(), `original names` = n_distinct(spp), `current names`=n_distinct(current_species), .groups = \"drop\") "
   ]
  },
  {
   "cell_type": "markdown",
   "id": "ef3cdbab-f3ac-4a2d-bedb-60fada49b50b",
   "metadata": {},
   "source": [
    "Focusing on taxa at the species level, we want to get an overview of records from the two main sources imported in this data stream. Here we filter the `traits_table` data frame which has information about main sources and the primary sources references by each record."
   ]
  },
  {
   "cell_type": "code",
   "execution_count": null,
   "id": "34a86ed1-8a6b-49d5-90fb-c3d9c8e1a501",
   "metadata": {},
   "outputs": [],
   "source": [
    "summary_per_source <- traits_table |> \n",
    "    filter(taxonrank %in% \"Species\") |>\n",
    "    group_by(main_source) |>\n",
    "    summarise(\n",
    "        records=n_distinct(rid),\n",
    "        traits = n_distinct(traitcode),\n",
    "        species=n_distinct(current_species), \n",
    "        sources=n_distinct(primary_source))"
   ]
  },
  {
   "cell_type": "code",
   "execution_count": null,
   "id": "a4bde2ca-1074-446f-a64b-a75fbf6fae7c",
   "metadata": {},
   "outputs": [],
   "source": [
    "summary_per_source"
   ]
  },
  {
   "cell_type": "markdown",
   "id": "afc38f8a-eb69-45e3-84a3-c146772966bd",
   "metadata": {},
   "source": [
    "There are a few problems with some sources. The Austraits data includes the NSWFFRD data, so we should exclude this to avoid the most obvious duplicate entries. Other duplicates might still be present, but a manual curation of the source list is needed to flag this. "
   ]
  },
  {
   "cell_type": "markdown",
   "id": "2cfad4f0-ec84-4c16-aff4-a50ece61fb92",
   "metadata": {},
   "source": [
    "Another problem is that some items in the source list do not have reference information in the database (no entries in the `references` data frame. These sources are mentioned in the primary source column, but bibliographic details are incomplete or missing from our database:"
   ]
  },
  {
   "cell_type": "code",
   "execution_count": null,
   "id": "250bf78d-c39f-45f9-a7cf-28398487688e",
   "metadata": {},
   "outputs": [],
   "source": [
    "traits_table |> \n",
    "    filter(!primary_source %in% references$ref_code) |>\n",
    "    distinct(primary_source) |> arrange() |> pull()"
   ]
  },
  {
   "cell_type": "markdown",
   "id": "a7e40ef2-0c65-4187-b8db-2a04a31ec919",
   "metadata": {},
   "source": [
    "If we exclude those there is a drop in the number of records and species."
   ]
  },
  {
   "cell_type": "code",
   "execution_count": null,
   "id": "a10ca5a1-9f62-48b6-b2a4-f06286dc8092",
   "metadata": {},
   "outputs": [],
   "source": [
    "traits_table |>\n",
    "    filter(taxonrank %in% \"Species\") |>\n",
    "    filter(!primary_source %in% 'Kenny Orscheg Tasker Gill Bradstock 2014', # this is the same as NSWFFRDv2.1\n",
    "           primary_source %in% references$ref_code) |> # exclude transcription errors\n",
    "    group_by(main_source) |>\n",
    "    summarise(\n",
    "        total=n(), \n",
    "        records=n_distinct(rid), \n",
    "        species=n_distinct(current_species), \n",
    "        sources=n_distinct(primary_source))"
   ]
  },
  {
   "cell_type": "markdown",
   "id": "dbcabaa5-cba2-4939-961f-1da2d2496ead",
   "metadata": {},
   "source": [
    "#### Field work data"
   ]
  },
  {
   "cell_type": "markdown",
   "id": "a58f778c-bd6c-4027-bb72-477065982d0d",
   "metadata": {},
   "source": [
    "Next, we look at the taxa represented in the field work data. How many species have at least one record in the field sample?"
   ]
  },
  {
   "cell_type": "code",
   "execution_count": null,
   "id": "3528423d-c456-493d-bc5c-191745cfc503",
   "metadata": {},
   "outputs": [],
   "source": [
    "spp_traits_table |>\n",
    "    filter(`Field samples`) |>\n",
    "    group_by(`species level`= taxonrank %in% \"Species\",establishment) |>\n",
    "    summarise(records=n(), `original names` = n_distinct(spp), `current names`=n_distinct(current_species), .groups = \"drop\") "
   ]
  },
  {
   "cell_type": "markdown",
   "id": "ea1dee1f-8dec-4ef9-ba41-7434ad84e409",
   "metadata": {},
   "source": [
    "In order to get more detailed break down of numbers, we use the `quadrat_samples` data frame:"
   ]
  },
  {
   "cell_type": "code",
   "execution_count": null,
   "id": "894b768d-3a2f-4229-8d63-eb2237fbaa5e",
   "metadata": {},
   "outputs": [],
   "source": [
    "quadrat_samples |> \n",
    "    filter(!is.na(species_code),\n",
    "           taxonrank %in% \"Species\") |>\n",
    "    group_by(survey_name) |>\n",
    "    summarise(\n",
    "        locations = n_distinct(visit_id),\n",
    "        visits  = n_distinct(visit_id, visit_date),\n",
    "        samples  = n_distinct(visit_id, visit_date, sample_nr),\n",
    "        records = n(), \n",
    "        species = n_distinct(species),\n",
    "        current_species = n_distinct(current_species), \n",
    "        codes = n_distinct(species_code))"
   ]
  },
  {
   "cell_type": "markdown",
   "id": "b54aee83-6def-4c51-843f-afb30a422dbc",
   "metadata": {},
   "source": [
    "The Mallee Woodlands survey is a longer time series of observation in a single region in Western New South Wales, while all the other surveys represent samples completed after the 2019-2020 fires in Eastern New South Wales. We will calculate summary statistics for these two groups:"
   ]
  },
  {
   "cell_type": "code",
   "execution_count": null,
   "id": "13bd983d-dd3a-4d77-ac31-56bf25ba9f32",
   "metadata": {},
   "outputs": [],
   "source": [
    "summary_per_survey <- quadrat_samples |> \n",
    "    filter(!is.na(species_code),\n",
    "           taxonrank %in% \"Species\") |>\n",
    "    group_by(survey_group=survey_name %in% \"Mallee Woodlands\") |>\n",
    "    summarise(\n",
    "        locations = n_distinct(visit_id),\n",
    "        visits  = n_distinct(visit_id, visit_date),\n",
    "              samples  = n_distinct(visit_id, visit_date, sample_nr),\n",
    "              records = n(), \n",
    "              species = n_distinct(species),\n",
    "              current_species = n_distinct(current_species), \n",
    "              codes = n_distinct(species_code)) |> \n",
    "    arrange(survey_group)"
   ]
  },
  {
   "cell_type": "code",
   "execution_count": null,
   "id": "81a30861-4f0b-4e0d-b5f1-958e8356668f",
   "metadata": {},
   "outputs": [],
   "source": [
    "summary_per_survey"
   ]
  },
  {
   "cell_type": "markdown",
   "id": "ae9f2749-6ce5-47e4-8140-f8bb0bcb81a1",
   "metadata": {},
   "source": [
    "#### Summary from all sources"
   ]
  },
  {
   "cell_type": "markdown",
   "id": "7c9d32e2-8ce6-4982-aafc-467336d96518",
   "metadata": {},
   "source": [
    "If we focus only on the taxa at the species level which are native and alive in NSW, we can look at the overlap between both field work data and existing sources:"
   ]
  },
  {
   "cell_type": "code",
   "execution_count": null,
   "id": "f2ca5263-5e14-45ae-88cd-3073d755cb62",
   "metadata": {},
   "outputs": [],
   "source": [
    "spp_traits_table |> \n",
    "    filter(\n",
    "           taxonrank %in% \"Species\",\n",
    "           establishment %in% \"Alive in NSW, Native\") |>\n",
    "    group_by(`Field samples`, `Existing sources`) |>\n",
    "    summarise(total = n_distinct(scientific_name), \n",
    "              total_current = n_distinct(current_species), \n",
    "              .groups = \"drop\")"
   ]
  },
  {
   "cell_type": "markdown",
   "id": "fb8b07b9-5004-4990-b3ec-4b2df093596b",
   "metadata": {},
   "source": [
    "And the same for all species (native and introduced):"
   ]
  },
  {
   "cell_type": "code",
   "execution_count": null,
   "id": "815afc43-b5ab-456f-88ec-ccb8731a534d",
   "metadata": {},
   "outputs": [],
   "source": [
    "spp_traits_table |> \n",
    "    filter(\n",
    "           taxonrank %in% \"Species\") |>\n",
    "    group_by(`Field samples`, `Existing sources`) |>\n",
    "    summarise(total = n_distinct(scientific_name), \n",
    "              total_current = n_distinct(current_species), \n",
    "              .groups = \"drop\")"
   ]
  },
  {
   "cell_type": "markdown",
   "id": "1847e100-48d4-47e7-b326-a90988875231",
   "metadata": {},
   "source": [
    "As mentioned above, there might be some overlaps in these numbers due to a species being represented by multiple records with different older/outdated names. Best way to get a total number of current species included in the database is this:"
   ]
  },
  {
   "cell_type": "code",
   "execution_count": null,
   "id": "69e8fcc6-8fc6-4fbe-bd9c-31c96db29ad5",
   "metadata": {},
   "outputs": [],
   "source": [
    "total_records <- spp_traits_table |> \n",
    "    filter(\n",
    "           taxonrank %in% \"Species\") |>\n",
    "    filter(`Field samples` | `Existing sources`) |>\n",
    "    summarise(total_current=n_distinct(current_species))"
   ]
  },
  {
   "cell_type": "code",
   "execution_count": null,
   "id": "4da981ce-8fb3-4cde-b7fc-76edd7c5ccbf",
   "metadata": {},
   "outputs": [],
   "source": [
    "total_records"
   ]
  },
  {
   "cell_type": "markdown",
   "id": "efe61874-e00e-4e5b-86df-e556ea784560",
   "metadata": {},
   "source": [
    "Is this the same as the sum of the values in the above table?"
   ]
  },
  {
   "cell_type": "code",
   "execution_count": null,
   "id": "6ce192e9-4456-4572-8b88-63ad45050aa7",
   "metadata": {},
   "outputs": [],
   "source": [
    "5484+100+793"
   ]
  },
  {
   "cell_type": "markdown",
   "id": "86c044d2-bf0a-469a-ba2a-c74722b77c39",
   "metadata": {},
   "source": [
    "Now we can prepare a summary of all data inputs:"
   ]
  },
  {
   "cell_type": "code",
   "execution_count": null,
   "id": "2ca29c4d-1f0a-4e50-8708-3d0baf081519",
   "metadata": {},
   "outputs": [],
   "source": [
    "new_surveys <- quadrat_samples |> filter(!survey_name %in% c(\"Mallee Woodlands\"))\n",
    "old_surveys <- quadrat_samples |> filter(survey_name %in% c(\"Mallee Woodlands\"))\n",
    "total_spp <- pull(total_records,total_current)\n",
    "NSWFFRD_records <- filter(summary_per_source, main_source %in% 'NSWFFRDv2.1')\n",
    "Austraits_records <- filter(summary_per_source, main_source %in% 'austraits-6.0.0')\n",
    "Postfire_samples <- filter(summary_per_survey, !survey_group)\n",
    "Mallee_samples <- filter(summary_per_survey, survey_group)"
   ]
  },
  {
   "cell_type": "code",
   "execution_count": null,
   "id": "4a02fb30-9973-43f3-bc00-e0499406fe8c",
   "metadata": {},
   "outputs": [],
   "source": [
    "tbl = sprintf(\"\n",
    "| Type\t| Unit of observation\t| Spatial information\t| Number of records\t| Number of taxa (including non-native)\t| Data source |\n",
    "|---|---|---|---|---|---|\n",
    "| **Primary Observations** |\n",
    "| Post-fire field surveys | Individual | %s sites | %s | %s  | East coast post-fire surveys 2020-2022 |\n",
    "| Time series field observations | Individual | %s sites | %s | %s | Mallee vegetation dynamics 2007-2018 [@Keith_Tozer_2012] |\n",
    "| **Compilations** |\n",
    "| Fire response \t| Species\t| Not applicable\t| %s\t| %s\t | %s sources compiled in NSW plant fire response database [@Kenny2014] | \n",
    "|Species traits\t| Individuals / Populations / Species\t| Variable |\t%s\t| %s\t | %s sources compiled in AusTraits plant database [@Falster2021] |\n",
    "| Total | |  |  | %s  |\n",
    "\", \n",
    "              Postfire_samples$locations, Postfire_samples$records, Postfire_samples$current_species,\n",
    "            Mallee_samples$locations, Mallee_samples$records, Mallee_samples$current_species,\n",
    "              NSWFFRD_records$records, NSWFFRD_records$species, NSWFFRD_records$sources,\n",
    "              Austraits_records$records, Austraits_records$species, Austraits_records$sources,\n",
    "               total_spp\n",
    "             )\n",
    "\n",
    "display_markdown(tbl)"
   ]
  },
  {
   "cell_type": "markdown",
   "id": "1d591d96-f7fe-4417-8c38-6a5e446b1125",
   "metadata": {},
   "source": [
    "Now, we will create a visualisation of represented plant orders based on an example from:\n",
    "http://wilkox.org/treemapify/\n",
    "\n",
    "We select from the table all taxa with rank of species, and we group by current scientific name, then we summarise data from field samples and existing sources. We then extract the genus name and categorise species according to the source of the fire ecology traits. We group small orders.\n"
   ]
  },
  {
   "cell_type": "code",
   "execution_count": null,
   "id": "9261c6b0-787c-48dd-b5c0-d96e19c4dba2",
   "metadata": {},
   "outputs": [],
   "source": [
    "oos <- table(spp_traits_table$rank_order)\n",
    "gt_table <- spp_traits_table |>\n",
    "    filter(taxonrank %in% \"Species\") |>\n",
    "    group_by(rank_order, current_species) |>\n",
    "    summarise(\n",
    "        `Field samples`=any(`Field samples`),\n",
    "        `Existing sources`=any(`Existing sources`),\n",
    "        .groups = \"drop\") |>\n",
    "    mutate(\n",
    "        genus = str_split_i(current_species,\" \",1),\n",
    "        fire_ecology_traits_from=case_when(\n",
    "          `Field samples` & `Existing sources` ~ \"both\",\n",
    "          `Field samples` ~ \"field\",\n",
    "          `Existing sources` ~ \"literature\",\n",
    "          TRUE ~ \"none\"),    \n",
    "        rank_order = case_when(\n",
    "            rank_order %in% names(oos)[oos<10] ~ \"small orders\",\n",
    "            is.na(rank_order) ~ \"unknown\",\n",
    "            TRUE ~ rank_order\n",
    "        )\n",
    "      )\n",
    "clrs <- c(none=\"aliceblue\", field=\"yellow\", literature=\"orange\", both=\"maroon\")"
   ]
  },
  {
   "cell_type": "markdown",
   "id": "23376c2f-f326-4eef-8359-e27e6a22e4a2",
   "metadata": {},
   "source": [
    "We check which order are missing data on fire ecology traits:"
   ]
  },
  {
   "cell_type": "code",
   "execution_count": null,
   "id": "8b60601b-c002-4b32-b8c0-60cf49a05c83",
   "metadata": {},
   "outputs": [],
   "source": [
    "dim(gt_table)\n",
    "# check that any(duplicated(gt_table$current_species)) is FALSE\n",
    "gt_table |>\n",
    "    group_by(rank_order,fire_ecology_traits_from) |>\n",
    "    summarise(total=n(), .groups='drop') |>\n",
    "    pivot_wider(id_cols=rank_order, \n",
    "            names_from = fire_ecology_traits_from, \n",
    "            values_from = total) |>\n",
    "    filter(is.na(both),is.na(field),is.na(literature)) |>\n",
    "    arrange(none)"
   ]
  },
  {
   "cell_type": "markdown",
   "id": "a7f0f105-95b3-41c0-beb6-6bc7bda3e6e6",
   "metadata": {},
   "source": [
    "[Cornales](https://en.wikipedia.org/wiki/Cornales) is an order of flowering plants, and is only represented by seven species in NSW. \n",
    "\n",
    "All other orders are groups of mosses or liverworts, we can ignore these.\n",
    "\n",
    "- Feather moss:\n",
    "    - [Hypnales](https://en.wikipedia.org/wiki/Hypnales)\n",
    "- Liverworts:\n",
    "    - Marchantiales https://en.wikipedia.org/wiki/Marchantiales\n",
    "    - Jungermanniales https://en.wikipedia.org/wiki/Jungermanniales\n",
    "    - Porellales https://en.wikipedia.org/wiki/Porellales\n",
    "- Mosses:\n",
    "    - Orthotrichales https://en.wikipedia.org/wiki/Orthotrichaceae\n",
    "    - Dicranales https://en.wikipedia.org/wiki/Dicranales\n",
    "    - Pottiales https://en.wikipedia.org/wiki/Pottiales\n",
    "    - Bryales https://en.wikipedia.org/wiki/Bryales\n",
    "    - Grimmiales https://en.wikipedia.org/wiki/Grimmiales"
   ]
  },
  {
   "cell_type": "code",
   "execution_count": null,
   "id": "61f951c2-26c8-4310-a6e9-49c709565656",
   "metadata": {},
   "outputs": [],
   "source": [
    "exclude_mosses_liverworts <- c(\"Hypnales\",\n",
    "                             \"Porellales\", \"Jungermanniales\",\"Marchantiales\",\n",
    "                             \"Orthotrichales\", \"Dicranales\", \"Pottiales\",\n",
    "                             \"Bryales\",\"Grimmiales\"\n",
    "                             )"
   ]
  },
  {
   "cell_type": "markdown",
   "id": "4d5fd735-049d-423f-b58a-d497ef71ba33",
   "metadata": {},
   "source": [
    "This is the final plot"
   ]
  },
  {
   "cell_type": "code",
   "execution_count": null,
   "id": "3855f45e-812b-4b4f-b3ca-61195e384874",
   "metadata": {},
   "outputs": [],
   "source": [
    "options(repr.plot.width=16,repr.plot.height=16) # Make plot larger\n",
    "\n",
    "\n",
    "gt_table |>\n",
    "    filter(!rank_order %in% exclude_mosses_liverworts) |>\n",
    "ggplot(aes(area=1, fill = fire_ecology_traits_from, label = genus,\n",
    "                subgroup = rank_order)) +\n",
    "  geom_treemap() +\n",
    "  geom_treemap_subgroup_border() +\n",
    "  scale_fill_manual(values=clrs)"
   ]
  },
  {
   "cell_type": "markdown",
   "id": "165f7b70-c258-493c-b584-b9951177e4e5",
   "metadata": {},
   "source": [
    "For the publication version of this plot, we do some additional tinkering of the groups so that we can include labels for the largest orders (but drop labels for very small groups):"
   ]
  },
  {
   "cell_type": "code",
   "execution_count": null,
   "id": "d86a58fb-a288-4ca3-ad9e-5e6dbbc1b656",
   "metadata": {},
   "outputs": [],
   "source": [
    "gt_table_summary <- gt_table |> \n",
    "    filter(!rank_order %in% exclude_mosses_liverworts) |>\n",
    "    group_by(rank_order) |> \n",
    "    summarise(genera = n_distinct(current_species), .groups = \"drop\") |>\n",
    "    arrange(desc(genera))\n",
    "print(gt_table_summary,n=25)\n",
    "\n",
    "gt_table_ss <- gt_table |>\n",
    "    filter(!rank_order %in% exclude_mosses_liverworts) |>\n",
    "    mutate(rank_order = case_when(\n",
    "        rank_order %in% c(\"unknown\",\"unplaced\") ~ \"unplaced\",\n",
    "        TRUE ~ rank_order\n",
    "        ))\n",
    "#|>\n",
    "#    mutate(rank_order = case_when(\n",
    "#          rank_order %in% c(\"Asparagales\",\"Asterales\",\"Poales\",\"Fabales\",\"Myrtales\",\"Proteales\",\"Gentianales\",\"Ericales\",\"Lamiales\",\"Sapindales\",\"small orders\") ~ rank_order ,\n",
    "#          rank_order %in% c(\"unknown\",\"unplaced\") ~ \"unplaced\",\n",
    "#          nchar(rank_order) < 10 ~ str_replace(rank_order, \"ales$\", \".\"),\n",
    "#          nchar(rank_order) < 20 ~ str_replace(rank_order, \"phyllales$\", \"ph.\"),\n",
    "#          rank_order %in% c(\"Escalloniales\") ~ \"Esc.\",\n",
    "#          rank_order %in% c(\"Cucurbitales\") ~ \"Cuc.\",\n",
    "#          TRUE ~ abbreviate(rank_order)\n",
    "#        )\n",
    "#    )"
   ]
  },
  {
   "cell_type": "code",
   "execution_count": null,
   "id": "3d336f51-6dc0-4e33-94ff-526d6c006512",
   "metadata": {
    "scrolled": true
   },
   "outputs": [],
   "source": [
    "clrs <- c(none=\"whitesmoke\", literature=\"#90B2F2\", field=\"#E6AF00\", both=\"#CC79A7\")\n",
    "    \n",
    "ggplot(gt_table_ss, aes(area=1, fill = fire_ecology_traits_from, label = genus,\n",
    "                subgroup = rank_order)) +\n",
    "  geom_treemap() +\n",
    "  geom_treemap_subgroup_text(\n",
    "    place = \"topleft\", \n",
    "    grow = F, \n",
    "    reflow = T,\n",
    "    alpha = 0.85, \n",
    "    colour = \"black\", \n",
    "    fontface = \"italic\", \n",
    "    min.size = 0) +\n",
    "  geom_treemap_subgroup_border() +\n",
    "  scale_fill_manual(values=clrs) +\n",
    "  labs(fill='Available data') +\n",
    "  theme(legend.position = \"top\")"
   ]
  },
  {
   "cell_type": "markdown",
   "id": "94b450df-bce2-4fe2-ab5e-305e756f3f74",
   "metadata": {},
   "source": [
    "## That is it for now!\n",
    "\n",
    "✅ Job done! 😎👌🔥\n",
    "\n",
    "Now the data is in a local folder and we can run the next notebooks to do some analysis.\n",
    "\n",
    "Or, you can:\n",
    "- go [back home](../Instructions-and-workflow.ipynb),\n",
    "- continue navigating the repo on [GitHub](https://github.com/ces-unsw-edu-au/fireveg-analysis)\n",
    "- continue exploring the repo on [OSF](https://osf.io/h96q2/).\n",
    "- visit the database at <http://fireecologyplants.net>"
   ]
  },
  {
   "cell_type": "markdown",
   "id": "9e9edd07-58b1-4a76-a44f-1f491362d13f",
   "metadata": {},
   "source": [
    "### R session information"
   ]
  },
  {
   "cell_type": "code",
   "execution_count": 19,
   "id": "9db0e5c3-231f-4820-8afc-95e448b46e55",
   "metadata": {},
   "outputs": [
    {
     "data": {
      "text/html": [
       "'Sat Jan 25 18:05:03 2025'"
      ],
      "text/latex": [
       "'Sat Jan 25 18:05:03 2025'"
      ],
      "text/markdown": [
       "'Sat Jan 25 18:05:03 2025'"
      ],
      "text/plain": [
       "[1] \"Sat Jan 25 18:05:03 2025\""
      ]
     },
     "metadata": {},
     "output_type": "display_data"
    }
   ],
   "source": [
    "date()"
   ]
  },
  {
   "cell_type": "code",
   "execution_count": 20,
   "id": "7f0f130e-063b-4922-8e73-9875686effb1",
   "metadata": {},
   "outputs": [
    {
     "data": {
      "text/plain": [
       "R version 4.3.1 (2023-06-16)\n",
       "Platform: aarch64-apple-darwin20 (64-bit)\n",
       "Running under: macOS 15.2\n",
       "\n",
       "Matrix products: default\n",
       "BLAS:   /Library/Frameworks/R.framework/Versions/4.3-arm64/Resources/lib/libRblas.0.dylib \n",
       "LAPACK: /Library/Frameworks/R.framework/Versions/4.3-arm64/Resources/lib/libRlapack.dylib;  LAPACK version 3.11.0\n",
       "\n",
       "locale:\n",
       "[1] en_AU.UTF-8/en_AU.UTF-8/en_AU.UTF-8/C/en_AU.UTF-8/en_AU.UTF-8\n",
       "\n",
       "time zone: Australia/Sydney\n",
       "tzcode source: internal\n",
       "\n",
       "attached base packages:\n",
       "[1] stats     graphics  grDevices utils     datasets  methods   base     \n",
       "\n",
       "other attached packages:\n",
       "[1] httr_1.4.7     jsonlite_1.8.9 osfr_0.2.9     dplyr_1.1.4   \n",
       "\n",
       "loaded via a namespace (and not attached):\n",
       " [1] compiler_4.3.1    crayon_1.5.3      tidyselect_1.2.1  Rcpp_1.0.14      \n",
       " [5] IRdisplay_1.1     urltools_1.7.3    uuid_1.1-1        fastmap_1.2.0    \n",
       " [9] IRkernel_1.3.2    triebeard_0.4.1   here_1.0.1        R6_2.5.1         \n",
       "[13] generics_0.1.3    curl_5.2.1        knitr_1.49        tibble_3.2.1     \n",
       "[17] rprojroot_2.0.4   crul_1.4.0        pillar_1.9.0      rlang_1.1.4      \n",
       "[21] utf8_1.2.4        cachem_1.1.0      httpcode_0.3.0    stringi_1.8.4    \n",
       "[25] xfun_0.50         repr_1.1.6        fs_1.6.5          memoise_2.0.1    \n",
       "[29] cli_3.6.3         withr_3.0.2       magrittr_2.0.3    digest_0.6.37    \n",
       "[33] base64enc_0.1-3   pbdZMQ_0.3-10     lifecycle_1.0.4   vctrs_0.6.5      \n",
       "[37] evaluate_1.0.3    glue_1.8.0        fansi_1.0.6       purrr_1.0.2      \n",
       "[41] tools_4.3.1       pkgconfig_2.0.3   htmltools_0.5.8.1"
      ]
     },
     "metadata": {},
     "output_type": "display_data"
    }
   ],
   "source": [
    "sessionInfo()"
   ]
  },
  {
   "cell_type": "markdown",
   "id": "0725437a-5c89-40fc-b7bf-9e3a3bdaf59b",
   "metadata": {},
   "source": [
    "<div class=\"alert alert-success\">\n",
    "    <b>Ada's joke of the day</b>:\n",
    "\n",
    "    > What did the unzipped file say to the compressed file? \"Wow, you've really let yourself go!\"\n",
    "</div>\n",
    "\n"
   ]
  },
  {
   "cell_type": "code",
   "execution_count": null,
   "id": "edadf751-e7b9-4835-9a09-876acd4343fc",
   "metadata": {},
   "outputs": [],
   "source": []
  }
 ],
 "metadata": {
  "kernelspec": {
   "display_name": "R",
   "language": "R",
   "name": "ir"
  },
  "language_info": {
   "codemirror_mode": "r",
   "file_extension": ".r",
   "mimetype": "text/x-r-source",
   "name": "R",
   "pygments_lexer": "r",
   "version": "4.3.1"
  }
 },
 "nbformat": 4,
 "nbformat_minor": 5
}
