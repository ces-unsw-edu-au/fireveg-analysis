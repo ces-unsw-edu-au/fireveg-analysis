{
 "cells": [
  {
   "cell_type": "markdown",
   "id": "0a821a83-58f2-4da3-92bf-a4f1872fc232",
   "metadata": {},
   "source": [
    "# Fireveg DB - overview of trait coverage\n",
    "\n",
    "Author: [José R. Ferrer-Paris](https://github.com/jrfep) and [Ada Sánchez-Mercado](https://github.com/adasanchez)\n",
    "\n",
    "Date: January 2025\n",
    "\n",
    "This Jupyter Notebook includes **R code to analyse and visualise** data exported from the Fireveg Database. \n",
    "\n",
    "Here we will read input from a public data record of the database to answer some questions about the data coverage of the database."
   ]
  },
  {
   "cell_type": "markdown",
   "id": "fa46f0fb-761c-4415-8032-637cdca4c84e",
   "metadata": {},
   "source": [
    "```mermaid\n",
    "flowchart LR\n",
    "    Litrev & Form  --> Fireveg --> DR --> Code --> Q1 & Q2 & Q3\n",
    "    Q2 --> Q4 & Q5 & Q6\n",
    "    Fireveg[(Fireveg\\nDatabase)]\n",
    "    Litrev[Field work\\ndata stream] \n",
    "    Form[Existing sources\\n data stream] \n",
    "    BioNet(BioNet Atlas\\nSpecies list) \n",
    "    BioNet -.-> Fireveg\n",
    "    Code{R code\\nfor analysis}:::ThisRepo\n",
    "    DR[Exported\\nData Record\\nVersion 1.1]\n",
    "    Q3[\"Q2. ...\"]\n",
    "    Q2[\"Q3. ...\"]:::ThisRepo\n",
    "    Q1[\"Q1. ...\"]    \n",
    "    Q4[\"Q3.1 ...\"]:::ThisRepo   \n",
    "    Q5[\"Q3.2 ...\"]:::ThisRepo\n",
    "    Q6[\"Q3.3 etc.\"]:::ThisRepo\n",
    "classDef ThisRepo fill:none,stroke:black,color:black;\n",
    "```"
   ]
  },
  {
   "cell_type": "markdown",
   "id": "fb9cb953-fe33-43b5-aede-af0b2e14fbf2",
   "metadata": {},
   "source": [
    "## Set-up"
   ]
  },
  {
   "cell_type": "markdown",
   "id": "2a03016f-8f7c-4de5-bf50-88e623cccfc9",
   "metadata": {},
   "source": [
    "### Load packages"
   ]
  },
  {
   "cell_type": "code",
   "execution_count": 1,
   "id": "ca0aa60e-b5be-41d6-ae77-25b341572f08",
   "metadata": {},
   "outputs": [
    {
     "name": "stderr",
     "output_type": "stream",
     "text": [
      "\n",
      "Attaching package: ‘dplyr’\n",
      "\n",
      "\n",
      "The following objects are masked from ‘package:stats’:\n",
      "\n",
      "    filter, lag\n",
      "\n",
      "\n",
      "The following objects are masked from ‘package:base’:\n",
      "\n",
      "    intersect, setdiff, setequal, union\n",
      "\n",
      "\n",
      "Loading required package: tidyr\n",
      "\n"
     ]
    }
   ],
   "source": [
    "library(ggplot2)\n",
    "library(dplyr)\n",
    "require(tidyr)\n",
    "library(readr)\n",
    "library(stringr)\n",
    "library(waffle)\n",
    "library(ggtext)\n",
    "library(cowplot)\n",
    "library(readxl)    # For reading data in Excel format\n",
    "library(forcats)"
   ]
  },
  {
   "cell_type": "markdown",
   "id": "db03fb87-4cf1-482d-9841-f9d9fcc22010",
   "metadata": {},
   "source": [
    "For [Markdown display from a code cell](https://stackoverflow.com/questions/35786496/using-r-in-jupyter-display-markdown-in-loop?rq=4)."
   ]
  },
  {
   "cell_type": "code",
   "execution_count": 2,
   "id": "1a9fa2db-37e2-4d6e-a164-8a49f451bd34",
   "metadata": {},
   "outputs": [],
   "source": [
    "library(IRdisplay)"
   ]
  },
  {
   "cell_type": "markdown",
   "id": "31b618ca-62fc-40b1-b1db-455ddaa549e1",
   "metadata": {},
   "source": [
    "### Paths for inputs and outputs"
   ]
  },
  {
   "cell_type": "markdown",
   "id": "800ec85f-b4d7-42da-9d9b-878819239c22",
   "metadata": {},
   "source": [
    "Locate the root directory of the repo"
   ]
  },
  {
   "cell_type": "code",
   "execution_count": 4,
   "id": "d09a62b8-14b3-4755-af99-d3f8f22ae17e",
   "metadata": {},
   "outputs": [
    {
     "name": "stderr",
     "output_type": "stream",
     "text": [
      "here() starts at /Users/z3529065/proyectos/fireveg/fireveg-analysis\n",
      "\n"
     ]
    }
   ],
   "source": [
    "here::i_am(\"Notebooks/23-Overview-field-metrics.ipynb\")"
   ]
  },
  {
   "cell_type": "markdown",
   "id": "eecf6237-d14e-434a-ba75-8be285ad66f5",
   "metadata": {},
   "source": [
    "Relative path to local data files within project repository"
   ]
  },
  {
   "cell_type": "code",
   "execution_count": 5,
   "id": "282632dd-2702-478a-a07f-d01a0cf1346f",
   "metadata": {},
   "outputs": [],
   "source": [
    "data_dir <- here::here(\"data\")\n",
    "if (!dir.exists(data_dir))\n",
    "    dir.create(data_dir)"
   ]
  },
  {
   "cell_type": "markdown",
   "id": "623e0f24-6f59-4fc6-8dd6-4e367e4c112b",
   "metadata": {},
   "source": [
    "### Read data from local folder"
   ]
  },
  {
   "cell_type": "markdown",
   "id": "21e8b6b9-be95-4840-bb51-389507a732f9",
   "metadata": {},
   "source": [
    "<div class=\"alert alert-info\">\n",
    "     <img src='../img/open-data-2.png' width=25 alt=\"open data icon\"/>\n",
    "Data for this Notebook is available from the following repositories:\n",
    "\n",
    "> Ferrer-Paris, J. R., Keith, D., & Sánchez-Mercado, A. (2024, August 15). Export data records from Fire Ecology Traits for Plants database. Retrieved from [osf.io/h96q2](https://osf.io/h96q2/)\n",
    "\n",
    "and \n",
    "> Ferrer-Paris, J. R.; Keith, D. (2024). Fire Ecology Traits for Plants: Database exports. figshare. Dataset. Retrieved from <https://doi.org/10.6084/m9.figshare.24125088.v2>\n",
    "</div>"
   ]
  },
  {
   "cell_type": "markdown",
   "id": "6adee416-cc32-4891-a604-551dc3576c30",
   "metadata": {},
   "source": [
    "See notebook [00-Data-download](00-Data-download.ipynb) for instructions on how to download the data programatically with R."
   ]
  },
  {
   "cell_type": "markdown",
   "id": "286cebd4-9d2c-43b4-ae17-402d0a902e8d",
   "metadata": {},
   "source": [
    "The data is now available in our local data folder and we can use `read_csv` functions to read `CSV` files:"
   ]
  },
  {
   "cell_type": "code",
   "execution_count": 6,
   "id": "12df824c-d1bd-4845-9b29-30e1af2ef1f1",
   "metadata": {},
   "outputs": [
    {
     "name": "stderr",
     "output_type": "stream",
     "text": [
      "\u001b[1m\u001b[22mNew names:\n",
      "\u001b[36m•\u001b[39m `` -> `...1`\n"
     ]
    }
   ],
   "source": [
    "field_records <- read_csv(here::here(data_dir, \"figshare_data\", \"fireveg-field-records.csv\"), \n",
    "                          col_types = \"dcDdcddccddddddddccc\")"
   ]
  },
  {
   "cell_type": "code",
   "execution_count": 7,
   "id": "e0126911-5148-4e71-b520-8f487e62dd1a",
   "metadata": {},
   "outputs": [
    {
     "data": {
      "text/html": [
       "<table class=\"dataframe\">\n",
       "<caption>A tibble: 6 × 20</caption>\n",
       "<thead>\n",
       "\t<tr><th scope=col>...1</th><th scope=col>visit_id</th><th scope=col>visit_date</th><th scope=col>sample_nr</th><th scope=col>species</th><th scope=col>species_code</th><th scope=col>bionet_code</th><th scope=col>resprout_organ</th><th scope=col>seedbank</th><th scope=col>adults_unburnt</th><th scope=col>resprouts_live</th><th scope=col>resprouts_died</th><th scope=col>resprouts_kill</th><th scope=col>resprouts_reproductive</th><th scope=col>recruits_live</th><th scope=col>recruits_reproductive</th><th scope=col>recruits_died</th><th scope=col>scorch</th><th scope=col>life_stage</th><th scope=col>comments</th></tr>\n",
       "\t<tr><th scope=col>&lt;dbl&gt;</th><th scope=col>&lt;chr&gt;</th><th scope=col>&lt;date&gt;</th><th scope=col>&lt;dbl&gt;</th><th scope=col>&lt;chr&gt;</th><th scope=col>&lt;dbl&gt;</th><th scope=col>&lt;dbl&gt;</th><th scope=col>&lt;chr&gt;</th><th scope=col>&lt;chr&gt;</th><th scope=col>&lt;dbl&gt;</th><th scope=col>&lt;dbl&gt;</th><th scope=col>&lt;dbl&gt;</th><th scope=col>&lt;dbl&gt;</th><th scope=col>&lt;dbl&gt;</th><th scope=col>&lt;dbl&gt;</th><th scope=col>&lt;dbl&gt;</th><th scope=col>&lt;dbl&gt;</th><th scope=col>&lt;chr&gt;</th><th scope=col>&lt;chr&gt;</th><th scope=col>&lt;chr&gt;</th></tr>\n",
       "</thead>\n",
       "<tbody>\n",
       "\t<tr><td>0</td><td>AlpAsh_18</td><td>2021-04-15</td><td>1</td><td>Cassinia aculeata       </td><td>1360</td><td>1360</td><td>None </td><td>Soil-persistent</td><td>0</td><td> 0</td><td>0</td><td>NA</td><td> 0</td><td> 1</td><td> 0</td><td> 0</td><td>NA</td><td>NA</td><td>['Imported from workbook UNSW_VegFireResponse_KNP AlpAsh_firehistupdate.xlsx using python script', 'Imported from spreadsheet Floristics', 'seedbank written as persistent soil']</td></tr>\n",
       "\t<tr><td>1</td><td>AlpAsh_18</td><td>2021-04-15</td><td>1</td><td>Olearia erubescens      </td><td>1591</td><td>1591</td><td>Basal</td><td>Non-canopy     </td><td>0</td><td>31</td><td>0</td><td>NA</td><td> 0</td><td> 0</td><td> 0</td><td> 0</td><td>NA</td><td>NA</td><td>['Imported from workbook UNSW_VegFireResponse_KNP AlpAsh_firehistupdate.xlsx using python script', 'Imported from spreadsheet Floristics']                                       </td></tr>\n",
       "\t<tr><td>2</td><td>AlpAsh_18</td><td>2021-04-15</td><td>1</td><td>Daviesia ulicifolia     </td><td>2827</td><td>2827</td><td>Basal</td><td>Soil-persistent</td><td>0</td><td> 1</td><td>0</td><td>NA</td><td> 0</td><td> 0</td><td> 0</td><td> 0</td><td>NA</td><td>NA</td><td>['Imported from workbook UNSW_VegFireResponse_KNP AlpAsh_firehistupdate.xlsx using python script', 'Imported from spreadsheet Floristics', 'seedbank written as persistent soil']</td></tr>\n",
       "\t<tr><td>3</td><td>AlpAsh_18</td><td>2021-04-15</td><td>1</td><td>Gonocarpus montanus     </td><td>3244</td><td>3244</td><td>NA   </td><td>Soil-persistent</td><td>0</td><td> 0</td><td>0</td><td>NA</td><td> 0</td><td> 6</td><td> 0</td><td> 0</td><td>NA</td><td>NA</td><td>['Imported from workbook UNSW_VegFireResponse_KNP AlpAsh_firehistupdate.xlsx using python script', 'Imported from spreadsheet Floristics', 'seedbank written as persistent soil']</td></tr>\n",
       "\t<tr><td>4</td><td>AlpAsh_18</td><td>2021-04-15</td><td>1</td><td>Arthropodium milleflorum</td><td>3517</td><td>3517</td><td>Tuber</td><td>Transient      </td><td>0</td><td>70</td><td>0</td><td>NA</td><td>70</td><td>NA</td><td>NA</td><td>NA</td><td>NA</td><td>NA</td><td>['Imported from workbook UNSW_VegFireResponse_KNP AlpAsh_firehistupdate.xlsx using python script', 'Imported from spreadsheet Floristics']                                       </td></tr>\n",
       "\t<tr><td>5</td><td>AlpAsh_18</td><td>2021-04-15</td><td>1</td><td>Acacia obliquinervia    </td><td>3837</td><td>3837</td><td>Basal</td><td>Soil-persistent</td><td>0</td><td> 2</td><td>0</td><td>NA</td><td> 0</td><td>10</td><td> 0</td><td> 0</td><td>NA</td><td>NA</td><td>['Imported from workbook UNSW_VegFireResponse_KNP AlpAsh_firehistupdate.xlsx using python script', 'Imported from spreadsheet Floristics', 'seedbank written as persistent soil']</td></tr>\n",
       "</tbody>\n",
       "</table>\n"
      ],
      "text/latex": [
       "A tibble: 6 × 20\n",
       "\\begin{tabular}{llllllllllllllllllll}\n",
       " ...1 & visit\\_id & visit\\_date & sample\\_nr & species & species\\_code & bionet\\_code & resprout\\_organ & seedbank & adults\\_unburnt & resprouts\\_live & resprouts\\_died & resprouts\\_kill & resprouts\\_reproductive & recruits\\_live & recruits\\_reproductive & recruits\\_died & scorch & life\\_stage & comments\\\\\n",
       " <dbl> & <chr> & <date> & <dbl> & <chr> & <dbl> & <dbl> & <chr> & <chr> & <dbl> & <dbl> & <dbl> & <dbl> & <dbl> & <dbl> & <dbl> & <dbl> & <chr> & <chr> & <chr>\\\\\n",
       "\\hline\n",
       "\t 0 & AlpAsh\\_18 & 2021-04-15 & 1 & Cassinia aculeata        & 1360 & 1360 & None  & Soil-persistent & 0 &  0 & 0 & NA &  0 &  1 &  0 &  0 & NA & NA & {[}'Imported from workbook UNSW\\_VegFireResponse\\_KNP AlpAsh\\_firehistupdate.xlsx using python script', 'Imported from spreadsheet Floristics', 'seedbank written as persistent soil'{]}\\\\\n",
       "\t 1 & AlpAsh\\_18 & 2021-04-15 & 1 & Olearia erubescens       & 1591 & 1591 & Basal & Non-canopy      & 0 & 31 & 0 & NA &  0 &  0 &  0 &  0 & NA & NA & {[}'Imported from workbook UNSW\\_VegFireResponse\\_KNP AlpAsh\\_firehistupdate.xlsx using python script', 'Imported from spreadsheet Floristics'{]}                                       \\\\\n",
       "\t 2 & AlpAsh\\_18 & 2021-04-15 & 1 & Daviesia ulicifolia      & 2827 & 2827 & Basal & Soil-persistent & 0 &  1 & 0 & NA &  0 &  0 &  0 &  0 & NA & NA & {[}'Imported from workbook UNSW\\_VegFireResponse\\_KNP AlpAsh\\_firehistupdate.xlsx using python script', 'Imported from spreadsheet Floristics', 'seedbank written as persistent soil'{]}\\\\\n",
       "\t 3 & AlpAsh\\_18 & 2021-04-15 & 1 & Gonocarpus montanus      & 3244 & 3244 & NA    & Soil-persistent & 0 &  0 & 0 & NA &  0 &  6 &  0 &  0 & NA & NA & {[}'Imported from workbook UNSW\\_VegFireResponse\\_KNP AlpAsh\\_firehistupdate.xlsx using python script', 'Imported from spreadsheet Floristics', 'seedbank written as persistent soil'{]}\\\\\n",
       "\t 4 & AlpAsh\\_18 & 2021-04-15 & 1 & Arthropodium milleflorum & 3517 & 3517 & Tuber & Transient       & 0 & 70 & 0 & NA & 70 & NA & NA & NA & NA & NA & {[}'Imported from workbook UNSW\\_VegFireResponse\\_KNP AlpAsh\\_firehistupdate.xlsx using python script', 'Imported from spreadsheet Floristics'{]}                                       \\\\\n",
       "\t 5 & AlpAsh\\_18 & 2021-04-15 & 1 & Acacia obliquinervia     & 3837 & 3837 & Basal & Soil-persistent & 0 &  2 & 0 & NA &  0 & 10 &  0 &  0 & NA & NA & {[}'Imported from workbook UNSW\\_VegFireResponse\\_KNP AlpAsh\\_firehistupdate.xlsx using python script', 'Imported from spreadsheet Floristics', 'seedbank written as persistent soil'{]}\\\\\n",
       "\\end{tabular}\n"
      ],
      "text/markdown": [
       "\n",
       "A tibble: 6 × 20\n",
       "\n",
       "| ...1 &lt;dbl&gt; | visit_id &lt;chr&gt; | visit_date &lt;date&gt; | sample_nr &lt;dbl&gt; | species &lt;chr&gt; | species_code &lt;dbl&gt; | bionet_code &lt;dbl&gt; | resprout_organ &lt;chr&gt; | seedbank &lt;chr&gt; | adults_unburnt &lt;dbl&gt; | resprouts_live &lt;dbl&gt; | resprouts_died &lt;dbl&gt; | resprouts_kill &lt;dbl&gt; | resprouts_reproductive &lt;dbl&gt; | recruits_live &lt;dbl&gt; | recruits_reproductive &lt;dbl&gt; | recruits_died &lt;dbl&gt; | scorch &lt;chr&gt; | life_stage &lt;chr&gt; | comments &lt;chr&gt; |\n",
       "|---|---|---|---|---|---|---|---|---|---|---|---|---|---|---|---|---|---|---|---|\n",
       "| 0 | AlpAsh_18 | 2021-04-15 | 1 | Cassinia aculeata        | 1360 | 1360 | None  | Soil-persistent | 0 |  0 | 0 | NA |  0 |  1 |  0 |  0 | NA | NA | ['Imported from workbook UNSW_VegFireResponse_KNP AlpAsh_firehistupdate.xlsx using python script', 'Imported from spreadsheet Floristics', 'seedbank written as persistent soil'] |\n",
       "| 1 | AlpAsh_18 | 2021-04-15 | 1 | Olearia erubescens       | 1591 | 1591 | Basal | Non-canopy      | 0 | 31 | 0 | NA |  0 |  0 |  0 |  0 | NA | NA | ['Imported from workbook UNSW_VegFireResponse_KNP AlpAsh_firehistupdate.xlsx using python script', 'Imported from spreadsheet Floristics']                                        |\n",
       "| 2 | AlpAsh_18 | 2021-04-15 | 1 | Daviesia ulicifolia      | 2827 | 2827 | Basal | Soil-persistent | 0 |  1 | 0 | NA |  0 |  0 |  0 |  0 | NA | NA | ['Imported from workbook UNSW_VegFireResponse_KNP AlpAsh_firehistupdate.xlsx using python script', 'Imported from spreadsheet Floristics', 'seedbank written as persistent soil'] |\n",
       "| 3 | AlpAsh_18 | 2021-04-15 | 1 | Gonocarpus montanus      | 3244 | 3244 | NA    | Soil-persistent | 0 |  0 | 0 | NA |  0 |  6 |  0 |  0 | NA | NA | ['Imported from workbook UNSW_VegFireResponse_KNP AlpAsh_firehistupdate.xlsx using python script', 'Imported from spreadsheet Floristics', 'seedbank written as persistent soil'] |\n",
       "| 4 | AlpAsh_18 | 2021-04-15 | 1 | Arthropodium milleflorum | 3517 | 3517 | Tuber | Transient       | 0 | 70 | 0 | NA | 70 | NA | NA | NA | NA | NA | ['Imported from workbook UNSW_VegFireResponse_KNP AlpAsh_firehistupdate.xlsx using python script', 'Imported from spreadsheet Floristics']                                        |\n",
       "| 5 | AlpAsh_18 | 2021-04-15 | 1 | Acacia obliquinervia     | 3837 | 3837 | Basal | Soil-persistent | 0 |  2 | 0 | NA |  0 | 10 |  0 |  0 | NA | NA | ['Imported from workbook UNSW_VegFireResponse_KNP AlpAsh_firehistupdate.xlsx using python script', 'Imported from spreadsheet Floristics', 'seedbank written as persistent soil'] |\n",
       "\n"
      ],
      "text/plain": [
       "  ...1 visit_id  visit_date sample_nr species                  species_code\n",
       "1 0    AlpAsh_18 2021-04-15 1         Cassinia aculeata        1360        \n",
       "2 1    AlpAsh_18 2021-04-15 1         Olearia erubescens       1591        \n",
       "3 2    AlpAsh_18 2021-04-15 1         Daviesia ulicifolia      2827        \n",
       "4 3    AlpAsh_18 2021-04-15 1         Gonocarpus montanus      3244        \n",
       "5 4    AlpAsh_18 2021-04-15 1         Arthropodium milleflorum 3517        \n",
       "6 5    AlpAsh_18 2021-04-15 1         Acacia obliquinervia     3837        \n",
       "  bionet_code resprout_organ seedbank        adults_unburnt resprouts_live\n",
       "1 1360        None           Soil-persistent 0               0            \n",
       "2 1591        Basal          Non-canopy      0              31            \n",
       "3 2827        Basal          Soil-persistent 0               1            \n",
       "4 3244        NA             Soil-persistent 0               0            \n",
       "5 3517        Tuber          Transient       0              70            \n",
       "6 3837        Basal          Soil-persistent 0               2            \n",
       "  resprouts_died resprouts_kill resprouts_reproductive recruits_live\n",
       "1 0              NA              0                      1           \n",
       "2 0              NA              0                      0           \n",
       "3 0              NA              0                      0           \n",
       "4 0              NA              0                      6           \n",
       "5 0              NA             70                     NA           \n",
       "6 0              NA              0                     10           \n",
       "  recruits_reproductive recruits_died scorch life_stage\n",
       "1  0                     0            NA     NA        \n",
       "2  0                     0            NA     NA        \n",
       "3  0                     0            NA     NA        \n",
       "4  0                     0            NA     NA        \n",
       "5 NA                    NA            NA     NA        \n",
       "6  0                     0            NA     NA        \n",
       "  comments                                                                                                                                                                         \n",
       "1 ['Imported from workbook UNSW_VegFireResponse_KNP AlpAsh_firehistupdate.xlsx using python script', 'Imported from spreadsheet Floristics', 'seedbank written as persistent soil']\n",
       "2 ['Imported from workbook UNSW_VegFireResponse_KNP AlpAsh_firehistupdate.xlsx using python script', 'Imported from spreadsheet Floristics']                                       \n",
       "3 ['Imported from workbook UNSW_VegFireResponse_KNP AlpAsh_firehistupdate.xlsx using python script', 'Imported from spreadsheet Floristics', 'seedbank written as persistent soil']\n",
       "4 ['Imported from workbook UNSW_VegFireResponse_KNP AlpAsh_firehistupdate.xlsx using python script', 'Imported from spreadsheet Floristics', 'seedbank written as persistent soil']\n",
       "5 ['Imported from workbook UNSW_VegFireResponse_KNP AlpAsh_firehistupdate.xlsx using python script', 'Imported from spreadsheet Floristics']                                       \n",
       "6 ['Imported from workbook UNSW_VegFireResponse_KNP AlpAsh_firehistupdate.xlsx using python script', 'Imported from spreadsheet Floristics', 'seedbank written as persistent soil']"
      ]
     },
     "metadata": {},
     "output_type": "display_data"
    }
   ],
   "source": [
    "head(field_records)"
   ]
  },
  {
   "cell_type": "markdown",
   "id": "7bde4473-a145-46d1-a1d0-dbce672371f2",
   "metadata": {},
   "source": [
    "Use `read_excel` to read files in `XLSX` format:"
   ]
  },
  {
   "cell_type": "code",
   "execution_count": 8,
   "id": "c84bdf7a-968e-4ba6-a951-1bf8ddf6b78e",
   "metadata": {},
   "outputs": [],
   "source": [
    "sites_record <- read_excel(here::here(data_dir, \"figshare_data\",\"fireveg-field-report-model.xlsx\"), sheet = 2)"
   ]
  },
  {
   "cell_type": "markdown",
   "id": "b62b90f2-60e4-4776-8e67-a78a7fa169a6",
   "metadata": {},
   "source": [
    "## Fire history\n",
    "Filter only sites burnt less than three years ago"
   ]
  },
  {
   "cell_type": "code",
   "execution_count": 9,
   "id": "4ff5a739-c8d8-4c08-92d0-4313a220906c",
   "metadata": {},
   "outputs": [],
   "source": [
    "last_fire <- sites_record |>\n",
    "  mutate(last_fire = case_when(\n",
    "      `Time since last fire (days)` %in% c(NA,\"0 days\",\"ERROR: mismatching dates\") ~ 'unknown',\n",
    "      !grepl(\"year\", `Time since last fire (days)`) ~ 'recent',\n",
    "      grepl(\"^(2 years|3 years|1 year)\", `Time since last fire (days)`) ~ 'recent',\n",
    "      TRUE ~ \"older\"\n",
    "  )) |>\n",
    "  select(`Survey`,`Site label`, `Visit date`, `Time since last fire (days)`, \"last_fire\")  |>\n",
    "  rename(visit_id = `Site label`, visit_date = `Visit date`)"
   ]
  },
  {
   "cell_type": "code",
   "execution_count": 10,
   "id": "c58c1381-5785-4c09-b50b-d89ab67f760e",
   "metadata": {},
   "outputs": [
    {
     "data": {
      "text/html": [
       "<table class=\"dataframe\">\n",
       "<caption>A tibble: 5 × 5</caption>\n",
       "<thead>\n",
       "\t<tr><th scope=col>Survey</th><th scope=col>visit_id</th><th scope=col>visit_date</th><th scope=col>Time since last fire (days)</th><th scope=col>last_fire</th></tr>\n",
       "\t<tr><th scope=col>&lt;chr&gt;</th><th scope=col>&lt;chr&gt;</th><th scope=col>&lt;dttm&gt;</th><th scope=col>&lt;chr&gt;</th><th scope=col>&lt;chr&gt;</th></tr>\n",
       "</thead>\n",
       "<tbody>\n",
       "\t<tr><td>NEWNES          </td><td>GGW2   </td><td>2021-04-20</td><td>1 years and 126 days</td><td>recent</td></tr>\n",
       "\t<tr><td>NEWNES          </td><td>HV1    </td><td>2021-04-06</td><td>1 years and 112 days</td><td>recent</td></tr>\n",
       "\t<tr><td>Yatteyattah     </td><td>SZ23101</td><td>2021-02-24</td><td>51 days             </td><td>recent</td></tr>\n",
       "\t<tr><td>NEWNES          </td><td>HV1    </td><td>2020-11-25</td><td>345 days            </td><td>recent</td></tr>\n",
       "\t<tr><td>Mallee Woodlands</td><td>T2011/4</td><td>2013-09-22</td><td>2 years and 18 days </td><td>recent</td></tr>\n",
       "</tbody>\n",
       "</table>\n"
      ],
      "text/latex": [
       "A tibble: 5 × 5\n",
       "\\begin{tabular}{lllll}\n",
       " Survey & visit\\_id & visit\\_date & Time since last fire (days) & last\\_fire\\\\\n",
       " <chr> & <chr> & <dttm> & <chr> & <chr>\\\\\n",
       "\\hline\n",
       "\t NEWNES           & GGW2    & 2021-04-20 & 1 years and 126 days & recent\\\\\n",
       "\t NEWNES           & HV1     & 2021-04-06 & 1 years and 112 days & recent\\\\\n",
       "\t Yatteyattah      & SZ23101 & 2021-02-24 & 51 days              & recent\\\\\n",
       "\t NEWNES           & HV1     & 2020-11-25 & 345 days             & recent\\\\\n",
       "\t Mallee Woodlands & T2011/4 & 2013-09-22 & 2 years and 18 days  & recent\\\\\n",
       "\\end{tabular}\n"
      ],
      "text/markdown": [
       "\n",
       "A tibble: 5 × 5\n",
       "\n",
       "| Survey &lt;chr&gt; | visit_id &lt;chr&gt; | visit_date &lt;dttm&gt; | Time since last fire (days) &lt;chr&gt; | last_fire &lt;chr&gt; |\n",
       "|---|---|---|---|---|\n",
       "| NEWNES           | GGW2    | 2021-04-20 | 1 years and 126 days | recent |\n",
       "| NEWNES           | HV1     | 2021-04-06 | 1 years and 112 days | recent |\n",
       "| Yatteyattah      | SZ23101 | 2021-02-24 | 51 days              | recent |\n",
       "| NEWNES           | HV1     | 2020-11-25 | 345 days             | recent |\n",
       "| Mallee Woodlands | T2011/4 | 2013-09-22 | 2 years and 18 days  | recent |\n",
       "\n"
      ],
      "text/plain": [
       "  Survey           visit_id visit_date Time since last fire (days) last_fire\n",
       "1 NEWNES           GGW2     2021-04-20 1 years and 126 days        recent   \n",
       "2 NEWNES           HV1      2021-04-06 1 years and 112 days        recent   \n",
       "3 Yatteyattah      SZ23101  2021-02-24 51 days                     recent   \n",
       "4 NEWNES           HV1      2020-11-25 345 days                    recent   \n",
       "5 Mallee Woodlands T2011/4  2013-09-22 2 years and 18 days         recent   "
      ]
     },
     "metadata": {},
     "output_type": "display_data"
    }
   ],
   "source": [
    "last_fire |> slice_sample(n=5)"
   ]
  },
  {
   "cell_type": "code",
   "execution_count": 11,
   "id": "52a5fd26-f4c5-41cd-9d3e-edde9381dffe",
   "metadata": {},
   "outputs": [
    {
     "data": {
      "text/html": [
       "<table class=\"dataframe\">\n",
       "<caption>A tibble: 5 × 10</caption>\n",
       "<thead>\n",
       "\t<tr><th scope=col>Survey</th><th scope=col>Site label</th><th scope=col>Location</th><th scope=col>Coordinates (WGS84)</th><th scope=col>Elevation</th><th scope=col>Visit date</th><th scope=col>Visit description</th><th scope=col>Main observer</th><th scope=col>All observers</th><th scope=col>Time since last fire (days)</th></tr>\n",
       "\t<tr><th scope=col>&lt;chr&gt;</th><th scope=col>&lt;chr&gt;</th><th scope=col>&lt;chr&gt;</th><th scope=col>&lt;chr&gt;</th><th scope=col>&lt;dbl&gt;</th><th scope=col>&lt;dttm&gt;</th><th scope=col>&lt;chr&gt;</th><th scope=col>&lt;chr&gt;</th><th scope=col>&lt;chr&gt;</th><th scope=col>&lt;chr&gt;</th></tr>\n",
       "</thead>\n",
       "<tbody>\n",
       "\t<tr><td>NEWNES             </td><td>MW1           </td><td>NA                                                                                                      </td><td>150.191 -33.414</td><td>1093</td><td>2020-03-06</td><td>NA</td><td>None, None     </td><td>David Keith   </td><td>81 days             </td></tr>\n",
       "\t<tr><td>Mallee Woodlands   </td><td>T2017/2       </td><td>Tarawi Nature Reserve, NW corner of Jim Noble's block 800 m south of T2017/1. Burnt 1984.               </td><td>141.167 -33.356</td><td>  NA</td><td>2017-03-27</td><td>NA</td><td>Keith, David   </td><td>David Keith   </td><td>33 years and 34 days</td></tr>\n",
       "\t<tr><td>Alpine Bogs        </td><td>AUSALPS_NSW198</td><td>Small gully N of and parallel to Happy Jacks Rd at 1st drainage line crossing from east side of HJ Plain</td><td>148.518 -36.051</td><td>1450</td><td>2021-03-02</td><td>NA</td><td>Miles, Jackie  </td><td>Jackie Miles  </td><td>1 years and 31 days </td></tr>\n",
       "\t<tr><td>Mallee Woodlands   </td><td>S2007/5       </td><td>Scotia Sanctuary, southwestern sector, South of Robinsons Dam firetrail, core of burnt area             </td><td>141.062 -33.310</td><td>  NA</td><td>2011-08-27</td><td>NA</td><td>Keith, David   </td><td>David Keith   </td><td>5 years and 300 days</td></tr>\n",
       "\t<tr><td>Rainforests NSW-Qld</td><td>BC_1_UNSW     </td><td>Bishop's Creek, New England NP, low fire impact                                                         </td><td>152.633 -30.426</td><td>  NA</td><td>2021-08-04</td><td>NA</td><td>Kooyman, Robert</td><td>Robert Kooyman</td><td>0 days              </td></tr>\n",
       "</tbody>\n",
       "</table>\n"
      ],
      "text/latex": [
       "A tibble: 5 × 10\n",
       "\\begin{tabular}{llllllllll}\n",
       " Survey & Site label & Location & Coordinates (WGS84) & Elevation & Visit date & Visit description & Main observer & All observers & Time since last fire (days)\\\\\n",
       " <chr> & <chr> & <chr> & <chr> & <dbl> & <dttm> & <chr> & <chr> & <chr> & <chr>\\\\\n",
       "\\hline\n",
       "\t NEWNES              & MW1            & NA                                                                                                       & 150.191 -33.414 & 1093 & 2020-03-06 & NA & None, None      & David Keith    & 81 days             \\\\\n",
       "\t Mallee Woodlands    & T2017/2        & Tarawi Nature Reserve, NW corner of Jim Noble's block 800 m south of T2017/1. Burnt 1984.                & 141.167 -33.356 &   NA & 2017-03-27 & NA & Keith, David    & David Keith    & 33 years and 34 days\\\\\n",
       "\t Alpine Bogs         & AUSALPS\\_NSW198 & Small gully N of and parallel to Happy Jacks Rd at 1st drainage line crossing from east side of HJ Plain & 148.518 -36.051 & 1450 & 2021-03-02 & NA & Miles, Jackie   & Jackie Miles   & 1 years and 31 days \\\\\n",
       "\t Mallee Woodlands    & S2007/5        & Scotia Sanctuary, southwestern sector, South of Robinsons Dam firetrail, core of burnt area              & 141.062 -33.310 &   NA & 2011-08-27 & NA & Keith, David    & David Keith    & 5 years and 300 days\\\\\n",
       "\t Rainforests NSW-Qld & BC\\_1\\_UNSW      & Bishop's Creek, New England NP, low fire impact                                                          & 152.633 -30.426 &   NA & 2021-08-04 & NA & Kooyman, Robert & Robert Kooyman & 0 days              \\\\\n",
       "\\end{tabular}\n"
      ],
      "text/markdown": [
       "\n",
       "A tibble: 5 × 10\n",
       "\n",
       "| Survey &lt;chr&gt; | Site label &lt;chr&gt; | Location &lt;chr&gt; | Coordinates (WGS84) &lt;chr&gt; | Elevation &lt;dbl&gt; | Visit date &lt;dttm&gt; | Visit description &lt;chr&gt; | Main observer &lt;chr&gt; | All observers &lt;chr&gt; | Time since last fire (days) &lt;chr&gt; |\n",
       "|---|---|---|---|---|---|---|---|---|---|\n",
       "| NEWNES              | MW1            | NA                                                                                                       | 150.191 -33.414 | 1093 | 2020-03-06 | NA | None, None      | David Keith    | 81 days              |\n",
       "| Mallee Woodlands    | T2017/2        | Tarawi Nature Reserve, NW corner of Jim Noble's block 800 m south of T2017/1. Burnt 1984.                | 141.167 -33.356 |   NA | 2017-03-27 | NA | Keith, David    | David Keith    | 33 years and 34 days |\n",
       "| Alpine Bogs         | AUSALPS_NSW198 | Small gully N of and parallel to Happy Jacks Rd at 1st drainage line crossing from east side of HJ Plain | 148.518 -36.051 | 1450 | 2021-03-02 | NA | Miles, Jackie   | Jackie Miles   | 1 years and 31 days  |\n",
       "| Mallee Woodlands    | S2007/5        | Scotia Sanctuary, southwestern sector, South of Robinsons Dam firetrail, core of burnt area              | 141.062 -33.310 |   NA | 2011-08-27 | NA | Keith, David    | David Keith    | 5 years and 300 days |\n",
       "| Rainforests NSW-Qld | BC_1_UNSW      | Bishop's Creek, New England NP, low fire impact                                                          | 152.633 -30.426 |   NA | 2021-08-04 | NA | Kooyman, Robert | Robert Kooyman | 0 days               |\n",
       "\n"
      ],
      "text/plain": [
       "  Survey              Site label    \n",
       "1 NEWNES              MW1           \n",
       "2 Mallee Woodlands    T2017/2       \n",
       "3 Alpine Bogs         AUSALPS_NSW198\n",
       "4 Mallee Woodlands    S2007/5       \n",
       "5 Rainforests NSW-Qld BC_1_UNSW     \n",
       "  Location                                                                                                \n",
       "1 NA                                                                                                      \n",
       "2 Tarawi Nature Reserve, NW corner of Jim Noble's block 800 m south of T2017/1. Burnt 1984.               \n",
       "3 Small gully N of and parallel to Happy Jacks Rd at 1st drainage line crossing from east side of HJ Plain\n",
       "4 Scotia Sanctuary, southwestern sector, South of Robinsons Dam firetrail, core of burnt area             \n",
       "5 Bishop's Creek, New England NP, low fire impact                                                         \n",
       "  Coordinates (WGS84) Elevation Visit date Visit description Main observer  \n",
       "1 150.191 -33.414     1093      2020-03-06 NA                None, None     \n",
       "2 141.167 -33.356       NA      2017-03-27 NA                Keith, David   \n",
       "3 148.518 -36.051     1450      2021-03-02 NA                Miles, Jackie  \n",
       "4 141.062 -33.310       NA      2011-08-27 NA                Keith, David   \n",
       "5 152.633 -30.426       NA      2021-08-04 NA                Kooyman, Robert\n",
       "  All observers  Time since last fire (days)\n",
       "1 David Keith    81 days                    \n",
       "2 David Keith    33 years and 34 days       \n",
       "3 Jackie Miles   1 years and 31 days        \n",
       "4 David Keith    5 years and 300 days       \n",
       "5 Robert Kooyman 0 days                     "
      ]
     },
     "metadata": {},
     "output_type": "display_data"
    }
   ],
   "source": [
    "sites_record |> slice_sample(n=5)"
   ]
  },
  {
   "cell_type": "code",
   "execution_count": 28,
   "id": "130453ff-a87b-4a7f-ab7e-70b26fa52d31",
   "metadata": {},
   "outputs": [],
   "source": [
    "# 3. Calculate traits by species -----\n",
    "# Number of individuals with a given trait. All the spp in the datset\n",
    "full_spp_trait <- field_records |>\n",
    "    filter(!is.na(species_code)) |>\n",
    "  mutate(spp_type = case_when(\n",
    "    resprout_organ %in% c(\"None\") ~ \"Seeder\", \n",
    "    TRUE ~ \"Resprouter\")\n",
    "  ) |>\n",
    " # left_join(species_list, by = c(\"species\" = \"Scientific name (as entered)\")) |> # Add family information\n",
    " # left_join(distinct(species_list), by = c(\"species_code\" = \"CAPS code\")) |> # Add family information\n",
    "  left_join(last_fire, by = c(\"visit_id\",\"visit_date\")) |>  # Add fire information\n",
    "  filter(last_fire == \"recent\") |> # Calculate the metrics only for these sites with time since last fire <= 3 years\n",
    "  group_by(species, Survey, visit_id, visit_date, spp_type) |>\n",
    "  summarise(n1 = sum(resprouts_live, na.rm = TRUE),         # N total live resprouts (N1)\n",
    "            n2 = sum(resprouts_reproductive, na.rm = TRUE), # N reproductive live resprouts (N2)\n",
    "            n5 = sum(recruits_live, na.rm = TRUE),          # N total live recruits (N5)\n",
    "            n6 = sum(recruits_reproductive, na.rm = TRUE),  # N reproductive live recruits (N6)\n",
    "            n7 = sum(resprouts_died, na.rm = TRUE),         # N Dead resprouts (N7). This variable is all 0\n",
    "            n8 = sum(recruits_died, na.rm = TRUE),          # N dead recruits (N8)\n",
    "            n9 = sum(resprouts_kill, na.rm = TRUE),      # N fire killed resprouts (N9)\n",
    "            .groups = \"drop\"\n",
    ") |>\n",
    "  mutate(prop_fire_mortality = n9 /(n1 + n7 + n9),\n",
    "         prop_sprout_surv = n7/ (n1 + n7),\n",
    "         seed_adult = (n5 + n8) / (n1 + n7),\n",
    "         pro_recruit_surv = n5 / (n5 + n8),\n",
    "         prop_reprod_recruit = n6 / max(n5)\n",
    "  ) |>\n",
    "  as_tibble() \n"
   ]
  },
  {
   "cell_type": "code",
   "execution_count": 38,
   "id": "037a833f-ee83-454a-bfca-35a44f79c235",
   "metadata": {},
   "outputs": [],
   "source": [
    "\n",
    "# 4. Select the top 20 spp ----\n",
    "# Species with more localities and plots\n",
    "top_species <- full_spp_trait |>\n",
    "    filter(Survey %in% \"Mallee Woodlands\") |>\n",
    "  group_by(species) |>\n",
    "  summarise(\n",
    "    n_localities = n_distinct(visit_id),\n",
    "    n_visits = n_distinct(visit_id,visit_date)\n",
    "  ) |>\n",
    "arrange(desc(n_localities)) |>\n",
    "slice_head(n=10) |> pull(species)\n"
   ]
  },
  {
   "cell_type": "code",
   "execution_count": 39,
   "id": "03c804c2-4948-4403-b98d-632dd9bcff81",
   "metadata": {},
   "outputs": [
    {
     "data": {
      "text/html": [
       "<table class=\"dataframe\">\n",
       "<caption>A tibble: 25 × 17</caption>\n",
       "<thead>\n",
       "\t<tr><th scope=col>species</th><th scope=col>Survey</th><th scope=col>visit_id</th><th scope=col>visit_date</th><th scope=col>spp_type</th><th scope=col>n1</th><th scope=col>n2</th><th scope=col>n5</th><th scope=col>n6</th><th scope=col>n7</th><th scope=col>n8</th><th scope=col>n9</th><th scope=col>prop_fire_mortality</th><th scope=col>prop_sprout_surv</th><th scope=col>seed_adult</th><th scope=col>pro_recruit_surv</th><th scope=col>prop_reprod_recruit</th></tr>\n",
       "\t<tr><th scope=col>&lt;chr&gt;</th><th scope=col>&lt;chr&gt;</th><th scope=col>&lt;chr&gt;</th><th scope=col>&lt;dttm&gt;</th><th scope=col>&lt;chr&gt;</th><th scope=col>&lt;dbl&gt;</th><th scope=col>&lt;dbl&gt;</th><th scope=col>&lt;dbl&gt;</th><th scope=col>&lt;dbl&gt;</th><th scope=col>&lt;dbl&gt;</th><th scope=col>&lt;dbl&gt;</th><th scope=col>&lt;dbl&gt;</th><th scope=col>&lt;dbl&gt;</th><th scope=col>&lt;dbl&gt;</th><th scope=col>&lt;dbl&gt;</th><th scope=col>&lt;dbl&gt;</th><th scope=col>&lt;dbl&gt;</th></tr>\n",
       "</thead>\n",
       "<tbody>\n",
       "\t<tr><td>Eremophila glabra  </td><td>Mallee Woodlands</td><td>T2005/1</td><td>2007-03-18</td><td>Resprouter</td><td> 18</td><td>  0</td><td>  0</td><td>0</td><td>0</td><td>  1</td><td> 0</td><td>0.00000000</td><td>  0</td><td>0.05555556</td><td>0.0000000</td><td>0</td></tr>\n",
       "\t<tr><td>Eremophila glabra  </td><td>Mallee Woodlands</td><td>T2005/3</td><td>2007-03-17</td><td>Resprouter</td><td>  9</td><td>  0</td><td>  0</td><td>0</td><td>0</td><td>  0</td><td> 0</td><td>0.00000000</td><td>  0</td><td>0.00000000</td><td>      NaN</td><td>0</td></tr>\n",
       "\t<tr><td>Eremophila glabra  </td><td>Mallee Woodlands</td><td>T2005/4</td><td>2007-03-16</td><td>Resprouter</td><td> 16</td><td>  0</td><td>  0</td><td>0</td><td>0</td><td>  0</td><td> 0</td><td>0.00000000</td><td>  0</td><td>0.00000000</td><td>      NaN</td><td>0</td></tr>\n",
       "\t<tr><td>Eremophila glabra  </td><td>Mallee Woodlands</td><td>T2006/1</td><td>2008-02-25</td><td>Resprouter</td><td> 13</td><td>  0</td><td>  0</td><td>0</td><td>0</td><td>  0</td><td> 0</td><td>0.00000000</td><td>  0</td><td>0.00000000</td><td>      NaN</td><td>0</td></tr>\n",
       "\t<tr><td>Eremophila glabra  </td><td>Mallee Woodlands</td><td>T2006/2</td><td>2008-02-25</td><td>Resprouter</td><td>  7</td><td>  0</td><td>  0</td><td>0</td><td>0</td><td>  0</td><td> 0</td><td>0.00000000</td><td>  0</td><td>0.00000000</td><td>      NaN</td><td>0</td></tr>\n",
       "\t<tr><td>Eucalyptus socialis</td><td>Mallee Woodlands</td><td>S2012/1</td><td>2014-10-25</td><td>Resprouter</td><td>  1</td><td> 17</td><td>  0</td><td>0</td><td>0</td><td>  0</td><td> 0</td><td>0.00000000</td><td>  0</td><td>0.00000000</td><td>      NaN</td><td>0</td></tr>\n",
       "\t<tr><td>Eucalyptus socialis</td><td>Mallee Woodlands</td><td>S2012/6</td><td>2014-10-24</td><td>Resprouter</td><td>  1</td><td>  8</td><td>  0</td><td>0</td><td>0</td><td>  0</td><td> 0</td><td>0.00000000</td><td>  0</td><td>0.00000000</td><td>      NaN</td><td>0</td></tr>\n",
       "\t<tr><td>Eucalyptus socialis</td><td>Mallee Woodlands</td><td>T2005/1</td><td>2007-03-18</td><td>Resprouter</td><td>  4</td><td>  1</td><td>  0</td><td>0</td><td>0</td><td>  0</td><td> 0</td><td>0.00000000</td><td>  0</td><td>0.00000000</td><td>      NaN</td><td>0</td></tr>\n",
       "\t<tr><td>Eucalyptus socialis</td><td>Mallee Woodlands</td><td>T2005/3</td><td>2007-03-17</td><td>Resprouter</td><td>  9</td><td>  2</td><td>  1</td><td>0</td><td>0</td><td>  0</td><td> 1</td><td>0.10000000</td><td>  0</td><td>0.11111111</td><td>1.0000000</td><td>0</td></tr>\n",
       "\t<tr><td>Eucalyptus socialis</td><td>Mallee Woodlands</td><td>T2005/4</td><td>2007-03-16</td><td>Resprouter</td><td>  3</td><td>  0</td><td>  4</td><td>0</td><td>0</td><td>  3</td><td> 0</td><td>0.00000000</td><td>  0</td><td>2.33333333</td><td>0.5714286</td><td>0</td></tr>\n",
       "\t<tr><td>Eucalyptus socialis</td><td>Mallee Woodlands</td><td>T2006/1</td><td>2007-03-16</td><td>Resprouter</td><td>  3</td><td>  9</td><td>  0</td><td>0</td><td>0</td><td>  0</td><td> 0</td><td>0.00000000</td><td>  0</td><td>0.00000000</td><td>      NaN</td><td>0</td></tr>\n",
       "\t<tr><td>Eucalyptus socialis</td><td>Mallee Woodlands</td><td>T2006/2</td><td>2008-02-25</td><td>Resprouter</td><td> 14</td><td>  5</td><td>  0</td><td>0</td><td>0</td><td>  0</td><td> 1</td><td>0.06666667</td><td>  0</td><td>0.00000000</td><td>      NaN</td><td>0</td></tr>\n",
       "\t<tr><td>Eucalyptus socialis</td><td>Mallee Woodlands</td><td>T2006/4</td><td>2007-03-15</td><td>Resprouter</td><td>  0</td><td> 20</td><td>  0</td><td>0</td><td>0</td><td>  0</td><td> 1</td><td>1.00000000</td><td>NaN</td><td>       NaN</td><td>      NaN</td><td>0</td></tr>\n",
       "\t<tr><td>Triodia scariosa   </td><td>Mallee Woodlands</td><td>S2010/1</td><td>2011-10-05</td><td>Resprouter</td><td>192</td><td> 96</td><td> 66</td><td>0</td><td>0</td><td>  2</td><td> 0</td><td>0.00000000</td><td>  0</td><td>0.35416667</td><td>0.9705882</td><td>0</td></tr>\n",
       "\t<tr><td>Triodia scariosa   </td><td>Mallee Woodlands</td><td>S2010/2</td><td>2011-10-07</td><td>Resprouter</td><td>161</td><td>214</td><td>  4</td><td>0</td><td>0</td><td>  0</td><td> 0</td><td>0.00000000</td><td>  0</td><td>0.02484472</td><td>1.0000000</td><td>0</td></tr>\n",
       "\t<tr><td>Triodia scariosa   </td><td>Mallee Woodlands</td><td>S2010/3</td><td>2012-09-27</td><td>Resprouter</td><td> 27</td><td> 64</td><td>  0</td><td>0</td><td>0</td><td>  0</td><td> 0</td><td>0.00000000</td><td>  0</td><td>0.00000000</td><td>      NaN</td><td>0</td></tr>\n",
       "\t<tr><td>Triodia scariosa   </td><td>Mallee Woodlands</td><td>S2010/4</td><td>2012-09-27</td><td>Resprouter</td><td>  0</td><td> 57</td><td> 29</td><td>0</td><td>0</td><td>  2</td><td> 1</td><td>1.00000000</td><td>NaN</td><td>       Inf</td><td>0.9354839</td><td>0</td></tr>\n",
       "\t<tr><td>Triodia scariosa   </td><td>Mallee Woodlands</td><td>S2012/1</td><td>2014-01-07</td><td>Resprouter</td><td>  0</td><td>130</td><td>212</td><td>0</td><td>0</td><td>264</td><td>19</td><td>1.00000000</td><td>NaN</td><td>       Inf</td><td>0.4453782</td><td>0</td></tr>\n",
       "\t<tr><td>Triodia scariosa   </td><td>Mallee Woodlands</td><td>S2012/4</td><td>2014-01-08</td><td>Resprouter</td><td>  0</td><td>140</td><td>763</td><td>0</td><td>0</td><td>554</td><td> 3</td><td>1.00000000</td><td>NaN</td><td>       Inf</td><td>0.5793470</td><td>0</td></tr>\n",
       "\t<tr><td>Triodia scariosa   </td><td>Mallee Woodlands</td><td>T2005/4</td><td>2007-03-16</td><td>Resprouter</td><td>  0</td><td>128</td><td>142</td><td>0</td><td>0</td><td> 31</td><td> 3</td><td>1.00000000</td><td>NaN</td><td>       Inf</td><td>0.8208092</td><td>0</td></tr>\n",
       "\t<tr><td>Triodia scariosa   </td><td>Mallee Woodlands</td><td>T2006/1</td><td>2008-02-25</td><td>Resprouter</td><td>  0</td><td> 59</td><td> 20</td><td>0</td><td>0</td><td>  0</td><td> 1</td><td>1.00000000</td><td>NaN</td><td>       Inf</td><td>1.0000000</td><td>0</td></tr>\n",
       "\t<tr><td>Triodia scariosa   </td><td>Mallee Woodlands</td><td>T2006/3</td><td>2007-03-15</td><td>Resprouter</td><td>  0</td><td>195</td><td> 21</td><td>0</td><td>0</td><td>  4</td><td>45</td><td>1.00000000</td><td>NaN</td><td>       Inf</td><td>0.8400000</td><td>0</td></tr>\n",
       "\t<tr><td>Triodia scariosa   </td><td>Mallee Woodlands</td><td>T2006/3</td><td>2008-02-24</td><td>Resprouter</td><td>  0</td><td>185</td><td> 28</td><td>0</td><td>0</td><td>  4</td><td>37</td><td>1.00000000</td><td>NaN</td><td>       Inf</td><td>0.8750000</td><td>0</td></tr>\n",
       "\t<tr><td>Triodia scariosa   </td><td>Mallee Woodlands</td><td>T2006/4</td><td>2007-03-15</td><td>Resprouter</td><td>  0</td><td> 10</td><td>  0</td><td>0</td><td>0</td><td>  0</td><td> 4</td><td>1.00000000</td><td>NaN</td><td>       NaN</td><td>      NaN</td><td>0</td></tr>\n",
       "\t<tr><td>Triodia scariosa   </td><td>Mallee Woodlands</td><td>T2006/4</td><td>2008-02-24</td><td>Resprouter</td><td>  0</td><td> 22</td><td>  0</td><td>0</td><td>0</td><td>  0</td><td> 7</td><td>1.00000000</td><td>NaN</td><td>       NaN</td><td>      NaN</td><td>0</td></tr>\n",
       "</tbody>\n",
       "</table>\n"
      ],
      "text/latex": [
       "A tibble: 25 × 17\n",
       "\\begin{tabular}{lllllllllllllllll}\n",
       " species & Survey & visit\\_id & visit\\_date & spp\\_type & n1 & n2 & n5 & n6 & n7 & n8 & n9 & prop\\_fire\\_mortality & prop\\_sprout\\_surv & seed\\_adult & pro\\_recruit\\_surv & prop\\_reprod\\_recruit\\\\\n",
       " <chr> & <chr> & <chr> & <dttm> & <chr> & <dbl> & <dbl> & <dbl> & <dbl> & <dbl> & <dbl> & <dbl> & <dbl> & <dbl> & <dbl> & <dbl> & <dbl>\\\\\n",
       "\\hline\n",
       "\t Eremophila glabra   & Mallee Woodlands & T2005/1 & 2007-03-18 & Resprouter &  18 &   0 &   0 & 0 & 0 &   1 &  0 & 0.00000000 &   0 & 0.05555556 & 0.0000000 & 0\\\\\n",
       "\t Eremophila glabra   & Mallee Woodlands & T2005/3 & 2007-03-17 & Resprouter &   9 &   0 &   0 & 0 & 0 &   0 &  0 & 0.00000000 &   0 & 0.00000000 &       NaN & 0\\\\\n",
       "\t Eremophila glabra   & Mallee Woodlands & T2005/4 & 2007-03-16 & Resprouter &  16 &   0 &   0 & 0 & 0 &   0 &  0 & 0.00000000 &   0 & 0.00000000 &       NaN & 0\\\\\n",
       "\t Eremophila glabra   & Mallee Woodlands & T2006/1 & 2008-02-25 & Resprouter &  13 &   0 &   0 & 0 & 0 &   0 &  0 & 0.00000000 &   0 & 0.00000000 &       NaN & 0\\\\\n",
       "\t Eremophila glabra   & Mallee Woodlands & T2006/2 & 2008-02-25 & Resprouter &   7 &   0 &   0 & 0 & 0 &   0 &  0 & 0.00000000 &   0 & 0.00000000 &       NaN & 0\\\\\n",
       "\t Eucalyptus socialis & Mallee Woodlands & S2012/1 & 2014-10-25 & Resprouter &   1 &  17 &   0 & 0 & 0 &   0 &  0 & 0.00000000 &   0 & 0.00000000 &       NaN & 0\\\\\n",
       "\t Eucalyptus socialis & Mallee Woodlands & S2012/6 & 2014-10-24 & Resprouter &   1 &   8 &   0 & 0 & 0 &   0 &  0 & 0.00000000 &   0 & 0.00000000 &       NaN & 0\\\\\n",
       "\t Eucalyptus socialis & Mallee Woodlands & T2005/1 & 2007-03-18 & Resprouter &   4 &   1 &   0 & 0 & 0 &   0 &  0 & 0.00000000 &   0 & 0.00000000 &       NaN & 0\\\\\n",
       "\t Eucalyptus socialis & Mallee Woodlands & T2005/3 & 2007-03-17 & Resprouter &   9 &   2 &   1 & 0 & 0 &   0 &  1 & 0.10000000 &   0 & 0.11111111 & 1.0000000 & 0\\\\\n",
       "\t Eucalyptus socialis & Mallee Woodlands & T2005/4 & 2007-03-16 & Resprouter &   3 &   0 &   4 & 0 & 0 &   3 &  0 & 0.00000000 &   0 & 2.33333333 & 0.5714286 & 0\\\\\n",
       "\t Eucalyptus socialis & Mallee Woodlands & T2006/1 & 2007-03-16 & Resprouter &   3 &   9 &   0 & 0 & 0 &   0 &  0 & 0.00000000 &   0 & 0.00000000 &       NaN & 0\\\\\n",
       "\t Eucalyptus socialis & Mallee Woodlands & T2006/2 & 2008-02-25 & Resprouter &  14 &   5 &   0 & 0 & 0 &   0 &  1 & 0.06666667 &   0 & 0.00000000 &       NaN & 0\\\\\n",
       "\t Eucalyptus socialis & Mallee Woodlands & T2006/4 & 2007-03-15 & Resprouter &   0 &  20 &   0 & 0 & 0 &   0 &  1 & 1.00000000 & NaN &        NaN &       NaN & 0\\\\\n",
       "\t Triodia scariosa    & Mallee Woodlands & S2010/1 & 2011-10-05 & Resprouter & 192 &  96 &  66 & 0 & 0 &   2 &  0 & 0.00000000 &   0 & 0.35416667 & 0.9705882 & 0\\\\\n",
       "\t Triodia scariosa    & Mallee Woodlands & S2010/2 & 2011-10-07 & Resprouter & 161 & 214 &   4 & 0 & 0 &   0 &  0 & 0.00000000 &   0 & 0.02484472 & 1.0000000 & 0\\\\\n",
       "\t Triodia scariosa    & Mallee Woodlands & S2010/3 & 2012-09-27 & Resprouter &  27 &  64 &   0 & 0 & 0 &   0 &  0 & 0.00000000 &   0 & 0.00000000 &       NaN & 0\\\\\n",
       "\t Triodia scariosa    & Mallee Woodlands & S2010/4 & 2012-09-27 & Resprouter &   0 &  57 &  29 & 0 & 0 &   2 &  1 & 1.00000000 & NaN &        Inf & 0.9354839 & 0\\\\\n",
       "\t Triodia scariosa    & Mallee Woodlands & S2012/1 & 2014-01-07 & Resprouter &   0 & 130 & 212 & 0 & 0 & 264 & 19 & 1.00000000 & NaN &        Inf & 0.4453782 & 0\\\\\n",
       "\t Triodia scariosa    & Mallee Woodlands & S2012/4 & 2014-01-08 & Resprouter &   0 & 140 & 763 & 0 & 0 & 554 &  3 & 1.00000000 & NaN &        Inf & 0.5793470 & 0\\\\\n",
       "\t Triodia scariosa    & Mallee Woodlands & T2005/4 & 2007-03-16 & Resprouter &   0 & 128 & 142 & 0 & 0 &  31 &  3 & 1.00000000 & NaN &        Inf & 0.8208092 & 0\\\\\n",
       "\t Triodia scariosa    & Mallee Woodlands & T2006/1 & 2008-02-25 & Resprouter &   0 &  59 &  20 & 0 & 0 &   0 &  1 & 1.00000000 & NaN &        Inf & 1.0000000 & 0\\\\\n",
       "\t Triodia scariosa    & Mallee Woodlands & T2006/3 & 2007-03-15 & Resprouter &   0 & 195 &  21 & 0 & 0 &   4 & 45 & 1.00000000 & NaN &        Inf & 0.8400000 & 0\\\\\n",
       "\t Triodia scariosa    & Mallee Woodlands & T2006/3 & 2008-02-24 & Resprouter &   0 & 185 &  28 & 0 & 0 &   4 & 37 & 1.00000000 & NaN &        Inf & 0.8750000 & 0\\\\\n",
       "\t Triodia scariosa    & Mallee Woodlands & T2006/4 & 2007-03-15 & Resprouter &   0 &  10 &   0 & 0 & 0 &   0 &  4 & 1.00000000 & NaN &        NaN &       NaN & 0\\\\\n",
       "\t Triodia scariosa    & Mallee Woodlands & T2006/4 & 2008-02-24 & Resprouter &   0 &  22 &   0 & 0 & 0 &   0 &  7 & 1.00000000 & NaN &        NaN &       NaN & 0\\\\\n",
       "\\end{tabular}\n"
      ],
      "text/markdown": [
       "\n",
       "A tibble: 25 × 17\n",
       "\n",
       "| species &lt;chr&gt; | Survey &lt;chr&gt; | visit_id &lt;chr&gt; | visit_date &lt;dttm&gt; | spp_type &lt;chr&gt; | n1 &lt;dbl&gt; | n2 &lt;dbl&gt; | n5 &lt;dbl&gt; | n6 &lt;dbl&gt; | n7 &lt;dbl&gt; | n8 &lt;dbl&gt; | n9 &lt;dbl&gt; | prop_fire_mortality &lt;dbl&gt; | prop_sprout_surv &lt;dbl&gt; | seed_adult &lt;dbl&gt; | pro_recruit_surv &lt;dbl&gt; | prop_reprod_recruit &lt;dbl&gt; |\n",
       "|---|---|---|---|---|---|---|---|---|---|---|---|---|---|---|---|---|\n",
       "| Eremophila glabra   | Mallee Woodlands | T2005/1 | 2007-03-18 | Resprouter |  18 |   0 |   0 | 0 | 0 |   1 |  0 | 0.00000000 |   0 | 0.05555556 | 0.0000000 | 0 |\n",
       "| Eremophila glabra   | Mallee Woodlands | T2005/3 | 2007-03-17 | Resprouter |   9 |   0 |   0 | 0 | 0 |   0 |  0 | 0.00000000 |   0 | 0.00000000 |       NaN | 0 |\n",
       "| Eremophila glabra   | Mallee Woodlands | T2005/4 | 2007-03-16 | Resprouter |  16 |   0 |   0 | 0 | 0 |   0 |  0 | 0.00000000 |   0 | 0.00000000 |       NaN | 0 |\n",
       "| Eremophila glabra   | Mallee Woodlands | T2006/1 | 2008-02-25 | Resprouter |  13 |   0 |   0 | 0 | 0 |   0 |  0 | 0.00000000 |   0 | 0.00000000 |       NaN | 0 |\n",
       "| Eremophila glabra   | Mallee Woodlands | T2006/2 | 2008-02-25 | Resprouter |   7 |   0 |   0 | 0 | 0 |   0 |  0 | 0.00000000 |   0 | 0.00000000 |       NaN | 0 |\n",
       "| Eucalyptus socialis | Mallee Woodlands | S2012/1 | 2014-10-25 | Resprouter |   1 |  17 |   0 | 0 | 0 |   0 |  0 | 0.00000000 |   0 | 0.00000000 |       NaN | 0 |\n",
       "| Eucalyptus socialis | Mallee Woodlands | S2012/6 | 2014-10-24 | Resprouter |   1 |   8 |   0 | 0 | 0 |   0 |  0 | 0.00000000 |   0 | 0.00000000 |       NaN | 0 |\n",
       "| Eucalyptus socialis | Mallee Woodlands | T2005/1 | 2007-03-18 | Resprouter |   4 |   1 |   0 | 0 | 0 |   0 |  0 | 0.00000000 |   0 | 0.00000000 |       NaN | 0 |\n",
       "| Eucalyptus socialis | Mallee Woodlands | T2005/3 | 2007-03-17 | Resprouter |   9 |   2 |   1 | 0 | 0 |   0 |  1 | 0.10000000 |   0 | 0.11111111 | 1.0000000 | 0 |\n",
       "| Eucalyptus socialis | Mallee Woodlands | T2005/4 | 2007-03-16 | Resprouter |   3 |   0 |   4 | 0 | 0 |   3 |  0 | 0.00000000 |   0 | 2.33333333 | 0.5714286 | 0 |\n",
       "| Eucalyptus socialis | Mallee Woodlands | T2006/1 | 2007-03-16 | Resprouter |   3 |   9 |   0 | 0 | 0 |   0 |  0 | 0.00000000 |   0 | 0.00000000 |       NaN | 0 |\n",
       "| Eucalyptus socialis | Mallee Woodlands | T2006/2 | 2008-02-25 | Resprouter |  14 |   5 |   0 | 0 | 0 |   0 |  1 | 0.06666667 |   0 | 0.00000000 |       NaN | 0 |\n",
       "| Eucalyptus socialis | Mallee Woodlands | T2006/4 | 2007-03-15 | Resprouter |   0 |  20 |   0 | 0 | 0 |   0 |  1 | 1.00000000 | NaN |        NaN |       NaN | 0 |\n",
       "| Triodia scariosa    | Mallee Woodlands | S2010/1 | 2011-10-05 | Resprouter | 192 |  96 |  66 | 0 | 0 |   2 |  0 | 0.00000000 |   0 | 0.35416667 | 0.9705882 | 0 |\n",
       "| Triodia scariosa    | Mallee Woodlands | S2010/2 | 2011-10-07 | Resprouter | 161 | 214 |   4 | 0 | 0 |   0 |  0 | 0.00000000 |   0 | 0.02484472 | 1.0000000 | 0 |\n",
       "| Triodia scariosa    | Mallee Woodlands | S2010/3 | 2012-09-27 | Resprouter |  27 |  64 |   0 | 0 | 0 |   0 |  0 | 0.00000000 |   0 | 0.00000000 |       NaN | 0 |\n",
       "| Triodia scariosa    | Mallee Woodlands | S2010/4 | 2012-09-27 | Resprouter |   0 |  57 |  29 | 0 | 0 |   2 |  1 | 1.00000000 | NaN |        Inf | 0.9354839 | 0 |\n",
       "| Triodia scariosa    | Mallee Woodlands | S2012/1 | 2014-01-07 | Resprouter |   0 | 130 | 212 | 0 | 0 | 264 | 19 | 1.00000000 | NaN |        Inf | 0.4453782 | 0 |\n",
       "| Triodia scariosa    | Mallee Woodlands | S2012/4 | 2014-01-08 | Resprouter |   0 | 140 | 763 | 0 | 0 | 554 |  3 | 1.00000000 | NaN |        Inf | 0.5793470 | 0 |\n",
       "| Triodia scariosa    | Mallee Woodlands | T2005/4 | 2007-03-16 | Resprouter |   0 | 128 | 142 | 0 | 0 |  31 |  3 | 1.00000000 | NaN |        Inf | 0.8208092 | 0 |\n",
       "| Triodia scariosa    | Mallee Woodlands | T2006/1 | 2008-02-25 | Resprouter |   0 |  59 |  20 | 0 | 0 |   0 |  1 | 1.00000000 | NaN |        Inf | 1.0000000 | 0 |\n",
       "| Triodia scariosa    | Mallee Woodlands | T2006/3 | 2007-03-15 | Resprouter |   0 | 195 |  21 | 0 | 0 |   4 | 45 | 1.00000000 | NaN |        Inf | 0.8400000 | 0 |\n",
       "| Triodia scariosa    | Mallee Woodlands | T2006/3 | 2008-02-24 | Resprouter |   0 | 185 |  28 | 0 | 0 |   4 | 37 | 1.00000000 | NaN |        Inf | 0.8750000 | 0 |\n",
       "| Triodia scariosa    | Mallee Woodlands | T2006/4 | 2007-03-15 | Resprouter |   0 |  10 |   0 | 0 | 0 |   0 |  4 | 1.00000000 | NaN |        NaN |       NaN | 0 |\n",
       "| Triodia scariosa    | Mallee Woodlands | T2006/4 | 2008-02-24 | Resprouter |   0 |  22 |   0 | 0 | 0 |   0 |  7 | 1.00000000 | NaN |        NaN |       NaN | 0 |\n",
       "\n"
      ],
      "text/plain": [
       "   species             Survey           visit_id visit_date spp_type   n1  n2 \n",
       "1  Eremophila glabra   Mallee Woodlands T2005/1  2007-03-18 Resprouter  18   0\n",
       "2  Eremophila glabra   Mallee Woodlands T2005/3  2007-03-17 Resprouter   9   0\n",
       "3  Eremophila glabra   Mallee Woodlands T2005/4  2007-03-16 Resprouter  16   0\n",
       "4  Eremophila glabra   Mallee Woodlands T2006/1  2008-02-25 Resprouter  13   0\n",
       "5  Eremophila glabra   Mallee Woodlands T2006/2  2008-02-25 Resprouter   7   0\n",
       "6  Eucalyptus socialis Mallee Woodlands S2012/1  2014-10-25 Resprouter   1  17\n",
       "7  Eucalyptus socialis Mallee Woodlands S2012/6  2014-10-24 Resprouter   1   8\n",
       "8  Eucalyptus socialis Mallee Woodlands T2005/1  2007-03-18 Resprouter   4   1\n",
       "9  Eucalyptus socialis Mallee Woodlands T2005/3  2007-03-17 Resprouter   9   2\n",
       "10 Eucalyptus socialis Mallee Woodlands T2005/4  2007-03-16 Resprouter   3   0\n",
       "11 Eucalyptus socialis Mallee Woodlands T2006/1  2007-03-16 Resprouter   3   9\n",
       "12 Eucalyptus socialis Mallee Woodlands T2006/2  2008-02-25 Resprouter  14   5\n",
       "13 Eucalyptus socialis Mallee Woodlands T2006/4  2007-03-15 Resprouter   0  20\n",
       "14 Triodia scariosa    Mallee Woodlands S2010/1  2011-10-05 Resprouter 192  96\n",
       "15 Triodia scariosa    Mallee Woodlands S2010/2  2011-10-07 Resprouter 161 214\n",
       "16 Triodia scariosa    Mallee Woodlands S2010/3  2012-09-27 Resprouter  27  64\n",
       "17 Triodia scariosa    Mallee Woodlands S2010/4  2012-09-27 Resprouter   0  57\n",
       "18 Triodia scariosa    Mallee Woodlands S2012/1  2014-01-07 Resprouter   0 130\n",
       "19 Triodia scariosa    Mallee Woodlands S2012/4  2014-01-08 Resprouter   0 140\n",
       "20 Triodia scariosa    Mallee Woodlands T2005/4  2007-03-16 Resprouter   0 128\n",
       "21 Triodia scariosa    Mallee Woodlands T2006/1  2008-02-25 Resprouter   0  59\n",
       "22 Triodia scariosa    Mallee Woodlands T2006/3  2007-03-15 Resprouter   0 195\n",
       "23 Triodia scariosa    Mallee Woodlands T2006/3  2008-02-24 Resprouter   0 185\n",
       "24 Triodia scariosa    Mallee Woodlands T2006/4  2007-03-15 Resprouter   0  10\n",
       "25 Triodia scariosa    Mallee Woodlands T2006/4  2008-02-24 Resprouter   0  22\n",
       "   n5  n6 n7 n8  n9 prop_fire_mortality prop_sprout_surv seed_adult\n",
       "1    0 0  0    1  0 0.00000000            0              0.05555556\n",
       "2    0 0  0    0  0 0.00000000            0              0.00000000\n",
       "3    0 0  0    0  0 0.00000000            0              0.00000000\n",
       "4    0 0  0    0  0 0.00000000            0              0.00000000\n",
       "5    0 0  0    0  0 0.00000000            0              0.00000000\n",
       "6    0 0  0    0  0 0.00000000            0              0.00000000\n",
       "7    0 0  0    0  0 0.00000000            0              0.00000000\n",
       "8    0 0  0    0  0 0.00000000            0              0.00000000\n",
       "9    1 0  0    0  1 0.10000000            0              0.11111111\n",
       "10   4 0  0    3  0 0.00000000            0              2.33333333\n",
       "11   0 0  0    0  0 0.00000000            0              0.00000000\n",
       "12   0 0  0    0  1 0.06666667            0              0.00000000\n",
       "13   0 0  0    0  1 1.00000000          NaN                     NaN\n",
       "14  66 0  0    2  0 0.00000000            0              0.35416667\n",
       "15   4 0  0    0  0 0.00000000            0              0.02484472\n",
       "16   0 0  0    0  0 0.00000000            0              0.00000000\n",
       "17  29 0  0    2  1 1.00000000          NaN                     Inf\n",
       "18 212 0  0  264 19 1.00000000          NaN                     Inf\n",
       "19 763 0  0  554  3 1.00000000          NaN                     Inf\n",
       "20 142 0  0   31  3 1.00000000          NaN                     Inf\n",
       "21  20 0  0    0  1 1.00000000          NaN                     Inf\n",
       "22  21 0  0    4 45 1.00000000          NaN                     Inf\n",
       "23  28 0  0    4 37 1.00000000          NaN                     Inf\n",
       "24   0 0  0    0  4 1.00000000          NaN                     NaN\n",
       "25   0 0  0    0  7 1.00000000          NaN                     NaN\n",
       "   pro_recruit_surv prop_reprod_recruit\n",
       "1  0.0000000        0                  \n",
       "2        NaN        0                  \n",
       "3        NaN        0                  \n",
       "4        NaN        0                  \n",
       "5        NaN        0                  \n",
       "6        NaN        0                  \n",
       "7        NaN        0                  \n",
       "8        NaN        0                  \n",
       "9  1.0000000        0                  \n",
       "10 0.5714286        0                  \n",
       "11       NaN        0                  \n",
       "12       NaN        0                  \n",
       "13       NaN        0                  \n",
       "14 0.9705882        0                  \n",
       "15 1.0000000        0                  \n",
       "16       NaN        0                  \n",
       "17 0.9354839        0                  \n",
       "18 0.4453782        0                  \n",
       "19 0.5793470        0                  \n",
       "20 0.8208092        0                  \n",
       "21 1.0000000        0                  \n",
       "22 0.8400000        0                  \n",
       "23 0.8750000        0                  \n",
       "24       NaN        0                  \n",
       "25       NaN        0                  "
      ]
     },
     "metadata": {},
     "output_type": "display_data"
    }
   ],
   "source": [
    "full_spp_trait |>   filter(species %in% top_species, !is.na(prop_fire_mortality))"
   ]
  },
  {
   "cell_type": "code",
   "execution_count": 130,
   "id": "afdd0fbf-0762-4cbb-ac9b-85593ba9c30b",
   "metadata": {},
   "outputs": [],
   "source": [
    "slc_spp_trait <- full_spp_trait |>\n",
    "    filter(species %in% top_species) |>\n",
    "    mutate(species = fct_reorder(species, ifelse(spp_type == \"Seeder\", 2,1)))"
   ]
  },
  {
   "cell_type": "code",
   "execution_count": 158,
   "id": "ebb6fc06-7cad-492d-beee-7ded2d186102",
   "metadata": {},
   "outputs": [],
   "source": [
    "\n",
    "pfm <- \n",
    "ggplot(slc_spp_trait, aes(x = prop_fire_mortality, fill=spp_type)) +\n",
    "geom_histogram( bins = 8) +\n",
    "facet_grid(~species, \n",
    "           labeller = labeller(species = label_wrap_gen(10))) +\n",
    "labs(x=\"Proportion Fire Mortality\", y = \"Number of samples\") +\n",
    "theme_classic() +\n",
    "theme(legend.position = \"none\",\n",
    "     panel.border = element_rect(fill = \"transparent\", # Needed to add the border\n",
    "                                    color = \"black\", linewidth = 0.5))"
   ]
  },
  {
   "cell_type": "code",
   "execution_count": 159,
   "id": "691ff8ae-014f-4413-b623-ee3ea996e55b",
   "metadata": {},
   "outputs": [],
   "source": [
    "prs <- \n",
    "ggplot(slc_spp_trait, aes(x = pro_recruit_surv, fill=spp_type)) +\n",
    "geom_histogram( bins = 8) +\n",
    "facet_grid(~species) +\n",
    "labs(x=\"Proportion Recruit Survival\", y = \"Number of samples\")+\n",
    "theme_classic() +\n",
    "theme(legend.position = \"none\", strip.text=element_blank(),\n",
    "     panel.border = element_rect(fill = \"transparent\", # Needed to add the border\n",
    "                                    color = \"black\", linewidth = 0.5))"
   ]
  },
  {
   "cell_type": "code",
   "execution_count": 160,
   "id": "5e51be7a-dfd0-45b5-8bd1-c7d9d38cf1ea",
   "metadata": {},
   "outputs": [],
   "source": [
    "prr <- \n",
    "ggplot(slc_spp_trait, aes(x = prop_reprod_recruit, fill=spp_type)) +\n",
    "geom_histogram( bins = 8) +\n",
    "facet_grid(~species) +\n",
    "labs(x=\"Proportion of Reproductive Recruits\", y = \"Number of samples\")+\n",
    "theme_classic() +\n",
    "theme(legend.position = \"none\", strip.text=element_blank(),\n",
    "     panel.border = element_rect(fill = \"transparent\", # Needed to add the border\n",
    "                                    color = \"black\", linewidth = 0.5))"
   ]
  },
  {
   "cell_type": "code",
   "execution_count": 162,
   "id": "0bb9f010-af10-4e99-88cd-9f514a05585f",
   "metadata": {},
   "outputs": [
    {
     "name": "stderr",
     "output_type": "stream",
     "text": [
      "Warning message:\n",
      "“\u001b[1m\u001b[22mRemoved 250 rows containing non-finite outside the scale range (`stat_bin()`).”\n",
      "Warning message:\n",
      "“\u001b[1m\u001b[22mRemoved 44 rows containing non-finite outside the scale range (`stat_bin()`).”\n"
     ]
    },
    {
     "data": {
      "image/png": "[encoded data removed]",
      "text/plain": [
       "plot without title"
      ]
     },
     "metadata": {
      "image/png": {
       "height": 480,
       "width": 720
      }
     },
     "output_type": "display_data"
    }
   ],
   "source": [
    "options(repr.plot.width=12, repr.plot.height=8) # Make plot larger\n",
    "plot_grid(pfm, prs, prr, \n",
    "           #align = \"vh\",\n",
    "          labels = \"auto\",\n",
    "         ncol = 1)"
   ]
  },
  {
   "cell_type": "code",
   "execution_count": 157,
   "id": "dfaaa6c3-c6bc-4a4f-9861-21bdc810c034",
   "metadata": {},
   "outputs": [
    {
     "data": {
      "text/html": [
       "<table class=\"dataframe\">\n",
       "<caption>A tibble: 5 × 17</caption>\n",
       "<thead>\n",
       "\t<tr><th scope=col>species</th><th scope=col>Survey</th><th scope=col>visit_id</th><th scope=col>visit_date</th><th scope=col>spp_type</th><th scope=col>n1</th><th scope=col>n2</th><th scope=col>n5</th><th scope=col>n6</th><th scope=col>n7</th><th scope=col>n8</th><th scope=col>n9</th><th scope=col>prop_fire_mortality</th><th scope=col>prop_sprout_surv</th><th scope=col>seed_adult</th><th scope=col>pro_recruit_surv</th><th scope=col>prop_reprod_recruit</th></tr>\n",
       "\t<tr><th scope=col>&lt;chr&gt;</th><th scope=col>&lt;chr&gt;</th><th scope=col>&lt;chr&gt;</th><th scope=col>&lt;dttm&gt;</th><th scope=col>&lt;chr&gt;</th><th scope=col>&lt;dbl&gt;</th><th scope=col>&lt;dbl&gt;</th><th scope=col>&lt;dbl&gt;</th><th scope=col>&lt;dbl&gt;</th><th scope=col>&lt;dbl&gt;</th><th scope=col>&lt;dbl&gt;</th><th scope=col>&lt;dbl&gt;</th><th scope=col>&lt;dbl&gt;</th><th scope=col>&lt;dbl&gt;</th><th scope=col>&lt;dbl&gt;</th><th scope=col>&lt;dbl&gt;</th><th scope=col>&lt;dbl&gt;</th></tr>\n",
       "</thead>\n",
       "<tbody>\n",
       "\t<tr><td>Clematis aristata    </td><td>UplandBasalt    </td><td>Sassafras 3</td><td>2021-02-20</td><td>Resprouter</td><td> 6</td><td>0</td><td>0</td><td>0</td><td>0</td><td>0</td><td>0</td><td>  0</td><td>  0</td><td>  0</td><td>NaN</td><td>0.000000e+00</td></tr>\n",
       "\t<tr><td>Sclerolaena diacantha</td><td>Mallee Woodlands</td><td>S2012/7    </td><td>2013-09-28</td><td>Seeder    </td><td> 0</td><td>0</td><td>6</td><td>5</td><td>0</td><td>0</td><td>0</td><td>NaN</td><td>NaN</td><td>Inf</td><td>  1</td><td>6.859557e-05</td></tr>\n",
       "\t<tr><td>Eucalyptus costata   </td><td>Mallee Woodlands</td><td>T2005/2    </td><td>2007-03-19</td><td>Resprouter</td><td> 0</td><td>9</td><td>1</td><td>0</td><td>0</td><td>0</td><td>0</td><td>NaN</td><td>NaN</td><td>Inf</td><td>  1</td><td>0.000000e+00</td></tr>\n",
       "\t<tr><td>Maireana georgei     </td><td>Mallee Woodlands</td><td>S2011/1    </td><td>2013-09-26</td><td>Seeder    </td><td> 0</td><td>0</td><td>2</td><td>0</td><td>0</td><td>0</td><td>0</td><td>NaN</td><td>NaN</td><td>Inf</td><td>  1</td><td>0.000000e+00</td></tr>\n",
       "\t<tr><td>Pteridium esculentum </td><td>UplandBasalt    </td><td>CRN36B7S   </td><td>2021-02-02</td><td>Resprouter</td><td>86</td><td>0</td><td>0</td><td>0</td><td>0</td><td>0</td><td>0</td><td>  0</td><td>  0</td><td>  0</td><td>NaN</td><td>0.000000e+00</td></tr>\n",
       "</tbody>\n",
       "</table>\n"
      ],
      "text/latex": [
       "A tibble: 5 × 17\n",
       "\\begin{tabular}{lllllllllllllllll}\n",
       " species & Survey & visit\\_id & visit\\_date & spp\\_type & n1 & n2 & n5 & n6 & n7 & n8 & n9 & prop\\_fire\\_mortality & prop\\_sprout\\_surv & seed\\_adult & pro\\_recruit\\_surv & prop\\_reprod\\_recruit\\\\\n",
       " <chr> & <chr> & <chr> & <dttm> & <chr> & <dbl> & <dbl> & <dbl> & <dbl> & <dbl> & <dbl> & <dbl> & <dbl> & <dbl> & <dbl> & <dbl> & <dbl>\\\\\n",
       "\\hline\n",
       "\t Clematis aristata     & UplandBasalt     & Sassafras 3 & 2021-02-20 & Resprouter &  6 & 0 & 0 & 0 & 0 & 0 & 0 &   0 &   0 &   0 & NaN & 0.000000e+00\\\\\n",
       "\t Sclerolaena diacantha & Mallee Woodlands & S2012/7     & 2013-09-28 & Seeder     &  0 & 0 & 6 & 5 & 0 & 0 & 0 & NaN & NaN & Inf &   1 & 6.859557e-05\\\\\n",
       "\t Eucalyptus costata    & Mallee Woodlands & T2005/2     & 2007-03-19 & Resprouter &  0 & 9 & 1 & 0 & 0 & 0 & 0 & NaN & NaN & Inf &   1 & 0.000000e+00\\\\\n",
       "\t Maireana georgei      & Mallee Woodlands & S2011/1     & 2013-09-26 & Seeder     &  0 & 0 & 2 & 0 & 0 & 0 & 0 & NaN & NaN & Inf &   1 & 0.000000e+00\\\\\n",
       "\t Pteridium esculentum  & UplandBasalt     & CRN36B7S    & 2021-02-02 & Resprouter & 86 & 0 & 0 & 0 & 0 & 0 & 0 &   0 &   0 &   0 & NaN & 0.000000e+00\\\\\n",
       "\\end{tabular}\n"
      ],
      "text/markdown": [
       "\n",
       "A tibble: 5 × 17\n",
       "\n",
       "| species &lt;chr&gt; | Survey &lt;chr&gt; | visit_id &lt;chr&gt; | visit_date &lt;dttm&gt; | spp_type &lt;chr&gt; | n1 &lt;dbl&gt; | n2 &lt;dbl&gt; | n5 &lt;dbl&gt; | n6 &lt;dbl&gt; | n7 &lt;dbl&gt; | n8 &lt;dbl&gt; | n9 &lt;dbl&gt; | prop_fire_mortality &lt;dbl&gt; | prop_sprout_surv &lt;dbl&gt; | seed_adult &lt;dbl&gt; | pro_recruit_surv &lt;dbl&gt; | prop_reprod_recruit &lt;dbl&gt; |\n",
       "|---|---|---|---|---|---|---|---|---|---|---|---|---|---|---|---|---|\n",
       "| Clematis aristata     | UplandBasalt     | Sassafras 3 | 2021-02-20 | Resprouter |  6 | 0 | 0 | 0 | 0 | 0 | 0 |   0 |   0 |   0 | NaN | 0.000000e+00 |\n",
       "| Sclerolaena diacantha | Mallee Woodlands | S2012/7     | 2013-09-28 | Seeder     |  0 | 0 | 6 | 5 | 0 | 0 | 0 | NaN | NaN | Inf |   1 | 6.859557e-05 |\n",
       "| Eucalyptus costata    | Mallee Woodlands | T2005/2     | 2007-03-19 | Resprouter |  0 | 9 | 1 | 0 | 0 | 0 | 0 | NaN | NaN | Inf |   1 | 0.000000e+00 |\n",
       "| Maireana georgei      | Mallee Woodlands | S2011/1     | 2013-09-26 | Seeder     |  0 | 0 | 2 | 0 | 0 | 0 | 0 | NaN | NaN | Inf |   1 | 0.000000e+00 |\n",
       "| Pteridium esculentum  | UplandBasalt     | CRN36B7S    | 2021-02-02 | Resprouter | 86 | 0 | 0 | 0 | 0 | 0 | 0 |   0 |   0 |   0 | NaN | 0.000000e+00 |\n",
       "\n"
      ],
      "text/plain": [
       "  species               Survey           visit_id    visit_date spp_type   n1\n",
       "1 Clematis aristata     UplandBasalt     Sassafras 3 2021-02-20 Resprouter  6\n",
       "2 Sclerolaena diacantha Mallee Woodlands S2012/7     2013-09-28 Seeder      0\n",
       "3 Eucalyptus costata    Mallee Woodlands T2005/2     2007-03-19 Resprouter  0\n",
       "4 Maireana georgei      Mallee Woodlands S2011/1     2013-09-26 Seeder      0\n",
       "5 Pteridium esculentum  UplandBasalt     CRN36B7S    2021-02-02 Resprouter 86\n",
       "  n2 n5 n6 n7 n8 n9 prop_fire_mortality prop_sprout_surv seed_adult\n",
       "1 0  0  0  0  0  0    0                   0                0       \n",
       "2 0  6  5  0  0  0  NaN                 NaN              Inf       \n",
       "3 9  1  0  0  0  0  NaN                 NaN              Inf       \n",
       "4 0  2  0  0  0  0  NaN                 NaN              Inf       \n",
       "5 0  0  0  0  0  0    0                   0                0       \n",
       "  pro_recruit_surv prop_reprod_recruit\n",
       "1 NaN              0.000000e+00       \n",
       "2   1              6.859557e-05       \n",
       "3   1              0.000000e+00       \n",
       "4   1              0.000000e+00       \n",
       "5 NaN              0.000000e+00       "
      ]
     },
     "metadata": {},
     "output_type": "display_data"
    }
   ],
   "source": [
    "full_spp_trait |> slice_sample(n=5)"
   ]
  },
  {
   "cell_type": "code",
   "execution_count": 38,
   "id": "ecc9495e-b662-4b27-93fe-37e26396093b",
   "metadata": {},
   "outputs": [
    {
     "data": {
      "text/html": [
       "<table class=\"dataframe\">\n",
       "<caption>A tibble: 2 × 2</caption>\n",
       "<thead>\n",
       "\t<tr><th scope=col>spp_type</th><th scope=col>n</th></tr>\n",
       "\t<tr><th scope=col>&lt;chr&gt;</th><th scope=col>&lt;int&gt;</th></tr>\n",
       "</thead>\n",
       "<tbody>\n",
       "\t<tr><td>Resprouter</td><td>2520</td></tr>\n",
       "\t<tr><td>Seeder    </td><td>1168</td></tr>\n",
       "</tbody>\n",
       "</table>\n"
      ],
      "text/latex": [
       "A tibble: 2 × 2\n",
       "\\begin{tabular}{ll}\n",
       " spp\\_type & n\\\\\n",
       " <chr> & <int>\\\\\n",
       "\\hline\n",
       "\t Resprouter & 2520\\\\\n",
       "\t Seeder     & 1168\\\\\n",
       "\\end{tabular}\n"
      ],
      "text/markdown": [
       "\n",
       "A tibble: 2 × 2\n",
       "\n",
       "| spp_type &lt;chr&gt; | n &lt;int&gt; |\n",
       "|---|---|\n",
       "| Resprouter | 2520 |\n",
       "| Seeder     | 1168 |\n",
       "\n"
      ],
      "text/plain": [
       "  spp_type   n   \n",
       "1 Resprouter 2520\n",
       "2 Seeder     1168"
      ]
     },
     "metadata": {},
     "output_type": "display_data"
    },
    {
     "data": {
      "text/html": [
       "<table class=\"dataframe\">\n",
       "<caption>A tibble: 5 × 2</caption>\n",
       "<thead>\n",
       "\t<tr><th scope=col>seedbank</th><th scope=col>n</th></tr>\n",
       "\t<tr><th scope=col>&lt;chr&gt;</th><th scope=col>&lt;int&gt;</th></tr>\n",
       "</thead>\n",
       "<tbody>\n",
       "\t<tr><td>Canopy         </td><td> 268</td></tr>\n",
       "\t<tr><td>Non-canopy     </td><td>1156</td></tr>\n",
       "\t<tr><td>Soil-persistent</td><td>1760</td></tr>\n",
       "\t<tr><td>Transient      </td><td> 185</td></tr>\n",
       "\t<tr><td>NA             </td><td> 319</td></tr>\n",
       "</tbody>\n",
       "</table>\n"
      ],
      "text/latex": [
       "A tibble: 5 × 2\n",
       "\\begin{tabular}{ll}\n",
       " seedbank & n\\\\\n",
       " <chr> & <int>\\\\\n",
       "\\hline\n",
       "\t Canopy          &  268\\\\\n",
       "\t Non-canopy      & 1156\\\\\n",
       "\t Soil-persistent & 1760\\\\\n",
       "\t Transient       &  185\\\\\n",
       "\t NA              &  319\\\\\n",
       "\\end{tabular}\n"
      ],
      "text/markdown": [
       "\n",
       "A tibble: 5 × 2\n",
       "\n",
       "| seedbank &lt;chr&gt; | n &lt;int&gt; |\n",
       "|---|---|\n",
       "| Canopy          |  268 |\n",
       "| Non-canopy      | 1156 |\n",
       "| Soil-persistent | 1760 |\n",
       "| Transient       |  185 |\n",
       "| NA              |  319 |\n",
       "\n"
      ],
      "text/plain": [
       "  seedbank        n   \n",
       "1 Canopy           268\n",
       "2 Non-canopy      1156\n",
       "3 Soil-persistent 1760\n",
       "4 Transient        185\n",
       "5 NA               319"
      ]
     },
     "metadata": {},
     "output_type": "display_data"
    },
    {
     "data": {
      "text/html": [
       "<table class=\"dataframe\">\n",
       "<caption>A tibble: 10 × 2</caption>\n",
       "<thead>\n",
       "\t<tr><th scope=col>resprout_organ</th><th scope=col>n</th></tr>\n",
       "\t<tr><th scope=col>&lt;chr&gt;</th><th scope=col>&lt;int&gt;</th></tr>\n",
       "</thead>\n",
       "<tbody>\n",
       "\t<tr><td>Apical       </td><td>  18</td></tr>\n",
       "\t<tr><td>Basal        </td><td> 289</td></tr>\n",
       "\t<tr><td>Epicormic    </td><td>  73</td></tr>\n",
       "\t<tr><td>Lignotuber   </td><td> 208</td></tr>\n",
       "\t<tr><td>None         </td><td>1168</td></tr>\n",
       "\t<tr><td>Short rhizome</td><td>  40</td></tr>\n",
       "\t<tr><td>Stolon       </td><td> 124</td></tr>\n",
       "\t<tr><td>Tuber        </td><td> 142</td></tr>\n",
       "\t<tr><td>Tussock      </td><td> 250</td></tr>\n",
       "\t<tr><td>NA           </td><td>1376</td></tr>\n",
       "</tbody>\n",
       "</table>\n"
      ],
      "text/latex": [
       "A tibble: 10 × 2\n",
       "\\begin{tabular}{ll}\n",
       " resprout\\_organ & n\\\\\n",
       " <chr> & <int>\\\\\n",
       "\\hline\n",
       "\t Apical        &   18\\\\\n",
       "\t Basal         &  289\\\\\n",
       "\t Epicormic     &   73\\\\\n",
       "\t Lignotuber    &  208\\\\\n",
       "\t None          & 1168\\\\\n",
       "\t Short rhizome &   40\\\\\n",
       "\t Stolon        &  124\\\\\n",
       "\t Tuber         &  142\\\\\n",
       "\t Tussock       &  250\\\\\n",
       "\t NA            & 1376\\\\\n",
       "\\end{tabular}\n"
      ],
      "text/markdown": [
       "\n",
       "A tibble: 10 × 2\n",
       "\n",
       "| resprout_organ &lt;chr&gt; | n &lt;int&gt; |\n",
       "|---|---|\n",
       "| Apical        |   18 |\n",
       "| Basal         |  289 |\n",
       "| Epicormic     |   73 |\n",
       "| Lignotuber    |  208 |\n",
       "| None          | 1168 |\n",
       "| Short rhizome |   40 |\n",
       "| Stolon        |  124 |\n",
       "| Tuber         |  142 |\n",
       "| Tussock       |  250 |\n",
       "| NA            | 1376 |\n",
       "\n"
      ],
      "text/plain": [
       "   resprout_organ n   \n",
       "1  Apical           18\n",
       "2  Basal           289\n",
       "3  Epicormic        73\n",
       "4  Lignotuber      208\n",
       "5  None           1168\n",
       "6  Short rhizome    40\n",
       "7  Stolon          124\n",
       "8  Tuber           142\n",
       "9  Tussock         250\n",
       "10 NA             1376"
      ]
     },
     "metadata": {},
     "output_type": "display_data"
    },
    {
     "data": {
      "text/html": [
       "<table class=\"dataframe\">\n",
       "<caption>A tibble: 116 × 2</caption>\n",
       "<thead>\n",
       "\t<tr><th scope=col>Family</th><th scope=col>n</th></tr>\n",
       "\t<tr><th scope=col>&lt;chr&gt;</th><th scope=col>&lt;int&gt;</th></tr>\n",
       "</thead>\n",
       "<tbody>\n",
       "\t<tr><td>Acanthaceae      </td><td>  3</td></tr>\n",
       "\t<tr><td>Aizoaceae        </td><td>  1</td></tr>\n",
       "\t<tr><td>Amaranthaceae    </td><td> 18</td></tr>\n",
       "\t<tr><td>Anthericaceae    </td><td> 25</td></tr>\n",
       "\t<tr><td>Aphanopetalaceae </td><td>  2</td></tr>\n",
       "\t<tr><td>Apiaceae         </td><td> 57</td></tr>\n",
       "\t<tr><td>Apocynaceae      </td><td> 28</td></tr>\n",
       "\t<tr><td>Araceae          </td><td>  1</td></tr>\n",
       "\t<tr><td>Araliaceae       </td><td> 19</td></tr>\n",
       "\t<tr><td>Arecaceae        </td><td>  1</td></tr>\n",
       "\t<tr><td>Asparagaceae     </td><td>  6</td></tr>\n",
       "\t<tr><td>Asphodelaceae    </td><td> 21</td></tr>\n",
       "\t<tr><td>Aspleniaceae     </td><td>  2</td></tr>\n",
       "\t<tr><td>Asteliaceae      </td><td>  1</td></tr>\n",
       "\t<tr><td>Asteraceae       </td><td>466</td></tr>\n",
       "\t<tr><td>Basellaceae      </td><td>  1</td></tr>\n",
       "\t<tr><td>Bignoniaceae     </td><td>  5</td></tr>\n",
       "\t<tr><td>Blechnaceae      </td><td> 17</td></tr>\n",
       "\t<tr><td>Boraginaceae     </td><td> 36</td></tr>\n",
       "\t<tr><td>Brassicaceae     </td><td> 56</td></tr>\n",
       "\t<tr><td>Campanulaceae    </td><td> 48</td></tr>\n",
       "\t<tr><td>Cardiopteridaceae</td><td>  1</td></tr>\n",
       "\t<tr><td>Caryophyllaceae  </td><td> 29</td></tr>\n",
       "\t<tr><td>Casuarinaceae    </td><td>  1</td></tr>\n",
       "\t<tr><td>Celastraceae     </td><td>  5</td></tr>\n",
       "\t<tr><td>Chenopodiaceae   </td><td>164</td></tr>\n",
       "\t<tr><td>Clusiaceae       </td><td>  5</td></tr>\n",
       "\t<tr><td>Commelinaceae    </td><td>  6</td></tr>\n",
       "\t<tr><td>Convolvulaceae   </td><td> 34</td></tr>\n",
       "\t<tr><td>Crassulaceae     </td><td> 18</td></tr>\n",
       "\t<tr><td>⋮</td><td>⋮</td></tr>\n",
       "\t<tr><td>Polytrichaceae  </td><td>  1</td></tr>\n",
       "\t<tr><td>Portulacaceae   </td><td> 24</td></tr>\n",
       "\t<tr><td>Primulaceae     </td><td>  3</td></tr>\n",
       "\t<tr><td>Proteaceae      </td><td> 64</td></tr>\n",
       "\t<tr><td>Pteridaceae     </td><td> 11</td></tr>\n",
       "\t<tr><td>Ranunculaceae   </td><td> 31</td></tr>\n",
       "\t<tr><td>Restionaceae    </td><td> 54</td></tr>\n",
       "\t<tr><td>Rhamnaceae      </td><td>  9</td></tr>\n",
       "\t<tr><td>Rosaceae        </td><td> 23</td></tr>\n",
       "\t<tr><td>Rubiaceae       </td><td> 77</td></tr>\n",
       "\t<tr><td>Rutaceae        </td><td>  8</td></tr>\n",
       "\t<tr><td>Santalaceae     </td><td>  9</td></tr>\n",
       "\t<tr><td>Sapindaceae     </td><td> 33</td></tr>\n",
       "\t<tr><td>Scrophulariaceae</td><td> 75</td></tr>\n",
       "\t<tr><td>Smilacaceae     </td><td> 15</td></tr>\n",
       "\t<tr><td>Solanaceae      </td><td>116</td></tr>\n",
       "\t<tr><td>Sphagnaceae     </td><td>  4</td></tr>\n",
       "\t<tr><td>Stackhousiaceae </td><td>  7</td></tr>\n",
       "\t<tr><td>Stylidiaceae    </td><td>  7</td></tr>\n",
       "\t<tr><td>Thymelaeaceae   </td><td> 20</td></tr>\n",
       "\t<tr><td>Ulmaceae        </td><td>  5</td></tr>\n",
       "\t<tr><td>Urticaceae      </td><td>  7</td></tr>\n",
       "\t<tr><td>Uvulariaceae    </td><td>  5</td></tr>\n",
       "\t<tr><td>Verbenaceae     </td><td>  5</td></tr>\n",
       "\t<tr><td>Violaceae       </td><td> 47</td></tr>\n",
       "\t<tr><td>Vitaceae        </td><td>  5</td></tr>\n",
       "\t<tr><td>Winteraceae     </td><td>  3</td></tr>\n",
       "\t<tr><td>Xyridaceae      </td><td> 19</td></tr>\n",
       "\t<tr><td>Zygophyllaceae  </td><td> 30</td></tr>\n",
       "\t<tr><td>NA              </td><td>174</td></tr>\n",
       "</tbody>\n",
       "</table>\n"
      ],
      "text/latex": [
       "A tibble: 116 × 2\n",
       "\\begin{tabular}{ll}\n",
       " Family & n\\\\\n",
       " <chr> & <int>\\\\\n",
       "\\hline\n",
       "\t Acanthaceae       &   3\\\\\n",
       "\t Aizoaceae         &   1\\\\\n",
       "\t Amaranthaceae     &  18\\\\\n",
       "\t Anthericaceae     &  25\\\\\n",
       "\t Aphanopetalaceae  &   2\\\\\n",
       "\t Apiaceae          &  57\\\\\n",
       "\t Apocynaceae       &  28\\\\\n",
       "\t Araceae           &   1\\\\\n",
       "\t Araliaceae        &  19\\\\\n",
       "\t Arecaceae         &   1\\\\\n",
       "\t Asparagaceae      &   6\\\\\n",
       "\t Asphodelaceae     &  21\\\\\n",
       "\t Aspleniaceae      &   2\\\\\n",
       "\t Asteliaceae       &   1\\\\\n",
       "\t Asteraceae        & 466\\\\\n",
       "\t Basellaceae       &   1\\\\\n",
       "\t Bignoniaceae      &   5\\\\\n",
       "\t Blechnaceae       &  17\\\\\n",
       "\t Boraginaceae      &  36\\\\\n",
       "\t Brassicaceae      &  56\\\\\n",
       "\t Campanulaceae     &  48\\\\\n",
       "\t Cardiopteridaceae &   1\\\\\n",
       "\t Caryophyllaceae   &  29\\\\\n",
       "\t Casuarinaceae     &   1\\\\\n",
       "\t Celastraceae      &   5\\\\\n",
       "\t Chenopodiaceae    & 164\\\\\n",
       "\t Clusiaceae        &   5\\\\\n",
       "\t Commelinaceae     &   6\\\\\n",
       "\t Convolvulaceae    &  34\\\\\n",
       "\t Crassulaceae      &  18\\\\\n",
       "\t ⋮ & ⋮\\\\\n",
       "\t Polytrichaceae   &   1\\\\\n",
       "\t Portulacaceae    &  24\\\\\n",
       "\t Primulaceae      &   3\\\\\n",
       "\t Proteaceae       &  64\\\\\n",
       "\t Pteridaceae      &  11\\\\\n",
       "\t Ranunculaceae    &  31\\\\\n",
       "\t Restionaceae     &  54\\\\\n",
       "\t Rhamnaceae       &   9\\\\\n",
       "\t Rosaceae         &  23\\\\\n",
       "\t Rubiaceae        &  77\\\\\n",
       "\t Rutaceae         &   8\\\\\n",
       "\t Santalaceae      &   9\\\\\n",
       "\t Sapindaceae      &  33\\\\\n",
       "\t Scrophulariaceae &  75\\\\\n",
       "\t Smilacaceae      &  15\\\\\n",
       "\t Solanaceae       & 116\\\\\n",
       "\t Sphagnaceae      &   4\\\\\n",
       "\t Stackhousiaceae  &   7\\\\\n",
       "\t Stylidiaceae     &   7\\\\\n",
       "\t Thymelaeaceae    &  20\\\\\n",
       "\t Ulmaceae         &   5\\\\\n",
       "\t Urticaceae       &   7\\\\\n",
       "\t Uvulariaceae     &   5\\\\\n",
       "\t Verbenaceae      &   5\\\\\n",
       "\t Violaceae        &  47\\\\\n",
       "\t Vitaceae         &   5\\\\\n",
       "\t Winteraceae      &   3\\\\\n",
       "\t Xyridaceae       &  19\\\\\n",
       "\t Zygophyllaceae   &  30\\\\\n",
       "\t NA               & 174\\\\\n",
       "\\end{tabular}\n"
      ],
      "text/markdown": [
       "\n",
       "A tibble: 116 × 2\n",
       "\n",
       "| Family &lt;chr&gt; | n &lt;int&gt; |\n",
       "|---|---|\n",
       "| Acanthaceae       |   3 |\n",
       "| Aizoaceae         |   1 |\n",
       "| Amaranthaceae     |  18 |\n",
       "| Anthericaceae     |  25 |\n",
       "| Aphanopetalaceae  |   2 |\n",
       "| Apiaceae          |  57 |\n",
       "| Apocynaceae       |  28 |\n",
       "| Araceae           |   1 |\n",
       "| Araliaceae        |  19 |\n",
       "| Arecaceae         |   1 |\n",
       "| Asparagaceae      |   6 |\n",
       "| Asphodelaceae     |  21 |\n",
       "| Aspleniaceae      |   2 |\n",
       "| Asteliaceae       |   1 |\n",
       "| Asteraceae        | 466 |\n",
       "| Basellaceae       |   1 |\n",
       "| Bignoniaceae      |   5 |\n",
       "| Blechnaceae       |  17 |\n",
       "| Boraginaceae      |  36 |\n",
       "| Brassicaceae      |  56 |\n",
       "| Campanulaceae     |  48 |\n",
       "| Cardiopteridaceae |   1 |\n",
       "| Caryophyllaceae   |  29 |\n",
       "| Casuarinaceae     |   1 |\n",
       "| Celastraceae      |   5 |\n",
       "| Chenopodiaceae    | 164 |\n",
       "| Clusiaceae        |   5 |\n",
       "| Commelinaceae     |   6 |\n",
       "| Convolvulaceae    |  34 |\n",
       "| Crassulaceae      |  18 |\n",
       "| ⋮ | ⋮ |\n",
       "| Polytrichaceae   |   1 |\n",
       "| Portulacaceae    |  24 |\n",
       "| Primulaceae      |   3 |\n",
       "| Proteaceae       |  64 |\n",
       "| Pteridaceae      |  11 |\n",
       "| Ranunculaceae    |  31 |\n",
       "| Restionaceae     |  54 |\n",
       "| Rhamnaceae       |   9 |\n",
       "| Rosaceae         |  23 |\n",
       "| Rubiaceae        |  77 |\n",
       "| Rutaceae         |   8 |\n",
       "| Santalaceae      |   9 |\n",
       "| Sapindaceae      |  33 |\n",
       "| Scrophulariaceae |  75 |\n",
       "| Smilacaceae      |  15 |\n",
       "| Solanaceae       | 116 |\n",
       "| Sphagnaceae      |   4 |\n",
       "| Stackhousiaceae  |   7 |\n",
       "| Stylidiaceae     |   7 |\n",
       "| Thymelaeaceae    |  20 |\n",
       "| Ulmaceae         |   5 |\n",
       "| Urticaceae       |   7 |\n",
       "| Uvulariaceae     |   5 |\n",
       "| Verbenaceae      |   5 |\n",
       "| Violaceae        |  47 |\n",
       "| Vitaceae         |   5 |\n",
       "| Winteraceae      |   3 |\n",
       "| Xyridaceae       |  19 |\n",
       "| Zygophyllaceae   |  30 |\n",
       "| NA               | 174 |\n",
       "\n"
      ],
      "text/plain": [
       "    Family            n  \n",
       "1   Acanthaceae         3\n",
       "2   Aizoaceae           1\n",
       "3   Amaranthaceae      18\n",
       "4   Anthericaceae      25\n",
       "5   Aphanopetalaceae    2\n",
       "6   Apiaceae           57\n",
       "7   Apocynaceae        28\n",
       "8   Araceae             1\n",
       "9   Araliaceae         19\n",
       "10  Arecaceae           1\n",
       "11  Asparagaceae        6\n",
       "12  Asphodelaceae      21\n",
       "13  Aspleniaceae        2\n",
       "14  Asteliaceae         1\n",
       "15  Asteraceae        466\n",
       "16  Basellaceae         1\n",
       "17  Bignoniaceae        5\n",
       "18  Blechnaceae        17\n",
       "19  Boraginaceae       36\n",
       "20  Brassicaceae       56\n",
       "21  Campanulaceae      48\n",
       "22  Cardiopteridaceae   1\n",
       "23  Caryophyllaceae    29\n",
       "24  Casuarinaceae       1\n",
       "25  Celastraceae        5\n",
       "26  Chenopodiaceae    164\n",
       "27  Clusiaceae          5\n",
       "28  Commelinaceae       6\n",
       "29  Convolvulaceae     34\n",
       "30  Crassulaceae       18\n",
       "⋮   ⋮                 ⋮  \n",
       "87  Polytrichaceae      1\n",
       "88  Portulacaceae      24\n",
       "89  Primulaceae         3\n",
       "90  Proteaceae         64\n",
       "91  Pteridaceae        11\n",
       "92  Ranunculaceae      31\n",
       "93  Restionaceae       54\n",
       "94  Rhamnaceae          9\n",
       "95  Rosaceae           23\n",
       "96  Rubiaceae          77\n",
       "97  Rutaceae            8\n",
       "98  Santalaceae         9\n",
       "99  Sapindaceae        33\n",
       "100 Scrophulariaceae   75\n",
       "101 Smilacaceae        15\n",
       "102 Solanaceae        116\n",
       "103 Sphagnaceae         4\n",
       "104 Stackhousiaceae     7\n",
       "105 Stylidiaceae        7\n",
       "106 Thymelaeaceae      20\n",
       "107 Ulmaceae            5\n",
       "108 Urticaceae          7\n",
       "109 Uvulariaceae        5\n",
       "110 Verbenaceae         5\n",
       "111 Violaceae          47\n",
       "112 Vitaceae            5\n",
       "113 Winteraceae         3\n",
       "114 Xyridaceae         19\n",
       "115 Zygophyllaceae     30\n",
       "116 NA                174"
      ]
     },
     "metadata": {},
     "output_type": "display_data"
    },
    {
     "data": {
      "text/html": [
       "<table class=\"dataframe\">\n",
       "<caption>A tibble: 1 × 2</caption>\n",
       "<thead>\n",
       "\t<tr><th scope=col>last_fire</th><th scope=col>n</th></tr>\n",
       "\t<tr><th scope=col>&lt;chr&gt;</th><th scope=col>&lt;int&gt;</th></tr>\n",
       "</thead>\n",
       "<tbody>\n",
       "\t<tr><td>recent</td><td>3688</td></tr>\n",
       "</tbody>\n",
       "</table>\n"
      ],
      "text/latex": [
       "A tibble: 1 × 2\n",
       "\\begin{tabular}{ll}\n",
       " last\\_fire & n\\\\\n",
       " <chr> & <int>\\\\\n",
       "\\hline\n",
       "\t recent & 3688\\\\\n",
       "\\end{tabular}\n"
      ],
      "text/markdown": [
       "\n",
       "A tibble: 1 × 2\n",
       "\n",
       "| last_fire &lt;chr&gt; | n &lt;int&gt; |\n",
       "|---|---|\n",
       "| recent | 3688 |\n",
       "\n"
      ],
      "text/plain": [
       "  last_fire n   \n",
       "1 recent    3688"
      ]
     },
     "metadata": {},
     "output_type": "display_data"
    }
   ],
   "source": [
    "full_spp_trait |> count(spp_type)\n",
    "full_spp_trait |> count(seedbank)\n",
    "full_spp_trait |> count(resprout_organ)\n",
    "full_spp_trait |> count(Family)\n",
    "full_spp_trait |> count(last_fire)"
   ]
  },
  {
   "cell_type": "code",
   "execution_count": 286,
   "id": "6185d5ad-ab2a-4b9a-8491-f6eb7e6562d8",
   "metadata": {},
   "outputs": [
    {
     "data": {
      "text/html": [
       "<table class=\"dataframe\">\n",
       "<caption>A tibble: 15 × 4</caption>\n",
       "<thead>\n",
       "\t<tr><th scope=col>species</th><th scope=col>nsites</th><th scope=col>nvisits</th><th scope=col>nplots</th></tr>\n",
       "\t<tr><th scope=col>&lt;chr&gt;</th><th scope=col>&lt;int&gt;</th><th scope=col>&lt;int&gt;</th><th scope=col>&lt;int&gt;</th></tr>\n",
       "</thead>\n",
       "<tbody>\n",
       "\t<tr><td>Triodia scariosa                        </td><td>58</td><td>82</td><td>452</td></tr>\n",
       "\t<tr><td>Austrostipa scabra                      </td><td>60</td><td>79</td><td>386</td></tr>\n",
       "\t<tr><td>Beyeria opaca                           </td><td>51</td><td>69</td><td>335</td></tr>\n",
       "\t<tr><td>Sclerolaena diacantha                   </td><td>52</td><td>69</td><td>306</td></tr>\n",
       "\t<tr><td>Eucalyptus socialis                     </td><td>49</td><td>68</td><td>300</td></tr>\n",
       "\t<tr><td>Dodonaea viscosa subsp. angustissima    </td><td>45</td><td>63</td><td>217</td></tr>\n",
       "\t<tr><td>Sclerolaena parviflora                  </td><td>44</td><td>61</td><td>271</td></tr>\n",
       "\t<tr><td>Eremophila glabra                       </td><td>44</td><td>57</td><td>172</td></tr>\n",
       "\t<tr><td>Eucalyptus dumosa                       </td><td>40</td><td>55</td><td>212</td></tr>\n",
       "\t<tr><td>Halgania cyanea                         </td><td>40</td><td>53</td><td>244</td></tr>\n",
       "\t<tr><td>Chenopodium desertorum subsp. desertorum</td><td>40</td><td>52</td><td>220</td></tr>\n",
       "\t<tr><td>Solanum coactiliferum                   </td><td>33</td><td>51</td><td>200</td></tr>\n",
       "\t<tr><td>Senna artemisioides subsp. petiolaris   </td><td>39</td><td>50</td><td>127</td></tr>\n",
       "\t<tr><td>Eremophila glabra subsp. murrayana      </td><td>37</td><td>49</td><td>175</td></tr>\n",
       "\t<tr><td>Myoporum platycarpum subsp. platycarpum </td><td>38</td><td>49</td><td>130</td></tr>\n",
       "</tbody>\n",
       "</table>\n"
      ],
      "text/latex": [
       "A tibble: 15 × 4\n",
       "\\begin{tabular}{llll}\n",
       " species & nsites & nvisits & nplots\\\\\n",
       " <chr> & <int> & <int> & <int>\\\\\n",
       "\\hline\n",
       "\t Triodia scariosa                         & 58 & 82 & 452\\\\\n",
       "\t Austrostipa scabra                       & 60 & 79 & 386\\\\\n",
       "\t Beyeria opaca                            & 51 & 69 & 335\\\\\n",
       "\t Sclerolaena diacantha                    & 52 & 69 & 306\\\\\n",
       "\t Eucalyptus socialis                      & 49 & 68 & 300\\\\\n",
       "\t Dodonaea viscosa subsp. angustissima     & 45 & 63 & 217\\\\\n",
       "\t Sclerolaena parviflora                   & 44 & 61 & 271\\\\\n",
       "\t Eremophila glabra                        & 44 & 57 & 172\\\\\n",
       "\t Eucalyptus dumosa                        & 40 & 55 & 212\\\\\n",
       "\t Halgania cyanea                          & 40 & 53 & 244\\\\\n",
       "\t Chenopodium desertorum subsp. desertorum & 40 & 52 & 220\\\\\n",
       "\t Solanum coactiliferum                    & 33 & 51 & 200\\\\\n",
       "\t Senna artemisioides subsp. petiolaris    & 39 & 50 & 127\\\\\n",
       "\t Eremophila glabra subsp. murrayana       & 37 & 49 & 175\\\\\n",
       "\t Myoporum platycarpum subsp. platycarpum  & 38 & 49 & 130\\\\\n",
       "\\end{tabular}\n"
      ],
      "text/markdown": [
       "\n",
       "A tibble: 15 × 4\n",
       "\n",
       "| species &lt;chr&gt; | nsites &lt;int&gt; | nvisits &lt;int&gt; | nplots &lt;int&gt; |\n",
       "|---|---|---|---|\n",
       "| Triodia scariosa                         | 58 | 82 | 452 |\n",
       "| Austrostipa scabra                       | 60 | 79 | 386 |\n",
       "| Beyeria opaca                            | 51 | 69 | 335 |\n",
       "| Sclerolaena diacantha                    | 52 | 69 | 306 |\n",
       "| Eucalyptus socialis                      | 49 | 68 | 300 |\n",
       "| Dodonaea viscosa subsp. angustissima     | 45 | 63 | 217 |\n",
       "| Sclerolaena parviflora                   | 44 | 61 | 271 |\n",
       "| Eremophila glabra                        | 44 | 57 | 172 |\n",
       "| Eucalyptus dumosa                        | 40 | 55 | 212 |\n",
       "| Halgania cyanea                          | 40 | 53 | 244 |\n",
       "| Chenopodium desertorum subsp. desertorum | 40 | 52 | 220 |\n",
       "| Solanum coactiliferum                    | 33 | 51 | 200 |\n",
       "| Senna artemisioides subsp. petiolaris    | 39 | 50 | 127 |\n",
       "| Eremophila glabra subsp. murrayana       | 37 | 49 | 175 |\n",
       "| Myoporum platycarpum subsp. platycarpum  | 38 | 49 | 130 |\n",
       "\n"
      ],
      "text/plain": [
       "   species                                  nsites nvisits nplots\n",
       "1  Triodia scariosa                         58     82      452   \n",
       "2  Austrostipa scabra                       60     79      386   \n",
       "3  Beyeria opaca                            51     69      335   \n",
       "4  Sclerolaena diacantha                    52     69      306   \n",
       "5  Eucalyptus socialis                      49     68      300   \n",
       "6  Dodonaea viscosa subsp. angustissima     45     63      217   \n",
       "7  Sclerolaena parviflora                   44     61      271   \n",
       "8  Eremophila glabra                        44     57      172   \n",
       "9  Eucalyptus dumosa                        40     55      212   \n",
       "10 Halgania cyanea                          40     53      244   \n",
       "11 Chenopodium desertorum subsp. desertorum 40     52      220   \n",
       "12 Solanum coactiliferum                    33     51      200   \n",
       "13 Senna artemisioides subsp. petiolaris    39     50      127   \n",
       "14 Eremophila glabra subsp. murrayana       37     49      175   \n",
       "15 Myoporum platycarpum subsp. platycarpum  38     49      130   "
      ]
     },
     "metadata": {},
     "output_type": "display_data"
    }
   ],
   "source": [
    "filter(field_records, visit_date<\"2019-01-01\") |>\n",
    "group_by(species) |>\n",
    "summarise(nsites = n_distinct(visit_id),\n",
    "          nvisits = n_distinct(visit_id,visit_date),\n",
    "         nplots = n_distinct(visit_id,visit_date,sample_nr)) |>\n",
    "arrange(desc(nvisits)) |>\n",
    "slice_head(n=15)"
   ]
  },
  {
   "cell_type": "code",
   "execution_count": 287,
   "id": "652ea801-ec50-4cd0-969a-659cbf8936bf",
   "metadata": {},
   "outputs": [
    {
     "data": {
      "text/html": [
       "<table class=\"dataframe\">\n",
       "<caption>A tibble: 15 × 4</caption>\n",
       "<thead>\n",
       "\t<tr><th scope=col>species</th><th scope=col>nsites</th><th scope=col>nvisits</th><th scope=col>nplots</th></tr>\n",
       "\t<tr><th scope=col>&lt;chr&gt;</th><th scope=col>&lt;int&gt;</th><th scope=col>&lt;int&gt;</th><th scope=col>&lt;int&gt;</th></tr>\n",
       "</thead>\n",
       "<tbody>\n",
       "\t<tr><td>Microlaena stipoides  </td><td>31</td><td>31</td><td> 56</td></tr>\n",
       "\t<tr><td>Clematis aristata     </td><td>28</td><td>28</td><td> 57</td></tr>\n",
       "\t<tr><td>Pteridium esculentum  </td><td>28</td><td>28</td><td> 50</td></tr>\n",
       "\t<tr><td>Conyza sumatrensis    </td><td>27</td><td>27</td><td> 70</td></tr>\n",
       "\t<tr><td>Hydrocotyle hirta     </td><td>27</td><td>27</td><td> 53</td></tr>\n",
       "\t<tr><td>Smilax australis      </td><td>27</td><td>27</td><td> 57</td></tr>\n",
       "\t<tr><td>Acacia melanoxylon    </td><td>26</td><td>26</td><td> 58</td></tr>\n",
       "\t<tr><td>Geranium homeanum     </td><td>26</td><td>26</td><td> 43</td></tr>\n",
       "\t<tr><td>Dichondra repens      </td><td>25</td><td>25</td><td> 44</td></tr>\n",
       "\t<tr><td>Lomandra longifolia   </td><td>24</td><td>24</td><td> 37</td></tr>\n",
       "\t<tr><td>Poranthera microphylla</td><td>23</td><td>23</td><td> 46</td></tr>\n",
       "\t<tr><td>Solanum aviculare     </td><td>23</td><td>23</td><td> 48</td></tr>\n",
       "\t<tr><td>Viola hederacea       </td><td>23</td><td>23</td><td> 34</td></tr>\n",
       "\t<tr><td>Empodisma minus       </td><td>21</td><td>21</td><td>334</td></tr>\n",
       "\t<tr><td>Eustrephus latifolius </td><td>21</td><td>21</td><td> 34</td></tr>\n",
       "</tbody>\n",
       "</table>\n"
      ],
      "text/latex": [
       "A tibble: 15 × 4\n",
       "\\begin{tabular}{llll}\n",
       " species & nsites & nvisits & nplots\\\\\n",
       " <chr> & <int> & <int> & <int>\\\\\n",
       "\\hline\n",
       "\t Microlaena stipoides   & 31 & 31 &  56\\\\\n",
       "\t Clematis aristata      & 28 & 28 &  57\\\\\n",
       "\t Pteridium esculentum   & 28 & 28 &  50\\\\\n",
       "\t Conyza sumatrensis     & 27 & 27 &  70\\\\\n",
       "\t Hydrocotyle hirta      & 27 & 27 &  53\\\\\n",
       "\t Smilax australis       & 27 & 27 &  57\\\\\n",
       "\t Acacia melanoxylon     & 26 & 26 &  58\\\\\n",
       "\t Geranium homeanum      & 26 & 26 &  43\\\\\n",
       "\t Dichondra repens       & 25 & 25 &  44\\\\\n",
       "\t Lomandra longifolia    & 24 & 24 &  37\\\\\n",
       "\t Poranthera microphylla & 23 & 23 &  46\\\\\n",
       "\t Solanum aviculare      & 23 & 23 &  48\\\\\n",
       "\t Viola hederacea        & 23 & 23 &  34\\\\\n",
       "\t Empodisma minus        & 21 & 21 & 334\\\\\n",
       "\t Eustrephus latifolius  & 21 & 21 &  34\\\\\n",
       "\\end{tabular}\n"
      ],
      "text/markdown": [
       "\n",
       "A tibble: 15 × 4\n",
       "\n",
       "| species &lt;chr&gt; | nsites &lt;int&gt; | nvisits &lt;int&gt; | nplots &lt;int&gt; |\n",
       "|---|---|---|---|\n",
       "| Microlaena stipoides   | 31 | 31 |  56 |\n",
       "| Clematis aristata      | 28 | 28 |  57 |\n",
       "| Pteridium esculentum   | 28 | 28 |  50 |\n",
       "| Conyza sumatrensis     | 27 | 27 |  70 |\n",
       "| Hydrocotyle hirta      | 27 | 27 |  53 |\n",
       "| Smilax australis       | 27 | 27 |  57 |\n",
       "| Acacia melanoxylon     | 26 | 26 |  58 |\n",
       "| Geranium homeanum      | 26 | 26 |  43 |\n",
       "| Dichondra repens       | 25 | 25 |  44 |\n",
       "| Lomandra longifolia    | 24 | 24 |  37 |\n",
       "| Poranthera microphylla | 23 | 23 |  46 |\n",
       "| Solanum aviculare      | 23 | 23 |  48 |\n",
       "| Viola hederacea        | 23 | 23 |  34 |\n",
       "| Empodisma minus        | 21 | 21 | 334 |\n",
       "| Eustrephus latifolius  | 21 | 21 |  34 |\n",
       "\n"
      ],
      "text/plain": [
       "   species                nsites nvisits nplots\n",
       "1  Microlaena stipoides   31     31       56   \n",
       "2  Clematis aristata      28     28       57   \n",
       "3  Pteridium esculentum   28     28       50   \n",
       "4  Conyza sumatrensis     27     27       70   \n",
       "5  Hydrocotyle hirta      27     27       53   \n",
       "6  Smilax australis       27     27       57   \n",
       "7  Acacia melanoxylon     26     26       58   \n",
       "8  Geranium homeanum      26     26       43   \n",
       "9  Dichondra repens       25     25       44   \n",
       "10 Lomandra longifolia    24     24       37   \n",
       "11 Poranthera microphylla 23     23       46   \n",
       "12 Solanum aviculare      23     23       48   \n",
       "13 Viola hederacea        23     23       34   \n",
       "14 Empodisma minus        21     21      334   \n",
       "15 Eustrephus latifolius  21     21       34   "
      ]
     },
     "metadata": {},
     "output_type": "display_data"
    }
   ],
   "source": [
    "filter(field_records, visit_date > \"2019-01-01\") |>\n",
    "group_by(species) |>\n",
    "summarise(nsites = n_distinct(visit_id),\n",
    "          nvisits = n_distinct(visit_id,visit_date),\n",
    "         nplots = n_distinct(visit_id,visit_date,sample_nr)) |>\n",
    "arrange(desc(nvisits)) |>\n",
    "slice_head(n=15)"
   ]
  },
  {
   "cell_type": "code",
   "execution_count": 291,
   "id": "3a8b2b58-4637-4274-bdad-97f12e86457c",
   "metadata": {},
   "outputs": [],
   "source": [
    "spp_selection <- \"Sclerolaena diacantha\"\n",
    "spp_selection <- \"Microlaena stipoides\"\n",
    "\n",
    "\n",
    "datos_spp1 <- field_records |> \n",
    "    filter(species %in% spp_selection) |>\n",
    "      group_by(visit_id, visit_date) |>\n",
    "      summarise(n1 = sum(resprouts_live, na.rm = TRUE),         # N total live resprouts (N1)\n",
    "                n2 = sum(resprouts_reproductive, na.rm = TRUE), # N reproductive live resprouts (N2)\n",
    "                n5 = sum(recruits_live, na.rm = TRUE),          # N total live recruits (N5)\n",
    "                n6 = sum(recruits_reproductive, na.rm = TRUE),  # N reproductive live recruits (N6)\n",
    "                n7 = sum(resprouts_died, na.rm = TRUE),         # N Dead resprouts (N7)\n",
    "                n8 = sum(recruits_died, na.rm = TRUE),          # N dead recruits (N8)\n",
    "                n9 = sum(resprouts_kill, na.rm = TRUE),         # N fire killed resprouts (N9)\n",
    "                .groups = \"drop\") |>\n",
    "  mutate(n_fire_mortality = n1 + n7 + n9,\n",
    "         prop_fire_mortality = n9 /(n1 + n7 + n9),\n",
    "         n_sprout_surv = n1 + n7,\n",
    "         prop_sprout_surv = n7/ (n1 + n7),\n",
    "         seed_adult = (n5 + n8) / (n1 + n7),\n",
    "         n_recruit_surv = n5 + n8,\n",
    "         pro_recruit_surv = n5 / (n5 + n8),\n",
    "         n_reprod_resprod = n1,\n",
    "         n_reprod_recruit = n6, # the formula said N5 but this is the number of lives recruits\n",
    "         prop_reprod_recruit = n6 / max(n5),\n",
    "         surv_dens = n2 / 625, # plot area\n",
    "         recruit_dens = n5 / 625 # plot area\n",
    "         )"
   ]
  },
  {
   "cell_type": "code",
   "execution_count": 294,
   "id": "c9939138-a5d5-4299-9100-e7648b3e8542",
   "metadata": {},
   "outputs": [
    {
     "name": "stderr",
     "output_type": "stream",
     "text": [
      "\u001b[1m\u001b[22m`stat_bin()` using `bins = 30`. Pick better value with `binwidth`.\n",
      "Warning message:\n",
      "“\u001b[1m\u001b[22mRemoved 31 rows containing non-finite outside the scale range (`stat_bin()`).”\n"
     ]
    },
    {
     "data": {
      "image/png": "[encoded data removed]",
      "text/plain": [
       "plot without title"
      ]
     },
     "metadata": {
      "image/png": {
       "height": 300,
       "width": 300
      }
     },
     "output_type": "display_data"
    }
   ],
   "source": [
    "options(repr.plot.width=5, repr.plot.height=5) \n",
    "ggplot(datos_spp1) +\n",
    "geom_histogram(aes(x=prop_fire_mortality))"
   ]
  },
  {
   "cell_type": "code",
   "execution_count": 292,
   "id": "6528711c-bdc6-40a0-bb5d-3a0018005779",
   "metadata": {},
   "outputs": [
    {
     "name": "stderr",
     "output_type": "stream",
     "text": [
      "\u001b[1m\u001b[22m`stat_bin()` using `bins = 30`. Pick better value with `binwidth`.\n",
      "Warning message:\n",
      "“\u001b[1m\u001b[22mRemoved 3 rows containing non-finite outside the scale range (`stat_bin()`).”\n"
     ]
    },
    {
     "data": {
      "image/png": "[encoded data removed]",
      "text/plain": [
       "plot without title"
      ]
     },
     "metadata": {
      "image/png": {
       "height": 300,
       "width": 300
      }
     },
     "output_type": "display_data"
    }
   ],
   "source": [
    "options(repr.plot.width=5, repr.plot.height=5) \n",
    "ggplot(datos_spp1) +\n",
    "geom_histogram(aes(x=pro_recruit_surv))"
   ]
  },
  {
   "cell_type": "code",
   "execution_count": 293,
   "id": "a6cb7357-455e-4d03-9bfa-d33510fab4ae",
   "metadata": {},
   "outputs": [
    {
     "name": "stderr",
     "output_type": "stream",
     "text": [
      "\u001b[1m\u001b[22m`stat_bin()` using `bins = 30`. Pick better value with `binwidth`.\n"
     ]
    },
    {
     "data": {
      "image/png": "[encoded data removed]",
      "text/plain": [
       "plot without title"
      ]
     },
     "metadata": {
      "image/png": {
       "height": 300,
       "width": 300
      }
     },
     "output_type": "display_data"
    }
   ],
   "source": [
    "options(repr.plot.width=5, repr.plot.height=5) \n",
    "ggplot(datos_spp1) +\n",
    "geom_histogram(aes(x=prop_reprod_recruit))"
   ]
  },
  {
   "cell_type": "code",
   "execution_count": 85,
   "id": "8e36556a-3c70-42a8-acfc-b5dbfc2f4644",
   "metadata": {},
   "outputs": [
    {
     "data": {
      "text/html": [
       "<table class=\"dataframe\">\n",
       "<caption>A tibble: 0 × 14</caption>\n",
       "<thead>\n",
       "\t<tr><th scope=col>...1</th><th scope=col>scientific name</th><th scope=col>current code (BioNET)</th><th scope=col>original name</th><th scope=col>CAPS code</th><th scope=col>trait code</th><th scope=col>trait name</th><th scope=col>method</th><th scope=col>weight</th><th scope=col>source ref</th><th scope=col>other ref</th><th scope=col>recordid</th><th scope=col>bound</th><th scope=col>value</th></tr>\n",
       "\t<tr><th scope=col>&lt;dbl&gt;</th><th scope=col>&lt;chr&gt;</th><th scope=col>&lt;chr&gt;</th><th scope=col>&lt;chr&gt;</th><th scope=col>&lt;chr&gt;</th><th scope=col>&lt;chr&gt;</th><th scope=col>&lt;chr&gt;</th><th scope=col>&lt;lgl&gt;</th><th scope=col>&lt;dbl&gt;</th><th scope=col>&lt;chr&gt;</th><th scope=col>&lt;chr&gt;</th><th scope=col>&lt;dbl&gt;</th><th scope=col>&lt;chr&gt;</th><th scope=col>&lt;dbl&gt;</th></tr>\n",
       "</thead>\n",
       "<tbody>\n",
       "</tbody>\n",
       "</table>\n"
      ],
      "text/latex": [
       "A tibble: 0 × 14\n",
       "\\begin{tabular}{llllllllllllll}\n",
       " ...1 & scientific name & current code (BioNET) & original name & CAPS code & trait code & trait name & method & weight & source ref & other ref & recordid & bound & value\\\\\n",
       " <dbl> & <chr> & <chr> & <chr> & <chr> & <chr> & <chr> & <lgl> & <dbl> & <chr> & <chr> & <dbl> & <chr> & <dbl>\\\\\n",
       "\\hline\n",
       "\\end{tabular}\n"
      ],
      "text/markdown": [
       "\n",
       "A tibble: 0 × 14\n",
       "\n",
       "| ...1 &lt;dbl&gt; | scientific name &lt;chr&gt; | current code (BioNET) &lt;chr&gt; | original name &lt;chr&gt; | CAPS code &lt;chr&gt; | trait code &lt;chr&gt; | trait name &lt;chr&gt; | method &lt;lgl&gt; | weight &lt;dbl&gt; | source ref &lt;chr&gt; | other ref &lt;chr&gt; | recordid &lt;dbl&gt; | bound &lt;chr&gt; | value &lt;dbl&gt; |\n",
       "|---|---|---|---|---|---|---|---|---|---|---|---|---|---|\n",
       "\n"
      ],
      "text/plain": [
       "     ...1 scientific name current code (BioNET) original name CAPS code\n",
       "     trait code trait name method weight source ref other ref recordid bound\n",
       "     value"
      ]
     },
     "metadata": {},
     "output_type": "display_data"
    }
   ],
   "source": [
    "surv6_data"
   ]
  },
  {
   "cell_type": "markdown",
   "id": "70ca0290-8fa4-4412-a8da-4caa2dae6846",
   "metadata": {},
   "source": [
    "We will now look at how many species from the NSW BioNet Atlas are represented in the fireveg database. First let's take a look at the NSW flora, and then we will query how many species have information about fire ecology traits from existing sources or field work. We will combine this information in the final subsection."
   ]
  },
  {
   "cell_type": "markdown",
   "id": "dbcabaa5-cba2-4939-961f-1da2d2496ead",
   "metadata": {},
   "source": [
    "#### Field work data"
   ]
  },
  {
   "cell_type": "markdown",
   "id": "a58f778c-bd6c-4027-bb72-477065982d0d",
   "metadata": {},
   "source": [
    "Next, we look at the taxa represented in the field work data. How many species have at least one record in the field sample?"
   ]
  },
  {
   "cell_type": "code",
   "execution_count": 23,
   "id": "3528423d-c456-493d-bc5c-191745cfc503",
   "metadata": {},
   "outputs": [
    {
     "data": {
      "text/html": [
       "<table class=\"dataframe\">\n",
       "<caption>A tibble: 4 × 5</caption>\n",
       "<thead>\n",
       "\t<tr><th scope=col>species level</th><th scope=col>establishment</th><th scope=col>records</th><th scope=col>original names</th><th scope=col>current names</th></tr>\n",
       "\t<tr><th scope=col>&lt;lgl&gt;</th><th scope=col>&lt;chr&gt;</th><th scope=col>&lt;int&gt;</th><th scope=col>&lt;int&gt;</th><th scope=col>&lt;int&gt;</th></tr>\n",
       "</thead>\n",
       "<tbody>\n",
       "\t<tr><td>FALSE</td><td>Alive in NSW, Native</td><td> 68</td><td> 68</td><td> 68</td></tr>\n",
       "\t<tr><td>FALSE</td><td>Introduced          </td><td>  2</td><td>  2</td><td>  2</td></tr>\n",
       "\t<tr><td> TRUE</td><td>Alive in NSW, Native</td><td>812</td><td>812</td><td>806</td></tr>\n",
       "\t<tr><td> TRUE</td><td>Introduced          </td><td> 84</td><td> 84</td><td> 81</td></tr>\n",
       "</tbody>\n",
       "</table>\n"
      ],
      "text/latex": [
       "A tibble: 4 × 5\n",
       "\\begin{tabular}{lllll}\n",
       " species level & establishment & records & original names & current names\\\\\n",
       " <lgl> & <chr> & <int> & <int> & <int>\\\\\n",
       "\\hline\n",
       "\t FALSE & Alive in NSW, Native &  68 &  68 &  68\\\\\n",
       "\t FALSE & Introduced           &   2 &   2 &   2\\\\\n",
       "\t  TRUE & Alive in NSW, Native & 812 & 812 & 806\\\\\n",
       "\t  TRUE & Introduced           &  84 &  84 &  81\\\\\n",
       "\\end{tabular}\n"
      ],
      "text/markdown": [
       "\n",
       "A tibble: 4 × 5\n",
       "\n",
       "| species level &lt;lgl&gt; | establishment &lt;chr&gt; | records &lt;int&gt; | original names &lt;int&gt; | current names &lt;int&gt; |\n",
       "|---|---|---|---|---|\n",
       "| FALSE | Alive in NSW, Native |  68 |  68 |  68 |\n",
       "| FALSE | Introduced           |   2 |   2 |   2 |\n",
       "|  TRUE | Alive in NSW, Native | 812 | 812 | 806 |\n",
       "|  TRUE | Introduced           |  84 |  84 |  81 |\n",
       "\n"
      ],
      "text/plain": [
       "  species level establishment        records original names current names\n",
       "1 FALSE         Alive in NSW, Native  68      68             68          \n",
       "2 FALSE         Introduced             2       2              2          \n",
       "3  TRUE         Alive in NSW, Native 812     812            806          \n",
       "4  TRUE         Introduced            84      84             81          "
      ]
     },
     "metadata": {},
     "output_type": "display_data"
    }
   ],
   "source": [
    "spp_traits_table |>\n",
    "    filter(`Field samples`) |>\n",
    "    group_by(`species level`= taxonrank %in% \"Species\",establishment) |>\n",
    "    summarise(records=n(), `original names` = n_distinct(spp), `current names`=n_distinct(current_species), .groups = \"drop\") "
   ]
  },
  {
   "cell_type": "markdown",
   "id": "ea1dee1f-8dec-4ef9-ba41-7434ad84e409",
   "metadata": {},
   "source": [
    "In order to get more detailed break down of numbers, we use the `quadrat_samples` data frame:"
   ]
  },
  {
   "cell_type": "code",
   "execution_count": 24,
   "id": "894b768d-3a2f-4229-8d63-eb2237fbaa5e",
   "metadata": {},
   "outputs": [
    {
     "data": {
      "text/html": [
       "<table class=\"dataframe\">\n",
       "<caption>A tibble: 10 × 8</caption>\n",
       "<thead>\n",
       "\t<tr><th scope=col>survey_name</th><th scope=col>locations</th><th scope=col>visits</th><th scope=col>samples</th><th scope=col>records</th><th scope=col>species</th><th scope=col>current_species</th><th scope=col>codes</th></tr>\n",
       "\t<tr><th scope=col>&lt;chr&gt;</th><th scope=col>&lt;int&gt;</th><th scope=col>&lt;int&gt;</th><th scope=col>&lt;int&gt;</th><th scope=col>&lt;int&gt;</th><th scope=col>&lt;int&gt;</th><th scope=col>&lt;int&gt;</th><th scope=col>&lt;int&gt;</th></tr>\n",
       "</thead>\n",
       "<tbody>\n",
       "\t<tr><td>Alpine Bogs        </td><td> 6</td><td> 6</td><td>120</td><td>1435</td><td>109</td><td>109</td><td>109</td></tr>\n",
       "\t<tr><td>KNP AlpAsh         </td><td> 8</td><td> 8</td><td> 32</td><td> 593</td><td> 85</td><td> 85</td><td> 85</td></tr>\n",
       "\t<tr><td>Mallee Woodlands   </td><td>61</td><td>85</td><td>510</td><td>7054</td><td>129</td><td>129</td><td>129</td></tr>\n",
       "\t<tr><td>NEWNES             </td><td>20</td><td>20</td><td>383</td><td>2950</td><td>109</td><td>109</td><td>109</td></tr>\n",
       "\t<tr><td>Rainforests NSW-Qld</td><td>10</td><td>10</td><td> 60</td><td>1503</td><td>271</td><td>270</td><td>271</td></tr>\n",
       "\t<tr><td>Robertson RF       </td><td> 2</td><td> 2</td><td>  8</td><td> 207</td><td> 51</td><td> 51</td><td> 51</td></tr>\n",
       "\t<tr><td>SthnNSWRF          </td><td> 4</td><td> 4</td><td> 15</td><td> 162</td><td> 67</td><td> 67</td><td> 67</td></tr>\n",
       "\t<tr><td>TO BE CLASSIFIED   </td><td> 3</td><td> 3</td><td> 11</td><td> 374</td><td>128</td><td>127</td><td>128</td></tr>\n",
       "\t<tr><td>UplandBasalt       </td><td>27</td><td>27</td><td> 80</td><td>1454</td><td>231</td><td>230</td><td>231</td></tr>\n",
       "\t<tr><td>Yatteyattah        </td><td> 5</td><td> 5</td><td>  5</td><td> 258</td><td>125</td><td>125</td><td>125</td></tr>\n",
       "</tbody>\n",
       "</table>\n"
      ],
      "text/latex": [
       "A tibble: 10 × 8\n",
       "\\begin{tabular}{llllllll}\n",
       " survey\\_name & locations & visits & samples & records & species & current\\_species & codes\\\\\n",
       " <chr> & <int> & <int> & <int> & <int> & <int> & <int> & <int>\\\\\n",
       "\\hline\n",
       "\t Alpine Bogs         &  6 &  6 & 120 & 1435 & 109 & 109 & 109\\\\\n",
       "\t KNP AlpAsh          &  8 &  8 &  32 &  593 &  85 &  85 &  85\\\\\n",
       "\t Mallee Woodlands    & 61 & 85 & 510 & 7054 & 129 & 129 & 129\\\\\n",
       "\t NEWNES              & 20 & 20 & 383 & 2950 & 109 & 109 & 109\\\\\n",
       "\t Rainforests NSW-Qld & 10 & 10 &  60 & 1503 & 271 & 270 & 271\\\\\n",
       "\t Robertson RF        &  2 &  2 &   8 &  207 &  51 &  51 &  51\\\\\n",
       "\t SthnNSWRF           &  4 &  4 &  15 &  162 &  67 &  67 &  67\\\\\n",
       "\t TO BE CLASSIFIED    &  3 &  3 &  11 &  374 & 128 & 127 & 128\\\\\n",
       "\t UplandBasalt        & 27 & 27 &  80 & 1454 & 231 & 230 & 231\\\\\n",
       "\t Yatteyattah         &  5 &  5 &   5 &  258 & 125 & 125 & 125\\\\\n",
       "\\end{tabular}\n"
      ],
      "text/markdown": [
       "\n",
       "A tibble: 10 × 8\n",
       "\n",
       "| survey_name &lt;chr&gt; | locations &lt;int&gt; | visits &lt;int&gt; | samples &lt;int&gt; | records &lt;int&gt; | species &lt;int&gt; | current_species &lt;int&gt; | codes &lt;int&gt; |\n",
       "|---|---|---|---|---|---|---|---|\n",
       "| Alpine Bogs         |  6 |  6 | 120 | 1435 | 109 | 109 | 109 |\n",
       "| KNP AlpAsh          |  8 |  8 |  32 |  593 |  85 |  85 |  85 |\n",
       "| Mallee Woodlands    | 61 | 85 | 510 | 7054 | 129 | 129 | 129 |\n",
       "| NEWNES              | 20 | 20 | 383 | 2950 | 109 | 109 | 109 |\n",
       "| Rainforests NSW-Qld | 10 | 10 |  60 | 1503 | 271 | 270 | 271 |\n",
       "| Robertson RF        |  2 |  2 |   8 |  207 |  51 |  51 |  51 |\n",
       "| SthnNSWRF           |  4 |  4 |  15 |  162 |  67 |  67 |  67 |\n",
       "| TO BE CLASSIFIED    |  3 |  3 |  11 |  374 | 128 | 127 | 128 |\n",
       "| UplandBasalt        | 27 | 27 |  80 | 1454 | 231 | 230 | 231 |\n",
       "| Yatteyattah         |  5 |  5 |   5 |  258 | 125 | 125 | 125 |\n",
       "\n"
      ],
      "text/plain": [
       "   survey_name         locations visits samples records species current_species\n",
       "1  Alpine Bogs          6         6     120     1435    109     109            \n",
       "2  KNP AlpAsh           8         8      32      593     85      85            \n",
       "3  Mallee Woodlands    61        85     510     7054    129     129            \n",
       "4  NEWNES              20        20     383     2950    109     109            \n",
       "5  Rainforests NSW-Qld 10        10      60     1503    271     270            \n",
       "6  Robertson RF         2         2       8      207     51      51            \n",
       "7  SthnNSWRF            4         4      15      162     67      67            \n",
       "8  TO BE CLASSIFIED     3         3      11      374    128     127            \n",
       "9  UplandBasalt        27        27      80     1454    231     230            \n",
       "10 Yatteyattah          5         5       5      258    125     125            \n",
       "   codes\n",
       "1  109  \n",
       "2   85  \n",
       "3  129  \n",
       "4  109  \n",
       "5  271  \n",
       "6   51  \n",
       "7   67  \n",
       "8  128  \n",
       "9  231  \n",
       "10 125  "
      ]
     },
     "metadata": {},
     "output_type": "display_data"
    }
   ],
   "source": [
    "quadrat_samples |> \n",
    "    filter(!is.na(species_code),\n",
    "           taxonrank %in% \"Species\") |>\n",
    "    group_by(survey_name) |>\n",
    "    summarise(\n",
    "        locations = n_distinct(visit_id),\n",
    "        visits  = n_distinct(visit_id, visit_date),\n",
    "        samples  = n_distinct(visit_id, visit_date, sample_nr),\n",
    "        records = n(), \n",
    "        species = n_distinct(species),\n",
    "        current_species = n_distinct(current_species), \n",
    "        codes = n_distinct(species_code))"
   ]
  },
  {
   "cell_type": "markdown",
   "id": "b54aee83-6def-4c51-843f-afb30a422dbc",
   "metadata": {},
   "source": [
    "The Mallee Woodlands survey is a longer time series of observation in a single region in Western New South Wales, while all the other surveys represent samples completed after the 2019-2020 fires in Eastern New South Wales. We will calculate summary statistics for these two groups:"
   ]
  },
  {
   "cell_type": "code",
   "execution_count": 25,
   "id": "13bd983d-dd3a-4d77-ac31-56bf25ba9f32",
   "metadata": {},
   "outputs": [],
   "source": [
    "summary_per_survey <- quadrat_samples |> \n",
    "    filter(!is.na(species_code),\n",
    "           taxonrank %in% \"Species\") |>\n",
    "    group_by(survey_group=survey_name %in% \"Mallee Woodlands\") |>\n",
    "    summarise(\n",
    "        locations = n_distinct(visit_id),\n",
    "        visits  = n_distinct(visit_id, visit_date),\n",
    "              samples  = n_distinct(visit_id, visit_date, sample_nr),\n",
    "              records = n(), \n",
    "              species = n_distinct(species),\n",
    "              current_species = n_distinct(current_species), \n",
    "              codes = n_distinct(species_code)) |> \n",
    "    arrange(survey_group)"
   ]
  },
  {
   "cell_type": "code",
   "execution_count": 26,
   "id": "81a30861-4f0b-4e0d-b5f1-958e8356668f",
   "metadata": {},
   "outputs": [
    {
     "data": {
      "text/html": [
       "<table class=\"dataframe\">\n",
       "<caption>A tibble: 2 × 8</caption>\n",
       "<thead>\n",
       "\t<tr><th scope=col>survey_group</th><th scope=col>locations</th><th scope=col>visits</th><th scope=col>samples</th><th scope=col>records</th><th scope=col>species</th><th scope=col>current_species</th><th scope=col>codes</th></tr>\n",
       "\t<tr><th scope=col>&lt;lgl&gt;</th><th scope=col>&lt;int&gt;</th><th scope=col>&lt;int&gt;</th><th scope=col>&lt;int&gt;</th><th scope=col>&lt;int&gt;</th><th scope=col>&lt;int&gt;</th><th scope=col>&lt;int&gt;</th><th scope=col>&lt;int&gt;</th></tr>\n",
       "</thead>\n",
       "<tbody>\n",
       "\t<tr><td>FALSE</td><td>85</td><td>85</td><td>714</td><td>8936</td><td>773</td><td>765</td><td>773</td></tr>\n",
       "\t<tr><td> TRUE</td><td>61</td><td>85</td><td>510</td><td>7054</td><td>129</td><td>129</td><td>129</td></tr>\n",
       "</tbody>\n",
       "</table>\n"
      ],
      "text/latex": [
       "A tibble: 2 × 8\n",
       "\\begin{tabular}{llllllll}\n",
       " survey\\_group & locations & visits & samples & records & species & current\\_species & codes\\\\\n",
       " <lgl> & <int> & <int> & <int> & <int> & <int> & <int> & <int>\\\\\n",
       "\\hline\n",
       "\t FALSE & 85 & 85 & 714 & 8936 & 773 & 765 & 773\\\\\n",
       "\t  TRUE & 61 & 85 & 510 & 7054 & 129 & 129 & 129\\\\\n",
       "\\end{tabular}\n"
      ],
      "text/markdown": [
       "\n",
       "A tibble: 2 × 8\n",
       "\n",
       "| survey_group &lt;lgl&gt; | locations &lt;int&gt; | visits &lt;int&gt; | samples &lt;int&gt; | records &lt;int&gt; | species &lt;int&gt; | current_species &lt;int&gt; | codes &lt;int&gt; |\n",
       "|---|---|---|---|---|---|---|---|\n",
       "| FALSE | 85 | 85 | 714 | 8936 | 773 | 765 | 773 |\n",
       "|  TRUE | 61 | 85 | 510 | 7054 | 129 | 129 | 129 |\n",
       "\n"
      ],
      "text/plain": [
       "  survey_group locations visits samples records species current_species codes\n",
       "1 FALSE        85        85     714     8936    773     765             773  \n",
       "2  TRUE        61        85     510     7054    129     129             129  "
      ]
     },
     "metadata": {},
     "output_type": "display_data"
    }
   ],
   "source": [
    "summary_per_survey"
   ]
  },
  {
   "cell_type": "markdown",
   "id": "94b450df-bce2-4fe2-ab5e-305e756f3f74",
   "metadata": {},
   "source": [
    "## That is it for now!\n",
    "\n",
    "✅ Job done! 😎👌🔥\n",
    "\n",
    "You can:\n",
    "- go [back home](../Instructions-and-workflow.ipynb),\n",
    "- continue navigating the repo on [GitHub](https://github.com/ces-unsw-edu-au/fireveg-analysis)\n",
    "- continue exploring the repo on [OSF](https://osf.io/h96q2/).\n",
    "- visit the database at <http://fireecologyplants.net>"
   ]
  }
 ],
 "metadata": {
  "kernelspec": {
   "display_name": "R",
   "language": "R",
   "name": "ir"
  },
  "language_info": {
   "codemirror_mode": "r",
   "file_extension": ".r",
   "mimetype": "text/x-r-source",
   "name": "R",
   "pygments_lexer": "r",
   "version": "4.3.1"
  }
 },
 "nbformat": 4,
 "nbformat_minor": 5
}
