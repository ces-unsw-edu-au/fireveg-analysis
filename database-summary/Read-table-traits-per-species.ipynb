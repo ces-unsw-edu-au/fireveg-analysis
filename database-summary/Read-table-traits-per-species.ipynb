{
 "cells": [
  {
   "cell_type": "markdown",
   "id": "ebcf7b28-b2b2-4fff-89b9-692f55207cee",
   "metadata": {},
   "source": [
    "# Fire response traits in plants from field samples\n",
    "\n",
    "This script contains examples of R code to query tables in the database\n",
    "\n",
    "## Load libraries"
   ]
  },
  {
   "cell_type": "code",
   "execution_count": 30,
   "id": "f24bd72f-1086-4c75-a7b8-395ac8eb79ce",
   "metadata": {},
   "outputs": [],
   "source": [
    "library(RPostgreSQL)\n",
    "library(ggplot2)\n",
    "library(dplyr)\n",
    "require(tidyr)\n",
    "library(galah)\n",
    "library(ozmaps)\n",
    "library(sf)\n",
    "library(data.tree)"
   ]
  },
  {
   "cell_type": "code",
   "execution_count": 31,
   "id": "8b9e8208-4da1-42da-b270-52603552e29c",
   "metadata": {},
   "outputs": [
    {
     "name": "stderr",
     "output_type": "stream",
     "text": [
      "here() starts at /Users/z3529065/proyectos/fireveg/fireveg-analysis\n",
      "\n"
     ]
    }
   ],
   "source": [
    "here::i_am(\"read-from-database/Read-table-traits-per-species.ipynb\")"
   ]
  },
  {
   "cell_type": "code",
   "execution_count": 32,
   "id": "6bb7d0ec-cd62-48c6-a34a-36f92f6fc33e",
   "metadata": {},
   "outputs": [],
   "source": [
    "galah_config(email = readLines(here::here(\"secrets\",\"galah-email.txt\")))"
   ]
  },
  {
   "cell_type": "markdown",
   "id": "108e8a20-008a-45c8-8941-80f815b790f1",
   "metadata": {},
   "source": [
    "## Query database\n",
    "### Connect to the database"
   ]
  },
  {
   "cell_type": "markdown",
   "id": "9cf99ffd-c436-4c2f-b575-71f6e5b25db2",
   "metadata": {},
   "source": [
    "Read database credentials"
   ]
  },
  {
   "cell_type": "code",
   "execution_count": 33,
   "id": "5759a6bf-b2c5-42e2-80a0-3cf57cdc897f",
   "metadata": {},
   "outputs": [],
   "source": [
    "if (file.exists(\"../secrets/database.ini\")) {\n",
    "  tmp <- readLines(\"../secrets/database.ini\")[-1]\n",
    "  tmp <- strsplit(tmp,'=',fixed=2)\n",
    "  dbinfo <- unlist(lapply(tmp,function(x) x[2]))\n",
    "  names(dbinfo) <- unlist(lapply(tmp,function(x) x[1]))\n",
    "  dbinfo <- data.frame(t(dbinfo),stringsAsFactors=F)\n",
    "   rm(tmp)\n",
    "} else {\n",
    "  cat(\"No database information found\")\n",
    "}"
   ]
  },
  {
   "cell_type": "markdown",
   "id": "8ade77df-7be2-493f-bb25-6e9e0b6fa6cb",
   "metadata": {},
   "source": [
    "Connection to the postgresql server (remember to update .pgpass file)"
   ]
  },
  {
   "cell_type": "code",
   "execution_count": 34,
   "id": "5506f7a0-fd5f-40c5-aeaf-eba65ab7b7cc",
   "metadata": {},
   "outputs": [],
   "source": [
    "drv <- dbDriver(\"PostgreSQL\") ## \n",
    "con <- dbConnect(drv, dbname = dbinfo$database,\n",
    "                 host = dbinfo$host, port = dbinfo$port,\n",
    "                 user = dbinfo$user) # this works better in combination with a .pgpass file"
   ]
  },
  {
   "cell_type": "markdown",
   "id": "677659ae-2a3e-499e-8bb6-2606793b1d6c",
   "metadata": {},
   "source": [
    "### Queries"
   ]
  },
  {
   "cell_type": "markdown",
   "id": "6354fe8b-0da2-46ab-91ad-3779e165ca87",
   "metadata": {},
   "source": [
    "First check one record to examine the valid columns in the species table:"
   ]
  },
  {
   "cell_type": "code",
   "execution_count": 35,
   "id": "79aae085-afb4-482d-9ca2-07cb83a71a8b",
   "metadata": {},
   "outputs": [
    {
     "data": {
      "text/html": [
       "<table class=\"dataframe\">\n",
       "<caption>A matrix: 44 × 1 of type chr</caption>\n",
       "<thead>\n",
       "\t<tr><th></th><th scope=col>1</th></tr>\n",
       "</thead>\n",
       "<tbody>\n",
       "\t<tr><th scope=row>row.names</th><td>1                           </td></tr>\n",
       "\t<tr><th scope=row>speciesID</th><td>2358                        </td></tr>\n",
       "\t<tr><th scope=row>taxonRank</th><td>Species                     </td></tr>\n",
       "\t<tr><th scope=row>classID</th><td>38                          </td></tr>\n",
       "\t<tr><th scope=row>class</th><td>Flora                       </td></tr>\n",
       "\t<tr><th scope=row>orderID</th><td>137                         </td></tr>\n",
       "\t<tr><th scope=row>order</th><td>Flora                       </td></tr>\n",
       "\t<tr><th scope=row>familyID</th><td>155                         </td></tr>\n",
       "\t<tr><th scope=row>family</th><td>Brassicaceae                </td></tr>\n",
       "\t<tr><th scope=row>sortOrder</th><td>7878                        </td></tr>\n",
       "\t<tr><th scope=row>genusID</th><td>3019                        </td></tr>\n",
       "\t<tr><th scope=row>genus</th><td>Lepidium                    </td></tr>\n",
       "\t<tr><th scope=row>parentSpeciesID</th><td>2358                        </td></tr>\n",
       "\t<tr><th scope=row>specificEpithet</th><td>oxytrichum                  </td></tr>\n",
       "\t<tr><th scope=row>infraspecificEpithet</th><td>NA                          </td></tr>\n",
       "\t<tr><th scope=row>scientificNameAuthorship</th><td>Sprague                     </td></tr>\n",
       "\t<tr><th scope=row>scientificNameID</th><td>2358                        </td></tr>\n",
       "\t<tr><th scope=row>speciesCode_Synonym</th><td>1826                        </td></tr>\n",
       "\t<tr><th scope=row>scientificName</th><td>Lepidium oxytrichum         </td></tr>\n",
       "\t<tr><th scope=row>scientificNameHTML</th><td>&lt;em&gt;Lepidium oxytrichum&lt;/em&gt;</td></tr>\n",
       "\t<tr><th scope=row>vernacularName</th><td>NA                          </td></tr>\n",
       "\t<tr><th scope=row>otherVernacularNames</th><td>NA                          </td></tr>\n",
       "\t<tr><th scope=row>taxonID</th><td>2358                        </td></tr>\n",
       "\t<tr><th scope=row>currentScientificNameCode</th><td>1826                        </td></tr>\n",
       "\t<tr><th scope=row>currentScientificName</th><td>Lepidium oxytrichum         </td></tr>\n",
       "\t<tr><th scope=row>currentVernacularName</th><td>NA                          </td></tr>\n",
       "\t<tr><th scope=row>isCurrent</th><td>true                        </td></tr>\n",
       "\t<tr><th scope=row>generalTypeID</th><td>NA                          </td></tr>\n",
       "\t<tr><th scope=row>generalType</th><td>NA                          </td></tr>\n",
       "\t<tr><th scope=row>establishmentMeans</th><td>Alive in NSW, Native        </td></tr>\n",
       "\t<tr><th scope=row>primaryGrowthForm</th><td>Forb                        </td></tr>\n",
       "\t<tr><th scope=row>primaryGrowthFormGroup</th><td>Forb (FG)                   </td></tr>\n",
       "\t<tr><th scope=row>secondaryGrowthForms</th><td>NA                          </td></tr>\n",
       "\t<tr><th scope=row>secondaryGrowthFormGroups</th><td>NA                          </td></tr>\n",
       "\t<tr><th scope=row>stateConservation</th><td>Not Listed                  </td></tr>\n",
       "\t<tr><th scope=row>protectedInNSW</th><td>false                       </td></tr>\n",
       "\t<tr><th scope=row>sensitivityClass</th><td>Not Sensitive               </td></tr>\n",
       "\t<tr><th scope=row>TSProfileID</th><td>NA                          </td></tr>\n",
       "\t<tr><th scope=row>countryConservation</th><td>Not Listed                  </td></tr>\n",
       "\t<tr><th scope=row>highThreatWeed</th><td>NA                          </td></tr>\n",
       "\t<tr><th scope=row>widelyCultivatedNativeSpecies</th><td>NA                          </td></tr>\n",
       "\t<tr><th scope=row>CAMBA</th><td>false                       </td></tr>\n",
       "\t<tr><th scope=row>JAMBA</th><td>false                       </td></tr>\n",
       "\t<tr><th scope=row>ROKAMBA</th><td>false                       </td></tr>\n",
       "</tbody>\n",
       "</table>\n"
      ],
      "text/latex": [
       "A matrix: 44 × 1 of type chr\n",
       "\\begin{tabular}{r|l}\n",
       "  & 1\\\\\n",
       "\\hline\n",
       "\trow.names & 1                           \\\\\n",
       "\tspeciesID & 2358                        \\\\\n",
       "\ttaxonRank & Species                     \\\\\n",
       "\tclassID & 38                          \\\\\n",
       "\tclass & Flora                       \\\\\n",
       "\torderID & 137                         \\\\\n",
       "\torder & Flora                       \\\\\n",
       "\tfamilyID & 155                         \\\\\n",
       "\tfamily & Brassicaceae                \\\\\n",
       "\tsortOrder & 7878                        \\\\\n",
       "\tgenusID & 3019                        \\\\\n",
       "\tgenus & Lepidium                    \\\\\n",
       "\tparentSpeciesID & 2358                        \\\\\n",
       "\tspecificEpithet & oxytrichum                  \\\\\n",
       "\tinfraspecificEpithet & NA                          \\\\\n",
       "\tscientificNameAuthorship & Sprague                     \\\\\n",
       "\tscientificNameID & 2358                        \\\\\n",
       "\tspeciesCode\\_Synonym & 1826                        \\\\\n",
       "\tscientificName & Lepidium oxytrichum         \\\\\n",
       "\tscientificNameHTML & <em>Lepidium oxytrichum</em>\\\\\n",
       "\tvernacularName & NA                          \\\\\n",
       "\totherVernacularNames & NA                          \\\\\n",
       "\ttaxonID & 2358                        \\\\\n",
       "\tcurrentScientificNameCode & 1826                        \\\\\n",
       "\tcurrentScientificName & Lepidium oxytrichum         \\\\\n",
       "\tcurrentVernacularName & NA                          \\\\\n",
       "\tisCurrent & true                        \\\\\n",
       "\tgeneralTypeID & NA                          \\\\\n",
       "\tgeneralType & NA                          \\\\\n",
       "\testablishmentMeans & Alive in NSW, Native        \\\\\n",
       "\tprimaryGrowthForm & Forb                        \\\\\n",
       "\tprimaryGrowthFormGroup & Forb (FG)                   \\\\\n",
       "\tsecondaryGrowthForms & NA                          \\\\\n",
       "\tsecondaryGrowthFormGroups & NA                          \\\\\n",
       "\tstateConservation & Not Listed                  \\\\\n",
       "\tprotectedInNSW & false                       \\\\\n",
       "\tsensitivityClass & Not Sensitive               \\\\\n",
       "\tTSProfileID & NA                          \\\\\n",
       "\tcountryConservation & Not Listed                  \\\\\n",
       "\thighThreatWeed & NA                          \\\\\n",
       "\twidelyCultivatedNativeSpecies & NA                          \\\\\n",
       "\tCAMBA & false                       \\\\\n",
       "\tJAMBA & false                       \\\\\n",
       "\tROKAMBA & false                       \\\\\n",
       "\\end{tabular}\n"
      ],
      "text/markdown": [
       "\n",
       "A matrix: 44 × 1 of type chr\n",
       "\n",
       "| <!--/--> | 1 |\n",
       "|---|---|\n",
       "| row.names | 1                            |\n",
       "| speciesID | 2358                         |\n",
       "| taxonRank | Species                      |\n",
       "| classID | 38                           |\n",
       "| class | Flora                        |\n",
       "| orderID | 137                          |\n",
       "| order | Flora                        |\n",
       "| familyID | 155                          |\n",
       "| family | Brassicaceae                 |\n",
       "| sortOrder | 7878                         |\n",
       "| genusID | 3019                         |\n",
       "| genus | Lepidium                     |\n",
       "| parentSpeciesID | 2358                         |\n",
       "| specificEpithet | oxytrichum                   |\n",
       "| infraspecificEpithet | NA                           |\n",
       "| scientificNameAuthorship | Sprague                      |\n",
       "| scientificNameID | 2358                         |\n",
       "| speciesCode_Synonym | 1826                         |\n",
       "| scientificName | Lepidium oxytrichum          |\n",
       "| scientificNameHTML | &lt;em&gt;Lepidium oxytrichum&lt;/em&gt; |\n",
       "| vernacularName | NA                           |\n",
       "| otherVernacularNames | NA                           |\n",
       "| taxonID | 2358                         |\n",
       "| currentScientificNameCode | 1826                         |\n",
       "| currentScientificName | Lepidium oxytrichum          |\n",
       "| currentVernacularName | NA                           |\n",
       "| isCurrent | true                         |\n",
       "| generalTypeID | NA                           |\n",
       "| generalType | NA                           |\n",
       "| establishmentMeans | Alive in NSW, Native         |\n",
       "| primaryGrowthForm | Forb                         |\n",
       "| primaryGrowthFormGroup | Forb (FG)                    |\n",
       "| secondaryGrowthForms | NA                           |\n",
       "| secondaryGrowthFormGroups | NA                           |\n",
       "| stateConservation | Not Listed                   |\n",
       "| protectedInNSW | false                        |\n",
       "| sensitivityClass | Not Sensitive                |\n",
       "| TSProfileID | NA                           |\n",
       "| countryConservation | Not Listed                   |\n",
       "| highThreatWeed | NA                           |\n",
       "| widelyCultivatedNativeSpecies | NA                           |\n",
       "| CAMBA | false                        |\n",
       "| JAMBA | false                        |\n",
       "| ROKAMBA | false                        |\n",
       "\n"
      ],
      "text/plain": [
       "                              1                           \n",
       "row.names                     1                           \n",
       "speciesID                     2358                        \n",
       "taxonRank                     Species                     \n",
       "classID                       38                          \n",
       "class                         Flora                       \n",
       "orderID                       137                         \n",
       "order                         Flora                       \n",
       "familyID                      155                         \n",
       "family                        Brassicaceae                \n",
       "sortOrder                     7878                        \n",
       "genusID                       3019                        \n",
       "genus                         Lepidium                    \n",
       "parentSpeciesID               2358                        \n",
       "specificEpithet               oxytrichum                  \n",
       "infraspecificEpithet          NA                          \n",
       "scientificNameAuthorship      Sprague                     \n",
       "scientificNameID              2358                        \n",
       "speciesCode_Synonym           1826                        \n",
       "scientificName                Lepidium oxytrichum         \n",
       "scientificNameHTML            <em>Lepidium oxytrichum</em>\n",
       "vernacularName                NA                          \n",
       "otherVernacularNames          NA                          \n",
       "taxonID                       2358                        \n",
       "currentScientificNameCode     1826                        \n",
       "currentScientificName         Lepidium oxytrichum         \n",
       "currentVernacularName         NA                          \n",
       "isCurrent                     true                        \n",
       "generalTypeID                 NA                          \n",
       "generalType                   NA                          \n",
       "establishmentMeans            Alive in NSW, Native        \n",
       "primaryGrowthForm             Forb                        \n",
       "primaryGrowthFormGroup        Forb (FG)                   \n",
       "secondaryGrowthForms          NA                          \n",
       "secondaryGrowthFormGroups     NA                          \n",
       "stateConservation             Not Listed                  \n",
       "protectedInNSW                false                       \n",
       "sensitivityClass              Not Sensitive               \n",
       "TSProfileID                   NA                          \n",
       "countryConservation           Not Listed                  \n",
       "highThreatWeed                NA                          \n",
       "widelyCultivatedNativeSpecies NA                          \n",
       "CAMBA                         false                       \n",
       "JAMBA                         false                       \n",
       "ROKAMBA                       false                       "
      ]
     },
     "metadata": {},
     "output_type": "display_data"
    }
   ],
   "source": [
    "qry <- \"SELECT * FROM species.caps LIMIT 1\"\n",
    "rslts <- dbGetQuery(con, qry)\n",
    "t(rslts)"
   ]
  },
  {
   "cell_type": "markdown",
   "id": "a883efb0-9dc7-4ed5-a14f-5d61b9a4ec1a",
   "metadata": {},
   "source": [
    "Now we select the columns we need from the taxonomy table and join with field work and literature trait tables."
   ]
  },
  {
   "cell_type": "code",
   "execution_count": 36,
   "id": "e7a36330-4a00-4a82-8566-71fa84b48ef9",
   "metadata": {},
   "outputs": [],
   "source": [
    "qry <- \n",
    "'SELECT family, genus, \n",
    "\"speciesID\" as spp, \n",
    "\"scientificName\" as species,\n",
    "\"taxonID\" as current_spp,\n",
    "\"currentScientificName\" as current_species,\n",
    "\"taxonRank\" as taxonrank,\n",
    "\"establishmentMeans\" as establishment,\n",
    "\"isCurrent\" as current,\n",
    "count(distinct q.record_id) as nquadrat, \n",
    "count(distinct g8.record_id) as germ8, \n",
    "count(distinct r2.record_id) as rect2,\n",
    "count(distinct g1.record_id) as germ1, \n",
    "count(distinct gw1.record_id) as grow1, \n",
    "count(distinct r4.record_id) as repr4, \n",
    "count(distinct rp2.record_id) as repr2, \n",
    "count(distinct s5.record_id) as surv5, \n",
    "count(distinct s6.record_id) as surv6, \n",
    "count(distinct s7.record_id) as surv7, \n",
    "count(distinct d1.record_id) as disp1, \n",
    "count(distinct r3a.record_id) as repr3a, \n",
    "count(distinct r3.record_id) as repr3, \n",
    "count(distinct s4.record_id) as surv4, \n",
    "count(distinct s1.record_id) as surv1\n",
    "FROM species.caps  \n",
    "LEFT JOIN form.quadrat_samples q  \n",
    " ON \"speciesCode_Synonym\"=q.species_code::text   \n",
    "LEFT JOIN litrev.germ8 g8  ON \"speciesCode_Synonym\"=g8.species_code::text   \n",
    "LEFT JOIN litrev.rect2 r2  ON \"speciesCode_Synonym\"=r2.species_code::text   \n",
    "LEFT JOIN litrev.germ1 g1  ON \"speciesCode_Synonym\"=g1.species_code::text   \n",
    "LEFT JOIN litrev.grow1 gw1  ON \"speciesCode_Synonym\"=gw1.species_code::text   \n",
    "LEFT JOIN litrev.repr2 rp2  ON \"speciesCode_Synonym\"=rp2.species_code::text   \n",
    "LEFT JOIN litrev.repr4 r4  ON \"speciesCode_Synonym\"=r4.species_code::text   \n",
    "LEFT JOIN litrev.surv5 s5  ON \"speciesCode_Synonym\"=s5.species_code::text   \n",
    "LEFT JOIN litrev.surv6 s6  ON \"speciesCode_Synonym\"=s6.species_code::text   \n",
    "LEFT JOIN litrev.surv7 s7  ON \"speciesCode_Synonym\"=s7.species_code::text   \n",
    "LEFT JOIN litrev.disp1 d1  ON \"speciesCode_Synonym\"=d1.species_code::text   \n",
    "LEFT JOIN litrev.repr3a r3a  ON \"speciesCode_Synonym\"=r3a.species_code::text   \n",
    "LEFT JOIN litrev.repr3 r3  ON \"speciesCode_Synonym\"=r3.species_code::text   \n",
    "LEFT JOIN litrev.surv4 s4  ON \"speciesCode_Synonym\"=s4.species_code::text   \n",
    "LEFT JOIN litrev.surv1 s1  ON \"speciesCode_Synonym\"=s1.species_code::text   \n",
    "\n",
    "GROUP BY spp'"
   ]
  },
  {
   "cell_type": "code",
   "execution_count": 37,
   "id": "906884e5-92c3-46c6-aba7-c5a7d6fada17",
   "metadata": {},
   "outputs": [
    {
     "name": "stdout",
     "output_type": "stream",
     "text": [
      "'data.frame':\t15732 obs. of  24 variables:\n",
      " $ family         : chr  \"Brassicaceae\" \"Myrtaceae\" \"Myrtaceae\" \"Apiaceae\" ...\n",
      " $ genus          : chr  \"Lepidium\" \"Eucalyptus\" \"Melaleuca\" \"Actinotus\" ...\n",
      " $ spp            : num  2358 2359 2360 2361 2362 ...\n",
      " $ species        : chr  \"Lepidium oxytrichum\" \"Eucalyptus williamsiana\" \"Melaleuca glomerata\" \"Actinotus helianthi\" ...\n",
      " $ current_spp    : num  2358 2359 2360 2361 2362 ...\n",
      " $ current_species: chr  \"Lepidium oxytrichum\" \"Eucalyptus williamsiana\" \"Melaleuca glomerata\" \"Actinotus helianthi\" ...\n",
      " $ taxonrank      : chr  \"Species\" \"Species\" \"Species\" \"Species\" ...\n",
      " $ establishment  : chr  \"Alive in NSW, Native\" \"Alive in NSW, Native\" \"Alive in NSW, Native\" \"Alive in NSW, Native\" ...\n",
      " $ current        : chr  \"true\" \"true\" \"true\" \"true\" ...\n",
      " $ nquadrat       : num  0 0 0 0 0 2 1 0 0 0 ...\n",
      " $ germ8          : num  0 0 0 0 0 0 0 0 0 0 ...\n",
      " $ rect2          : num  0 1 0 2 0 0 0 0 0 0 ...\n",
      " $ germ1          : num  0 1 0 1 0 0 0 0 0 1 ...\n",
      " $ grow1          : num  0 0 0 0 0 0 0 0 0 0 ...\n",
      " $ repr4          : num  0 0 0 1 0 0 0 0 0 0 ...\n",
      " $ repr2          : num  0 0 0 0 0 0 0 0 0 0 ...\n",
      " $ surv5          : num  0 0 0 2 0 0 0 0 0 0 ...\n",
      " $ surv6          : num  0 0 0 0 0 0 0 0 0 0 ...\n",
      " $ surv7          : num  0 0 0 1 0 0 0 0 0 0 ...\n",
      " $ disp1          : num  3 0 0 3 1 1 0 1 0 1 ...\n",
      " $ repr3a         : num  0 0 0 0 0 0 1 0 0 0 ...\n",
      " $ repr3          : num  0 0 0 3 0 0 0 0 0 0 ...\n",
      " $ surv4          : num  0 0 0 0 0 0 1 0 0 0 ...\n",
      " $ surv1          : num  1 6 3 14 1 1 3 1 0 7 ...\n"
     ]
    }
   ],
   "source": [
    "spp.table<- dbGetQuery(con, qry)\n",
    "str(spp.table)"
   ]
  },
  {
   "cell_type": "markdown",
   "id": "4e4a5152-22f5-499d-a4f3-60459ba39db2",
   "metadata": {},
   "source": [
    "### Disconnect"
   ]
  },
  {
   "cell_type": "code",
   "execution_count": 38,
   "id": "f6c75c45-cf6c-4711-ba3e-1edede998c92",
   "metadata": {},
   "outputs": [
    {
     "data": {
      "text/html": [
       "TRUE"
      ],
      "text/latex": [
       "TRUE"
      ],
      "text/markdown": [
       "TRUE"
      ],
      "text/plain": [
       "[1] TRUE"
      ]
     },
     "metadata": {},
     "output_type": "display_data"
    }
   ],
   "source": [
    "dbDisconnect(con)"
   ]
  },
  {
   "cell_type": "markdown",
   "id": "01ddf2d4-b927-4aa4-a3a5-477702c9ef23",
   "metadata": {},
   "source": [
    "## Query taxonomy from Atlas of Living Australia"
   ]
  },
  {
   "cell_type": "code",
   "execution_count": 10,
   "id": "87309388-a012-42ea-bf30-e93ccd7ea46b",
   "metadata": {},
   "outputs": [],
   "source": [
    "nsw <- st_transform(ozmaps::ozmap_states, 4326) %>% filter(NAME == \"New South Wales\")"
   ]
  },
  {
   "cell_type": "code",
   "execution_count": 11,
   "id": "73835b96-ca83-46ed-9800-2d486c0dc6f3",
   "metadata": {},
   "outputs": [],
   "source": [
    "ALA_taxonomy_file <- here::here('data','NSW-plants-according-to-ALA.rds')\n",
    "if (!file.exists(ALA_taxonomy_file)) {\n",
    "    plant_families <- galah_call() |>\n",
    "        galah_identify(\"plantae\") |>\n",
    "        galah_geolocate(nsw, type = \"bbox\")|>\n",
    "        galah_down_to(family) |>\n",
    "        atlas_taxonomy()\n",
    "    saveRDS(file=here::here('data','NSW-plants-according-to-ALA.rds'),plant_families)\n",
    "} else {\n",
    "    plant_families <- readRDS(ALA_taxonomy_file)\n",
    "}"
   ]
  },
  {
   "cell_type": "code",
   "execution_count": 12,
   "id": "02baa569-365a-4a1e-ac59-4542c5f0a2bf",
   "metadata": {},
   "outputs": [
    {
     "name": "stdout",
     "output_type": "stream",
     "text": [
      "                           levelName\n",
      "1  Plantae                          \n",
      "2   ¦--Rhodoplantae                 \n",
      "3   ¦   °--Glaucophyta              \n",
      "4   ¦       °--... 1 nodes w/ 2 sub \n",
      "5   ¦--Anthocerotophyta             \n",
      "6   ¦   °--Anthocerotopsida         \n",
      "7   ¦       °--... 3 nodes w/ 6 sub \n",
      "8   ¦--Bryophyta                    \n",
      "9   ¦   °--... 4 nodes w/ 128 sub   \n",
      "10  ¦--Charophyta                   \n",
      "11  ¦   °--... 2 nodes w/ 459 sub   \n",
      "12  ¦--Marchantiophyta              \n",
      "13  ¦   ¦--Jungermanniopsida        \n",
      "14  ¦   ¦   °--... 3 nodes w/ 76 sub\n",
      "15  ¦   °--... 2 nodes w/ 104 sub   \n",
      "16  °--Tracheophyta                 \n",
      "17      °--... 1 nodes w/ 26 sub    \n"
     ]
    }
   ],
   "source": [
    "print(plant_families, pruneMethod = \"dist\", limit = 10)"
   ]
  },
  {
   "cell_type": "code",
   "execution_count": 13,
   "id": "bfd15585-5287-48c3-b9e3-33901a6be81e",
   "metadata": {},
   "outputs": [
    {
     "name": "stdout",
     "output_type": "stream",
     "text": [
      "\u001b[90m# A tibble: 11 × 10\u001b[39m\n",
      "   rank_kingdom rank_subkingdom rank_phylum rank_class rank_order  rank_subclass\n",
      "   \u001b[3m\u001b[90m<chr>\u001b[39m\u001b[23m        \u001b[3m\u001b[90m<chr>\u001b[39m\u001b[23m           \u001b[3m\u001b[90m<chr>\u001b[39m\u001b[23m       \u001b[3m\u001b[90m<chr>\u001b[39m\u001b[23m      \u001b[3m\u001b[90m<chr>\u001b[39m\u001b[23m       \u001b[3m\u001b[90m<chr>\u001b[39m\u001b[23m        \n",
      "\u001b[90m 1\u001b[39m Plantae      \u001b[31mNA\u001b[39m              Bryophyta   Bryopsida  Bryales     Bryidae      \n",
      "\u001b[90m 2\u001b[39m Plantae      \u001b[31mNA\u001b[39m              Bryophyta   Bryopsida  Hedwigiales Bryidae      \n",
      "\u001b[90m 3\u001b[39m Plantae      \u001b[31mNA\u001b[39m              Bryophyta   Bryopsida  Hedwigiales Bryidae      \n",
      "\u001b[90m 4\u001b[39m Plantae      \u001b[31mNA\u001b[39m              Bryophyta   Bryopsida  Hookeriales Bryidae      \n",
      "\u001b[90m 5\u001b[39m Plantae      \u001b[31mNA\u001b[39m              Bryophyta   Bryopsida  Hookeriales Bryidae      \n",
      "\u001b[90m 6\u001b[39m Plantae      \u001b[31mNA\u001b[39m              Bryophyta   Bryopsida  Hookeriales Bryidae      \n",
      "\u001b[90m 7\u001b[39m Plantae      \u001b[31mNA\u001b[39m              Bryophyta   Bryopsida  Hookeriales Bryidae      \n",
      "\u001b[90m 8\u001b[39m Plantae      \u001b[31mNA\u001b[39m              Bryophyta   Bryopsida  Hookeriales Bryidae      \n",
      "\u001b[90m 9\u001b[39m Plantae      \u001b[31mNA\u001b[39m              Bryophyta   Bryopsida  Hypnales    Bryidae      \n",
      "\u001b[90m10\u001b[39m Plantae      \u001b[31mNA\u001b[39m              Bryophyta   Bryopsida  Hypnales    Bryidae      \n",
      "\u001b[90m11\u001b[39m Plantae      \u001b[31mNA\u001b[39m              Bryophyta   Bryopsida  Hypnales    Bryidae      \n",
      "\u001b[90m# ℹ 4 more variables: rank_superorder <chr>, rank_suborder <chr>,\u001b[39m\n",
      "\u001b[90m#   rank_subphylum <chr>, rank_family <chr>\u001b[39m\n"
     ]
    }
   ],
   "source": [
    "df_rank <- ToDataFrameTypeCol(plant_families, type = \"rank\")\n",
    "df_rank[10:20,] |> tibble::as_tibble() |> print(max_footer_lines = 2)"
   ]
  },
  {
   "cell_type": "markdown",
   "id": "86d38f27-d2b8-4b18-b250-9d31337071f6",
   "metadata": {},
   "source": [
    "### update table with taxonomy\n",
    "Add column with the plant order from the taxonomy:"
   ]
  },
  {
   "cell_type": "code",
   "execution_count": 14,
   "id": "106c9bc8-651a-49db-b5ef-1d26725b64a0",
   "metadata": {},
   "outputs": [],
   "source": [
    "spp.table$rank_order <- df_rank$rank_order[match(spp.table$family,df_rank$rank_family)]"
   ]
  },
  {
   "cell_type": "code",
   "execution_count": 15,
   "id": "35e20c91-39e0-4a8c-80e9-c7adeba2ec48",
   "metadata": {},
   "outputs": [],
   "source": [
    "fabales <- c(\"Fabaceae (Faboideae)\", \"Fabaceae (Mimosoideae)\", \"Fabaceae (Caesalpinioideae)\" )\n",
    "unplaced <- c(\"Dilleniaceae\", \"Flacourtiaceae\")\n",
    "single_family <- c(\"Boraginaceae\")\n",
    "rosales <- c(\"Malaceae\")\n",
    "lamiales <- c(\"Myoporaceae\", \"Buddlejaceae\")\n",
    "polypodiales <- c(\"Pteridaceae\")\n",
    "asparagales <- c(\"Anthericaceae\",\"Phormiaceae\",\"Lomandraceae\", \"Agavaceae\", \"Hyacinthaceae\")\n",
    "ranunculales <- c(\"Fumariaceae\")\n",
    "malvales <- c(\"Tiliaceae\")\n"
   ]
  },
  {
   "cell_type": "code",
   "execution_count": 16,
   "id": "5092c2b4-a89f-4db0-9089-6897f7857ec7",
   "metadata": {},
   "outputs": [],
   "source": [
    "spp.table <- spp.table %>% mutate(\n",
    "    rank_order = case_when(\n",
    "            family %in% fabales ~ \"Fabales\",\n",
    "            family %in% unplaced ~ \"unplaced\",\n",
    "            family %in% rosales ~ \"Rosales\",\n",
    "            family %in% lamiales ~ \"Lamiales\",\n",
    "            family %in% polypodiales ~ \"Polypodiales\",\n",
    "            family %in% asparagales ~ \"Asparagales\",\n",
    "            family %in% ranunculales ~ \"Ranunculales\",\n",
    "            family %in% malvales ~ \"Malvales\",\n",
    "            family %in% single_family ~ sprintf(\"fam. %s\",family),\n",
    "            is.na(rank_order) ~ \"unknown\",\n",
    "            TRUE ~ rank_order\n",
    "        ))"
   ]
  },
  {
   "cell_type": "code",
   "execution_count": 17,
   "id": "160375bb-4204-4934-90b0-ba7f62ef6b82",
   "metadata": {},
   "outputs": [
    {
     "data": {
      "text/html": [
       "<table class=\"dataframe\">\n",
       "<caption>A tibble: 47 × 2</caption>\n",
       "<thead>\n",
       "\t<tr><th scope=col>family</th><th scope=col>nspp</th></tr>\n",
       "\t<tr><th scope=col>&lt;chr&gt;</th><th scope=col>&lt;int&gt;</th></tr>\n",
       "</thead>\n",
       "<tbody>\n",
       "\t<tr><td>Unknown Flora     </td><td>32</td></tr>\n",
       "\t<tr><td>Athyriaceae       </td><td>15</td></tr>\n",
       "\t<tr><td>Lemnaceae         </td><td>13</td></tr>\n",
       "\t<tr><td>Viscaceae         </td><td>13</td></tr>\n",
       "\t<tr><td>Stackhousiaceae   </td><td>12</td></tr>\n",
       "\t<tr><td>Characeae         </td><td> 9</td></tr>\n",
       "\t<tr><td>Callitrichaceae   </td><td> 8</td></tr>\n",
       "\t<tr><td>Dipsacaceae       </td><td> 6</td></tr>\n",
       "\t<tr><td>Najadaceae        </td><td> 6</td></tr>\n",
       "\t<tr><td>Peperomiaceae     </td><td> 6</td></tr>\n",
       "\t<tr><td>Selaginaceae      </td><td> 5</td></tr>\n",
       "\t<tr><td>Uvulariaceae      </td><td> 5</td></tr>\n",
       "\t<tr><td>Zannichelliaceae  </td><td> 5</td></tr>\n",
       "\t<tr><td>Azollaceae        </td><td> 4</td></tr>\n",
       "\t<tr><td>Cladophoraceae    </td><td> 4</td></tr>\n",
       "\t<tr><td>Cobaeaceae        </td><td> 3</td></tr>\n",
       "\t<tr><td>Convallariaceae   </td><td> 3</td></tr>\n",
       "\t<tr><td>Valerianaceae     </td><td> 3</td></tr>\n",
       "\t<tr><td>Codiaceae         </td><td> 2</td></tr>\n",
       "\t<tr><td>Hydrophyllaceae   </td><td> 2</td></tr>\n",
       "\t<tr><td>Nandinaceae       </td><td> 2</td></tr>\n",
       "\t<tr><td>Peganaceae        </td><td> 2</td></tr>\n",
       "\t<tr><td>Ulvaceae          </td><td> 2</td></tr>\n",
       "\t<tr><td>Aucubaceae        </td><td> 1</td></tr>\n",
       "\t<tr><td>Bangiaceae        </td><td> 1</td></tr>\n",
       "\t<tr><td>Batrachospermaceae</td><td> 1</td></tr>\n",
       "\t<tr><td>Bombacaceae       </td><td> 1</td></tr>\n",
       "\t<tr><td>Calomniaceae      </td><td> 1</td></tr>\n",
       "\t<tr><td>Caulacanthaceae   </td><td> 1</td></tr>\n",
       "\t<tr><td>Caulerpaceae      </td><td> 1</td></tr>\n",
       "\t<tr><td>Chordariaceae     </td><td> 1</td></tr>\n",
       "\t<tr><td>Cystoseiraceae    </td><td> 1</td></tr>\n",
       "\t<tr><td>Delesseriaceae    </td><td> 1</td></tr>\n",
       "\t<tr><td>Gracilariaceae    </td><td> 1</td></tr>\n",
       "\t<tr><td>Hormosiraceae     </td><td> 1</td></tr>\n",
       "\t<tr><td>Hypneaceae        </td><td> 1</td></tr>\n",
       "\t<tr><td>Limnocharitaceae  </td><td> 1</td></tr>\n",
       "\t<tr><td>Parkeriaceae      </td><td> 1</td></tr>\n",
       "\t<tr><td>Platyzomataceae   </td><td> 1</td></tr>\n",
       "\t<tr><td>Psilosiphonaceae  </td><td> 1</td></tr>\n",
       "\t<tr><td>Punicaceae        </td><td> 1</td></tr>\n",
       "\t<tr><td>Rhodomelaceae     </td><td> 1</td></tr>\n",
       "\t<tr><td>Ruscaceae         </td><td> 1</td></tr>\n",
       "\t<tr><td>Sargassaceae      </td><td> 1</td></tr>\n",
       "\t<tr><td>Sporochnaceae     </td><td> 1</td></tr>\n",
       "\t<tr><td>Ternstroemiaceae  </td><td> 1</td></tr>\n",
       "\t<tr><td>Vittariaceae      </td><td> 1</td></tr>\n",
       "</tbody>\n",
       "</table>\n"
      ],
      "text/latex": [
       "A tibble: 47 × 2\n",
       "\\begin{tabular}{ll}\n",
       " family & nspp\\\\\n",
       " <chr> & <int>\\\\\n",
       "\\hline\n",
       "\t Unknown Flora      & 32\\\\\n",
       "\t Athyriaceae        & 15\\\\\n",
       "\t Lemnaceae          & 13\\\\\n",
       "\t Viscaceae          & 13\\\\\n",
       "\t Stackhousiaceae    & 12\\\\\n",
       "\t Characeae          &  9\\\\\n",
       "\t Callitrichaceae    &  8\\\\\n",
       "\t Dipsacaceae        &  6\\\\\n",
       "\t Najadaceae         &  6\\\\\n",
       "\t Peperomiaceae      &  6\\\\\n",
       "\t Selaginaceae       &  5\\\\\n",
       "\t Uvulariaceae       &  5\\\\\n",
       "\t Zannichelliaceae   &  5\\\\\n",
       "\t Azollaceae         &  4\\\\\n",
       "\t Cladophoraceae     &  4\\\\\n",
       "\t Cobaeaceae         &  3\\\\\n",
       "\t Convallariaceae    &  3\\\\\n",
       "\t Valerianaceae      &  3\\\\\n",
       "\t Codiaceae          &  2\\\\\n",
       "\t Hydrophyllaceae    &  2\\\\\n",
       "\t Nandinaceae        &  2\\\\\n",
       "\t Peganaceae         &  2\\\\\n",
       "\t Ulvaceae           &  2\\\\\n",
       "\t Aucubaceae         &  1\\\\\n",
       "\t Bangiaceae         &  1\\\\\n",
       "\t Batrachospermaceae &  1\\\\\n",
       "\t Bombacaceae        &  1\\\\\n",
       "\t Calomniaceae       &  1\\\\\n",
       "\t Caulacanthaceae    &  1\\\\\n",
       "\t Caulerpaceae       &  1\\\\\n",
       "\t Chordariaceae      &  1\\\\\n",
       "\t Cystoseiraceae     &  1\\\\\n",
       "\t Delesseriaceae     &  1\\\\\n",
       "\t Gracilariaceae     &  1\\\\\n",
       "\t Hormosiraceae      &  1\\\\\n",
       "\t Hypneaceae         &  1\\\\\n",
       "\t Limnocharitaceae   &  1\\\\\n",
       "\t Parkeriaceae       &  1\\\\\n",
       "\t Platyzomataceae    &  1\\\\\n",
       "\t Psilosiphonaceae   &  1\\\\\n",
       "\t Punicaceae         &  1\\\\\n",
       "\t Rhodomelaceae      &  1\\\\\n",
       "\t Ruscaceae          &  1\\\\\n",
       "\t Sargassaceae       &  1\\\\\n",
       "\t Sporochnaceae      &  1\\\\\n",
       "\t Ternstroemiaceae   &  1\\\\\n",
       "\t Vittariaceae       &  1\\\\\n",
       "\\end{tabular}\n"
      ],
      "text/markdown": [
       "\n",
       "A tibble: 47 × 2\n",
       "\n",
       "| family &lt;chr&gt; | nspp &lt;int&gt; |\n",
       "|---|---|\n",
       "| Unknown Flora      | 32 |\n",
       "| Athyriaceae        | 15 |\n",
       "| Lemnaceae          | 13 |\n",
       "| Viscaceae          | 13 |\n",
       "| Stackhousiaceae    | 12 |\n",
       "| Characeae          |  9 |\n",
       "| Callitrichaceae    |  8 |\n",
       "| Dipsacaceae        |  6 |\n",
       "| Najadaceae         |  6 |\n",
       "| Peperomiaceae      |  6 |\n",
       "| Selaginaceae       |  5 |\n",
       "| Uvulariaceae       |  5 |\n",
       "| Zannichelliaceae   |  5 |\n",
       "| Azollaceae         |  4 |\n",
       "| Cladophoraceae     |  4 |\n",
       "| Cobaeaceae         |  3 |\n",
       "| Convallariaceae    |  3 |\n",
       "| Valerianaceae      |  3 |\n",
       "| Codiaceae          |  2 |\n",
       "| Hydrophyllaceae    |  2 |\n",
       "| Nandinaceae        |  2 |\n",
       "| Peganaceae         |  2 |\n",
       "| Ulvaceae           |  2 |\n",
       "| Aucubaceae         |  1 |\n",
       "| Bangiaceae         |  1 |\n",
       "| Batrachospermaceae |  1 |\n",
       "| Bombacaceae        |  1 |\n",
       "| Calomniaceae       |  1 |\n",
       "| Caulacanthaceae    |  1 |\n",
       "| Caulerpaceae       |  1 |\n",
       "| Chordariaceae      |  1 |\n",
       "| Cystoseiraceae     |  1 |\n",
       "| Delesseriaceae     |  1 |\n",
       "| Gracilariaceae     |  1 |\n",
       "| Hormosiraceae      |  1 |\n",
       "| Hypneaceae         |  1 |\n",
       "| Limnocharitaceae   |  1 |\n",
       "| Parkeriaceae       |  1 |\n",
       "| Platyzomataceae    |  1 |\n",
       "| Psilosiphonaceae   |  1 |\n",
       "| Punicaceae         |  1 |\n",
       "| Rhodomelaceae      |  1 |\n",
       "| Ruscaceae          |  1 |\n",
       "| Sargassaceae       |  1 |\n",
       "| Sporochnaceae      |  1 |\n",
       "| Ternstroemiaceae   |  1 |\n",
       "| Vittariaceae       |  1 |\n",
       "\n"
      ],
      "text/plain": [
       "   family             nspp\n",
       "1  Unknown Flora      32  \n",
       "2  Athyriaceae        15  \n",
       "3  Lemnaceae          13  \n",
       "4  Viscaceae          13  \n",
       "5  Stackhousiaceae    12  \n",
       "6  Characeae           9  \n",
       "7  Callitrichaceae     8  \n",
       "8  Dipsacaceae         6  \n",
       "9  Najadaceae          6  \n",
       "10 Peperomiaceae       6  \n",
       "11 Selaginaceae        5  \n",
       "12 Uvulariaceae        5  \n",
       "13 Zannichelliaceae    5  \n",
       "14 Azollaceae          4  \n",
       "15 Cladophoraceae      4  \n",
       "16 Cobaeaceae          3  \n",
       "17 Convallariaceae     3  \n",
       "18 Valerianaceae       3  \n",
       "19 Codiaceae           2  \n",
       "20 Hydrophyllaceae     2  \n",
       "21 Nandinaceae         2  \n",
       "22 Peganaceae          2  \n",
       "23 Ulvaceae            2  \n",
       "24 Aucubaceae          1  \n",
       "25 Bangiaceae          1  \n",
       "26 Batrachospermaceae  1  \n",
       "27 Bombacaceae         1  \n",
       "28 Calomniaceae        1  \n",
       "29 Caulacanthaceae     1  \n",
       "30 Caulerpaceae        1  \n",
       "31 Chordariaceae       1  \n",
       "32 Cystoseiraceae      1  \n",
       "33 Delesseriaceae      1  \n",
       "34 Gracilariaceae      1  \n",
       "35 Hormosiraceae       1  \n",
       "36 Hypneaceae          1  \n",
       "37 Limnocharitaceae    1  \n",
       "38 Parkeriaceae        1  \n",
       "39 Platyzomataceae     1  \n",
       "40 Psilosiphonaceae    1  \n",
       "41 Punicaceae          1  \n",
       "42 Rhodomelaceae       1  \n",
       "43 Ruscaceae           1  \n",
       "44 Sargassaceae        1  \n",
       "45 Sporochnaceae       1  \n",
       "46 Ternstroemiaceae    1  \n",
       "47 Vittariaceae        1  "
      ]
     },
     "metadata": {},
     "output_type": "display_data"
    }
   ],
   "source": [
    "spp.table %>% \n",
    "    filter(rank_order %in% c(NA,\"unknown\")) %>% \n",
    "    group_by(family) %>% \n",
    "    summarise(nspp=n()) %>% \n",
    "    arrange(desc(nspp))"
   ]
  },
  {
   "cell_type": "markdown",
   "id": "21ada4ce-853e-4cfd-89b2-c9baf4373bde",
   "metadata": {},
   "source": [
    "Need to check this again, according to David, there should be around 6000 plant species in NSW, is this list including that many synonyms?"
   ]
  },
  {
   "cell_type": "code",
   "execution_count": 39,
   "id": "397ca898-ca10-425e-b6b0-9b4cc440bdf7",
   "metadata": {},
   "outputs": [
    {
     "data": {
      "text/plain": [
       "\n",
       "false  true \n",
       " 3511 12221 "
      ]
     },
     "metadata": {},
     "output_type": "display_data"
    }
   ],
   "source": [
    "table(spp.table$current)"
   ]
  },
  {
   "cell_type": "code",
   "execution_count": 43,
   "id": "92311507-927a-44ba-8259-bceec0ad5d74",
   "metadata": {},
   "outputs": [
    {
     "data": {
      "text/html": [
       "<table class=\"dataframe\">\n",
       "<caption>A tibble: 23 × 5</caption>\n",
       "<thead>\n",
       "\t<tr><th scope=col>taxonrank</th><th scope=col>establishment</th><th scope=col>total</th><th scope=col>nspp</th><th scope=col>ncurrent</th></tr>\n",
       "\t<tr><th scope=col>&lt;chr&gt;</th><th scope=col>&lt;chr&gt;</th><th scope=col>&lt;int&gt;</th><th scope=col>&lt;int&gt;</th><th scope=col>&lt;int&gt;</th></tr>\n",
       "</thead>\n",
       "<tbody>\n",
       "\t<tr><td>Cultivar         </td><td>Alive in NSW, Native  </td><td>    3</td><td>    3</td><td>   3</td></tr>\n",
       "\t<tr><td>Cultivar         </td><td>Introduced            </td><td>   12</td><td>   12</td><td>   8</td></tr>\n",
       "\t<tr><td>Forma            </td><td>Alive in NSW, Native  </td><td>   60</td><td>   60</td><td>  51</td></tr>\n",
       "\t<tr><td>Forma            </td><td>Introduced            </td><td>   11</td><td>   11</td><td>   6</td></tr>\n",
       "\t<tr><td>Hybrid           </td><td>Alive in NSW, Native  </td><td>    1</td><td>    1</td><td>   1</td></tr>\n",
       "\t<tr><td>Nothomorph       </td><td>Introduced            </td><td>    2</td><td>    2</td><td>   2</td></tr>\n",
       "\t<tr><td>Species          </td><td>Alive in NSW, Native  </td><td>10231</td><td>10231</td><td>7943</td></tr>\n",
       "\t<tr><td>Species          </td><td>Extinct in NSW, Native</td><td>   38</td><td>   38</td><td>  28</td></tr>\n",
       "\t<tr><td>Species          </td><td>Introduced            </td><td> 3255</td><td> 3255</td><td>2763</td></tr>\n",
       "\t<tr><td>Species          </td><td>Not Known from NSW    </td><td>   23</td><td>   23</td><td>  22</td></tr>\n",
       "\t<tr><td>Species Hybrid   </td><td>Alive in NSW, Native  </td><td>    9</td><td>    9</td><td>   9</td></tr>\n",
       "\t<tr><td>Species Hybrid   </td><td>Hybrid                </td><td>    1</td><td>    1</td><td>   1</td></tr>\n",
       "\t<tr><td>Species Hybrid   </td><td>Introduced            </td><td>    1</td><td>    1</td><td>   1</td></tr>\n",
       "\t<tr><td>Subspecies       </td><td>Alive in NSW, Native  </td><td> 1115</td><td> 1115</td><td> 766</td></tr>\n",
       "\t<tr><td>Subspecies       </td><td>Extinct in NSW, Native</td><td>    8</td><td>    8</td><td>   3</td></tr>\n",
       "\t<tr><td>Subspecies       </td><td>Introduced            </td><td>  211</td><td>  211</td><td> 124</td></tr>\n",
       "\t<tr><td>Subspecies       </td><td>Not Known from NSW    </td><td>    3</td><td>    3</td><td>   3</td></tr>\n",
       "\t<tr><td>Subspecies Hybrid</td><td>Alive in NSW, Native  </td><td>    8</td><td>    8</td><td>   2</td></tr>\n",
       "\t<tr><td>Variant          </td><td>Alive in NSW, Native  </td><td>    6</td><td>    6</td><td>   6</td></tr>\n",
       "\t<tr><td>Variety          </td><td>Alive in NSW, Native  </td><td>  578</td><td>  578</td><td> 379</td></tr>\n",
       "\t<tr><td>Variety          </td><td>Extinct in NSW, Native</td><td>    1</td><td>    1</td><td>   1</td></tr>\n",
       "\t<tr><td>Variety          </td><td>Introduced            </td><td>  153</td><td>  153</td><td>  97</td></tr>\n",
       "\t<tr><td>Variety          </td><td>Not Known from NSW    </td><td>    2</td><td>    2</td><td>   2</td></tr>\n",
       "</tbody>\n",
       "</table>\n"
      ],
      "text/latex": [
       "A tibble: 23 × 5\n",
       "\\begin{tabular}{lllll}\n",
       " taxonrank & establishment & total & nspp & ncurrent\\\\\n",
       " <chr> & <chr> & <int> & <int> & <int>\\\\\n",
       "\\hline\n",
       "\t Cultivar          & Alive in NSW, Native   &     3 &     3 &    3\\\\\n",
       "\t Cultivar          & Introduced             &    12 &    12 &    8\\\\\n",
       "\t Forma             & Alive in NSW, Native   &    60 &    60 &   51\\\\\n",
       "\t Forma             & Introduced             &    11 &    11 &    6\\\\\n",
       "\t Hybrid            & Alive in NSW, Native   &     1 &     1 &    1\\\\\n",
       "\t Nothomorph        & Introduced             &     2 &     2 &    2\\\\\n",
       "\t Species           & Alive in NSW, Native   & 10231 & 10231 & 7943\\\\\n",
       "\t Species           & Extinct in NSW, Native &    38 &    38 &   28\\\\\n",
       "\t Species           & Introduced             &  3255 &  3255 & 2763\\\\\n",
       "\t Species           & Not Known from NSW     &    23 &    23 &   22\\\\\n",
       "\t Species Hybrid    & Alive in NSW, Native   &     9 &     9 &    9\\\\\n",
       "\t Species Hybrid    & Hybrid                 &     1 &     1 &    1\\\\\n",
       "\t Species Hybrid    & Introduced             &     1 &     1 &    1\\\\\n",
       "\t Subspecies        & Alive in NSW, Native   &  1115 &  1115 &  766\\\\\n",
       "\t Subspecies        & Extinct in NSW, Native &     8 &     8 &    3\\\\\n",
       "\t Subspecies        & Introduced             &   211 &   211 &  124\\\\\n",
       "\t Subspecies        & Not Known from NSW     &     3 &     3 &    3\\\\\n",
       "\t Subspecies Hybrid & Alive in NSW, Native   &     8 &     8 &    2\\\\\n",
       "\t Variant           & Alive in NSW, Native   &     6 &     6 &    6\\\\\n",
       "\t Variety           & Alive in NSW, Native   &   578 &   578 &  379\\\\\n",
       "\t Variety           & Extinct in NSW, Native &     1 &     1 &    1\\\\\n",
       "\t Variety           & Introduced             &   153 &   153 &   97\\\\\n",
       "\t Variety           & Not Known from NSW     &     2 &     2 &    2\\\\\n",
       "\\end{tabular}\n"
      ],
      "text/markdown": [
       "\n",
       "A tibble: 23 × 5\n",
       "\n",
       "| taxonrank &lt;chr&gt; | establishment &lt;chr&gt; | total &lt;int&gt; | nspp &lt;int&gt; | ncurrent &lt;int&gt; |\n",
       "|---|---|---|---|---|\n",
       "| Cultivar          | Alive in NSW, Native   |     3 |     3 |    3 |\n",
       "| Cultivar          | Introduced             |    12 |    12 |    8 |\n",
       "| Forma             | Alive in NSW, Native   |    60 |    60 |   51 |\n",
       "| Forma             | Introduced             |    11 |    11 |    6 |\n",
       "| Hybrid            | Alive in NSW, Native   |     1 |     1 |    1 |\n",
       "| Nothomorph        | Introduced             |     2 |     2 |    2 |\n",
       "| Species           | Alive in NSW, Native   | 10231 | 10231 | 7943 |\n",
       "| Species           | Extinct in NSW, Native |    38 |    38 |   28 |\n",
       "| Species           | Introduced             |  3255 |  3255 | 2763 |\n",
       "| Species           | Not Known from NSW     |    23 |    23 |   22 |\n",
       "| Species Hybrid    | Alive in NSW, Native   |     9 |     9 |    9 |\n",
       "| Species Hybrid    | Hybrid                 |     1 |     1 |    1 |\n",
       "| Species Hybrid    | Introduced             |     1 |     1 |    1 |\n",
       "| Subspecies        | Alive in NSW, Native   |  1115 |  1115 |  766 |\n",
       "| Subspecies        | Extinct in NSW, Native |     8 |     8 |    3 |\n",
       "| Subspecies        | Introduced             |   211 |   211 |  124 |\n",
       "| Subspecies        | Not Known from NSW     |     3 |     3 |    3 |\n",
       "| Subspecies Hybrid | Alive in NSW, Native   |     8 |     8 |    2 |\n",
       "| Variant           | Alive in NSW, Native   |     6 |     6 |    6 |\n",
       "| Variety           | Alive in NSW, Native   |   578 |   578 |  379 |\n",
       "| Variety           | Extinct in NSW, Native |     1 |     1 |    1 |\n",
       "| Variety           | Introduced             |   153 |   153 |   97 |\n",
       "| Variety           | Not Known from NSW     |     2 |     2 |    2 |\n",
       "\n"
      ],
      "text/plain": [
       "   taxonrank         establishment          total nspp  ncurrent\n",
       "1  Cultivar          Alive in NSW, Native       3     3    3    \n",
       "2  Cultivar          Introduced                12    12    8    \n",
       "3  Forma             Alive in NSW, Native      60    60   51    \n",
       "4  Forma             Introduced                11    11    6    \n",
       "5  Hybrid            Alive in NSW, Native       1     1    1    \n",
       "6  Nothomorph        Introduced                 2     2    2    \n",
       "7  Species           Alive in NSW, Native   10231 10231 7943    \n",
       "8  Species           Extinct in NSW, Native    38    38   28    \n",
       "9  Species           Introduced              3255  3255 2763    \n",
       "10 Species           Not Known from NSW        23    23   22    \n",
       "11 Species Hybrid    Alive in NSW, Native       9     9    9    \n",
       "12 Species Hybrid    Hybrid                     1     1    1    \n",
       "13 Species Hybrid    Introduced                 1     1    1    \n",
       "14 Subspecies        Alive in NSW, Native    1115  1115  766    \n",
       "15 Subspecies        Extinct in NSW, Native     8     8    3    \n",
       "16 Subspecies        Introduced               211   211  124    \n",
       "17 Subspecies        Not Known from NSW         3     3    3    \n",
       "18 Subspecies Hybrid Alive in NSW, Native       8     8    2    \n",
       "19 Variant           Alive in NSW, Native       6     6    6    \n",
       "20 Variety           Alive in NSW, Native     578   578  379    \n",
       "21 Variety           Extinct in NSW, Native     1     1    1    \n",
       "22 Variety           Introduced               153   153   97    \n",
       "23 Variety           Not Known from NSW         2     2    2    "
      ]
     },
     "metadata": {},
     "output_type": "display_data"
    }
   ],
   "source": [
    "spp.table %>%\n",
    "    #filter(current %in% \"true\") %>%\n",
    "    group_by(taxonrank,establishment) %>%\n",
    "    summarise(total=n(), nspp = n_distinct(spp), ncurrent=n_distinct(current_spp), .groups = \"drop\") "
   ]
  },
  {
   "cell_type": "markdown",
   "id": "230c4ee8-2d33-4e2f-9bb1-e07d82e23f8e",
   "metadata": {},
   "source": [
    "Examine records for species that are not current:"
   ]
  },
  {
   "cell_type": "code",
   "execution_count": 44,
   "id": "7935ecbb-6da6-4a20-b08c-a210c90aa21b",
   "metadata": {},
   "outputs": [
    {
     "data": {
      "text/html": [
       "<table class=\"dataframe\">\n",
       "<caption>A data.frame: 6 × 24</caption>\n",
       "<thead>\n",
       "\t<tr><th></th><th scope=col>family</th><th scope=col>genus</th><th scope=col>spp</th><th scope=col>species</th><th scope=col>current_spp</th><th scope=col>current_species</th><th scope=col>taxonrank</th><th scope=col>establishment</th><th scope=col>current</th><th scope=col>nquadrat</th><th scope=col>⋯</th><th scope=col>repr4</th><th scope=col>repr2</th><th scope=col>surv5</th><th scope=col>surv6</th><th scope=col>surv7</th><th scope=col>disp1</th><th scope=col>repr3a</th><th scope=col>repr3</th><th scope=col>surv4</th><th scope=col>surv1</th></tr>\n",
       "\t<tr><th></th><th scope=col>&lt;chr&gt;</th><th scope=col>&lt;chr&gt;</th><th scope=col>&lt;dbl&gt;</th><th scope=col>&lt;chr&gt;</th><th scope=col>&lt;dbl&gt;</th><th scope=col>&lt;chr&gt;</th><th scope=col>&lt;chr&gt;</th><th scope=col>&lt;chr&gt;</th><th scope=col>&lt;chr&gt;</th><th scope=col>&lt;dbl&gt;</th><th scope=col>⋯</th><th scope=col>&lt;dbl&gt;</th><th scope=col>&lt;dbl&gt;</th><th scope=col>&lt;dbl&gt;</th><th scope=col>&lt;dbl&gt;</th><th scope=col>&lt;dbl&gt;</th><th scope=col>&lt;dbl&gt;</th><th scope=col>&lt;dbl&gt;</th><th scope=col>&lt;dbl&gt;</th><th scope=col>&lt;dbl&gt;</th><th scope=col>&lt;dbl&gt;</th></tr>\n",
       "</thead>\n",
       "<tbody>\n",
       "\t<tr><th scope=row>7</th><td>Poaceae             </td><td>Anthosachne</td><td>2364</td><td>Elymus scaber                               </td><td>22952</td><td>Anthosachne scabra                  </td><td>Species   </td><td>Alive in NSW, Native</td><td>false</td><td>1</td><td>⋯</td><td>0</td><td>0</td><td>0</td><td>0</td><td>0</td><td>0</td><td>1</td><td>0</td><td>1</td><td>3</td></tr>\n",
       "\t<tr><th scope=row>12</th><td>Ericaceae           </td><td>Agiortia   </td><td>2369</td><td>Leucopogon pedicillatus                     </td><td>17241</td><td>Agiortia pedicellata                </td><td>Species   </td><td>Alive in NSW, Native</td><td>false</td><td>0</td><td>⋯</td><td>0</td><td>0</td><td>0</td><td>0</td><td>0</td><td>0</td><td>0</td><td>0</td><td>0</td><td>0</td></tr>\n",
       "\t<tr><th scope=row>14</th><td>Fabaceae (Faboideae)</td><td>Abrus      </td><td>2371</td><td>Abrus precatorius                           </td><td>13410</td><td>Abrus precatorius subsp. precatorius</td><td>Subspecies</td><td>Introduced          </td><td>false</td><td>0</td><td>⋯</td><td>0</td><td>0</td><td>0</td><td>0</td><td>0</td><td>2</td><td>0</td><td>0</td><td>0</td><td>0</td></tr>\n",
       "\t<tr><th scope=row>15</th><td>Poaceae             </td><td>Paractaenum</td><td>2372</td><td>Paractaenum novae-hollandiae subsp. reversum</td><td> 3507</td><td>Paractaenum novae-hollandiae        </td><td>Species   </td><td>Alive in NSW, Native</td><td>false</td><td>0</td><td>⋯</td><td>0</td><td>0</td><td>0</td><td>0</td><td>0</td><td>0</td><td>0</td><td>0</td><td>0</td><td>0</td></tr>\n",
       "\t<tr><th scope=row>17</th><td>Pteridaceae         </td><td>Adiantum   </td><td>2374</td><td>Adiantum silvaticum var. silvaticum         </td><td> 7567</td><td>Adiantum silvaticum                 </td><td>Species   </td><td>Alive in NSW, Native</td><td>false</td><td>0</td><td>⋯</td><td>0</td><td>0</td><td>0</td><td>0</td><td>0</td><td>0</td><td>0</td><td>0</td><td>0</td><td>0</td></tr>\n",
       "\t<tr><th scope=row>28</th><td>Plantaginaceae      </td><td>Linaria    </td><td>2385</td><td>Linaria genistifolia                        </td><td>12682</td><td>Linaria dalmatica                   </td><td>Species   </td><td>Introduced          </td><td>false</td><td>0</td><td>⋯</td><td>0</td><td>0</td><td>0</td><td>0</td><td>0</td><td>0</td><td>0</td><td>0</td><td>0</td><td>0</td></tr>\n",
       "</tbody>\n",
       "</table>\n"
      ],
      "text/latex": [
       "A data.frame: 6 × 24\n",
       "\\begin{tabular}{r|lllllllllllllllllllll}\n",
       "  & family & genus & spp & species & current\\_spp & current\\_species & taxonrank & establishment & current & nquadrat & ⋯ & repr4 & repr2 & surv5 & surv6 & surv7 & disp1 & repr3a & repr3 & surv4 & surv1\\\\\n",
       "  & <chr> & <chr> & <dbl> & <chr> & <dbl> & <chr> & <chr> & <chr> & <chr> & <dbl> & ⋯ & <dbl> & <dbl> & <dbl> & <dbl> & <dbl> & <dbl> & <dbl> & <dbl> & <dbl> & <dbl>\\\\\n",
       "\\hline\n",
       "\t7 & Poaceae              & Anthosachne & 2364 & Elymus scaber                                & 22952 & Anthosachne scabra                   & Species    & Alive in NSW, Native & false & 1 & ⋯ & 0 & 0 & 0 & 0 & 0 & 0 & 1 & 0 & 1 & 3\\\\\n",
       "\t12 & Ericaceae            & Agiortia    & 2369 & Leucopogon pedicillatus                      & 17241 & Agiortia pedicellata                 & Species    & Alive in NSW, Native & false & 0 & ⋯ & 0 & 0 & 0 & 0 & 0 & 0 & 0 & 0 & 0 & 0\\\\\n",
       "\t14 & Fabaceae (Faboideae) & Abrus       & 2371 & Abrus precatorius                            & 13410 & Abrus precatorius subsp. precatorius & Subspecies & Introduced           & false & 0 & ⋯ & 0 & 0 & 0 & 0 & 0 & 2 & 0 & 0 & 0 & 0\\\\\n",
       "\t15 & Poaceae              & Paractaenum & 2372 & Paractaenum novae-hollandiae subsp. reversum &  3507 & Paractaenum novae-hollandiae         & Species    & Alive in NSW, Native & false & 0 & ⋯ & 0 & 0 & 0 & 0 & 0 & 0 & 0 & 0 & 0 & 0\\\\\n",
       "\t17 & Pteridaceae          & Adiantum    & 2374 & Adiantum silvaticum var. silvaticum          &  7567 & Adiantum silvaticum                  & Species    & Alive in NSW, Native & false & 0 & ⋯ & 0 & 0 & 0 & 0 & 0 & 0 & 0 & 0 & 0 & 0\\\\\n",
       "\t28 & Plantaginaceae       & Linaria     & 2385 & Linaria genistifolia                         & 12682 & Linaria dalmatica                    & Species    & Introduced           & false & 0 & ⋯ & 0 & 0 & 0 & 0 & 0 & 0 & 0 & 0 & 0 & 0\\\\\n",
       "\\end{tabular}\n"
      ],
      "text/markdown": [
       "\n",
       "A data.frame: 6 × 24\n",
       "\n",
       "| <!--/--> | family &lt;chr&gt; | genus &lt;chr&gt; | spp &lt;dbl&gt; | species &lt;chr&gt; | current_spp &lt;dbl&gt; | current_species &lt;chr&gt; | taxonrank &lt;chr&gt; | establishment &lt;chr&gt; | current &lt;chr&gt; | nquadrat &lt;dbl&gt; | ⋯ ⋯ | repr4 &lt;dbl&gt; | repr2 &lt;dbl&gt; | surv5 &lt;dbl&gt; | surv6 &lt;dbl&gt; | surv7 &lt;dbl&gt; | disp1 &lt;dbl&gt; | repr3a &lt;dbl&gt; | repr3 &lt;dbl&gt; | surv4 &lt;dbl&gt; | surv1 &lt;dbl&gt; |\n",
       "|---|---|---|---|---|---|---|---|---|---|---|---|---|---|---|---|---|---|---|---|---|---|\n",
       "| 7 | Poaceae              | Anthosachne | 2364 | Elymus scaber                                | 22952 | Anthosachne scabra                   | Species    | Alive in NSW, Native | false | 1 | ⋯ | 0 | 0 | 0 | 0 | 0 | 0 | 1 | 0 | 1 | 3 |\n",
       "| 12 | Ericaceae            | Agiortia    | 2369 | Leucopogon pedicillatus                      | 17241 | Agiortia pedicellata                 | Species    | Alive in NSW, Native | false | 0 | ⋯ | 0 | 0 | 0 | 0 | 0 | 0 | 0 | 0 | 0 | 0 |\n",
       "| 14 | Fabaceae (Faboideae) | Abrus       | 2371 | Abrus precatorius                            | 13410 | Abrus precatorius subsp. precatorius | Subspecies | Introduced           | false | 0 | ⋯ | 0 | 0 | 0 | 0 | 0 | 2 | 0 | 0 | 0 | 0 |\n",
       "| 15 | Poaceae              | Paractaenum | 2372 | Paractaenum novae-hollandiae subsp. reversum |  3507 | Paractaenum novae-hollandiae         | Species    | Alive in NSW, Native | false | 0 | ⋯ | 0 | 0 | 0 | 0 | 0 | 0 | 0 | 0 | 0 | 0 |\n",
       "| 17 | Pteridaceae          | Adiantum    | 2374 | Adiantum silvaticum var. silvaticum          |  7567 | Adiantum silvaticum                  | Species    | Alive in NSW, Native | false | 0 | ⋯ | 0 | 0 | 0 | 0 | 0 | 0 | 0 | 0 | 0 | 0 |\n",
       "| 28 | Plantaginaceae       | Linaria     | 2385 | Linaria genistifolia                         | 12682 | Linaria dalmatica                    | Species    | Introduced           | false | 0 | ⋯ | 0 | 0 | 0 | 0 | 0 | 0 | 0 | 0 | 0 | 0 |\n",
       "\n"
      ],
      "text/plain": [
       "   family               genus       spp \n",
       "7  Poaceae              Anthosachne 2364\n",
       "12 Ericaceae            Agiortia    2369\n",
       "14 Fabaceae (Faboideae) Abrus       2371\n",
       "15 Poaceae              Paractaenum 2372\n",
       "17 Pteridaceae          Adiantum    2374\n",
       "28 Plantaginaceae       Linaria     2385\n",
       "   species                                      current_spp\n",
       "7  Elymus scaber                                22952      \n",
       "12 Leucopogon pedicillatus                      17241      \n",
       "14 Abrus precatorius                            13410      \n",
       "15 Paractaenum novae-hollandiae subsp. reversum  3507      \n",
       "17 Adiantum silvaticum var. silvaticum           7567      \n",
       "28 Linaria genistifolia                         12682      \n",
       "   current_species                      taxonrank  establishment        current\n",
       "7  Anthosachne scabra                   Species    Alive in NSW, Native false  \n",
       "12 Agiortia pedicellata                 Species    Alive in NSW, Native false  \n",
       "14 Abrus precatorius subsp. precatorius Subspecies Introduced           false  \n",
       "15 Paractaenum novae-hollandiae         Species    Alive in NSW, Native false  \n",
       "17 Adiantum silvaticum                  Species    Alive in NSW, Native false  \n",
       "28 Linaria dalmatica                    Species    Introduced           false  \n",
       "   nquadrat ⋯ repr4 repr2 surv5 surv6 surv7 disp1 repr3a repr3 surv4 surv1\n",
       "7  1        ⋯ 0     0     0     0     0     0     1      0     1     3    \n",
       "12 0        ⋯ 0     0     0     0     0     0     0      0     0     0    \n",
       "14 0        ⋯ 0     0     0     0     0     2     0      0     0     0    \n",
       "15 0        ⋯ 0     0     0     0     0     0     0      0     0     0    \n",
       "17 0        ⋯ 0     0     0     0     0     0     0      0     0     0    \n",
       "28 0        ⋯ 0     0     0     0     0     0     0      0     0     0    "
      ]
     },
     "metadata": {},
     "output_type": "display_data"
    }
   ],
   "source": [
    "head(subset(spp.table, current %in% \"false\"))"
   ]
  },
  {
   "cell_type": "code",
   "execution_count": 45,
   "id": "e327b083-8e9d-4c08-97a2-f15898e50741",
   "metadata": {},
   "outputs": [
    {
     "data": {
      "text/html": [
       "<table class=\"dataframe\">\n",
       "<caption>A data.frame: 5 × 24</caption>\n",
       "<thead>\n",
       "\t<tr><th scope=col>family</th><th scope=col>genus</th><th scope=col>spp</th><th scope=col>species</th><th scope=col>current_spp</th><th scope=col>current_species</th><th scope=col>taxonrank</th><th scope=col>establishment</th><th scope=col>current</th><th scope=col>nquadrat</th><th scope=col>⋯</th><th scope=col>repr4</th><th scope=col>repr2</th><th scope=col>surv5</th><th scope=col>surv6</th><th scope=col>surv7</th><th scope=col>disp1</th><th scope=col>repr3a</th><th scope=col>repr3</th><th scope=col>surv4</th><th scope=col>surv1</th></tr>\n",
       "\t<tr><th scope=col>&lt;chr&gt;</th><th scope=col>&lt;chr&gt;</th><th scope=col>&lt;dbl&gt;</th><th scope=col>&lt;chr&gt;</th><th scope=col>&lt;dbl&gt;</th><th scope=col>&lt;chr&gt;</th><th scope=col>&lt;chr&gt;</th><th scope=col>&lt;chr&gt;</th><th scope=col>&lt;chr&gt;</th><th scope=col>&lt;dbl&gt;</th><th scope=col>⋯</th><th scope=col>&lt;dbl&gt;</th><th scope=col>&lt;dbl&gt;</th><th scope=col>&lt;dbl&gt;</th><th scope=col>&lt;dbl&gt;</th><th scope=col>&lt;dbl&gt;</th><th scope=col>&lt;dbl&gt;</th><th scope=col>&lt;dbl&gt;</th><th scope=col>&lt;dbl&gt;</th><th scope=col>&lt;dbl&gt;</th><th scope=col>&lt;dbl&gt;</th></tr>\n",
       "</thead>\n",
       "<tbody>\n",
       "\t<tr><td>Brassicaceae</td><td>Lepidium  </td><td>2358</td><td>Lepidium oxytrichum    </td><td>2358</td><td>Lepidium oxytrichum    </td><td>Species</td><td>Alive in NSW, Native</td><td>true</td><td>0</td><td>⋯</td><td>0</td><td>0</td><td>0</td><td>0</td><td>0</td><td>3</td><td>0</td><td>0</td><td>0</td><td> 1</td></tr>\n",
       "\t<tr><td>Myrtaceae   </td><td>Eucalyptus</td><td>2359</td><td>Eucalyptus williamsiana</td><td>2359</td><td>Eucalyptus williamsiana</td><td>Species</td><td>Alive in NSW, Native</td><td>true</td><td>0</td><td>⋯</td><td>0</td><td>0</td><td>0</td><td>0</td><td>0</td><td>0</td><td>0</td><td>0</td><td>0</td><td> 6</td></tr>\n",
       "\t<tr><td>Myrtaceae   </td><td>Melaleuca </td><td>2360</td><td>Melaleuca glomerata    </td><td>2360</td><td>Melaleuca glomerata    </td><td>Species</td><td>Alive in NSW, Native</td><td>true</td><td>0</td><td>⋯</td><td>0</td><td>0</td><td>0</td><td>0</td><td>0</td><td>0</td><td>0</td><td>0</td><td>0</td><td> 3</td></tr>\n",
       "\t<tr><td>Apiaceae    </td><td>Actinotus </td><td>2361</td><td>Actinotus helianthi    </td><td>2361</td><td>Actinotus helianthi    </td><td>Species</td><td>Alive in NSW, Native</td><td>true</td><td>0</td><td>⋯</td><td>1</td><td>0</td><td>2</td><td>0</td><td>1</td><td>3</td><td>0</td><td>3</td><td>0</td><td>14</td></tr>\n",
       "\t<tr><td>Apiaceae    </td><td>Apium     </td><td>2362</td><td>Apium prostratum       </td><td>2362</td><td>Apium prostratum       </td><td>Species</td><td>Alive in NSW, Native</td><td>true</td><td>0</td><td>⋯</td><td>0</td><td>0</td><td>0</td><td>0</td><td>0</td><td>1</td><td>0</td><td>0</td><td>0</td><td> 1</td></tr>\n",
       "</tbody>\n",
       "</table>\n"
      ],
      "text/latex": [
       "A data.frame: 5 × 24\n",
       "\\begin{tabular}{lllllllllllllllllllll}\n",
       " family & genus & spp & species & current\\_spp & current\\_species & taxonrank & establishment & current & nquadrat & ⋯ & repr4 & repr2 & surv5 & surv6 & surv7 & disp1 & repr3a & repr3 & surv4 & surv1\\\\\n",
       " <chr> & <chr> & <dbl> & <chr> & <dbl> & <chr> & <chr> & <chr> & <chr> & <dbl> & ⋯ & <dbl> & <dbl> & <dbl> & <dbl> & <dbl> & <dbl> & <dbl> & <dbl> & <dbl> & <dbl>\\\\\n",
       "\\hline\n",
       "\t Brassicaceae & Lepidium   & 2358 & Lepidium oxytrichum     & 2358 & Lepidium oxytrichum     & Species & Alive in NSW, Native & true & 0 & ⋯ & 0 & 0 & 0 & 0 & 0 & 3 & 0 & 0 & 0 &  1\\\\\n",
       "\t Myrtaceae    & Eucalyptus & 2359 & Eucalyptus williamsiana & 2359 & Eucalyptus williamsiana & Species & Alive in NSW, Native & true & 0 & ⋯ & 0 & 0 & 0 & 0 & 0 & 0 & 0 & 0 & 0 &  6\\\\\n",
       "\t Myrtaceae    & Melaleuca  & 2360 & Melaleuca glomerata     & 2360 & Melaleuca glomerata     & Species & Alive in NSW, Native & true & 0 & ⋯ & 0 & 0 & 0 & 0 & 0 & 0 & 0 & 0 & 0 &  3\\\\\n",
       "\t Apiaceae     & Actinotus  & 2361 & Actinotus helianthi     & 2361 & Actinotus helianthi     & Species & Alive in NSW, Native & true & 0 & ⋯ & 1 & 0 & 2 & 0 & 1 & 3 & 0 & 3 & 0 & 14\\\\\n",
       "\t Apiaceae     & Apium      & 2362 & Apium prostratum        & 2362 & Apium prostratum        & Species & Alive in NSW, Native & true & 0 & ⋯ & 0 & 0 & 0 & 0 & 0 & 1 & 0 & 0 & 0 &  1\\\\\n",
       "\\end{tabular}\n"
      ],
      "text/markdown": [
       "\n",
       "A data.frame: 5 × 24\n",
       "\n",
       "| family &lt;chr&gt; | genus &lt;chr&gt; | spp &lt;dbl&gt; | species &lt;chr&gt; | current_spp &lt;dbl&gt; | current_species &lt;chr&gt; | taxonrank &lt;chr&gt; | establishment &lt;chr&gt; | current &lt;chr&gt; | nquadrat &lt;dbl&gt; | ⋯ ⋯ | repr4 &lt;dbl&gt; | repr2 &lt;dbl&gt; | surv5 &lt;dbl&gt; | surv6 &lt;dbl&gt; | surv7 &lt;dbl&gt; | disp1 &lt;dbl&gt; | repr3a &lt;dbl&gt; | repr3 &lt;dbl&gt; | surv4 &lt;dbl&gt; | surv1 &lt;dbl&gt; |\n",
       "|---|---|---|---|---|---|---|---|---|---|---|---|---|---|---|---|---|---|---|---|---|\n",
       "| Brassicaceae | Lepidium   | 2358 | Lepidium oxytrichum     | 2358 | Lepidium oxytrichum     | Species | Alive in NSW, Native | true | 0 | ⋯ | 0 | 0 | 0 | 0 | 0 | 3 | 0 | 0 | 0 |  1 |\n",
       "| Myrtaceae    | Eucalyptus | 2359 | Eucalyptus williamsiana | 2359 | Eucalyptus williamsiana | Species | Alive in NSW, Native | true | 0 | ⋯ | 0 | 0 | 0 | 0 | 0 | 0 | 0 | 0 | 0 |  6 |\n",
       "| Myrtaceae    | Melaleuca  | 2360 | Melaleuca glomerata     | 2360 | Melaleuca glomerata     | Species | Alive in NSW, Native | true | 0 | ⋯ | 0 | 0 | 0 | 0 | 0 | 0 | 0 | 0 | 0 |  3 |\n",
       "| Apiaceae     | Actinotus  | 2361 | Actinotus helianthi     | 2361 | Actinotus helianthi     | Species | Alive in NSW, Native | true | 0 | ⋯ | 1 | 0 | 2 | 0 | 1 | 3 | 0 | 3 | 0 | 14 |\n",
       "| Apiaceae     | Apium      | 2362 | Apium prostratum        | 2362 | Apium prostratum        | Species | Alive in NSW, Native | true | 0 | ⋯ | 0 | 0 | 0 | 0 | 0 | 1 | 0 | 0 | 0 |  1 |\n",
       "\n"
      ],
      "text/plain": [
       "  family       genus      spp  species                 current_spp\n",
       "1 Brassicaceae Lepidium   2358 Lepidium oxytrichum     2358       \n",
       "2 Myrtaceae    Eucalyptus 2359 Eucalyptus williamsiana 2359       \n",
       "3 Myrtaceae    Melaleuca  2360 Melaleuca glomerata     2360       \n",
       "4 Apiaceae     Actinotus  2361 Actinotus helianthi     2361       \n",
       "5 Apiaceae     Apium      2362 Apium prostratum        2362       \n",
       "  current_species         taxonrank establishment        current nquadrat ⋯\n",
       "1 Lepidium oxytrichum     Species   Alive in NSW, Native true    0        ⋯\n",
       "2 Eucalyptus williamsiana Species   Alive in NSW, Native true    0        ⋯\n",
       "3 Melaleuca glomerata     Species   Alive in NSW, Native true    0        ⋯\n",
       "4 Actinotus helianthi     Species   Alive in NSW, Native true    0        ⋯\n",
       "5 Apium prostratum        Species   Alive in NSW, Native true    0        ⋯\n",
       "  repr4 repr2 surv5 surv6 surv7 disp1 repr3a repr3 surv4 surv1\n",
       "1 0     0     0     0     0     3     0      0     0      1   \n",
       "2 0     0     0     0     0     0     0      0     0      6   \n",
       "3 0     0     0     0     0     0     0      0     0      3   \n",
       "4 1     0     2     0     1     3     0      3     0     14   \n",
       "5 0     0     0     0     0     1     0      0     0      1   "
      ]
     },
     "metadata": {},
     "output_type": "display_data"
    }
   ],
   "source": [
    "spp.table %>% slice(1:5)"
   ]
  },
  {
   "cell_type": "markdown",
   "id": "38be6090-d188-4ea5-9b9c-6cdd6e4521db",
   "metadata": {},
   "source": [
    "## Literature vs. field work data\n",
    "Let's check how many valid species have information from both sources\n"
   ]
  },
  {
   "cell_type": "code",
   "execution_count": 47,
   "id": "53a27ef4-2b12-459d-82dc-fc51edfbb79d",
   "metadata": {},
   "outputs": [
    {
     "data": {
      "text/html": [
       "<table class=\"dataframe\">\n",
       "<caption>A tibble: 4 × 4</caption>\n",
       "<thead>\n",
       "\t<tr><th scope=col>fieldwork_sources</th><th scope=col>literature_sources</th><th scope=col>total</th><th scope=col>total_current</th></tr>\n",
       "\t<tr><th scope=col>&lt;lgl&gt;</th><th scope=col>&lt;lgl&gt;</th><th scope=col>&lt;int&gt;</th><th scope=col>&lt;int&gt;</th></tr>\n",
       "</thead>\n",
       "<tbody>\n",
       "\t<tr><td>FALSE</td><td>FALSE</td><td>4504</td><td>3767</td></tr>\n",
       "\t<tr><td>FALSE</td><td> TRUE</td><td>4812</td><td>4509</td></tr>\n",
       "\t<tr><td> TRUE</td><td>FALSE</td><td>  97</td><td>  97</td></tr>\n",
       "\t<tr><td> TRUE</td><td> TRUE</td><td> 776</td><td> 774</td></tr>\n",
       "</tbody>\n",
       "</table>\n"
      ],
      "text/latex": [
       "A tibble: 4 × 4\n",
       "\\begin{tabular}{llll}\n",
       " fieldwork\\_sources & literature\\_sources & total & total\\_current\\\\\n",
       " <lgl> & <lgl> & <int> & <int>\\\\\n",
       "\\hline\n",
       "\t FALSE & FALSE & 4504 & 3767\\\\\n",
       "\t FALSE &  TRUE & 4812 & 4509\\\\\n",
       "\t  TRUE & FALSE &   97 &   97\\\\\n",
       "\t  TRUE &  TRUE &  776 &  774\\\\\n",
       "\\end{tabular}\n"
      ],
      "text/markdown": [
       "\n",
       "A tibble: 4 × 4\n",
       "\n",
       "| fieldwork_sources &lt;lgl&gt; | literature_sources &lt;lgl&gt; | total &lt;int&gt; | total_current &lt;int&gt; |\n",
       "|---|---|---|---|\n",
       "| FALSE | FALSE | 4504 | 3767 |\n",
       "| FALSE |  TRUE | 4812 | 4509 |\n",
       "|  TRUE | FALSE |   97 |   97 |\n",
       "|  TRUE |  TRUE |  776 |  774 |\n",
       "\n"
      ],
      "text/plain": [
       "  fieldwork_sources literature_sources total total_current\n",
       "1 FALSE             FALSE              4504  3767         \n",
       "2 FALSE              TRUE              4812  4509         \n",
       "3  TRUE             FALSE                97    97         \n",
       "4  TRUE              TRUE               776   774         "
      ]
     },
     "metadata": {},
     "output_type": "display_data"
    }
   ],
   "source": [
    " spp.table %>% \n",
    "    filter(\n",
    "        #current %in% \"true\", \n",
    "           taxonrank %in% \"Species\",\n",
    "           establishment %in% \"Alive in NSW, Native\") %>%\n",
    "    mutate(\n",
    "     fieldwork_sources =  nquadrat>0,\n",
    "     literature_sources = (disp1 +\n",
    "                           germ1 + germ8 + \n",
    "                           rect2 + \n",
    "                           grow1 + \n",
    "                           repr2 + repr3a + repr3 + repr4 +  \n",
    "                           surv1 + surv4 + surv5 + surv6 + surv7) > 0\n",
    "    ) %>% \n",
    "    group_by(fieldwork_sources,literature_sources) %>% \n",
    "    summarise(total = n_distinct(species), total_current = n_distinct(current_species), .groups = \"drop\")"
   ]
  },
  {
   "cell_type": "code",
   "execution_count": 48,
   "id": "f807e267-af50-4a87-9250-499592ed32c6",
   "metadata": {},
   "outputs": [
    {
     "data": {
      "text/html": [
       "5380"
      ],
      "text/latex": [
       "5380"
      ],
      "text/markdown": [
       "5380"
      ],
      "text/plain": [
       "[1] 5380"
      ]
     },
     "metadata": {},
     "output_type": "display_data"
    }
   ],
   "source": [
    "4509+97+774"
   ]
  },
  {
   "cell_type": "code",
   "execution_count": 24,
   "id": "e0244a6d-0b72-4466-a664-6f60ff874f7e",
   "metadata": {},
   "outputs": [
    {
     "data": {
      "text/html": [
       "138"
      ],
      "text/latex": [
       "138"
      ],
      "text/markdown": [
       "138"
      ],
      "text/plain": [
       "[1] 138"
      ]
     },
     "metadata": {},
     "output_type": "display_data"
    }
   ],
   "source": [
    "sum(spp.table$repr2>0)"
   ]
  },
  {
   "cell_type": "code",
   "execution_count": 25,
   "id": "5b64901b-b582-402f-9ba9-c01ba064f135",
   "metadata": {},
   "outputs": [],
   "source": [
    "saveRDS(file=here::here('data','Summary-traits-species.rds'),spp.table)"
   ]
  },
  {
   "cell_type": "code",
   "execution_count": null,
   "id": "8ad65156-c7a4-4057-9908-a116894e3d74",
   "metadata": {},
   "outputs": [],
   "source": []
  },
  {
   "cell_type": "code",
   "execution_count": null,
   "id": "7a30d4d5-29d8-4c5e-aed7-9a2edbcc3f11",
   "metadata": {},
   "outputs": [],
   "source": []
  }
 ],
 "metadata": {
  "kernelspec": {
   "display_name": "R",
   "language": "R",
   "name": "ir"
  },
  "language_info": {
   "codemirror_mode": "r",
   "file_extension": ".r",
   "mimetype": "text/x-r-source",
   "name": "R",
   "pygments_lexer": "r",
   "version": "4.3.1"
  }
 },
 "nbformat": 4,
 "nbformat_minor": 5
}
